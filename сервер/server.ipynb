{
  "nbformat": 4,
  "nbformat_minor": 0,
  "metadata": {
    "colab": {
      "provenance": []
    },
    "kernelspec": {
      "name": "python3",
      "display_name": "Python 3"
    },
    "language_info": {
      "name": "python"
    }
  },
  "cells": [
    {
      "cell_type": "markdown",
      "source": [
        "добавим импорты"
      ],
      "metadata": {
        "id": "XBvElt35Wzxz"
      }
    },
    {
      "cell_type": "code",
      "source": [
        "!pip install fastapi uvicorn[standard] nest-asyncio pyngrok scikit-learn joblib\n",
        "!pip install python-multipart"
      ],
      "metadata": {
        "id": "M29Ey7eIel7w",
        "colab": {
          "base_uri": "https://localhost:8080/"
        },
        "outputId": "d5ef6ddf-119b-4e1f-ae8a-1c6c7739136d"
      },
      "execution_count": null,
      "outputs": [
        {
          "output_type": "stream",
          "name": "stdout",
          "text": [
            "Collecting fastapi\n",
            "  Downloading fastapi-0.115.12-py3-none-any.whl.metadata (27 kB)\n",
            "Requirement already satisfied: nest-asyncio in /usr/local/lib/python3.11/dist-packages (1.6.0)\n",
            "Collecting pyngrok\n",
            "  Downloading pyngrok-7.2.8-py3-none-any.whl.metadata (10 kB)\n",
            "Requirement already satisfied: scikit-learn in /usr/local/lib/python3.11/dist-packages (1.6.1)\n",
            "Requirement already satisfied: joblib in /usr/local/lib/python3.11/dist-packages (1.5.0)\n",
            "Collecting uvicorn[standard]\n",
            "  Downloading uvicorn-0.34.2-py3-none-any.whl.metadata (6.5 kB)\n",
            "Collecting starlette<0.47.0,>=0.40.0 (from fastapi)\n",
            "  Downloading starlette-0.46.2-py3-none-any.whl.metadata (6.2 kB)\n",
            "Requirement already satisfied: pydantic!=1.8,!=1.8.1,!=2.0.0,!=2.0.1,!=2.1.0,<3.0.0,>=1.7.4 in /usr/local/lib/python3.11/dist-packages (from fastapi) (2.11.4)\n",
            "Requirement already satisfied: typing-extensions>=4.8.0 in /usr/local/lib/python3.11/dist-packages (from fastapi) (4.13.2)\n",
            "Requirement already satisfied: click>=7.0 in /usr/local/lib/python3.11/dist-packages (from uvicorn[standard]) (8.2.0)\n",
            "Requirement already satisfied: h11>=0.8 in /usr/local/lib/python3.11/dist-packages (from uvicorn[standard]) (0.16.0)\n",
            "Collecting httptools>=0.6.3 (from uvicorn[standard])\n",
            "  Downloading httptools-0.6.4-cp311-cp311-manylinux_2_5_x86_64.manylinux1_x86_64.manylinux_2_17_x86_64.manylinux2014_x86_64.whl.metadata (3.6 kB)\n",
            "Collecting python-dotenv>=0.13 (from uvicorn[standard])\n",
            "  Downloading python_dotenv-1.1.0-py3-none-any.whl.metadata (24 kB)\n",
            "Requirement already satisfied: pyyaml>=5.1 in /usr/local/lib/python3.11/dist-packages (from uvicorn[standard]) (6.0.2)\n",
            "Collecting uvloop!=0.15.0,!=0.15.1,>=0.14.0 (from uvicorn[standard])\n",
            "  Downloading uvloop-0.21.0-cp311-cp311-manylinux_2_17_x86_64.manylinux2014_x86_64.whl.metadata (4.9 kB)\n",
            "Collecting watchfiles>=0.13 (from uvicorn[standard])\n",
            "  Downloading watchfiles-1.0.5-cp311-cp311-manylinux_2_17_x86_64.manylinux2014_x86_64.whl.metadata (4.9 kB)\n",
            "Requirement already satisfied: websockets>=10.4 in /usr/local/lib/python3.11/dist-packages (from uvicorn[standard]) (15.0.1)\n",
            "Requirement already satisfied: numpy>=1.19.5 in /usr/local/lib/python3.11/dist-packages (from scikit-learn) (2.0.2)\n",
            "Requirement already satisfied: scipy>=1.6.0 in /usr/local/lib/python3.11/dist-packages (from scikit-learn) (1.15.3)\n",
            "Requirement already satisfied: threadpoolctl>=3.1.0 in /usr/local/lib/python3.11/dist-packages (from scikit-learn) (3.6.0)\n",
            "Requirement already satisfied: annotated-types>=0.6.0 in /usr/local/lib/python3.11/dist-packages (from pydantic!=1.8,!=1.8.1,!=2.0.0,!=2.0.1,!=2.1.0,<3.0.0,>=1.7.4->fastapi) (0.7.0)\n",
            "Requirement already satisfied: pydantic-core==2.33.2 in /usr/local/lib/python3.11/dist-packages (from pydantic!=1.8,!=1.8.1,!=2.0.0,!=2.0.1,!=2.1.0,<3.0.0,>=1.7.4->fastapi) (2.33.2)\n",
            "Requirement already satisfied: typing-inspection>=0.4.0 in /usr/local/lib/python3.11/dist-packages (from pydantic!=1.8,!=1.8.1,!=2.0.0,!=2.0.1,!=2.1.0,<3.0.0,>=1.7.4->fastapi) (0.4.0)\n",
            "Requirement already satisfied: anyio<5,>=3.6.2 in /usr/local/lib/python3.11/dist-packages (from starlette<0.47.0,>=0.40.0->fastapi) (4.9.0)\n",
            "Requirement already satisfied: idna>=2.8 in /usr/local/lib/python3.11/dist-packages (from anyio<5,>=3.6.2->starlette<0.47.0,>=0.40.0->fastapi) (3.10)\n",
            "Requirement already satisfied: sniffio>=1.1 in /usr/local/lib/python3.11/dist-packages (from anyio<5,>=3.6.2->starlette<0.47.0,>=0.40.0->fastapi) (1.3.1)\n",
            "Downloading fastapi-0.115.12-py3-none-any.whl (95 kB)\n",
            "\u001b[2K   \u001b[90m━━━━━━━━━━━━━━━━━━━━━━━━━━━━━━━━━━━━━━━━\u001b[0m \u001b[32m95.2/95.2 kB\u001b[0m \u001b[31m3.6 MB/s\u001b[0m eta \u001b[36m0:00:00\u001b[0m\n",
            "\u001b[?25hDownloading pyngrok-7.2.8-py3-none-any.whl (25 kB)\n",
            "Downloading httptools-0.6.4-cp311-cp311-manylinux_2_5_x86_64.manylinux1_x86_64.manylinux_2_17_x86_64.manylinux2014_x86_64.whl (459 kB)\n",
            "\u001b[2K   \u001b[90m━━━━━━━━━━━━━━━━━━━━━━━━━━━━━━━━━━━━━━━━\u001b[0m \u001b[32m459.8/459.8 kB\u001b[0m \u001b[31m12.1 MB/s\u001b[0m eta \u001b[36m0:00:00\u001b[0m\n",
            "\u001b[?25hDownloading python_dotenv-1.1.0-py3-none-any.whl (20 kB)\n",
            "Downloading starlette-0.46.2-py3-none-any.whl (72 kB)\n",
            "\u001b[2K   \u001b[90m━━━━━━━━━━━━━━━━━━━━━━━━━━━━━━━━━━━━━━━━\u001b[0m \u001b[32m72.0/72.0 kB\u001b[0m \u001b[31m3.9 MB/s\u001b[0m eta \u001b[36m0:00:00\u001b[0m\n",
            "\u001b[?25hDownloading uvloop-0.21.0-cp311-cp311-manylinux_2_17_x86_64.manylinux2014_x86_64.whl (4.0 MB)\n",
            "\u001b[2K   \u001b[90m━━━━━━━━━━━━━━━━━━━━━━━━━━━━━━━━━━━━━━━━\u001b[0m \u001b[32m4.0/4.0 MB\u001b[0m \u001b[31m19.1 MB/s\u001b[0m eta \u001b[36m0:00:00\u001b[0m\n",
            "\u001b[?25hDownloading watchfiles-1.0.5-cp311-cp311-manylinux_2_17_x86_64.manylinux2014_x86_64.whl (454 kB)\n",
            "\u001b[2K   \u001b[90m━━━━━━━━━━━━━━━━━━━━━━━━━━━━━━━━━━━━━━━━\u001b[0m \u001b[32m454.8/454.8 kB\u001b[0m \u001b[31m6.0 MB/s\u001b[0m eta \u001b[36m0:00:00\u001b[0m\n",
            "\u001b[?25hDownloading uvicorn-0.34.2-py3-none-any.whl (62 kB)\n",
            "\u001b[2K   \u001b[90m━━━━━━━━━━━━━━━━━━━━━━━━━━━━━━━━━━━━━━━━\u001b[0m \u001b[32m62.5/62.5 kB\u001b[0m \u001b[31m1.6 MB/s\u001b[0m eta \u001b[36m0:00:00\u001b[0m\n",
            "\u001b[?25hInstalling collected packages: uvloop, uvicorn, python-dotenv, pyngrok, httptools, watchfiles, starlette, fastapi\n",
            "Successfully installed fastapi-0.115.12 httptools-0.6.4 pyngrok-7.2.8 python-dotenv-1.1.0 starlette-0.46.2 uvicorn-0.34.2 uvloop-0.21.0 watchfiles-1.0.5\n",
            "Collecting python-multipart\n",
            "  Downloading python_multipart-0.0.20-py3-none-any.whl.metadata (1.8 kB)\n",
            "Downloading python_multipart-0.0.20-py3-none-any.whl (24 kB)\n",
            "Installing collected packages: python-multipart\n",
            "Successfully installed python-multipart-0.0.20\n"
          ]
        }
      ]
    },
    {
      "cell_type": "code",
      "source": [
        "import nest_asyncio\n",
        "from pyngrok import ngrok\n",
        "from pyngrok.conf import PyngrokConfig\n",
        "import joblib\n",
        "import numpy as np\n",
        "from fastapi import FastAPI\n",
        "from fastapi.middleware.cors import CORSMiddleware\n",
        "from fastapi import FastAPI, HTTPException, UploadFile, File\n",
        "from pydantic import BaseModel\n",
        "from typing import List"
      ],
      "metadata": {
        "id": "ZuuTCA3qWy3u"
      },
      "execution_count": null,
      "outputs": []
    },
    {
      "cell_type": "code",
      "source": [
        "# 1. Настройка ngrok с вашим токеном\n",
        "ngrok.set_auth_token(\"2wSJ5VaAqlgK9jjKEjqXJIzJjq0_iyrjVymxXRqBZi4Q7pjy\")\n",
        "\n",
        "# 2. Инициализация FastAPI\n",
        "app = FastAPI()\n",
        "\n",
        "# Разрешить CORS (для тестов)\n",
        "app.add_middleware(\n",
        "    CORSMiddleware,\n",
        "    allow_origins=[\"*\"],\n",
        "    allow_methods=[\"*\"],\n",
        "    allow_headers=[\"*\"],\n",
        ")\n",
        "\n",
        "# 3. Загрузка модели (пример)\n",
        "# Загрузите файл модели через левую панель Colab\n",
        "model = joblib.load(\"gb_model.joblib\")\n",
        "model"
      ],
      "metadata": {
        "colab": {
          "base_uri": "https://localhost:8080/",
          "height": 315
        },
        "id": "vVkRVwx1c5Xf",
        "outputId": "eb272d5b-811e-4754-d70a-ea73ff00c05f"
      },
      "execution_count": null,
      "outputs": [
        {
          "output_type": "stream",
          "name": "stdout",
          "text": []
        },
        {
          "output_type": "error",
          "ename": "FileNotFoundError",
          "evalue": "[Errno 2] No such file or directory: 'gb_model.joblib'",
          "traceback": [
            "\u001b[0;31m---------------------------------------------------------------------------\u001b[0m",
            "\u001b[0;31mFileNotFoundError\u001b[0m                         Traceback (most recent call last)",
            "\u001b[0;32m<ipython-input-3-cc8cb174259b>\u001b[0m in \u001b[0;36m<cell line: 0>\u001b[0;34m()\u001b[0m\n\u001b[1;32m     15\u001b[0m \u001b[0;31m# 3. Загрузка модели (пример)\u001b[0m\u001b[0;34m\u001b[0m\u001b[0;34m\u001b[0m\u001b[0m\n\u001b[1;32m     16\u001b[0m \u001b[0;31m# Загрузите файл модели через левую панель Colab\u001b[0m\u001b[0;34m\u001b[0m\u001b[0;34m\u001b[0m\u001b[0m\n\u001b[0;32m---> 17\u001b[0;31m \u001b[0mmodel\u001b[0m \u001b[0;34m=\u001b[0m \u001b[0mjoblib\u001b[0m\u001b[0;34m.\u001b[0m\u001b[0mload\u001b[0m\u001b[0;34m(\u001b[0m\u001b[0;34m\"gb_model.joblib\"\u001b[0m\u001b[0;34m)\u001b[0m\u001b[0;34m\u001b[0m\u001b[0;34m\u001b[0m\u001b[0m\n\u001b[0m\u001b[1;32m     18\u001b[0m \u001b[0mmodel\u001b[0m\u001b[0;34m\u001b[0m\u001b[0;34m\u001b[0m\u001b[0m\n",
            "\u001b[0;32m/usr/local/lib/python3.11/dist-packages/joblib/numpy_pickle.py\u001b[0m in \u001b[0;36mload\u001b[0;34m(filename, mmap_mode, ensure_native_byte_order)\u001b[0m\n\u001b[1;32m    733\u001b[0m             \u001b[0mobj\u001b[0m \u001b[0;34m=\u001b[0m \u001b[0m_unpickle\u001b[0m\u001b[0;34m(\u001b[0m\u001b[0mfobj\u001b[0m\u001b[0;34m,\u001b[0m \u001b[0mensure_native_byte_order\u001b[0m\u001b[0;34m=\u001b[0m\u001b[0mensure_native_byte_order\u001b[0m\u001b[0;34m)\u001b[0m\u001b[0;34m\u001b[0m\u001b[0;34m\u001b[0m\u001b[0m\n\u001b[1;32m    734\u001b[0m     \u001b[0;32melse\u001b[0m\u001b[0;34m:\u001b[0m\u001b[0;34m\u001b[0m\u001b[0;34m\u001b[0m\u001b[0m\n\u001b[0;32m--> 735\u001b[0;31m         \u001b[0;32mwith\u001b[0m \u001b[0mopen\u001b[0m\u001b[0;34m(\u001b[0m\u001b[0mfilename\u001b[0m\u001b[0;34m,\u001b[0m \u001b[0;34m\"rb\"\u001b[0m\u001b[0;34m)\u001b[0m \u001b[0;32mas\u001b[0m \u001b[0mf\u001b[0m\u001b[0;34m:\u001b[0m\u001b[0;34m\u001b[0m\u001b[0;34m\u001b[0m\u001b[0m\n\u001b[0m\u001b[1;32m    736\u001b[0m             with _validate_fileobject_and_memmap(f, filename, mmap_mode) as (\n\u001b[1;32m    737\u001b[0m                 \u001b[0mfobj\u001b[0m\u001b[0;34m,\u001b[0m\u001b[0;34m\u001b[0m\u001b[0;34m\u001b[0m\u001b[0m\n",
            "\u001b[0;31mFileNotFoundError\u001b[0m: [Errno 2] No such file or directory: 'gb_model.joblib'"
          ]
        }
      ]
    },
    {
      "cell_type": "code",
      "source": [
        "# 4. API Endpoint\n",
        "@app.get(\"/\")\n",
        "async def root():\n",
        "    return {\n",
        "        \"message\": \"Server is running\",\n",
        "        \"endpoints\": {\n",
        "            \"/predict\": \"POST with JSON {'features': [...]}\",\n",
        "            \"/predict_from_file\": \"POST with text file containing 764 comma-separated values\"\n",
        "        }\n",
        "    }\n",
        "\n",
        "@app.post(\"/predict_from_file\")\n",
        "async def predict_from_file(file: UploadFile = File(...)):\n",
        "    try:\n",
        "        print(f\"Debug: Received file - filename: {file.filename}, content-type: {file.content_type}\")\n",
        "\n",
        "        content = await file.read()\n",
        "        features_str = content.decode(\"utf-8\").strip()\n",
        "\n",
        "        print(f\"Debug: Received file content (first 100 chars): {features_str[:100]}\")\n",
        "        print(f\"Debug: File content length: {len(features_str)}\")\n",
        "\n",
        "        features = []\n",
        "        for x in features_str.split(\",\"):\n",
        "            try:\n",
        "                val = x.strip()\n",
        "                if not val:  # Skip empty values\n",
        "                    continue\n",
        "                features.append(float(val))\n",
        "            except ValueError:\n",
        "                raise HTTPException(400, f\"Invalid value in file: '{x}'\")\n",
        "\n",
        "        print(f\"Debug: Parsed {len(features)} features\")\n",
        "\n",
        "        if len(features) != 764:\n",
        "            raise HTTPException(400,\n",
        "                f\"Expected 764 features, got {len(features)}. First 5: {features[:5]}\")\n",
        "\n",
        "        input_data = np.array(features).reshape(1, -1)\n",
        "        proba = model.predict_proba(input_data)[0, 1]\n",
        "\n",
        "        return {\n",
        "            \"status\": \"success\",\n",
        "            \"prediction\": float(proba),\n",
        "            \"features_processed\": len(features)\n",
        "        }\n",
        "\n",
        "    except HTTPException:\n",
        "        raise\n",
        "    except Exception as e:\n",
        "        raise HTTPException(500, f\"Internal server error: {str(e)}\")"
      ],
      "metadata": {
        "id": "Okp3X3FaVXcm"
      },
      "execution_count": null,
      "outputs": []
    },
    {
      "cell_type": "code",
      "source": [
        "class FeaturesRequest(BaseModel):\n",
        "    features: List[float]\n",
        "\n",
        "@app.post(\"/predict\")\n",
        "async def predict(request: FeaturesRequest):\n",
        "    try:\n",
        "        print(f\"Received features (first 5): {request.features[:5]}\")\n",
        "        print(f\"Total features received: {len(request.features)}\")\n",
        "\n",
        "        if len(request.features) != 764:\n",
        "            error_msg = f\"Expected 764 features, got {len(request.features)}\"\n",
        "            print(error_msg)\n",
        "            raise HTTPException(status_code=400, detail=error_msg)\n",
        "\n",
        "        input_data = np.array(request.features, dtype=np.float32).reshape(1, -1)\n",
        "        print(f\"Input array shape: {input_data.shape}\")\n",
        "\n",
        "        proba = model.predict_proba(input_data)[0, 1]  # Убедитесь, что model существует\n",
        "        print(f\"Prediction probability: {proba}\")\n",
        "\n",
        "        return {\n",
        "            \"status\": \"success\",\n",
        "            \"prediction\": float(proba),\n",
        "            \"features_received\": len(request.features)\n",
        "        }\n",
        "\n",
        "    except Exception as e:\n",
        "        print(f\"Error: {str(e)}\")\n",
        "        raise HTTPException(500, detail=str(e))"
      ],
      "metadata": {
        "id": "VACD-DWdegZA"
      },
      "execution_count": null,
      "outputs": []
    },
    {
      "cell_type": "code",
      "source": [
        "# 5. Запуск сервера\n",
        "if __name__ == \"__main__\":\n",
        "    nest_asyncio.apply()\n",
        "\n",
        "    # Открываем туннель\n",
        "    public_url = ngrok.connect(8000).public_url\n",
        "    print(\"\\n🔥 Сервер доступен по URL:\", public_url)\n",
        "    print(\"📚 Документация API:\", f\"{public_url}/docs\\n\")\n",
        "\n",
        "    # Запускаем FastAPI\n",
        "    import uvicorn\n",
        "    uvicorn.run(app, host=\"0.0.0.0\", port=8000)"
      ],
      "metadata": {
        "colab": {
          "base_uri": "https://localhost:8080/"
        },
        "id": "LG_NealxdlaR",
        "outputId": "6144b964-e769-449c-a8b6-c33287f6d77d"
      },
      "execution_count": null,
      "outputs": [
        {
          "output_type": "stream",
          "name": "stdout",
          "text": [
            "\n",
            "🔥 Сервер доступен по URL: https://ea9e-35-194-70-112.ngrok-free.app\n",
            "📚 Документация API: https://ea9e-35-194-70-112.ngrok-free.app/docs\n",
            "\n"
          ]
        },
        {
          "output_type": "stream",
          "name": "stderr",
          "text": [
            "INFO:     Started server process [1201]\n",
            "INFO:     Waiting for application startup.\n",
            "INFO:     Application startup complete.\n",
            "INFO:     Uvicorn running on http://0.0.0.0:8000 (Press CTRL+C to quit)\n"
          ]
        },
        {
          "output_type": "stream",
          "name": "stdout",
          "text": [
            "Received features (first 5): [-1.364664365406165, 1.0513983216939051, -1.2612337651151286, -1.2181390072093163, 0.023387432380440762]\n",
            "Total features received: 765\n",
            "Expected 764 features, got 765\n",
            "Error: 400: Expected 764 features, got 765\n",
            "INFO:     5.189.111.215:0 - \"POST /predict HTTP/1.1\" 500 Internal Server Error\n",
            "Received features (first 5): [-1.364664365406165, 1.0513983216939051, -1.2612337651151286, -1.2181390072093163, 0.023387432380440762]\n",
            "Total features received: 764\n",
            "Input array shape: (1, 764)\n",
            "Prediction probability: 5.1594549843350496e-08\n",
            "INFO:     5.189.111.215:0 - \"POST /predict HTTP/1.1\" 200 OK\n"
          ]
        },
        {
          "output_type": "stream",
          "name": "stderr",
          "text": [
            "/usr/local/lib/python3.11/dist-packages/sklearn/utils/validation.py:2739: UserWarning: X does not have valid feature names, but GradientBoostingClassifier was fitted with feature names\n",
            "  warnings.warn(\n"
          ]
        },
        {
          "output_type": "stream",
          "name": "stdout",
          "text": [
            "Received features (first 5): [-1.364664365406165, 1.0513983216939051, -1.2612337651151286, -1.2181390072093163, 0.023387432380440762]\n",
            "Total features received: 764\n",
            "Input array shape: (1, 764)\n",
            "Prediction probability: 5.1594549843350496e-08\n",
            "INFO:     5.189.111.215:0 - \"POST /predict HTTP/1.1\" 200 OK\n"
          ]
        },
        {
          "output_type": "stream",
          "name": "stderr",
          "text": [
            "/usr/local/lib/python3.11/dist-packages/sklearn/utils/validation.py:2739: UserWarning: X does not have valid feature names, but GradientBoostingClassifier was fitted with feature names\n",
            "  warnings.warn(\n"
          ]
        },
        {
          "output_type": "stream",
          "name": "stdout",
          "text": [
            "Received features (first 5): [-1.364664365406165, 1.0513983216939051, -1.2612337651151286, -1.2181390072093163, 0.023387432380440762]\n",
            "Total features received: 764\n",
            "Input array shape: (1, 764)\n",
            "Prediction probability: 5.1594549843350496e-08\n",
            "INFO:     5.189.111.215:0 - \"POST /predict HTTP/1.1\" 200 OK\n"
          ]
        },
        {
          "output_type": "stream",
          "name": "stderr",
          "text": [
            "/usr/local/lib/python3.11/dist-packages/sklearn/utils/validation.py:2739: UserWarning: X does not have valid feature names, but GradientBoostingClassifier was fitted with feature names\n",
            "  warnings.warn(\n"
          ]
        },
        {
          "output_type": "stream",
          "name": "stdout",
          "text": [
            "Received features (first 5): [-0.8607495285461352, -0.7126339504146454, -0.31005299087674104, -0.6241783457236083, -0.31616839726294566]\n",
            "Total features received: 764\n",
            "Input array shape: (1, 764)\n",
            "Prediction probability: 0.9999999268084336\n",
            "INFO:     5.189.111.215:0 - \"POST /predict HTTP/1.1\" 200 OK\n"
          ]
        },
        {
          "output_type": "stream",
          "name": "stderr",
          "text": [
            "/usr/local/lib/python3.11/dist-packages/sklearn/utils/validation.py:2739: UserWarning: X does not have valid feature names, but GradientBoostingClassifier was fitted with feature names\n",
            "  warnings.warn(\n"
          ]
        },
        {
          "output_type": "stream",
          "name": "stdout",
          "text": [
            "Received features (first 5): [-0.8607495285461352, -0.7126339504146454, -0.31005299087674104, -0.6241783457236083, -0.31616839726294566]\n",
            "Total features received: 764\n",
            "Input array shape: (1, 764)\n",
            "Prediction probability: 0.9999999268084336\n",
            "INFO:     5.189.111.215:0 - \"POST /predict HTTP/1.1\" 200 OK\n"
          ]
        },
        {
          "output_type": "stream",
          "name": "stderr",
          "text": [
            "/usr/local/lib/python3.11/dist-packages/sklearn/utils/validation.py:2739: UserWarning: X does not have valid feature names, but GradientBoostingClassifier was fitted with feature names\n",
            "  warnings.warn(\n"
          ]
        },
        {
          "output_type": "stream",
          "name": "stdout",
          "text": [
            "Received features (first 5): [-0.8607495285461352, -0.7126339504146454, -0.31005299087674104, -0.6241783457236083, -0.31616839726294566]\n",
            "Total features received: 764\n",
            "Input array shape: (1, 764)\n",
            "Prediction probability: 0.9999999268084336\n",
            "INFO:     5.189.111.215:0 - \"POST /predict HTTP/1.1\" 200 OK\n"
          ]
        },
        {
          "output_type": "stream",
          "name": "stderr",
          "text": [
            "/usr/local/lib/python3.11/dist-packages/sklearn/utils/validation.py:2739: UserWarning: X does not have valid feature names, but GradientBoostingClassifier was fitted with feature names\n",
            "  warnings.warn(\n"
          ]
        },
        {
          "output_type": "stream",
          "name": "stdout",
          "text": [
            "Received features (first 5): [-0.8607495285461352, -0.7126339504146454, -0.31005299087674104, -0.6241783457236083, -0.31616839726294566]\n",
            "Total features received: 764\n",
            "Input array shape: (1, 764)\n",
            "Prediction probability: 0.9999999268084336\n",
            "INFO:     5.189.111.215:0 - \"POST /predict HTTP/1.1\" 200 OK\n"
          ]
        },
        {
          "output_type": "stream",
          "name": "stderr",
          "text": [
            "/usr/local/lib/python3.11/dist-packages/sklearn/utils/validation.py:2739: UserWarning: X does not have valid feature names, but GradientBoostingClassifier was fitted with feature names\n",
            "  warnings.warn(\n",
            "INFO:     Shutting down\n",
            "INFO:     Waiting for application shutdown.\n",
            "INFO:     Application shutdown complete.\n",
            "INFO:     Finished server process [1201]\n"
          ]
        }
      ]
    },
    {
      "cell_type": "code",
      "source": [
        "# server.py\n",
        "from fastapi import FastAPI, HTTPException, UploadFile, File\n",
        "from fastapi.middleware.cors import CORSMiddleware\n",
        "from fastapi.responses import StreamingResponse\n",
        "from pydantic import BaseModel\n",
        "from typing import List\n",
        "import io\n",
        "from PIL import Image, ImageFilter\n",
        "import nest_asyncio\n",
        "from pyngrok import ngrok\n",
        "import joblib\n",
        "import numpy as np\n",
        "\n",
        "# 1. Настройка ngrok с вашим токеном\n",
        "ngrok.set_auth_token(\"2wSJ5VaAqlgK9jjKEjqXJIzJjq0_iyrjVymxXRqBZi4Q7pjy\")\n",
        "\n",
        "app = FastAPI()\n",
        "app.add_middleware(\n",
        "    CORSMiddleware,\n",
        "    allow_origins=[\"*\"],\n",
        "    allow_credentials=True,\n",
        "    allow_methods=[\"*\"],\n",
        "    allow_headers=[\"*\"],\n",
        ")\n",
        "\n",
        "# Пример загрузки модели для числовых предсказаний (если нужно)\n",
        "# model = joblib.load('model.joblib')\n",
        "\n",
        "@app.post(\"/predict_from_file\")\n",
        "async def predict_from_file(file: UploadFile = File(...)):\n",
        "    try:\n",
        "        # 1) Читаем загруженный файл как изображение\n",
        "        contents = await file.read()\n",
        "        img = Image.open(io.BytesIO(contents)).convert(\"RGB\")\n",
        "\n",
        "        # 2) Обработка через ИИ (здесь пример — размытие и конвертация в оттенки серого)\n",
        "        #    Замените на ваш ML/Deep Learning pipeline\n",
        "        processed = img.filter(ImageFilter.GaussianBlur(radius=2))\n",
        "        processed = processed.convert(\"L\").convert(\"RGB\")\n",
        "\n",
        "        # 3) Сохраняем результат в байтовый буфер\n",
        "        buf = io.BytesIO()\n",
        "        processed.save(buf, format=\"JPEG\")\n",
        "        buf.seek(0)\n",
        "\n",
        "        # 4) Отправляем обратно клиенту\n",
        "        return StreamingResponse(buf, media_type=\"image/jpeg\")\n",
        "\n",
        "    except Exception as e:\n",
        "        raise HTTPException(status_code=500, detail=str(e))\n",
        "\n",
        "if __name__ == \"__main__\":\n",
        "    nest_asyncio.apply()\n",
        "    public_url = ngrok.connect(8000).public_url\n",
        "    print(\"Server running at\", public_url)\n",
        "    import uvicorn\n",
        "    uvicorn.run(app, host=\"0.0.0.0\", port=8000)\n"
      ],
      "metadata": {
        "colab": {
          "base_uri": "https://localhost:8080/"
        },
        "id": "t1cx9nSC8Usq",
        "outputId": "184625a5-124e-4a58-8927-34a7dbb27669"
      },
      "execution_count": null,
      "outputs": [
        {
          "output_type": "stream",
          "name": "stderr",
          "text": [
            "INFO:     Started server process [161]\n",
            "INFO:     Waiting for application startup.\n",
            "INFO:     Application startup complete.\n",
            "INFO:     Uvicorn running on http://0.0.0.0:8000 (Press CTRL+C to quit)\n"
          ]
        },
        {
          "output_type": "stream",
          "name": "stdout",
          "text": [
            "Server running at https://8b31-34-53-54-83.ngrok-free.app\n",
            "INFO:     2a00:1fa2:4226:cb86:0:49:acff:2f01:0 - \"POST /predict_from_file HTTP/1.1\" 200 OK\n",
            "INFO:     2a00:1fa2:4226:cb86:0:49:acff:2f01:0 - \"POST /predict_from_file HTTP/1.1\" 200 OK\n",
            "INFO:     2a00:1fa2:4226:cb86:0:49:acff:2f01:0 - \"POST /predict_from_file HTTP/1.1\" 200 OK\n",
            "INFO:     2a00:1fa2:4226:cb86:0:49:acff:2f01:0 - \"POST /predict_from_file HTTP/1.1\" 200 OK\n",
            "INFO:     2a00:1fa2:4226:cb86:0:49:acff:2f01:0 - \"POST /predict_from_file HTTP/1.1\" 200 OK\n",
            "INFO:     2a00:1fa2:4226:cb86:0:49:acff:2f01:0 - \"POST /predict_from_file HTTP/1.1\" 200 OK\n",
            "INFO:     2a00:1fa2:4226:cb86:0:49:acff:2f01:0 - \"POST /predict_from_file HTTP/1.1\" 200 OK\n",
            "INFO:     2a00:1fa2:4226:cb86:0:49:acff:2f01:0 - \"POST /predict_from_file HTTP/1.1\" 200 OK\n",
            "INFO:     2a00:1fa2:4226:cb86:0:49:acff:2f01:0 - \"POST /predict_from_file HTTP/1.1\" 200 OK\n",
            "INFO:     2a00:1fa2:4226:cb86:0:49:acff:2f01:0 - \"POST /predict_from_file HTTP/1.1\" 200 OK\n",
            "INFO:     2a00:1fa2:4226:cb86:0:49:acff:2f01:0 - \"POST /predict_from_file HTTP/1.1\" 200 OK\n",
            "INFO:     2a00:1fa2:4226:cb86:0:49:acff:2f01:0 - \"POST /predict_from_file HTTP/1.1\" 200 OK\n",
            "INFO:     2a00:1fa2:4226:cb86:0:49:acff:2f01:0 - \"POST /predict_from_file HTTP/1.1\" 200 OK\n",
            "INFO:     2a00:1fa2:4226:cb86:0:49:acff:2f01:0 - \"POST /predict_from_file HTTP/1.1\" 200 OK\n",
            "INFO:     2a00:1fa2:4226:cb86:0:49:acff:2f01:0 - \"POST /predict_from_file HTTP/1.1\" 200 OK\n",
            "INFO:     2a00:1fa2:4226:cb86:0:49:acff:2f01:0 - \"POST /predict_from_file HTTP/1.1\" 200 OK\n",
            "INFO:     2a00:1fa2:4226:cb86:0:49:acff:2f01:0 - \"POST /predict_from_file HTTP/1.1\" 200 OK\n",
            "INFO:     2a00:1fa2:4226:cb86:0:49:acff:2f01:0 - \"POST /predict_from_file HTTP/1.1\" 200 OK\n",
            "INFO:     2a00:1fa2:4226:cb86:0:49:acff:2f01:0 - \"POST /predict_from_file HTTP/1.1\" 200 OK\n",
            "INFO:     2a00:1fa2:4226:cb86:0:49:acff:2f01:0 - \"POST /predict_from_file HTTP/1.1\" 200 OK\n",
            "INFO:     2a00:1fa2:4226:cb86:0:49:acff:2f01:0 - \"POST /predict_from_file HTTP/1.1\" 200 OK\n",
            "INFO:     2a00:1fa2:4226:cb86:0:49:acff:2f01:0 - \"POST /predict_from_file HTTP/1.1\" 200 OK\n",
            "INFO:     2a00:1fa2:4226:cb86:0:49:acff:2f01:0 - \"POST /predict_from_file HTTP/1.1\" 200 OK\n",
            "INFO:     2a00:1fa2:4226:cb86:0:49:acff:2f01:0 - \"POST /predict_from_file HTTP/1.1\" 200 OK\n",
            "INFO:     2a00:1fa2:4226:cb86:0:49:acff:2f01:0 - \"POST /predict_from_file HTTP/1.1\" 200 OK\n",
            "INFO:     2a00:1fa2:4226:cb86:0:49:acff:2f01:0 - \"POST /predict_from_file HTTP/1.1\" 200 OK\n",
            "INFO:     2a00:1fa2:4226:cb86:0:49:acff:2f01:0 - \"POST /predict_from_file HTTP/1.1\" 200 OK\n",
            "INFO:     2a00:1fa2:4226:cb86:0:49:acff:2f01:0 - \"POST /predict_from_file HTTP/1.1\" 200 OK\n",
            "INFO:     2a00:1fa2:4226:cb86:0:49:acff:2f01:0 - \"POST /predict_from_file HTTP/1.1\" 200 OK\n",
            "INFO:     2a00:1fa2:4226:cb86:0:49:acff:2f01:0 - \"POST /predict_from_file HTTP/1.1\" 200 OK\n",
            "INFO:     2a00:1fa2:4226:cb86:0:49:acff:2f01:0 - \"POST /predict_from_file HTTP/1.1\" 200 OK\n",
            "INFO:     2a00:1fa2:4226:cb86:0:49:acff:2f01:0 - \"POST /predict_from_file HTTP/1.1\" 200 OK\n",
            "INFO:     2a00:1fa2:4226:cb86:0:49:acff:2f01:0 - \"POST /predict_from_file HTTP/1.1\" 200 OK\n"
          ]
        }
      ]
    }
  ]
}