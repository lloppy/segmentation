{
  "metadata": {
    "kernelspec": {
      "language": "python",
      "display_name": "Python 3",
      "name": "python3"
    },
    "language_info": {
      "name": "python",
      "version": "3.7.12",
      "mimetype": "text/x-python",
      "codemirror_mode": {
        "name": "ipython",
        "version": 3
      },
      "pygments_lexer": "ipython3",
      "nbconvert_exporter": "python",
      "file_extension": ".py"
    },
    "kaggle": {
      "accelerator": "gpu",
      "dataSources": [
        {
          "sourceId": 33264,
          "databundleVersionId": 2979241,
          "sourceType": "competition"
        }
      ],
      "dockerImageVersionId": 30153,
      "isInternetEnabled": true,
      "language": "python",
      "sourceType": "notebook",
      "isGpuEnabled": true
    },
    "colab": {
      "provenance": []
    },
    "widgets": {
      "application/vnd.jupyter.widget-state+json": {
        "983c49302e144ea1a5f185484344e464": {
          "model_module": "@jupyter-widgets/controls",
          "model_name": "HBoxModel",
          "model_module_version": "1.5.0",
          "state": {
            "_dom_classes": [],
            "_model_module": "@jupyter-widgets/controls",
            "_model_module_version": "1.5.0",
            "_model_name": "HBoxModel",
            "_view_count": null,
            "_view_module": "@jupyter-widgets/controls",
            "_view_module_version": "1.5.0",
            "_view_name": "HBoxView",
            "box_style": "",
            "children": [
              "IPY_MODEL_1ae0f9fc854141d6a6bd9bd8f53cafb3",
              "IPY_MODEL_ebc1b10633204cdb916d84691fb1da20",
              "IPY_MODEL_8f51a68dc7a64c4f85f3a64394ca2d9c"
            ],
            "layout": "IPY_MODEL_92a9c923389040dd97cdede639246021"
          }
        },
        "1ae0f9fc854141d6a6bd9bd8f53cafb3": {
          "model_module": "@jupyter-widgets/controls",
          "model_name": "HTMLModel",
          "model_module_version": "1.5.0",
          "state": {
            "_dom_classes": [],
            "_model_module": "@jupyter-widgets/controls",
            "_model_module_version": "1.5.0",
            "_model_name": "HTMLModel",
            "_view_count": null,
            "_view_module": "@jupyter-widgets/controls",
            "_view_module_version": "1.5.0",
            "_view_name": "HTMLView",
            "description": "",
            "description_tooltip": null,
            "layout": "IPY_MODEL_faeeb6a42d634f108c9a99144d929440",
            "placeholder": "​",
            "style": "IPY_MODEL_619284e05b134f359bd1a1e0ab9f8a76",
            "value": "config.json: 100%"
          }
        },
        "ebc1b10633204cdb916d84691fb1da20": {
          "model_module": "@jupyter-widgets/controls",
          "model_name": "FloatProgressModel",
          "model_module_version": "1.5.0",
          "state": {
            "_dom_classes": [],
            "_model_module": "@jupyter-widgets/controls",
            "_model_module_version": "1.5.0",
            "_model_name": "FloatProgressModel",
            "_view_count": null,
            "_view_module": "@jupyter-widgets/controls",
            "_view_module_version": "1.5.0",
            "_view_name": "ProgressView",
            "bar_style": "success",
            "description": "",
            "description_tooltip": null,
            "layout": "IPY_MODEL_662b0b547e4f48b3882a9bdc0786c36e",
            "max": 156,
            "min": 0,
            "orientation": "horizontal",
            "style": "IPY_MODEL_7d0e67d8c1bf43bc90ff2be50ccd5470",
            "value": 156
          }
        },
        "8f51a68dc7a64c4f85f3a64394ca2d9c": {
          "model_module": "@jupyter-widgets/controls",
          "model_name": "HTMLModel",
          "model_module_version": "1.5.0",
          "state": {
            "_dom_classes": [],
            "_model_module": "@jupyter-widgets/controls",
            "_model_module_version": "1.5.0",
            "_model_name": "HTMLModel",
            "_view_count": null,
            "_view_module": "@jupyter-widgets/controls",
            "_view_module_version": "1.5.0",
            "_view_name": "HTMLView",
            "description": "",
            "description_tooltip": null,
            "layout": "IPY_MODEL_e99e7a04ee0747bc8f5e52fb30a61a21",
            "placeholder": "​",
            "style": "IPY_MODEL_a65ff8a22386477991e043afa38bb487",
            "value": " 156/156 [00:00&lt;00:00, 8.11kB/s]"
          }
        },
        "92a9c923389040dd97cdede639246021": {
          "model_module": "@jupyter-widgets/base",
          "model_name": "LayoutModel",
          "model_module_version": "1.2.0",
          "state": {
            "_model_module": "@jupyter-widgets/base",
            "_model_module_version": "1.2.0",
            "_model_name": "LayoutModel",
            "_view_count": null,
            "_view_module": "@jupyter-widgets/base",
            "_view_module_version": "1.2.0",
            "_view_name": "LayoutView",
            "align_content": null,
            "align_items": null,
            "align_self": null,
            "border": null,
            "bottom": null,
            "display": null,
            "flex": null,
            "flex_flow": null,
            "grid_area": null,
            "grid_auto_columns": null,
            "grid_auto_flow": null,
            "grid_auto_rows": null,
            "grid_column": null,
            "grid_gap": null,
            "grid_row": null,
            "grid_template_areas": null,
            "grid_template_columns": null,
            "grid_template_rows": null,
            "height": null,
            "justify_content": null,
            "justify_items": null,
            "left": null,
            "margin": null,
            "max_height": null,
            "max_width": null,
            "min_height": null,
            "min_width": null,
            "object_fit": null,
            "object_position": null,
            "order": null,
            "overflow": null,
            "overflow_x": null,
            "overflow_y": null,
            "padding": null,
            "right": null,
            "top": null,
            "visibility": null,
            "width": null
          }
        },
        "faeeb6a42d634f108c9a99144d929440": {
          "model_module": "@jupyter-widgets/base",
          "model_name": "LayoutModel",
          "model_module_version": "1.2.0",
          "state": {
            "_model_module": "@jupyter-widgets/base",
            "_model_module_version": "1.2.0",
            "_model_name": "LayoutModel",
            "_view_count": null,
            "_view_module": "@jupyter-widgets/base",
            "_view_module_version": "1.2.0",
            "_view_name": "LayoutView",
            "align_content": null,
            "align_items": null,
            "align_self": null,
            "border": null,
            "bottom": null,
            "display": null,
            "flex": null,
            "flex_flow": null,
            "grid_area": null,
            "grid_auto_columns": null,
            "grid_auto_flow": null,
            "grid_auto_rows": null,
            "grid_column": null,
            "grid_gap": null,
            "grid_row": null,
            "grid_template_areas": null,
            "grid_template_columns": null,
            "grid_template_rows": null,
            "height": null,
            "justify_content": null,
            "justify_items": null,
            "left": null,
            "margin": null,
            "max_height": null,
            "max_width": null,
            "min_height": null,
            "min_width": null,
            "object_fit": null,
            "object_position": null,
            "order": null,
            "overflow": null,
            "overflow_x": null,
            "overflow_y": null,
            "padding": null,
            "right": null,
            "top": null,
            "visibility": null,
            "width": null
          }
        },
        "619284e05b134f359bd1a1e0ab9f8a76": {
          "model_module": "@jupyter-widgets/controls",
          "model_name": "DescriptionStyleModel",
          "model_module_version": "1.5.0",
          "state": {
            "_model_module": "@jupyter-widgets/controls",
            "_model_module_version": "1.5.0",
            "_model_name": "DescriptionStyleModel",
            "_view_count": null,
            "_view_module": "@jupyter-widgets/base",
            "_view_module_version": "1.2.0",
            "_view_name": "StyleView",
            "description_width": ""
          }
        },
        "662b0b547e4f48b3882a9bdc0786c36e": {
          "model_module": "@jupyter-widgets/base",
          "model_name": "LayoutModel",
          "model_module_version": "1.2.0",
          "state": {
            "_model_module": "@jupyter-widgets/base",
            "_model_module_version": "1.2.0",
            "_model_name": "LayoutModel",
            "_view_count": null,
            "_view_module": "@jupyter-widgets/base",
            "_view_module_version": "1.2.0",
            "_view_name": "LayoutView",
            "align_content": null,
            "align_items": null,
            "align_self": null,
            "border": null,
            "bottom": null,
            "display": null,
            "flex": null,
            "flex_flow": null,
            "grid_area": null,
            "grid_auto_columns": null,
            "grid_auto_flow": null,
            "grid_auto_rows": null,
            "grid_column": null,
            "grid_gap": null,
            "grid_row": null,
            "grid_template_areas": null,
            "grid_template_columns": null,
            "grid_template_rows": null,
            "height": null,
            "justify_content": null,
            "justify_items": null,
            "left": null,
            "margin": null,
            "max_height": null,
            "max_width": null,
            "min_height": null,
            "min_width": null,
            "object_fit": null,
            "object_position": null,
            "order": null,
            "overflow": null,
            "overflow_x": null,
            "overflow_y": null,
            "padding": null,
            "right": null,
            "top": null,
            "visibility": null,
            "width": null
          }
        },
        "7d0e67d8c1bf43bc90ff2be50ccd5470": {
          "model_module": "@jupyter-widgets/controls",
          "model_name": "ProgressStyleModel",
          "model_module_version": "1.5.0",
          "state": {
            "_model_module": "@jupyter-widgets/controls",
            "_model_module_version": "1.5.0",
            "_model_name": "ProgressStyleModel",
            "_view_count": null,
            "_view_module": "@jupyter-widgets/base",
            "_view_module_version": "1.2.0",
            "_view_name": "StyleView",
            "bar_color": null,
            "description_width": ""
          }
        },
        "e99e7a04ee0747bc8f5e52fb30a61a21": {
          "model_module": "@jupyter-widgets/base",
          "model_name": "LayoutModel",
          "model_module_version": "1.2.0",
          "state": {
            "_model_module": "@jupyter-widgets/base",
            "_model_module_version": "1.2.0",
            "_model_name": "LayoutModel",
            "_view_count": null,
            "_view_module": "@jupyter-widgets/base",
            "_view_module_version": "1.2.0",
            "_view_name": "LayoutView",
            "align_content": null,
            "align_items": null,
            "align_self": null,
            "border": null,
            "bottom": null,
            "display": null,
            "flex": null,
            "flex_flow": null,
            "grid_area": null,
            "grid_auto_columns": null,
            "grid_auto_flow": null,
            "grid_auto_rows": null,
            "grid_column": null,
            "grid_gap": null,
            "grid_row": null,
            "grid_template_areas": null,
            "grid_template_columns": null,
            "grid_template_rows": null,
            "height": null,
            "justify_content": null,
            "justify_items": null,
            "left": null,
            "margin": null,
            "max_height": null,
            "max_width": null,
            "min_height": null,
            "min_width": null,
            "object_fit": null,
            "object_position": null,
            "order": null,
            "overflow": null,
            "overflow_x": null,
            "overflow_y": null,
            "padding": null,
            "right": null,
            "top": null,
            "visibility": null,
            "width": null
          }
        },
        "a65ff8a22386477991e043afa38bb487": {
          "model_module": "@jupyter-widgets/controls",
          "model_name": "DescriptionStyleModel",
          "model_module_version": "1.5.0",
          "state": {
            "_model_module": "@jupyter-widgets/controls",
            "_model_module_version": "1.5.0",
            "_model_name": "DescriptionStyleModel",
            "_view_count": null,
            "_view_module": "@jupyter-widgets/base",
            "_view_module_version": "1.2.0",
            "_view_name": "StyleView",
            "description_width": ""
          }
        },
        "08254f3fbacb4c4db6aea1e507eef4b2": {
          "model_module": "@jupyter-widgets/controls",
          "model_name": "HBoxModel",
          "model_module_version": "1.5.0",
          "state": {
            "_dom_classes": [],
            "_model_module": "@jupyter-widgets/controls",
            "_model_module_version": "1.5.0",
            "_model_name": "HBoxModel",
            "_view_count": null,
            "_view_module": "@jupyter-widgets/controls",
            "_view_module_version": "1.5.0",
            "_view_name": "HBoxView",
            "box_style": "",
            "children": [
              "IPY_MODEL_efce8b69a0b544f1b54ad575ca2e8f63",
              "IPY_MODEL_d70bc6b14f94464bb78c5e60e54c11f9",
              "IPY_MODEL_25887ba00d02461d9ddf6ea3f5b5cf55"
            ],
            "layout": "IPY_MODEL_3a3a883bd5d14a3e9927bdcd5351ab1c"
          }
        },
        "efce8b69a0b544f1b54ad575ca2e8f63": {
          "model_module": "@jupyter-widgets/controls",
          "model_name": "HTMLModel",
          "model_module_version": "1.5.0",
          "state": {
            "_dom_classes": [],
            "_model_module": "@jupyter-widgets/controls",
            "_model_module_version": "1.5.0",
            "_model_name": "HTMLModel",
            "_view_count": null,
            "_view_module": "@jupyter-widgets/controls",
            "_view_module_version": "1.5.0",
            "_view_name": "HTMLView",
            "description": "",
            "description_tooltip": null,
            "layout": "IPY_MODEL_467a03a26b5940c69eb465ad7dd1f321",
            "placeholder": "​",
            "style": "IPY_MODEL_bd0800c42a6648e9b8ddf8a190a2abaa",
            "value": "model.safetensors: 100%"
          }
        },
        "d70bc6b14f94464bb78c5e60e54c11f9": {
          "model_module": "@jupyter-widgets/controls",
          "model_name": "FloatProgressModel",
          "model_module_version": "1.5.0",
          "state": {
            "_dom_classes": [],
            "_model_module": "@jupyter-widgets/controls",
            "_model_module_version": "1.5.0",
            "_model_name": "FloatProgressModel",
            "_view_count": null,
            "_view_module": "@jupyter-widgets/controls",
            "_view_module_version": "1.5.0",
            "_view_name": "ProgressView",
            "bar_style": "success",
            "description": "",
            "description_tooltip": null,
            "layout": "IPY_MODEL_8ea9e1b2a53540da831cd58195c639ef",
            "max": 87275112,
            "min": 0,
            "orientation": "horizontal",
            "style": "IPY_MODEL_eab31d46dc044c3da0c3f93498fc6b41",
            "value": 87275112
          }
        },
        "25887ba00d02461d9ddf6ea3f5b5cf55": {
          "model_module": "@jupyter-widgets/controls",
          "model_name": "HTMLModel",
          "model_module_version": "1.5.0",
          "state": {
            "_dom_classes": [],
            "_model_module": "@jupyter-widgets/controls",
            "_model_module_version": "1.5.0",
            "_model_name": "HTMLModel",
            "_view_count": null,
            "_view_module": "@jupyter-widgets/controls",
            "_view_module_version": "1.5.0",
            "_view_name": "HTMLView",
            "description": "",
            "description_tooltip": null,
            "layout": "IPY_MODEL_925bdc7170f541baaed706eaa8e4c8df",
            "placeholder": "​",
            "style": "IPY_MODEL_3585fd6c2090464ead3c407f74a68afd",
            "value": " 87.3M/87.3M [00:00&lt;00:00, 243MB/s]"
          }
        },
        "3a3a883bd5d14a3e9927bdcd5351ab1c": {
          "model_module": "@jupyter-widgets/base",
          "model_name": "LayoutModel",
          "model_module_version": "1.2.0",
          "state": {
            "_model_module": "@jupyter-widgets/base",
            "_model_module_version": "1.2.0",
            "_model_name": "LayoutModel",
            "_view_count": null,
            "_view_module": "@jupyter-widgets/base",
            "_view_module_version": "1.2.0",
            "_view_name": "LayoutView",
            "align_content": null,
            "align_items": null,
            "align_self": null,
            "border": null,
            "bottom": null,
            "display": null,
            "flex": null,
            "flex_flow": null,
            "grid_area": null,
            "grid_auto_columns": null,
            "grid_auto_flow": null,
            "grid_auto_rows": null,
            "grid_column": null,
            "grid_gap": null,
            "grid_row": null,
            "grid_template_areas": null,
            "grid_template_columns": null,
            "grid_template_rows": null,
            "height": null,
            "justify_content": null,
            "justify_items": null,
            "left": null,
            "margin": null,
            "max_height": null,
            "max_width": null,
            "min_height": null,
            "min_width": null,
            "object_fit": null,
            "object_position": null,
            "order": null,
            "overflow": null,
            "overflow_x": null,
            "overflow_y": null,
            "padding": null,
            "right": null,
            "top": null,
            "visibility": null,
            "width": null
          }
        },
        "467a03a26b5940c69eb465ad7dd1f321": {
          "model_module": "@jupyter-widgets/base",
          "model_name": "LayoutModel",
          "model_module_version": "1.2.0",
          "state": {
            "_model_module": "@jupyter-widgets/base",
            "_model_module_version": "1.2.0",
            "_model_name": "LayoutModel",
            "_view_count": null,
            "_view_module": "@jupyter-widgets/base",
            "_view_module_version": "1.2.0",
            "_view_name": "LayoutView",
            "align_content": null,
            "align_items": null,
            "align_self": null,
            "border": null,
            "bottom": null,
            "display": null,
            "flex": null,
            "flex_flow": null,
            "grid_area": null,
            "grid_auto_columns": null,
            "grid_auto_flow": null,
            "grid_auto_rows": null,
            "grid_column": null,
            "grid_gap": null,
            "grid_row": null,
            "grid_template_areas": null,
            "grid_template_columns": null,
            "grid_template_rows": null,
            "height": null,
            "justify_content": null,
            "justify_items": null,
            "left": null,
            "margin": null,
            "max_height": null,
            "max_width": null,
            "min_height": null,
            "min_width": null,
            "object_fit": null,
            "object_position": null,
            "order": null,
            "overflow": null,
            "overflow_x": null,
            "overflow_y": null,
            "padding": null,
            "right": null,
            "top": null,
            "visibility": null,
            "width": null
          }
        },
        "bd0800c42a6648e9b8ddf8a190a2abaa": {
          "model_module": "@jupyter-widgets/controls",
          "model_name": "DescriptionStyleModel",
          "model_module_version": "1.5.0",
          "state": {
            "_model_module": "@jupyter-widgets/controls",
            "_model_module_version": "1.5.0",
            "_model_name": "DescriptionStyleModel",
            "_view_count": null,
            "_view_module": "@jupyter-widgets/base",
            "_view_module_version": "1.2.0",
            "_view_name": "StyleView",
            "description_width": ""
          }
        },
        "8ea9e1b2a53540da831cd58195c639ef": {
          "model_module": "@jupyter-widgets/base",
          "model_name": "LayoutModel",
          "model_module_version": "1.2.0",
          "state": {
            "_model_module": "@jupyter-widgets/base",
            "_model_module_version": "1.2.0",
            "_model_name": "LayoutModel",
            "_view_count": null,
            "_view_module": "@jupyter-widgets/base",
            "_view_module_version": "1.2.0",
            "_view_name": "LayoutView",
            "align_content": null,
            "align_items": null,
            "align_self": null,
            "border": null,
            "bottom": null,
            "display": null,
            "flex": null,
            "flex_flow": null,
            "grid_area": null,
            "grid_auto_columns": null,
            "grid_auto_flow": null,
            "grid_auto_rows": null,
            "grid_column": null,
            "grid_gap": null,
            "grid_row": null,
            "grid_template_areas": null,
            "grid_template_columns": null,
            "grid_template_rows": null,
            "height": null,
            "justify_content": null,
            "justify_items": null,
            "left": null,
            "margin": null,
            "max_height": null,
            "max_width": null,
            "min_height": null,
            "min_width": null,
            "object_fit": null,
            "object_position": null,
            "order": null,
            "overflow": null,
            "overflow_x": null,
            "overflow_y": null,
            "padding": null,
            "right": null,
            "top": null,
            "visibility": null,
            "width": null
          }
        },
        "eab31d46dc044c3da0c3f93498fc6b41": {
          "model_module": "@jupyter-widgets/controls",
          "model_name": "ProgressStyleModel",
          "model_module_version": "1.5.0",
          "state": {
            "_model_module": "@jupyter-widgets/controls",
            "_model_module_version": "1.5.0",
            "_model_name": "ProgressStyleModel",
            "_view_count": null,
            "_view_module": "@jupyter-widgets/base",
            "_view_module_version": "1.2.0",
            "_view_name": "StyleView",
            "bar_color": null,
            "description_width": ""
          }
        },
        "925bdc7170f541baaed706eaa8e4c8df": {
          "model_module": "@jupyter-widgets/base",
          "model_name": "LayoutModel",
          "model_module_version": "1.2.0",
          "state": {
            "_model_module": "@jupyter-widgets/base",
            "_model_module_version": "1.2.0",
            "_model_name": "LayoutModel",
            "_view_count": null,
            "_view_module": "@jupyter-widgets/base",
            "_view_module_version": "1.2.0",
            "_view_name": "LayoutView",
            "align_content": null,
            "align_items": null,
            "align_self": null,
            "border": null,
            "bottom": null,
            "display": null,
            "flex": null,
            "flex_flow": null,
            "grid_area": null,
            "grid_auto_columns": null,
            "grid_auto_flow": null,
            "grid_auto_rows": null,
            "grid_column": null,
            "grid_gap": null,
            "grid_row": null,
            "grid_template_areas": null,
            "grid_template_columns": null,
            "grid_template_rows": null,
            "height": null,
            "justify_content": null,
            "justify_items": null,
            "left": null,
            "margin": null,
            "max_height": null,
            "max_width": null,
            "min_height": null,
            "min_width": null,
            "object_fit": null,
            "object_position": null,
            "order": null,
            "overflow": null,
            "overflow_x": null,
            "overflow_y": null,
            "padding": null,
            "right": null,
            "top": null,
            "visibility": null,
            "width": null
          }
        },
        "3585fd6c2090464ead3c407f74a68afd": {
          "model_module": "@jupyter-widgets/controls",
          "model_name": "DescriptionStyleModel",
          "model_module_version": "1.5.0",
          "state": {
            "_model_module": "@jupyter-widgets/controls",
            "_model_module_version": "1.5.0",
            "_model_name": "DescriptionStyleModel",
            "_view_count": null,
            "_view_module": "@jupyter-widgets/base",
            "_view_module_version": "1.2.0",
            "_view_name": "StyleView",
            "description_width": ""
          }
        },
        "ac08c5d3314a4fc1a5406a7e547ca07b": {
          "model_module": "@jupyter-widgets/controls",
          "model_name": "HBoxModel",
          "model_module_version": "1.5.0",
          "state": {
            "_dom_classes": [],
            "_model_module": "@jupyter-widgets/controls",
            "_model_module_version": "1.5.0",
            "_model_name": "HBoxModel",
            "_view_count": null,
            "_view_module": "@jupyter-widgets/controls",
            "_view_module_version": "1.5.0",
            "_view_name": "HBoxView",
            "box_style": "",
            "children": [
              "IPY_MODEL_874bee9017e949e5a3a13abe9374b811",
              "IPY_MODEL_8dcd439e1af246b79655704dfe7c1f6e",
              "IPY_MODEL_9ff5a3aed0da448b85e336f33f962a46"
            ],
            "layout": "IPY_MODEL_32a7eb6fcc4f4b1387c44cd7b2daad28"
          }
        },
        "874bee9017e949e5a3a13abe9374b811": {
          "model_module": "@jupyter-widgets/controls",
          "model_name": "HTMLModel",
          "model_module_version": "1.5.0",
          "state": {
            "_dom_classes": [],
            "_model_module": "@jupyter-widgets/controls",
            "_model_module_version": "1.5.0",
            "_model_name": "HTMLModel",
            "_view_count": null,
            "_view_module": "@jupyter-widgets/controls",
            "_view_module_version": "1.5.0",
            "_view_name": "HTMLView",
            "description": "",
            "description_tooltip": null,
            "layout": "IPY_MODEL_1ed660764ff34ef6a4f041d6b06064d5",
            "placeholder": "​",
            "style": "IPY_MODEL_15007a47c5bf42fc9c68fa1d2a49497f",
            "value": "100%"
          }
        },
        "8dcd439e1af246b79655704dfe7c1f6e": {
          "model_module": "@jupyter-widgets/controls",
          "model_name": "FloatProgressModel",
          "model_module_version": "1.5.0",
          "state": {
            "_dom_classes": [],
            "_model_module": "@jupyter-widgets/controls",
            "_model_module_version": "1.5.0",
            "_model_name": "FloatProgressModel",
            "_view_count": null,
            "_view_module": "@jupyter-widgets/controls",
            "_view_module_version": "1.5.0",
            "_view_name": "ProgressView",
            "bar_style": "success",
            "description": "",
            "description_tooltip": null,
            "layout": "IPY_MODEL_055fcdef2fad4eb8a8f8f833c285ec4d",
            "max": 54,
            "min": 0,
            "orientation": "horizontal",
            "style": "IPY_MODEL_c495f1e49cab4d4c855bd19f5be5c72b",
            "value": 54
          }
        },
        "9ff5a3aed0da448b85e336f33f962a46": {
          "model_module": "@jupyter-widgets/controls",
          "model_name": "HTMLModel",
          "model_module_version": "1.5.0",
          "state": {
            "_dom_classes": [],
            "_model_module": "@jupyter-widgets/controls",
            "_model_module_version": "1.5.0",
            "_model_name": "HTMLModel",
            "_view_count": null,
            "_view_module": "@jupyter-widgets/controls",
            "_view_module_version": "1.5.0",
            "_view_name": "HTMLView",
            "description": "",
            "description_tooltip": null,
            "layout": "IPY_MODEL_16d40d80e8a4447bbc53716a0f76c45c",
            "placeholder": "​",
            "style": "IPY_MODEL_e6940016eb334f97a1fd6adabcc8498a",
            "value": " 54/54 [50:31&lt;00:00, 47.74s/it]"
          }
        },
        "32a7eb6fcc4f4b1387c44cd7b2daad28": {
          "model_module": "@jupyter-widgets/base",
          "model_name": "LayoutModel",
          "model_module_version": "1.2.0",
          "state": {
            "_model_module": "@jupyter-widgets/base",
            "_model_module_version": "1.2.0",
            "_model_name": "LayoutModel",
            "_view_count": null,
            "_view_module": "@jupyter-widgets/base",
            "_view_module_version": "1.2.0",
            "_view_name": "LayoutView",
            "align_content": null,
            "align_items": null,
            "align_self": null,
            "border": null,
            "bottom": null,
            "display": null,
            "flex": null,
            "flex_flow": null,
            "grid_area": null,
            "grid_auto_columns": null,
            "grid_auto_flow": null,
            "grid_auto_rows": null,
            "grid_column": null,
            "grid_gap": null,
            "grid_row": null,
            "grid_template_areas": null,
            "grid_template_columns": null,
            "grid_template_rows": null,
            "height": null,
            "justify_content": null,
            "justify_items": null,
            "left": null,
            "margin": null,
            "max_height": null,
            "max_width": null,
            "min_height": null,
            "min_width": null,
            "object_fit": null,
            "object_position": null,
            "order": null,
            "overflow": null,
            "overflow_x": null,
            "overflow_y": null,
            "padding": null,
            "right": null,
            "top": null,
            "visibility": null,
            "width": null
          }
        },
        "1ed660764ff34ef6a4f041d6b06064d5": {
          "model_module": "@jupyter-widgets/base",
          "model_name": "LayoutModel",
          "model_module_version": "1.2.0",
          "state": {
            "_model_module": "@jupyter-widgets/base",
            "_model_module_version": "1.2.0",
            "_model_name": "LayoutModel",
            "_view_count": null,
            "_view_module": "@jupyter-widgets/base",
            "_view_module_version": "1.2.0",
            "_view_name": "LayoutView",
            "align_content": null,
            "align_items": null,
            "align_self": null,
            "border": null,
            "bottom": null,
            "display": null,
            "flex": null,
            "flex_flow": null,
            "grid_area": null,
            "grid_auto_columns": null,
            "grid_auto_flow": null,
            "grid_auto_rows": null,
            "grid_column": null,
            "grid_gap": null,
            "grid_row": null,
            "grid_template_areas": null,
            "grid_template_columns": null,
            "grid_template_rows": null,
            "height": null,
            "justify_content": null,
            "justify_items": null,
            "left": null,
            "margin": null,
            "max_height": null,
            "max_width": null,
            "min_height": null,
            "min_width": null,
            "object_fit": null,
            "object_position": null,
            "order": null,
            "overflow": null,
            "overflow_x": null,
            "overflow_y": null,
            "padding": null,
            "right": null,
            "top": null,
            "visibility": null,
            "width": null
          }
        },
        "15007a47c5bf42fc9c68fa1d2a49497f": {
          "model_module": "@jupyter-widgets/controls",
          "model_name": "DescriptionStyleModel",
          "model_module_version": "1.5.0",
          "state": {
            "_model_module": "@jupyter-widgets/controls",
            "_model_module_version": "1.5.0",
            "_model_name": "DescriptionStyleModel",
            "_view_count": null,
            "_view_module": "@jupyter-widgets/base",
            "_view_module_version": "1.2.0",
            "_view_name": "StyleView",
            "description_width": ""
          }
        },
        "055fcdef2fad4eb8a8f8f833c285ec4d": {
          "model_module": "@jupyter-widgets/base",
          "model_name": "LayoutModel",
          "model_module_version": "1.2.0",
          "state": {
            "_model_module": "@jupyter-widgets/base",
            "_model_module_version": "1.2.0",
            "_model_name": "LayoutModel",
            "_view_count": null,
            "_view_module": "@jupyter-widgets/base",
            "_view_module_version": "1.2.0",
            "_view_name": "LayoutView",
            "align_content": null,
            "align_items": null,
            "align_self": null,
            "border": null,
            "bottom": null,
            "display": null,
            "flex": null,
            "flex_flow": null,
            "grid_area": null,
            "grid_auto_columns": null,
            "grid_auto_flow": null,
            "grid_auto_rows": null,
            "grid_column": null,
            "grid_gap": null,
            "grid_row": null,
            "grid_template_areas": null,
            "grid_template_columns": null,
            "grid_template_rows": null,
            "height": null,
            "justify_content": null,
            "justify_items": null,
            "left": null,
            "margin": null,
            "max_height": null,
            "max_width": null,
            "min_height": null,
            "min_width": null,
            "object_fit": null,
            "object_position": null,
            "order": null,
            "overflow": null,
            "overflow_x": null,
            "overflow_y": null,
            "padding": null,
            "right": null,
            "top": null,
            "visibility": null,
            "width": null
          }
        },
        "c495f1e49cab4d4c855bd19f5be5c72b": {
          "model_module": "@jupyter-widgets/controls",
          "model_name": "ProgressStyleModel",
          "model_module_version": "1.5.0",
          "state": {
            "_model_module": "@jupyter-widgets/controls",
            "_model_module_version": "1.5.0",
            "_model_name": "ProgressStyleModel",
            "_view_count": null,
            "_view_module": "@jupyter-widgets/base",
            "_view_module_version": "1.2.0",
            "_view_name": "StyleView",
            "bar_color": null,
            "description_width": ""
          }
        },
        "16d40d80e8a4447bbc53716a0f76c45c": {
          "model_module": "@jupyter-widgets/base",
          "model_name": "LayoutModel",
          "model_module_version": "1.2.0",
          "state": {
            "_model_module": "@jupyter-widgets/base",
            "_model_module_version": "1.2.0",
            "_model_name": "LayoutModel",
            "_view_count": null,
            "_view_module": "@jupyter-widgets/base",
            "_view_module_version": "1.2.0",
            "_view_name": "LayoutView",
            "align_content": null,
            "align_items": null,
            "align_self": null,
            "border": null,
            "bottom": null,
            "display": null,
            "flex": null,
            "flex_flow": null,
            "grid_area": null,
            "grid_auto_columns": null,
            "grid_auto_flow": null,
            "grid_auto_rows": null,
            "grid_column": null,
            "grid_gap": null,
            "grid_row": null,
            "grid_template_areas": null,
            "grid_template_columns": null,
            "grid_template_rows": null,
            "height": null,
            "justify_content": null,
            "justify_items": null,
            "left": null,
            "margin": null,
            "max_height": null,
            "max_width": null,
            "min_height": null,
            "min_width": null,
            "object_fit": null,
            "object_position": null,
            "order": null,
            "overflow": null,
            "overflow_x": null,
            "overflow_y": null,
            "padding": null,
            "right": null,
            "top": null,
            "visibility": null,
            "width": null
          }
        },
        "e6940016eb334f97a1fd6adabcc8498a": {
          "model_module": "@jupyter-widgets/controls",
          "model_name": "DescriptionStyleModel",
          "model_module_version": "1.5.0",
          "state": {
            "_model_module": "@jupyter-widgets/controls",
            "_model_module_version": "1.5.0",
            "_model_name": "DescriptionStyleModel",
            "_view_count": null,
            "_view_module": "@jupyter-widgets/base",
            "_view_module_version": "1.2.0",
            "_view_name": "StyleView",
            "description_width": ""
          }
        },
        "98c4eb84966145a7a573bd540befef51": {
          "model_module": "@jupyter-widgets/controls",
          "model_name": "HBoxModel",
          "model_module_version": "1.5.0",
          "state": {
            "_dom_classes": [],
            "_model_module": "@jupyter-widgets/controls",
            "_model_module_version": "1.5.0",
            "_model_name": "HBoxModel",
            "_view_count": null,
            "_view_module": "@jupyter-widgets/controls",
            "_view_module_version": "1.5.0",
            "_view_name": "HBoxView",
            "box_style": "",
            "children": [
              "IPY_MODEL_4df437c09d9d4c2e849ea80923a9de88",
              "IPY_MODEL_0ee97c7e29964335aa706e8a4b04b186",
              "IPY_MODEL_764dd37814244412b87db69b6f6f678e"
            ],
            "layout": "IPY_MODEL_7ca7dcb4fe4e4550b529c85f0fdbe26a"
          }
        },
        "4df437c09d9d4c2e849ea80923a9de88": {
          "model_module": "@jupyter-widgets/controls",
          "model_name": "HTMLModel",
          "model_module_version": "1.5.0",
          "state": {
            "_dom_classes": [],
            "_model_module": "@jupyter-widgets/controls",
            "_model_module_version": "1.5.0",
            "_model_name": "HTMLModel",
            "_view_count": null,
            "_view_module": "@jupyter-widgets/controls",
            "_view_module_version": "1.5.0",
            "_view_name": "HTMLView",
            "description": "",
            "description_tooltip": null,
            "layout": "IPY_MODEL_5bd64c6cb5444f63976070c45e018f87",
            "placeholder": "​",
            "style": "IPY_MODEL_e6566742e46a48ef8a9fd8a9551eaad4",
            "value": "100%"
          }
        },
        "0ee97c7e29964335aa706e8a4b04b186": {
          "model_module": "@jupyter-widgets/controls",
          "model_name": "FloatProgressModel",
          "model_module_version": "1.5.0",
          "state": {
            "_dom_classes": [],
            "_model_module": "@jupyter-widgets/controls",
            "_model_module_version": "1.5.0",
            "_model_name": "FloatProgressModel",
            "_view_count": null,
            "_view_module": "@jupyter-widgets/controls",
            "_view_module_version": "1.5.0",
            "_view_name": "ProgressView",
            "bar_style": "success",
            "description": "",
            "description_tooltip": null,
            "layout": "IPY_MODEL_8ecb206059a148c6b983215f30834473",
            "max": 1500,
            "min": 0,
            "orientation": "horizontal",
            "style": "IPY_MODEL_62eb39459e7a440d939ceeaa121fe59b",
            "value": 1500
          }
        },
        "764dd37814244412b87db69b6f6f678e": {
          "model_module": "@jupyter-widgets/controls",
          "model_name": "HTMLModel",
          "model_module_version": "1.5.0",
          "state": {
            "_dom_classes": [],
            "_model_module": "@jupyter-widgets/controls",
            "_model_module_version": "1.5.0",
            "_model_name": "HTMLModel",
            "_view_count": null,
            "_view_module": "@jupyter-widgets/controls",
            "_view_module_version": "1.5.0",
            "_view_name": "HTMLView",
            "description": "",
            "description_tooltip": null,
            "layout": "IPY_MODEL_56ee3930940e4d80a2b4c974ec906d1c",
            "placeholder": "​",
            "style": "IPY_MODEL_6a929e688b7e46f384633fd6db097e4e",
            "value": " 1500/1500 [06:27&lt;00:00,  4.52it/s]"
          }
        },
        "7ca7dcb4fe4e4550b529c85f0fdbe26a": {
          "model_module": "@jupyter-widgets/base",
          "model_name": "LayoutModel",
          "model_module_version": "1.2.0",
          "state": {
            "_model_module": "@jupyter-widgets/base",
            "_model_module_version": "1.2.0",
            "_model_name": "LayoutModel",
            "_view_count": null,
            "_view_module": "@jupyter-widgets/base",
            "_view_module_version": "1.2.0",
            "_view_name": "LayoutView",
            "align_content": null,
            "align_items": null,
            "align_self": null,
            "border": null,
            "bottom": null,
            "display": null,
            "flex": null,
            "flex_flow": null,
            "grid_area": null,
            "grid_auto_columns": null,
            "grid_auto_flow": null,
            "grid_auto_rows": null,
            "grid_column": null,
            "grid_gap": null,
            "grid_row": null,
            "grid_template_areas": null,
            "grid_template_columns": null,
            "grid_template_rows": null,
            "height": null,
            "justify_content": null,
            "justify_items": null,
            "left": null,
            "margin": null,
            "max_height": null,
            "max_width": null,
            "min_height": null,
            "min_width": null,
            "object_fit": null,
            "object_position": null,
            "order": null,
            "overflow": null,
            "overflow_x": null,
            "overflow_y": null,
            "padding": null,
            "right": null,
            "top": null,
            "visibility": null,
            "width": null
          }
        },
        "5bd64c6cb5444f63976070c45e018f87": {
          "model_module": "@jupyter-widgets/base",
          "model_name": "LayoutModel",
          "model_module_version": "1.2.0",
          "state": {
            "_model_module": "@jupyter-widgets/base",
            "_model_module_version": "1.2.0",
            "_model_name": "LayoutModel",
            "_view_count": null,
            "_view_module": "@jupyter-widgets/base",
            "_view_module_version": "1.2.0",
            "_view_name": "LayoutView",
            "align_content": null,
            "align_items": null,
            "align_self": null,
            "border": null,
            "bottom": null,
            "display": null,
            "flex": null,
            "flex_flow": null,
            "grid_area": null,
            "grid_auto_columns": null,
            "grid_auto_flow": null,
            "grid_auto_rows": null,
            "grid_column": null,
            "grid_gap": null,
            "grid_row": null,
            "grid_template_areas": null,
            "grid_template_columns": null,
            "grid_template_rows": null,
            "height": null,
            "justify_content": null,
            "justify_items": null,
            "left": null,
            "margin": null,
            "max_height": null,
            "max_width": null,
            "min_height": null,
            "min_width": null,
            "object_fit": null,
            "object_position": null,
            "order": null,
            "overflow": null,
            "overflow_x": null,
            "overflow_y": null,
            "padding": null,
            "right": null,
            "top": null,
            "visibility": null,
            "width": null
          }
        },
        "e6566742e46a48ef8a9fd8a9551eaad4": {
          "model_module": "@jupyter-widgets/controls",
          "model_name": "DescriptionStyleModel",
          "model_module_version": "1.5.0",
          "state": {
            "_model_module": "@jupyter-widgets/controls",
            "_model_module_version": "1.5.0",
            "_model_name": "DescriptionStyleModel",
            "_view_count": null,
            "_view_module": "@jupyter-widgets/base",
            "_view_module_version": "1.2.0",
            "_view_name": "StyleView",
            "description_width": ""
          }
        },
        "8ecb206059a148c6b983215f30834473": {
          "model_module": "@jupyter-widgets/base",
          "model_name": "LayoutModel",
          "model_module_version": "1.2.0",
          "state": {
            "_model_module": "@jupyter-widgets/base",
            "_model_module_version": "1.2.0",
            "_model_name": "LayoutModel",
            "_view_count": null,
            "_view_module": "@jupyter-widgets/base",
            "_view_module_version": "1.2.0",
            "_view_name": "LayoutView",
            "align_content": null,
            "align_items": null,
            "align_self": null,
            "border": null,
            "bottom": null,
            "display": null,
            "flex": null,
            "flex_flow": null,
            "grid_area": null,
            "grid_auto_columns": null,
            "grid_auto_flow": null,
            "grid_auto_rows": null,
            "grid_column": null,
            "grid_gap": null,
            "grid_row": null,
            "grid_template_areas": null,
            "grid_template_columns": null,
            "grid_template_rows": null,
            "height": null,
            "justify_content": null,
            "justify_items": null,
            "left": null,
            "margin": null,
            "max_height": null,
            "max_width": null,
            "min_height": null,
            "min_width": null,
            "object_fit": null,
            "object_position": null,
            "order": null,
            "overflow": null,
            "overflow_x": null,
            "overflow_y": null,
            "padding": null,
            "right": null,
            "top": null,
            "visibility": null,
            "width": null
          }
        },
        "62eb39459e7a440d939ceeaa121fe59b": {
          "model_module": "@jupyter-widgets/controls",
          "model_name": "ProgressStyleModel",
          "model_module_version": "1.5.0",
          "state": {
            "_model_module": "@jupyter-widgets/controls",
            "_model_module_version": "1.5.0",
            "_model_name": "ProgressStyleModel",
            "_view_count": null,
            "_view_module": "@jupyter-widgets/base",
            "_view_module_version": "1.2.0",
            "_view_name": "StyleView",
            "bar_color": null,
            "description_width": ""
          }
        },
        "56ee3930940e4d80a2b4c974ec906d1c": {
          "model_module": "@jupyter-widgets/base",
          "model_name": "LayoutModel",
          "model_module_version": "1.2.0",
          "state": {
            "_model_module": "@jupyter-widgets/base",
            "_model_module_version": "1.2.0",
            "_model_name": "LayoutModel",
            "_view_count": null,
            "_view_module": "@jupyter-widgets/base",
            "_view_module_version": "1.2.0",
            "_view_name": "LayoutView",
            "align_content": null,
            "align_items": null,
            "align_self": null,
            "border": null,
            "bottom": null,
            "display": null,
            "flex": null,
            "flex_flow": null,
            "grid_area": null,
            "grid_auto_columns": null,
            "grid_auto_flow": null,
            "grid_auto_rows": null,
            "grid_column": null,
            "grid_gap": null,
            "grid_row": null,
            "grid_template_areas": null,
            "grid_template_columns": null,
            "grid_template_rows": null,
            "height": null,
            "justify_content": null,
            "justify_items": null,
            "left": null,
            "margin": null,
            "max_height": null,
            "max_width": null,
            "min_height": null,
            "min_width": null,
            "object_fit": null,
            "object_position": null,
            "order": null,
            "overflow": null,
            "overflow_x": null,
            "overflow_y": null,
            "padding": null,
            "right": null,
            "top": null,
            "visibility": null,
            "width": null
          }
        },
        "6a929e688b7e46f384633fd6db097e4e": {
          "model_module": "@jupyter-widgets/controls",
          "model_name": "DescriptionStyleModel",
          "model_module_version": "1.5.0",
          "state": {
            "_model_module": "@jupyter-widgets/controls",
            "_model_module_version": "1.5.0",
            "_model_name": "DescriptionStyleModel",
            "_view_count": null,
            "_view_module": "@jupyter-widgets/base",
            "_view_module_version": "1.2.0",
            "_view_name": "StyleView",
            "description_width": ""
          }
        }
      }
    }
  },
  "nbformat_minor": 0,
  "nbformat": 4,
  "cells": [
    {
      "cell_type": "markdown",
      "source": [
        "# 📊 EDA и исследовательский анализ"
      ],
      "metadata": {
        "id": "wuDNPELMGCBE"
      }
    },
    {
      "cell_type": "code",
      "source": [
        "import os\n",
        "import numpy as np\n",
        "import matplotlib.pyplot as plt\n",
        "import seaborn as sns\n",
        "from PIL import Image\n",
        "import pandas as pd"
      ],
      "metadata": {
        "id": "Y6vwHeTOGMnA"
      },
      "execution_count": null,
      "outputs": []
    },
    {
      "cell_type": "markdown",
      "source": [
        "# Предварительная подготовка"
      ],
      "metadata": {
        "id": "3FWXtByQ7duG"
      }
    },
    {
      "cell_type": "code",
      "source": [
        "!pip install segmentation-models-pytorch"
      ],
      "metadata": {
        "execution": {
          "iopub.status.busy": "2025-05-21T17:18:20.021190Z",
          "iopub.execute_input": "2025-05-21T17:18:20.021746Z",
          "iopub.status.idle": "2025-05-21T17:18:26.419284Z",
          "shell.execute_reply.started": "2025-05-21T17:18:20.021673Z",
          "shell.execute_reply": "2025-05-21T17:18:26.417849Z"
        },
        "trusted": true,
        "colab": {
          "base_uri": "https://localhost:8080/"
        },
        "id": "ax7CWW--7duI",
        "outputId": "cc135616-101d-4a37-de5f-e90644352e00"
      },
      "outputs": [
        {
          "output_type": "stream",
          "name": "stdout",
          "text": [
            "Collecting segmentation-models-pytorch\n",
            "  Downloading segmentation_models_pytorch-0.5.0-py3-none-any.whl.metadata (17 kB)\n",
            "Requirement already satisfied: huggingface-hub>=0.24 in /usr/local/lib/python3.11/dist-packages (from segmentation-models-pytorch) (0.31.2)\n",
            "Requirement already satisfied: numpy>=1.19.3 in /usr/local/lib/python3.11/dist-packages (from segmentation-models-pytorch) (2.0.2)\n",
            "Requirement already satisfied: pillow>=8 in /usr/local/lib/python3.11/dist-packages (from segmentation-models-pytorch) (11.2.1)\n",
            "Requirement already satisfied: safetensors>=0.3.1 in /usr/local/lib/python3.11/dist-packages (from segmentation-models-pytorch) (0.5.3)\n",
            "Requirement already satisfied: timm>=0.9 in /usr/local/lib/python3.11/dist-packages (from segmentation-models-pytorch) (1.0.15)\n",
            "Requirement already satisfied: torch>=1.8 in /usr/local/lib/python3.11/dist-packages (from segmentation-models-pytorch) (2.6.0+cu124)\n",
            "Requirement already satisfied: torchvision>=0.9 in /usr/local/lib/python3.11/dist-packages (from segmentation-models-pytorch) (0.21.0+cu124)\n",
            "Requirement already satisfied: tqdm>=4.42.1 in /usr/local/lib/python3.11/dist-packages (from segmentation-models-pytorch) (4.67.1)\n",
            "Requirement already satisfied: filelock in /usr/local/lib/python3.11/dist-packages (from huggingface-hub>=0.24->segmentation-models-pytorch) (3.18.0)\n",
            "Requirement already satisfied: fsspec>=2023.5.0 in /usr/local/lib/python3.11/dist-packages (from huggingface-hub>=0.24->segmentation-models-pytorch) (2025.3.2)\n",
            "Requirement already satisfied: packaging>=20.9 in /usr/local/lib/python3.11/dist-packages (from huggingface-hub>=0.24->segmentation-models-pytorch) (24.2)\n",
            "Requirement already satisfied: pyyaml>=5.1 in /usr/local/lib/python3.11/dist-packages (from huggingface-hub>=0.24->segmentation-models-pytorch) (6.0.2)\n",
            "Requirement already satisfied: requests in /usr/local/lib/python3.11/dist-packages (from huggingface-hub>=0.24->segmentation-models-pytorch) (2.32.3)\n",
            "Requirement already satisfied: typing-extensions>=3.7.4.3 in /usr/local/lib/python3.11/dist-packages (from huggingface-hub>=0.24->segmentation-models-pytorch) (4.13.2)\n",
            "Requirement already satisfied: networkx in /usr/local/lib/python3.11/dist-packages (from torch>=1.8->segmentation-models-pytorch) (3.4.2)\n",
            "Requirement already satisfied: jinja2 in /usr/local/lib/python3.11/dist-packages (from torch>=1.8->segmentation-models-pytorch) (3.1.6)\n",
            "Collecting nvidia-cuda-nvrtc-cu12==12.4.127 (from torch>=1.8->segmentation-models-pytorch)\n",
            "  Downloading nvidia_cuda_nvrtc_cu12-12.4.127-py3-none-manylinux2014_x86_64.whl.metadata (1.5 kB)\n",
            "Collecting nvidia-cuda-runtime-cu12==12.4.127 (from torch>=1.8->segmentation-models-pytorch)\n",
            "  Downloading nvidia_cuda_runtime_cu12-12.4.127-py3-none-manylinux2014_x86_64.whl.metadata (1.5 kB)\n",
            "Collecting nvidia-cuda-cupti-cu12==12.4.127 (from torch>=1.8->segmentation-models-pytorch)\n",
            "  Downloading nvidia_cuda_cupti_cu12-12.4.127-py3-none-manylinux2014_x86_64.whl.metadata (1.6 kB)\n",
            "Collecting nvidia-cudnn-cu12==9.1.0.70 (from torch>=1.8->segmentation-models-pytorch)\n",
            "  Downloading nvidia_cudnn_cu12-9.1.0.70-py3-none-manylinux2014_x86_64.whl.metadata (1.6 kB)\n",
            "Collecting nvidia-cublas-cu12==12.4.5.8 (from torch>=1.8->segmentation-models-pytorch)\n",
            "  Downloading nvidia_cublas_cu12-12.4.5.8-py3-none-manylinux2014_x86_64.whl.metadata (1.5 kB)\n",
            "Collecting nvidia-cufft-cu12==11.2.1.3 (from torch>=1.8->segmentation-models-pytorch)\n",
            "  Downloading nvidia_cufft_cu12-11.2.1.3-py3-none-manylinux2014_x86_64.whl.metadata (1.5 kB)\n",
            "Collecting nvidia-curand-cu12==10.3.5.147 (from torch>=1.8->segmentation-models-pytorch)\n",
            "  Downloading nvidia_curand_cu12-10.3.5.147-py3-none-manylinux2014_x86_64.whl.metadata (1.5 kB)\n",
            "Collecting nvidia-cusolver-cu12==11.6.1.9 (from torch>=1.8->segmentation-models-pytorch)\n",
            "  Downloading nvidia_cusolver_cu12-11.6.1.9-py3-none-manylinux2014_x86_64.whl.metadata (1.6 kB)\n",
            "Collecting nvidia-cusparse-cu12==12.3.1.170 (from torch>=1.8->segmentation-models-pytorch)\n",
            "  Downloading nvidia_cusparse_cu12-12.3.1.170-py3-none-manylinux2014_x86_64.whl.metadata (1.6 kB)\n",
            "Requirement already satisfied: nvidia-cusparselt-cu12==0.6.2 in /usr/local/lib/python3.11/dist-packages (from torch>=1.8->segmentation-models-pytorch) (0.6.2)\n",
            "Requirement already satisfied: nvidia-nccl-cu12==2.21.5 in /usr/local/lib/python3.11/dist-packages (from torch>=1.8->segmentation-models-pytorch) (2.21.5)\n",
            "Requirement already satisfied: nvidia-nvtx-cu12==12.4.127 in /usr/local/lib/python3.11/dist-packages (from torch>=1.8->segmentation-models-pytorch) (12.4.127)\n",
            "Collecting nvidia-nvjitlink-cu12==12.4.127 (from torch>=1.8->segmentation-models-pytorch)\n",
            "  Downloading nvidia_nvjitlink_cu12-12.4.127-py3-none-manylinux2014_x86_64.whl.metadata (1.5 kB)\n",
            "Requirement already satisfied: triton==3.2.0 in /usr/local/lib/python3.11/dist-packages (from torch>=1.8->segmentation-models-pytorch) (3.2.0)\n",
            "Requirement already satisfied: sympy==1.13.1 in /usr/local/lib/python3.11/dist-packages (from torch>=1.8->segmentation-models-pytorch) (1.13.1)\n",
            "Requirement already satisfied: mpmath<1.4,>=1.1.0 in /usr/local/lib/python3.11/dist-packages (from sympy==1.13.1->torch>=1.8->segmentation-models-pytorch) (1.3.0)\n",
            "Requirement already satisfied: MarkupSafe>=2.0 in /usr/local/lib/python3.11/dist-packages (from jinja2->torch>=1.8->segmentation-models-pytorch) (3.0.2)\n",
            "Requirement already satisfied: charset-normalizer<4,>=2 in /usr/local/lib/python3.11/dist-packages (from requests->huggingface-hub>=0.24->segmentation-models-pytorch) (3.4.2)\n",
            "Requirement already satisfied: idna<4,>=2.5 in /usr/local/lib/python3.11/dist-packages (from requests->huggingface-hub>=0.24->segmentation-models-pytorch) (3.10)\n",
            "Requirement already satisfied: urllib3<3,>=1.21.1 in /usr/local/lib/python3.11/dist-packages (from requests->huggingface-hub>=0.24->segmentation-models-pytorch) (2.4.0)\n",
            "Requirement already satisfied: certifi>=2017.4.17 in /usr/local/lib/python3.11/dist-packages (from requests->huggingface-hub>=0.24->segmentation-models-pytorch) (2025.4.26)\n",
            "Downloading segmentation_models_pytorch-0.5.0-py3-none-any.whl (154 kB)\n",
            "\u001b[2K   \u001b[90m━━━━━━━━━━━━━━━━━━━━━━━━━━━━━━━━━━━━━━━━\u001b[0m \u001b[32m154.8/154.8 kB\u001b[0m \u001b[31m12.1 MB/s\u001b[0m eta \u001b[36m0:00:00\u001b[0m\n",
            "\u001b[?25hDownloading nvidia_cublas_cu12-12.4.5.8-py3-none-manylinux2014_x86_64.whl (363.4 MB)\n",
            "\u001b[2K   \u001b[90m━━━━━━━━━━━━━━━━━━━━━━━━━━━━━━━━━━━━━━━━\u001b[0m \u001b[32m363.4/363.4 MB\u001b[0m \u001b[31m4.4 MB/s\u001b[0m eta \u001b[36m0:00:00\u001b[0m\n",
            "\u001b[?25hDownloading nvidia_cuda_cupti_cu12-12.4.127-py3-none-manylinux2014_x86_64.whl (13.8 MB)\n",
            "\u001b[2K   \u001b[90m━━━━━━━━━━━━━━━━━━━━━━━━━━━━━━━━━━━━━━━━\u001b[0m \u001b[32m13.8/13.8 MB\u001b[0m \u001b[31m108.9 MB/s\u001b[0m eta \u001b[36m0:00:00\u001b[0m\n",
            "\u001b[?25hDownloading nvidia_cuda_nvrtc_cu12-12.4.127-py3-none-manylinux2014_x86_64.whl (24.6 MB)\n",
            "\u001b[2K   \u001b[90m━━━━━━━━━━━━━━━━━━━━━━━━━━━━━━━━━━━━━━━━\u001b[0m \u001b[32m24.6/24.6 MB\u001b[0m \u001b[31m79.7 MB/s\u001b[0m eta \u001b[36m0:00:00\u001b[0m\n",
            "\u001b[?25hDownloading nvidia_cuda_runtime_cu12-12.4.127-py3-none-manylinux2014_x86_64.whl (883 kB)\n",
            "\u001b[2K   \u001b[90m━━━━━━━━━━━━━━━━━━━━━━━━━━━━━━━━━━━━━━━━\u001b[0m \u001b[32m883.7/883.7 kB\u001b[0m \u001b[31m58.8 MB/s\u001b[0m eta \u001b[36m0:00:00\u001b[0m\n",
            "\u001b[?25hDownloading nvidia_cudnn_cu12-9.1.0.70-py3-none-manylinux2014_x86_64.whl (664.8 MB)\n",
            "\u001b[2K   \u001b[90m━━━━━━━━━━━━━━━━━━━━━━━━━━━━━━━━━━━━━━━━\u001b[0m \u001b[32m664.8/664.8 MB\u001b[0m \u001b[31m2.9 MB/s\u001b[0m eta \u001b[36m0:00:00\u001b[0m\n",
            "\u001b[?25hDownloading nvidia_cufft_cu12-11.2.1.3-py3-none-manylinux2014_x86_64.whl (211.5 MB)\n",
            "\u001b[2K   \u001b[90m━━━━━━━━━━━━━━━━━━━━━━━━━━━━━━━━━━━━━━━━\u001b[0m \u001b[32m211.5/211.5 MB\u001b[0m \u001b[31m5.7 MB/s\u001b[0m eta \u001b[36m0:00:00\u001b[0m\n",
            "\u001b[?25hDownloading nvidia_curand_cu12-10.3.5.147-py3-none-manylinux2014_x86_64.whl (56.3 MB)\n",
            "\u001b[2K   \u001b[90m━━━━━━━━━━━━━━━━━━━━━━━━━━━━━━━━━━━━━━━━\u001b[0m \u001b[32m56.3/56.3 MB\u001b[0m \u001b[31m14.9 MB/s\u001b[0m eta \u001b[36m0:00:00\u001b[0m\n",
            "\u001b[?25hDownloading nvidia_cusolver_cu12-11.6.1.9-py3-none-manylinux2014_x86_64.whl (127.9 MB)\n",
            "\u001b[2K   \u001b[90m━━━━━━━━━━━━━━━━━━━━━━━━━━━━━━━━━━━━━━━━\u001b[0m \u001b[32m127.9/127.9 MB\u001b[0m \u001b[31m7.8 MB/s\u001b[0m eta \u001b[36m0:00:00\u001b[0m\n",
            "\u001b[?25hDownloading nvidia_cusparse_cu12-12.3.1.170-py3-none-manylinux2014_x86_64.whl (207.5 MB)\n",
            "\u001b[2K   \u001b[90m━━━━━━━━━━━━━━━━━━━━━━━━━━━━━━━━━━━━━━━━\u001b[0m \u001b[32m207.5/207.5 MB\u001b[0m \u001b[31m6.2 MB/s\u001b[0m eta \u001b[36m0:00:00\u001b[0m\n",
            "\u001b[?25hDownloading nvidia_nvjitlink_cu12-12.4.127-py3-none-manylinux2014_x86_64.whl (21.1 MB)\n",
            "\u001b[2K   \u001b[90m━━━━━━━━━━━━━━━━━━━━━━━━━━━━━━━━━━━━━━━━\u001b[0m \u001b[32m21.1/21.1 MB\u001b[0m \u001b[31m91.6 MB/s\u001b[0m eta \u001b[36m0:00:00\u001b[0m\n",
            "\u001b[?25hInstalling collected packages: nvidia-nvjitlink-cu12, nvidia-curand-cu12, nvidia-cufft-cu12, nvidia-cuda-runtime-cu12, nvidia-cuda-nvrtc-cu12, nvidia-cuda-cupti-cu12, nvidia-cublas-cu12, nvidia-cusparse-cu12, nvidia-cudnn-cu12, nvidia-cusolver-cu12, segmentation-models-pytorch\n",
            "  Attempting uninstall: nvidia-nvjitlink-cu12\n",
            "    Found existing installation: nvidia-nvjitlink-cu12 12.5.82\n",
            "    Uninstalling nvidia-nvjitlink-cu12-12.5.82:\n",
            "      Successfully uninstalled nvidia-nvjitlink-cu12-12.5.82\n",
            "  Attempting uninstall: nvidia-curand-cu12\n",
            "    Found existing installation: nvidia-curand-cu12 10.3.6.82\n",
            "    Uninstalling nvidia-curand-cu12-10.3.6.82:\n",
            "      Successfully uninstalled nvidia-curand-cu12-10.3.6.82\n",
            "  Attempting uninstall: nvidia-cufft-cu12\n",
            "    Found existing installation: nvidia-cufft-cu12 11.2.3.61\n",
            "    Uninstalling nvidia-cufft-cu12-11.2.3.61:\n",
            "      Successfully uninstalled nvidia-cufft-cu12-11.2.3.61\n",
            "  Attempting uninstall: nvidia-cuda-runtime-cu12\n",
            "    Found existing installation: nvidia-cuda-runtime-cu12 12.5.82\n",
            "    Uninstalling nvidia-cuda-runtime-cu12-12.5.82:\n",
            "      Successfully uninstalled nvidia-cuda-runtime-cu12-12.5.82\n",
            "  Attempting uninstall: nvidia-cuda-nvrtc-cu12\n",
            "    Found existing installation: nvidia-cuda-nvrtc-cu12 12.5.82\n",
            "    Uninstalling nvidia-cuda-nvrtc-cu12-12.5.82:\n",
            "      Successfully uninstalled nvidia-cuda-nvrtc-cu12-12.5.82\n",
            "  Attempting uninstall: nvidia-cuda-cupti-cu12\n",
            "    Found existing installation: nvidia-cuda-cupti-cu12 12.5.82\n",
            "    Uninstalling nvidia-cuda-cupti-cu12-12.5.82:\n",
            "      Successfully uninstalled nvidia-cuda-cupti-cu12-12.5.82\n",
            "  Attempting uninstall: nvidia-cublas-cu12\n",
            "    Found existing installation: nvidia-cublas-cu12 12.5.3.2\n",
            "    Uninstalling nvidia-cublas-cu12-12.5.3.2:\n",
            "      Successfully uninstalled nvidia-cublas-cu12-12.5.3.2\n",
            "  Attempting uninstall: nvidia-cusparse-cu12\n",
            "    Found existing installation: nvidia-cusparse-cu12 12.5.1.3\n",
            "    Uninstalling nvidia-cusparse-cu12-12.5.1.3:\n",
            "      Successfully uninstalled nvidia-cusparse-cu12-12.5.1.3\n",
            "  Attempting uninstall: nvidia-cudnn-cu12\n",
            "    Found existing installation: nvidia-cudnn-cu12 9.3.0.75\n",
            "    Uninstalling nvidia-cudnn-cu12-9.3.0.75:\n",
            "      Successfully uninstalled nvidia-cudnn-cu12-9.3.0.75\n",
            "  Attempting uninstall: nvidia-cusolver-cu12\n",
            "    Found existing installation: nvidia-cusolver-cu12 11.6.3.83\n",
            "    Uninstalling nvidia-cusolver-cu12-11.6.3.83:\n",
            "      Successfully uninstalled nvidia-cusolver-cu12-11.6.3.83\n",
            "Successfully installed nvidia-cublas-cu12-12.4.5.8 nvidia-cuda-cupti-cu12-12.4.127 nvidia-cuda-nvrtc-cu12-12.4.127 nvidia-cuda-runtime-cu12-12.4.127 nvidia-cudnn-cu12-9.1.0.70 nvidia-cufft-cu12-11.2.1.3 nvidia-curand-cu12-10.3.5.147 nvidia-cusolver-cu12-11.6.1.9 nvidia-cusparse-cu12-12.3.1.170 nvidia-nvjitlink-cu12-12.4.127 segmentation-models-pytorch-0.5.0\n"
          ]
        }
      ],
      "execution_count": null
    },
    {
      "cell_type": "code",
      "source": [
        "import os.path as osp\n",
        "from glob import glob\n",
        "import json\n",
        "import random\n",
        "import cv2\n",
        "import numpy as np\n",
        "import pandas as pd\n",
        "import matplotlib.pyplot as plt\n",
        "from tqdm.notebook import tqdm\n",
        "from sklearn.model_selection import train_test_split\n",
        "\n",
        "import torch\n",
        "import torch.optim as optim\n",
        "import torch.nn as nn\n",
        "import torch.utils.data as data\n",
        "\n",
        "import albumentations as A\n",
        "from albumentations.pytorch import ToTensorV2\n",
        "\n",
        "import segmentation_models_pytorch as smp\n",
        "from segmentation_models_pytorch.encoders import get_preprocessing_fn"
      ],
      "metadata": {
        "_uuid": "8f2839f25d086af736a60e9eeb907d3b93b6e0e5",
        "_cell_guid": "b1076dfc-b9ad-4769-8c92-a6c4dae69d19",
        "execution": {
          "iopub.status.busy": "2025-05-21T17:18:26.421416Z",
          "iopub.execute_input": "2025-05-21T17:18:26.421715Z",
          "iopub.status.idle": "2025-05-21T17:18:29.486419Z",
          "shell.execute_reply.started": "2025-05-21T17:18:26.421675Z",
          "shell.execute_reply": "2025-05-21T17:18:29.485553Z"
        },
        "trusted": true,
        "id": "BKVBAHO27duJ"
      },
      "outputs": [],
      "execution_count": null
    },
    {
      "cell_type": "code",
      "source": [
        "from google.colab import drive\n",
        "drive.mount('/content/drive')"
      ],
      "metadata": {
        "colab": {
          "base_uri": "https://localhost:8080/"
        },
        "id": "z8TOa8OH8OrQ",
        "outputId": "d0a87572-c861-4d84-ee93-eba642683a70"
      },
      "execution_count": null,
      "outputs": [
        {
          "output_type": "stream",
          "name": "stdout",
          "text": [
            "Mounted at /content/drive\n"
          ]
        }
      ]
    },
    {
      "cell_type": "code",
      "source": [
        "rootpath = \"/content/drive/MyDrive/driving-segmentation-inclass-competition\"\n",
        "train_dir = osp.join(rootpath, \"train\")\n",
        "test_dir = osp.join(rootpath, \"test\")\n",
        "config_path = osp.join(rootpath, \"config.json\")\n",
        "with open(config_path) as f:\n",
        "    config = json.load(f)\n",
        "\n",
        "class_num = len(config['labels'])\n",
        "img_size = (1920, 1080)"
      ],
      "metadata": {
        "execution": {
          "iopub.status.busy": "2025-05-21T17:18:29.487612Z",
          "iopub.execute_input": "2025-05-21T17:18:29.487826Z",
          "iopub.status.idle": "2025-05-21T17:18:29.494411Z",
          "shell.execute_reply.started": "2025-05-21T17:18:29.487794Z",
          "shell.execute_reply": "2025-05-21T17:18:29.493816Z"
        },
        "trusted": true,
        "id": "9JENK2y97duK"
      },
      "outputs": [],
      "execution_count": null
    },
    {
      "cell_type": "code",
      "source": [
        "# словарь для хранения информации о метках с идентификатором в качестве ключа\n",
        "labels_map = {}\n",
        "for label_dict in config['labels']:\n",
        "    labels_map[label_dict['id']] = label_dict\n",
        "    del label_dict['id']\n",
        "labels_map"
      ],
      "metadata": {
        "execution": {
          "iopub.status.busy": "2025-05-21T17:18:29.496315Z",
          "iopub.execute_input": "2025-05-21T17:18:29.496755Z",
          "iopub.status.idle": "2025-05-21T17:18:29.510309Z",
          "shell.execute_reply.started": "2025-05-21T17:18:29.496719Z",
          "shell.execute_reply": "2025-05-21T17:18:29.509525Z"
        },
        "trusted": true,
        "colab": {
          "base_uri": "https://localhost:8080/"
        },
        "id": "Xbg8gCDp7duL",
        "outputId": "2905efe8-f0b9-4ecc-9581-ee6c42ccbcfe"
      },
      "outputs": [
        {
          "output_type": "execute_result",
          "data": {
            "text/plain": [
              "{1: {'label': 'vehicle', 'color': [0, 0, 142]},\n",
              " 2: {'label': 'pedestrian', 'color': [220, 20, 60]},\n",
              " 3: {'label': 'road', 'color': [128, 64, 128]},\n",
              " 4: {'label': 'sidewalk', 'color': [244, 35, 232]},\n",
              " 5: {'label': 'bicycle', 'color': [119, 11, 32]},\n",
              " 6: {'label': 'motorcycle', 'color': [0, 0, 230]},\n",
              " 7: {'label': 'building', 'color': [70, 70, 70]},\n",
              " 8: {'label': 'terrain', 'color': [152, 251, 152]},\n",
              " 9: {'label': 'vegetation', 'color': [107, 142, 35]},\n",
              " 10: {'label': 'pole', 'color': [153, 153, 153]},\n",
              " 11: {'label': 'traffic light', 'color': [250, 170, 30]},\n",
              " 12: {'label': 'traffic sign', 'color': [220, 220, 0]}}"
            ]
          },
          "metadata": {},
          "execution_count": 9
        }
      ],
      "execution_count": null
    },
    {
      "cell_type": "code",
      "source": [
        "img_list, anno_list = sorted(glob(osp.join(train_dir, 'frames/*'))), sorted(glob(osp.join(train_dir, 'labels/*')))\n",
        "len(img_list), len(anno_list)"
      ],
      "metadata": {
        "execution": {
          "iopub.status.busy": "2025-05-21T17:18:29.511293Z",
          "iopub.execute_input": "2025-05-21T17:18:29.511529Z",
          "iopub.status.idle": "2025-05-21T17:18:29.558750Z",
          "shell.execute_reply.started": "2025-05-21T17:18:29.511495Z",
          "shell.execute_reply": "2025-05-21T17:18:29.558108Z"
        },
        "trusted": true,
        "colab": {
          "base_uri": "https://localhost:8080/"
        },
        "id": "6z-V48Kq7duM",
        "outputId": "00a8cf39-ef5b-467e-a78c-c5e6ae5f5d89"
      },
      "outputs": [
        {
          "output_type": "execute_result",
          "data": {
            "text/plain": [
              "(3500, 3500)"
            ]
          },
          "metadata": {},
          "execution_count": 10
        }
      ],
      "execution_count": null
    },
    {
      "cell_type": "markdown",
      "source": [
        "# Датасет"
      ],
      "metadata": {
        "execution": {
          "iopub.status.busy": "2021-12-15T20:42:00.878921Z",
          "iopub.execute_input": "2021-12-15T20:42:00.879252Z",
          "iopub.status.idle": "2021-12-15T20:42:00.884049Z",
          "shell.execute_reply.started": "2021-12-15T20:42:00.87922Z",
          "shell.execute_reply": "2021-12-15T20:42:00.882903Z"
        },
        "id": "X4FvT27E7duM"
      }
    },
    {
      "cell_type": "code",
      "source": [
        "# среднее значение цвета и стандартное отклонение\n",
        "input_size = 512\n",
        "encoder = 'resnet34'\n",
        "\n",
        "# получаем функцию предварительной обработки для pytorch-segmentation\n",
        "preprocess_input = get_preprocessing_fn(encoder, pretrained='imagenet')\n",
        "\n",
        "# для обучения\n",
        "train_transform = A.Compose([\n",
        "    A.Rotate((-10, 10)),\n",
        "    A.HorizontalFlip(p=0.5),\n",
        "    A.Resize(input_size, input_size),\n",
        "    A.Lambda(image=preprocess_input),\n",
        "    ToTensorV2(),\n",
        "])\n",
        "\n",
        "# для проверки\n",
        "val_transform = A.Compose([\n",
        "    A.Resize(input_size, input_size),\n",
        "    A.Lambda(image=preprocess_input),\n",
        "    ToTensorV2(),\n",
        "])"
      ],
      "metadata": {
        "execution": {
          "iopub.status.busy": "2025-05-21T17:18:29.559724Z",
          "iopub.execute_input": "2025-05-21T17:18:29.559960Z",
          "iopub.status.idle": "2025-05-21T17:18:29.566577Z",
          "shell.execute_reply.started": "2025-05-21T17:18:29.559928Z",
          "shell.execute_reply": "2025-05-21T17:18:29.565807Z"
        },
        "trusted": true,
        "colab": {
          "base_uri": "https://localhost:8080/",
          "height": 153,
          "referenced_widgets": [
            "983c49302e144ea1a5f185484344e464",
            "1ae0f9fc854141d6a6bd9bd8f53cafb3",
            "ebc1b10633204cdb916d84691fb1da20",
            "8f51a68dc7a64c4f85f3a64394ca2d9c",
            "92a9c923389040dd97cdede639246021",
            "faeeb6a42d634f108c9a99144d929440",
            "619284e05b134f359bd1a1e0ab9f8a76",
            "662b0b547e4f48b3882a9bdc0786c36e",
            "7d0e67d8c1bf43bc90ff2be50ccd5470",
            "e99e7a04ee0747bc8f5e52fb30a61a21",
            "a65ff8a22386477991e043afa38bb487"
          ]
        },
        "id": "ixC3LGKM7duM",
        "outputId": "0e9ba6c8-9d36-4187-ac9b-5e6a2b3cb626"
      },
      "outputs": [
        {
          "output_type": "stream",
          "name": "stderr",
          "text": [
            "/usr/local/lib/python3.11/dist-packages/huggingface_hub/utils/_auth.py:94: UserWarning: \n",
            "The secret `HF_TOKEN` does not exist in your Colab secrets.\n",
            "To authenticate with the Hugging Face Hub, create a token in your settings tab (https://huggingface.co/settings/tokens), set it as secret in your Google Colab and restart your session.\n",
            "You will be able to reuse this secret in all of your notebooks.\n",
            "Please note that authentication is recommended but still optional to access public models or datasets.\n",
            "  warnings.warn(\n"
          ]
        },
        {
          "output_type": "display_data",
          "data": {
            "text/plain": [
              "config.json:   0%|          | 0.00/156 [00:00<?, ?B/s]"
            ],
            "application/vnd.jupyter.widget-view+json": {
              "version_major": 2,
              "version_minor": 0,
              "model_id": "983c49302e144ea1a5f185484344e464"
            }
          },
          "metadata": {}
        }
      ],
      "execution_count": null
    },
    {
      "cell_type": "code",
      "source": [
        "class Dataset(data.Dataset):\n",
        "\n",
        "    def __init__(self, img_list, anno_list=None, transform=None):\n",
        "        self.img_list = img_list\n",
        "        self.anno_list = anno_list\n",
        "        self.transform = transform\n",
        "\n",
        "    def __len__(self):\n",
        "        '''Возвращает количество изображений'''\n",
        "        return len(self.img_list)\n",
        "\n",
        "    def __getitem__(self, index):\n",
        "        '''\n",
        "        Получает изображение и аннотацию в формате Tensor после предварительной обработки\n",
        "        '''\n",
        "        # 1. Загрузка изображения\n",
        "        image_file_path = self.img_list[index]\n",
        "        img = cv2.imread(image_file_path)   # [высота][ширина][цвет RGB]\n",
        "        img = cv2.cvtColor(img, cv2.COLOR_BGR2RGB)\n",
        "\n",
        "        # 2. Загрузка аннотации (если есть)\n",
        "        anno_class_img = torch.tensor(float('nan'))\n",
        "        if self.anno_list is not None:\n",
        "            anno_file_path = self.anno_list[index]\n",
        "            anno_class_img = cv2.imread(anno_file_path, cv2.IMREAD_GRAYSCALE)  # [высота][ширина]\n",
        "\n",
        "        # 3. Применение трансформаций (если заданы)\n",
        "        if self.transform is not None:\n",
        "            if self.anno_list is not None:\n",
        "                transformed = self.transform(image=img, mask=anno_class_img)\n",
        "                img, anno_class_img = transformed['image'], transformed['mask']\n",
        "            else:\n",
        "                transformed = self.transform(image=img)\n",
        "                img = transformed['image']\n",
        "\n",
        "        return img.float(), anno_class_img.float()"
      ],
      "metadata": {
        "execution": {
          "iopub.status.busy": "2025-05-21T17:18:29.567565Z",
          "iopub.execute_input": "2025-05-21T17:18:29.567780Z",
          "iopub.status.idle": "2025-05-21T17:18:29.578417Z",
          "shell.execute_reply.started": "2025-05-21T17:18:29.567752Z",
          "shell.execute_reply": "2025-05-21T17:18:29.577748Z"
        },
        "trusted": true,
        "id": "VBYT5A217duN"
      },
      "outputs": [],
      "execution_count": null
    },
    {
      "cell_type": "code",
      "source": [
        "# Проверка работоспособности\n",
        "\n",
        "# Разделение данных на обучающую и валидационную выборки\n",
        "train_img_list, val_img_list, train_anno_list, val_anno_list = train_test_split(img_list, anno_list)\n",
        "\n",
        "# Создание датасетов\n",
        "train_dataset = Dataset(train_img_list, train_anno_list, transform=train_transform)\n",
        "val_dataset = Dataset(val_img_list, val_anno_list, transform=val_transform)\n",
        "\n",
        "# Пример извлечения данных\n",
        "img, anno_class_img = val_dataset[0]\n",
        "print(img.shape)\n",
        "print(anno_class_img.shape)\n",
        "\n",
        "# Отображение изображения\n",
        "img_val = img.numpy().transpose((1, 2, 0))\n",
        "plt.imshow(img_val)\n",
        "plt.show()\n",
        "\n",
        "# Отображение аннотации\n",
        "anno_class_img_val = anno_class_img.numpy()\n",
        "plt.imshow(anno_class_img_val)\n",
        "plt.show()"
      ],
      "metadata": {
        "execution": {
          "iopub.status.busy": "2025-05-21T17:18:29.579318Z",
          "iopub.execute_input": "2025-05-21T17:18:29.579544Z",
          "iopub.status.idle": "2025-05-21T17:18:30.053985Z",
          "shell.execute_reply.started": "2025-05-21T17:18:29.579512Z",
          "shell.execute_reply": "2025-05-21T17:18:30.051962Z"
        },
        "trusted": true,
        "colab": {
          "base_uri": "https://localhost:8080/",
          "height": 905
        },
        "id": "etKsbLgN7duN",
        "outputId": "d30d8f41-7719-4c13-b920-840b229fe1e3"
      },
      "outputs": [
        {
          "output_type": "stream",
          "name": "stderr",
          "text": [
            "WARNING:matplotlib.image:Clipping input data to the valid range for imshow with RGB data ([0..1] for floats or [0..255] for integers). Got range [-2.117904..2.64].\n"
          ]
        },
        {
          "output_type": "stream",
          "name": "stdout",
          "text": [
            "torch.Size([3, 512, 512])\n",
            "torch.Size([512, 512])\n"
          ]
        },
        {
          "output_type": "display_data",
          "data": {
            "text/plain": [
              "<Figure size 640x480 with 1 Axes>"
            ],
            "image/png": "[encoded data removed]"
          },
          "metadata": {}
        },
        {
          "output_type": "display_data",
          "data": {
            "text/plain": [
              "<Figure size 640x480 with 1 Axes>"
            ],
            "image/png": "[encoded data removed]"
          },
          "metadata": {}
        }
      ],
      "execution_count": null
    },
    {
      "cell_type": "markdown",
      "source": [
        "# Создание загрузчика данных"
      ],
      "metadata": {
        "id": "9cDazncS7duO"
      }
    },
    {
      "cell_type": "code",
      "source": [
        "batch_size = 28\n",
        "\n",
        "train_dataloader = data.DataLoader(\n",
        "    train_dataset, batch_size=batch_size, shuffle=True)\n",
        "\n",
        "val_dataloader = data.DataLoader(\n",
        "    val_dataset, batch_size=batch_size, shuffle=False)"
      ],
      "metadata": {
        "execution": {
          "iopub.status.busy": "2025-05-21T17:18:30.055523Z",
          "iopub.execute_input": "2025-05-21T17:18:30.056725Z",
          "iopub.status.idle": "2025-05-21T17:18:30.062752Z",
          "shell.execute_reply.started": "2025-05-21T17:18:30.056654Z",
          "shell.execute_reply": "2025-05-21T17:18:30.061945Z"
        },
        "trusted": true,
        "id": "TKvUS7zB7duO"
      },
      "outputs": [],
      "execution_count": null
    },
    {
      "cell_type": "code",
      "source": [
        "# Проверка\n",
        "batch_iterator = iter(train_dataloader)  # преобразовываем в итератор\n",
        "imges, anno_class_imges = next(batch_iterator)  # извлекаем первый элемент\n",
        "print(imges.size())  # torch.Size([8, 3, 512, 512])\n",
        "print(anno_class_imges.size())  # torch.Size([8, 512, 512])"
      ],
      "metadata": {
        "execution": {
          "iopub.status.busy": "2025-05-21T17:18:30.065261Z",
          "iopub.execute_input": "2025-05-21T17:18:30.065949Z",
          "iopub.status.idle": "2025-05-21T17:18:32.358079Z",
          "shell.execute_reply.started": "2025-05-21T17:18:30.065923Z",
          "shell.execute_reply": "2025-05-21T17:18:32.357333Z"
        },
        "trusted": true,
        "colab": {
          "base_uri": "https://localhost:8080/"
        },
        "id": "Cy1DsfBI7duQ",
        "outputId": "ccacff8e-8add-4bbb-f8bd-6bbb996ac58c"
      },
      "outputs": [
        {
          "output_type": "stream",
          "name": "stdout",
          "text": [
            "torch.Size([28, 3, 512, 512])\n",
            "torch.Size([28, 512, 512])\n"
          ]
        }
      ],
      "execution_count": null
    },
    {
      "cell_type": "markdown",
      "source": [
        "# Модель"
      ],
      "metadata": {
        "execution": {
          "iopub.status.busy": "2021-12-15T21:11:44.868506Z",
          "iopub.execute_input": "2021-12-15T21:11:44.868832Z",
          "iopub.status.idle": "2021-12-15T21:11:44.873295Z",
          "shell.execute_reply.started": "2021-12-15T21:11:44.868801Z",
          "shell.execute_reply": "2021-12-15T21:11:44.872651Z"
        },
        "id": "iBTCEopJ7duQ"
      }
    },
    {
      "cell_type": "markdown",
      "source": [
        "Создаём сегментационную нейросеть на основе архитектуры U-Net, используя библиотеку segmentation_models_pytorch (smp)"
      ],
      "metadata": {
        "id": "7Z56Y8c2Asra"
      }
    },
    {
      "cell_type": "code",
      "source": [
        "model = smp.Unet(\n",
        "    encoder_name=encoder,\n",
        "    encoder_weights=\"imagenet\",\n",
        "    in_channels=3,\n",
        "    classes=class_num+1,\n",
        ")"
      ],
      "metadata": {
        "execution": {
          "iopub.status.busy": "2025-05-21T17:18:32.359292Z",
          "iopub.execute_input": "2025-05-21T17:18:32.360018Z",
          "iopub.status.idle": "2025-05-21T17:18:32.920376Z",
          "shell.execute_reply.started": "2025-05-21T17:18:32.359977Z",
          "shell.execute_reply": "2025-05-21T17:18:32.919800Z"
        },
        "trusted": true,
        "colab": {
          "base_uri": "https://localhost:8080/",
          "height": 49,
          "referenced_widgets": [
            "08254f3fbacb4c4db6aea1e507eef4b2",
            "efce8b69a0b544f1b54ad575ca2e8f63",
            "d70bc6b14f94464bb78c5e60e54c11f9",
            "25887ba00d02461d9ddf6ea3f5b5cf55",
            "3a3a883bd5d14a3e9927bdcd5351ab1c",
            "467a03a26b5940c69eb465ad7dd1f321",
            "bd0800c42a6648e9b8ddf8a190a2abaa",
            "8ea9e1b2a53540da831cd58195c639ef",
            "eab31d46dc044c3da0c3f93498fc6b41",
            "925bdc7170f541baaed706eaa8e4c8df",
            "3585fd6c2090464ead3c407f74a68afd"
          ]
        },
        "id": "UPEfqBtW7duQ",
        "outputId": "217b27ec-85bb-4bef-cb63-fcecfa4c5e82"
      },
      "outputs": [
        {
          "output_type": "display_data",
          "data": {
            "text/plain": [
              "model.safetensors:   0%|          | 0.00/87.3M [00:00<?, ?B/s]"
            ],
            "application/vnd.jupyter.widget-view+json": {
              "version_major": 2,
              "version_minor": 0,
              "model_id": "08254f3fbacb4c4db6aea1e507eef4b2"
            }
          },
          "metadata": {}
        }
      ],
      "execution_count": null
    },
    {
      "cell_type": "markdown",
      "source": [
        "# Обучение модели"
      ],
      "metadata": {
        "execution": {
          "iopub.status.busy": "2021-12-15T21:20:14.348868Z",
          "iopub.execute_input": "2021-12-15T21:20:14.349212Z",
          "iopub.status.idle": "2021-12-15T21:20:14.354366Z",
          "shell.execute_reply.started": "2021-12-15T21:20:14.349177Z",
          "shell.execute_reply": "2021-12-15T21:20:14.353287Z"
        },
        "id": "lInTZKdR7duQ"
      }
    },
    {
      "cell_type": "code",
      "source": [
        "import torch\n",
        "import torch.optim as optim\n",
        "import torch.nn as nn\n",
        "from tqdm import tqdm\n",
        "import numpy as np # For calculations\n",
        "\n",
        "# --- User-defined Label Information (as before) ---\n",
        "label_info_dict = {\n",
        "    1: {'label': 'vehicle', 'color': [0, 0, 142]}, 2: {'label': 'pedestrian', 'color': [220, 20, 60]},\n",
        "    3: {'label': 'road', 'color': [128, 64, 128]}, 4: {'label': 'sidewalk', 'color': [244, 35, 232]},\n",
        "    5: {'label': 'bicycle', 'color': [119, 11, 32]}, 6: {'label': 'motorcycle', 'color': [0, 0, 230]},\n",
        "    7: {'label': 'building', 'color': [70, 70, 70]}, 8: {'label': 'terrain', 'color': [152, 251, 152]},\n",
        "    9: {'label': 'vegetation', 'color': [107, 142, 35]}, 10: {'label': 'pole', 'color': [153, 153, 153]},\n",
        "    11: {'label': 'traffic light', 'color': [250, 170, 30]}, 12: {'label': 'traffic sign', 'color': [220, 220, 0]}\n",
        "}\n",
        "\n",
        "# --- Helper Functions for F1 Score (Identical to previous version) ---\n",
        "def calculate_pixel_metrics_per_class(predictions, targets, num_classes, device):\n",
        "    # ... (same as before)\n",
        "    tp_per_class = torch.zeros(num_classes, device=device, dtype=torch.float)\n",
        "    fp_per_class = torch.zeros(num_classes, device=device, dtype=torch.float)\n",
        "    fn_per_class = torch.zeros(num_classes, device=device, dtype=torch.float)\n",
        "    for c_idx in range(num_classes):\n",
        "        pred_is_c = (predictions == c_idx)\n",
        "        target_is_c = (targets == c_idx)\n",
        "        tp_per_class[c_idx] += (pred_is_c & target_is_c).sum()\n",
        "        fp_per_class[c_idx] += (pred_is_c & ~target_is_c).sum()\n",
        "        fn_per_class[c_idx] += (~pred_is_c & target_is_c).sum()\n",
        "    return tp_per_class, fp_per_class, fn_per_class\n",
        "\n",
        "def calculate_f1_from_tp_fp_fn(tp, fp, fn, epsilon=1e-7):\n",
        "    # ... (same as before)\n",
        "    precision = tp / (tp + fp + epsilon)\n",
        "    recall = tp / (tp + fn + epsilon)\n",
        "    f1 = 2 * (precision * recall) / (precision + recall + epsilon)\n",
        "    f1 = torch.nan_to_num(f1, nan=0.0)\n",
        "    macro_f1 = f1.mean().item()\n",
        "    return f1, macro_f1\n",
        "\n",
        "# --- Assuming model, train_dataloader, val_dataloader are defined ---\n",
        "# Example:\n",
        "# model = YourSegmentationModel(num_classes=NUM_CLASSES)\n",
        "# train_dataloader = ... (Make sure this is your training dataloader)\n",
        "# val_dataloader = ...\n",
        "\n",
        "NUM_CLASSES = 13 # Assuming class 0 is background\n",
        "print(f\"Number of classes (including background if index 0 is used): {NUM_CLASSES}\")\n",
        "\n",
        "class_index_to_name_map = [\"background\"]\n",
        "for i in range(1, NUM_CLASSES):\n",
        "    if i in label_info_dict: class_index_to_name_map.append(label_info_dict[i]['label'])\n",
        "    else: class_index_to_name_map.append(f\"class_{i}\")\n",
        "\n",
        "device = torch.device(\"cuda\" if torch.cuda.is_available() else \"cpu\")\n",
        "print(\"使用デバイス：\", device)\n",
        "\n",
        "# --- Calculate Class Weights ---\n",
        "print(\"Calculating class weights from training data...\")\n",
        "# Ensure train_dataloader is defined and gives (images, annotation_masks)\n",
        "# It's important to iterate over the *entire* training dataset for accurate frequencies.\n",
        "class_pixel_counts = torch.zeros(NUM_CLASSES, dtype=torch.float64, device='cpu') # Accumulate on CPU for potentially large datasets\n",
        "total_pixels_in_dataset = 0\n",
        "\n",
        "# It's good practice to use a dataloader without shuffling for this calculation,\n",
        "# or ensure your main train_dataloader is iterated fully.\n",
        "# If your train_dataloader shuffles, the order of batches will change,\n",
        "# but the total counts will be the same if iterated fully.\n",
        "temp_train_loader_for_weights = train_dataloader # Use your existing train_dataloader\n",
        "\n",
        "for _, anno_class_imges_batch in tqdm(temp_train_loader_for_weights, desc=\"Counting class pixels\"):\n",
        "    # anno_class_imges_batch shape: (N, H, W)\n",
        "    anno_class_imges_batch = anno_class_imges_batch.to('cpu') # Move to CPU for counting if not already\n",
        "    total_pixels_in_dataset += anno_class_imges_batch.numel()\n",
        "    for c_idx in range(NUM_CLASSES):\n",
        "        class_pixel_counts[c_idx] += (anno_class_imges_batch == c_idx).sum()\n",
        "\n",
        "print(f\"Total pixels in dataset: {total_pixels_in_dataset}\")\n",
        "print(f\"Pixel counts per class: {class_pixel_counts.tolist()}\")\n",
        "\n",
        "# Calculate weights: Median Frequency Balancing or Inverse Frequency\n",
        "# Method 1: Inverse Frequency (simpler)\n",
        "# class_weights = 1.0 / (class_pixel_counts + 1e-8) # Add epsilon to avoid div by zero\n",
        "# class_weights = class_weights / class_weights.sum() * NUM_CLASSES # Normalize\n",
        "\n",
        "# Method 2: Effective Number of Samples (ENS) like weighting (often robust)\n",
        "# beta = 0.9999 # Hyperparameter, can be tuned\n",
        "# effective_num = 1.0 - torch.pow(beta, class_pixel_counts)\n",
        "# class_weights = (1.0 - beta) / (effective_num + 1e-8)\n",
        "# class_weights = class_weights / torch.sum(class_weights) * NUM_CLASSES\n",
        "\n",
        "# Method 3: Standard Inverse Class Frequency, normalized by total pixels\n",
        "# This is a common and effective method.\n",
        "# total_pixels = class_pixel_counts.sum() # This is total_pixels_in_dataset\n",
        "class_frequencies = class_pixel_counts / total_pixels_in_dataset\n",
        "class_weights = 1.0 / (class_frequencies + 1e-8) # Add epsilon for stability\n",
        "# Normalize weights (optional, but can help stabilize training)\n",
        "# class_weights = class_weights / class_weights.mean() # Normalize so mean is 1\n",
        "# Or normalize so they sum to NUM_CLASSES or 1\n",
        "class_weights = class_weights / class_weights.sum() * NUM_CLASSES\n",
        "\n",
        "\n",
        "# Ensure no NaN or Inf weights if a class had zero pixels (shouldn't happen for defined classes)\n",
        "class_weights = torch.nan_to_num(class_weights, nan=1.0, posinf=1.0, neginf=1.0) # Replace NaN/inf with 1.0\n",
        "\n",
        "print(f\"Calculated class weights: {class_weights.tolist()}\")\n",
        "class_weights_tensor = class_weights.float().to(device) # Move to the target device\n",
        "\n",
        "# --- End Calculate Class Weights ---\n",
        "\n",
        "num_epochs = 1 # Or your desired number of epochs\n",
        "optimizer = optim.Adam(model.parameters(), lr=1e-3)\n",
        "\n",
        "# !!! Use the calculated weights in your criterion !!!\n",
        "criterion = nn.CrossEntropyLoss(weight=class_weights_tensor)\n",
        "# If you have an ignore_index (e.g., for a specific unlabeled class like 255), add it:\n",
        "# criterion = nn.CrossEntropyLoss(weight=class_weights_tensor, ignore_index=YOUR_IGNORE_INDEX)\n",
        "\n",
        "\n",
        "model = model.to(device)\n",
        "best_val_loss = float('inf')\n",
        "best_val_macro_f1 = 0.0\n",
        "\n",
        "# --- Training Loop (largely the same, but criterion now has weights) ---\n",
        "for epoch in range(num_epochs):\n",
        "    epoch_train_loss = 0.0\n",
        "    epoch_train_tp_total = torch.zeros(NUM_CLASSES, device=device, dtype=torch.float)\n",
        "    epoch_train_fp_total = torch.zeros(NUM_CLASSES, device=device, dtype=torch.float)\n",
        "    epoch_train_fn_total = torch.zeros(NUM_CLASSES, device=device, dtype=torch.float)\n",
        "\n",
        "    print('-------------')\n",
        "    print(f'epoch {epoch+1}/{num_epochs}')\n",
        "    print('-------------')\n",
        "\n",
        "    model.train()\n",
        "    for i, (imges, anno_class_imges) in enumerate(tqdm(train_dataloader, desc=f\"Epoch {epoch+1} Train\")):\n",
        "        imges = imges.to(device)\n",
        "        anno_class_imges = anno_class_imges.to(device)\n",
        "\n",
        "        outputs = model(imges)\n",
        "        loss = criterion(outputs, anno_class_imges.long()) # Criterion now uses weights\n",
        "\n",
        "        loss.backward()\n",
        "        optimizer.step()\n",
        "        optimizer.zero_grad()\n",
        "\n",
        "        epoch_train_loss += loss.item()\n",
        "        _, predicted = torch.max(outputs.data, 1)\n",
        "\n",
        "        tp_batch, fp_batch, fn_batch = calculate_pixel_metrics_per_class(\n",
        "            predicted, anno_class_imges, NUM_CLASSES, device\n",
        "        )\n",
        "        epoch_train_tp_total += tp_batch\n",
        "        epoch_train_fp_total += fp_batch\n",
        "        epoch_train_fn_total += fn_batch\n",
        "\n",
        "        if (i + 1) % 10 == 0: # Or your desired print frequency\n",
        "            batch_f1_scores, batch_macro_f1 = calculate_f1_from_tp_fp_fn(\n",
        "                tp_batch, fp_batch, fn_batch\n",
        "            )\n",
        "            print(f'\\nBatch {i+1}/{len(train_dataloader)} || Train Loss: {loss.item():.4f}')\n",
        "            print(f\"  Train Batch Macro F1: {batch_macro_f1:.4f}\")\n",
        "            print(f\"  Train Batch Per-Label F1 Scores:\")\n",
        "            for class_idx, f1_val in enumerate(batch_f1_scores.tolist()):\n",
        "                label_name = class_index_to_name_map[class_idx] if class_idx < len(class_index_to_name_map) else f\"class_{class_idx}\"\n",
        "                print(f\"    {label_name}: {f1_val:.3f}\")\n",
        "\n",
        "            model.eval()\n",
        "            val_loss_total = 0.0\n",
        "            val_tp_accumulated = torch.zeros(NUM_CLASSES, device=device, dtype=torch.float)\n",
        "            val_fp_accumulated = torch.zeros(NUM_CLASSES, device=device, dtype=torch.float)\n",
        "            val_fn_accumulated = torch.zeros(NUM_CLASSES, device=device, dtype=torch.float)\n",
        "\n",
        "            with torch.no_grad():\n",
        "                for val_imges, val_anno in val_dataloader:\n",
        "                    val_imges = val_imges.to(device)\n",
        "                    val_anno = val_anno.to(device)\n",
        "                    outputs_val = model(val_imges)\n",
        "                    loss_val = criterion(outputs_val, val_anno.long()) # Criterion uses weights here too\n",
        "                    val_loss_total += loss_val.item()\n",
        "                    _, predicted_val = torch.max(outputs_val.data, 1)\n",
        "                    tp_v, fp_v, fn_v = calculate_pixel_metrics_per_class(\n",
        "                        predicted_val, val_anno, NUM_CLASSES, device\n",
        "                    )\n",
        "                    val_tp_accumulated += tp_v\n",
        "                    val_fp_accumulated += fp_v\n",
        "                    val_fn_accumulated += fn_v\n",
        "\n",
        "            avg_val_loss = val_loss_total / len(val_dataloader)\n",
        "            val_f1_per_class, val_macro_f1 = calculate_f1_from_tp_fp_fn(\n",
        "                val_tp_accumulated, val_fp_accumulated, val_fn_accumulated\n",
        "            )\n",
        "\n",
        "            print(f'Batch {i+1} Validation || Loss: {avg_val_loss:.4f} || Macro F1: {val_macro_f1:.4f}')\n",
        "            print(f\"  Validation Per-Label F1 Scores:\")\n",
        "            for class_idx, f1_val in enumerate(val_f1_per_class.tolist()):\n",
        "                label_name = class_index_to_name_map[class_idx] if class_idx < len(class_index_to_name_map) else f\"class_{class_idx}\"\n",
        "                print(f\"    {label_name}: {f1_val:.3f}\")\n",
        "\n",
        "            if val_macro_f1 > best_val_macro_f1:\n",
        "                best_val_macro_f1 = val_macro_f1\n",
        "                best_val_loss = avg_val_loss\n",
        "                torch.save(model.state_dict(), 'best_model_f1_weighted.pth') # Save with new name\n",
        "                print(f\"New best model saved with Macro F1: {best_val_macro_f1:.4f}!\")\n",
        "            model.train()\n",
        "\n",
        "    avg_epoch_train_loss = epoch_train_loss / len(train_dataloader)\n",
        "    epoch_train_f1_per_class, epoch_train_macro_f1 = calculate_f1_from_tp_fp_fn(\n",
        "        epoch_train_tp_total, epoch_train_fp_total, epoch_train_fn_total\n",
        "    )\n",
        "    print(f'\\nFinal Epoch {epoch+1} Training Summary:')\n",
        "    print(f'  Average Train Loss: {avg_epoch_train_loss:.4f}')\n",
        "    print(f'  Train Macro F1: {epoch_train_macro_f1:.4f}')\n",
        "    print(f\"  Train Per-Label F1 Scores:\")\n",
        "    for class_idx, f1_val in enumerate(epoch_train_f1_per_class.tolist()):\n",
        "        label_name = class_index_to_name_map[class_idx] if class_idx < len(class_index_to_name_map) else f\"class_{class_idx}\"\n",
        "        print(f\"    {label_name}: {f1_val:.3f}\")\n",
        "\n",
        "print(\"\\nTraining Finished.\")\n",
        "print(f\"Best Validation Macro F1: {best_val_macro_f1:.4f} (achieved with Loss: {best_val_loss:.4f})\")\n",
        "print(\"Best model weights saved to 'best_model_f1_weighted.pth'\")"
      ],
      "metadata": {
        "execution": {
          "iopub.status.busy": "2025-05-21T17:18:32.921501Z",
          "iopub.execute_input": "2025-05-21T17:18:32.921717Z",
          "iopub.status.idle": "2025-05-21T17:35:21.182529Z",
          "shell.execute_reply.started": "2025-05-21T17:18:32.921691Z",
          "shell.execute_reply": "2025-05-21T17:35:21.181900Z"
        },
        "trusted": true,
        "colab": {
          "base_uri": "https://localhost:8080/"
        },
        "id": "Nee4hVFF7duR",
        "outputId": "a72f48d0-ac0c-4c47-8c17-c848b7879463"
      },
      "outputs": [
        {
          "output_type": "stream",
          "name": "stdout",
          "text": [
            "Number of classes (including background if index 0 is used): 13\n",
            "使用デバイス： cpu\n",
            "Calculating class weights from training data...\n"
          ]
        },
        {
          "output_type": "stream",
          "name": "stderr",
          "text": [
            "Counting class pixels: 100%|██████████| 94/94 [1:04:18<00:00, 41.04s/it]\n"
          ]
        },
        {
          "output_type": "stream",
          "name": "stdout",
          "text": [
            "Total pixels in dataset: 688128000\n",
            "Pixel counts per class: [78494582.0, 37575993.0, 5534210.0, 201951382.0, 39396224.0, 754717.0, 0.0, 203095556.0, 2260162.0, 105450061.0, 8484761.0, 3333068.0, 1797284.0]\n",
            "Calculated class weights: [1.1396300125422202e-06, 2.380636299603435e-06, 1.616394717269911e-05, 4.4295208766232755e-07, 2.2706433410048877e-06, 0.0001185265121855633, 12.999731054581348, 4.4045664042183215e-07, 3.957880760689381e-05, 8.483141937090206e-07, 1.0542986038384649e-05, 2.6838517734385924e-05, 4.977201533875326e-05]\n",
            "-------------\n",
            "epoch 1/1\n",
            "-------------\n"
          ]
        },
        {
          "output_type": "stream",
          "name": "stderr",
          "text": [
            "\rEpoch 1 Train:   0%|          | 0/94 [00:00<?, ?it/s]"
          ]
        }
      ],
      "execution_count": null
    },
    {
      "cell_type": "code",
      "source": [
        "pixel_counts = [\n",
        "    78494582.0, 37575993.0, 5534210.0, 201951382.0, 39396224.0,\n",
        "    754717.0, 0.0, 203095556.0, 2260162.0, 105450061.0,\n",
        "    8484761.0, 3333068.0, 1797284.0\n",
        "]\n",
        "\n",
        "total_pixels = int(sum(pixel_counts))\n",
        "print(f\"Total pixels: {total_pixels:,}\\n\")\n",
        "\n",
        "for i, count in enumerate(pixel_counts):\n",
        "    print(f\"Class {i:2d}: {int(count):>11,}\")"
      ],
      "metadata": {
        "colab": {
          "base_uri": "https://localhost:8080/"
        },
        "id": "prNiLiGN0iDA",
        "outputId": "9f5ff754-5bc2-4bdb-e52d-a648a56a0915"
      },
      "execution_count": null,
      "outputs": [
        {
          "output_type": "stream",
          "name": "stdout",
          "text": [
            "Total pixels: 688,128,000\n",
            "\n",
            "Class  0:  78,494,582\n",
            "Class  1:  37,575,993\n",
            "Class  2:   5,534,210\n",
            "Class  3: 201,951,382\n",
            "Class  4:  39,396,224\n",
            "Class  5:     754,717\n",
            "Class  6:           0\n",
            "Class  7: 203,095,556\n",
            "Class  8:   2,260,162\n",
            "Class  9: 105,450,061\n",
            "Class 10:   8,484,761\n",
            "Class 11:   3,333,068\n",
            "Class 12:   1,797,284\n"
          ]
        }
      ]
    },
    {
      "cell_type": "markdown",
      "source": [
        "Выводы по итогу обучения:\n",
        "\n",
        "\n",
        "> Класс 6 вообще не представлен (0 пикселей): модель не может обучиться на него - он будет всегда предсказан как \"неизвестный\".\n",
        "\n",
        "> Классы с сильным дисбалансом: Классы 3 и 7 - очень доминирующие (по ~200 млн пикселей). Классы 5, 8, 11, 12 - очень редкие.\n",
        "\n"
      ],
      "metadata": {
        "id": "HmbKScuO0F66"
      }
    },
    {
      "cell_type": "markdown",
      "source": [
        "# Итог:\n",
        "\n",
        "1. Дисбаланс классов сильный.\n",
        "2. Класс 6\tОтсутствует в обучающей выборке.\n",
        "3. Обучение\tВсего 1 эпоха - явно недостаточно для сходимости.\n",
        "4. CPU вместо GPU\tОчень медленно, желательно использовать GPU."
      ],
      "metadata": {
        "id": "k4lxMW1m1Coo"
      }
    },
    {
      "cell_type": "code",
      "source": [
        "torch.save(model.state_dict(), '/content/drive/MyDrive/best_model_f1_weighted.pth')"
      ],
      "metadata": {
        "id": "yHl6DK-61wQE"
      },
      "execution_count": null,
      "outputs": []
    },
    {
      "cell_type": "code",
      "source": [
        "model.load_state_dict(torch.load('/content/drive/MyDrive/best_model_f1_weighted.pth'))"
      ],
      "metadata": {
        "colab": {
          "base_uri": "https://localhost:8080/"
        },
        "id": "p2ztREQI2Hao",
        "outputId": "19af783b-3d0a-41af-8f9a-b8d2e5516164"
      },
      "execution_count": null,
      "outputs": [
        {
          "output_type": "execute_result",
          "data": {
            "text/plain": [
              "<All keys matched successfully>"
            ]
          },
          "metadata": {},
          "execution_count": 22
        }
      ]
    },
    {
      "cell_type": "code",
      "source": [
        "import os\n",
        "print(os.listdir('/content/drive/MyDrive'))"
      ],
      "metadata": {
        "colab": {
          "base_uri": "https://localhost:8080/"
        },
        "id": "pk1CllCR1eGL",
        "outputId": "bbb19249-cafa-45b5-92bd-d72439dec1fc"
      },
      "execution_count": null,
      "outputs": [
        {
          "output_type": "stream",
          "name": "stdout",
          "text": [
            "['Colab Notebooks', 'Видео', '2020-05-20_13-59-19.png', '2020-05-20_13-59-36.png', '2020-05-20_14-14-27.png', 'NEW-MUSIC-NOSTYA.7z', 'Копия Новый Воркбук курса \"Стратегия поступления\".gsheet', 'декомпозиция.gdoc', 'МЕХАНИКА Физика.gdoc', 'Дизайн-док.gdoc', 'Копия Сценарий новеллы.gdoc', 'карта памяти (1).jpg', 'карта памяти.jpg', 'Письмо.gdoc', 'ТЕРМОДИНАМИКА ФИЗИКА.gdoc', 'Сценарий новеллы.gdoc', 'Sketching_A4 (1).gdoc', 'Sketching_A4.gdoc', 'Копия Sketching_A4.pdf', 'Копия Копия База по “История” УрФУ.gdoc', 'гейм-дизайн база.docx', 'БЖД.gdoc', 'Конышев А.В(5.6).ipynb', 'Конышев А.В(4.5).ipynb', 'Конышев А.В(6.7).ipynb', 'Конышев А.В(7.6).ipynb', 'Конышев А.В(8.6).ipynb', 'Конышев А.В(9.6).ipynb', 'Задачки на паре (Конышев А.В).ipynb', 'Конышев А.В(10.6).ipynb', 'Конышев А.В(11.6).ipynb', 'Конышев А. В(задание 2.2).ipynb', 'Конышев А.В(2.6).ipynb', 'Конышев А.В(2.7).ipynb', 'Конышев А.В(2.5) (1).ipynb', 'Конышев А.В(задачи на паре 19.10).ipynb', 'Конышев А.В(задачи на паре #2).ipynb', 'Конышев А.В(часть 1 модуль 12).ipynb', 'Конышев А.В(часть 1 модуль 13).ipynb', 'Занятие 2.11 (Конышев А.В АТ-09).ipynb', 'Конышев А.В(2.5).ipynb', 'Конышев А. В(2.3).ipynb', 'Конышев А. В(2.4).ipynb', 'Конышев А.В(2.8).ipynb', 'Конышев А.В(2.9).ipynb', 'Конышев А.В(2.10).ipynb', 'Снимок экрана 2023-11-04 191516.png', 'занятие 9.11 Конышев А.В.ipynb', 'Снимок экрана 2023-11-13 191614.png', 'Занятие 16.11 Конышев А.В.ipynb', 'Конышев А.В(2.12).ipynb', 'Untitled0.ipynb', 'Конышев А.В(2.11).ipynb', 'Конышев А.В(2.13).ipynb', 'Конышев А.В(2.14).ipynb', 'Конышев А.В(2.15).ipynb', 'Конышев А.В(2.16).ipynb', 'Untitled (2)', 'Конышев А.В(2.18).ipynb', 'Конышев А.В(2.17).ipynb', 'Untitled1.ipynb', 'Untitled2.ipynb', 'Новая форма.gform', 'Новая форма (Ответы).gsheet', 'Новый документ (3).gdoc', 'Новый документ (2).gdoc', 'Новый документ (1).gdoc', 'Новый документ.gdoc', '668829e3ad3de0fc907208faae5e380f-1.docx', 'КР КОМПЬЮТЕРНЫЕ СЕТИ.docx', 'Biomekhanika.docx', 'Конышев Артем кт, Rentbuddy.pptx', 'ВИДЕО_РАБОТА', 'Untitled3.ipynb', 'Untitled (1)', 'Звук 17. Видео.gsheet', 'songs-reg.ipynb', 'Звук 18. Видео.gsheet', 'Untitled4.ipynb', 'dataset.csv', 'Spotify ДПО.ipynb', 'Титаник ДПО.ipynb', 'Новая таблица.gsheet', 'Онлайн-студия видеомонтажа.docx', 'PG_all_in.docx', 'Копия Задание CMS виртуалки.gdoc', 'Выявление проблемы. Конышев Артем Витальевич.gdoc', 'Описание метрик. Конышев Артем Витальевич.gdoc', 'upload-konyshev-storage.ipynb', 'ДизДок Конышев А.В..gdoc', 'Звук 19. Видео.gsheet', 'Workshop-1 Конышев А.В..gdoc', 'Workshop-2 Конышев А.В..gdoc', 'Workshop-3 Конышев А.В..gdoc', 'Workshop-4 Конышев А.В..gdoc', '4. Конструктивное описание систем. Конышев А.В..gdoc', 'Звук 20. Видео.gsheet', 'ЗП никитосик.gsheet', 'Workshop-5 Конышев А.В..gdoc', 'Workshop-6 Конышев А.В..gdoc', 'Контент-план skinplace.gsheet', 'Продвижение в соцсетях.gsheet', 'ОТЧЕТ ПО ИНТЕРВЬЮ (техника ОРИП).gdoc', 'ОТЧЕТ ПО ИНТЕРВЬЮ (техника ОРИП). Конышев Артем Витальевич. Среда 14:15.gdoc', 'Презентация игры \"THE EXIT\" Конышев А.В..gslides', 'data', 'ОТЧЕТ ПО КОНФЛИКТОГЕНАМ. Конышев А.В..gdoc', 'ЗВУК TikTok КП (Артем К).gsheet', 'driving-segmentation-inclass-competition', 'Untitled', 'зпшечка.gsheet', 'best_model_f1_weighted.pth']\n"
          ]
        }
      ]
    },
    {
      "cell_type": "markdown",
      "source": [
        "# Вывод предсказаний"
      ],
      "metadata": {
        "id": "Z0yRneXS7duR"
      }
    },
    {
      "cell_type": "code",
      "source": [
        "# Загружаем сохранённую обученную модель из файла best_model_f1_weighted.pth\n",
        "\n",
        "model.load_state_dict(torch.load('/content/drive/MyDrive/best_model_f1_weighted.pth'))\n",
        "\n",
        "test_img_list, test_anno_list = sorted(glob(osp.join(test_dir, 'frames/*'))), sorted(glob(osp.join(test_dir, 'labels/*')))\n",
        "test_dataset = Dataset(test_img_list, anno_list=None, transform=val_transform) # объект датасета Dataset\n",
        "test_dataloader = data.DataLoader(test_dataset, batch_size=batch_size, shuffle=False) # датасет оборачивается в DataLoader, чтобы можно было удобно и по батчам подавать данные в модель."
      ],
      "metadata": {
        "execution": {
          "iopub.status.busy": "2025-05-21T17:35:21.183928Z",
          "iopub.execute_input": "2025-05-21T17:35:21.184490Z",
          "iopub.status.idle": "2025-05-21T17:35:21.290651Z",
          "shell.execute_reply.started": "2025-05-21T17:35:21.184446Z",
          "shell.execute_reply": "2025-05-21T17:35:21.290104Z"
        },
        "trusted": true,
        "id": "zjQ2-56G7duS"
      },
      "outputs": [],
      "execution_count": null
    },
    {
      "cell_type": "code",
      "source": [
        "# Пустой список preds для хранения предсказаний.\n",
        "\n",
        "preds = []\n",
        "\n",
        "device = torch.device(\"cuda:0\" if torch.cuda.is_available() else \"cpu\")\n",
        "model = model.to(device)\n",
        "model.eval()\n",
        "\n",
        "# Проходим по тестовому даталоадеру - берём изображения\n",
        "for imges, anno_class_imges in tqdm(test_dataloader):\n",
        "    imges = imges.to(device)\n",
        "    anno_class_imges = anno_class_imges.to(device)\n",
        "\n",
        "    with torch.no_grad():\n",
        "        outputs = model(imges)\n",
        "        outputs = outputs.argmax(dim=1).detach().cpu().numpy().astype('uint8')\n",
        "\n",
        "    preds += [outputs] # получаем вероятности по классам на каждый пиксель\n",
        "\n",
        "preds = np.concatenate(preds) # соединяем все батчи в один массив"
      ],
      "metadata": {
        "execution": {
          "iopub.status.busy": "2025-05-21T17:35:21.291535Z",
          "iopub.execute_input": "2025-05-21T17:35:21.291736Z"
        },
        "trusted": true,
        "colab": {
          "base_uri": "https://localhost:8080/",
          "height": 49,
          "referenced_widgets": [
            "ac08c5d3314a4fc1a5406a7e547ca07b",
            "874bee9017e949e5a3a13abe9374b811",
            "8dcd439e1af246b79655704dfe7c1f6e",
            "9ff5a3aed0da448b85e336f33f962a46",
            "32a7eb6fcc4f4b1387c44cd7b2daad28",
            "1ed660764ff34ef6a4f041d6b06064d5",
            "15007a47c5bf42fc9c68fa1d2a49497f",
            "055fcdef2fad4eb8a8f8f833c285ec4d",
            "c495f1e49cab4d4c855bd19f5be5c72b",
            "16d40d80e8a4447bbc53716a0f76c45c",
            "e6940016eb334f97a1fd6adabcc8498a"
          ]
        },
        "id": "HOnwpT2y7duS",
        "outputId": "76570b19-41cc-4063-8ddd-c584032cc72c"
      },
      "outputs": [
        {
          "output_type": "display_data",
          "data": {
            "text/plain": [
              "  0%|          | 0/54 [00:00<?, ?it/s]"
            ],
            "application/vnd.jupyter.widget-view+json": {
              "version_major": 2,
              "version_minor": 0,
              "model_id": "ac08c5d3314a4fc1a5406a7e547ca07b"
            }
          },
          "metadata": {}
        }
      ],
      "execution_count": null
    },
    {
      "cell_type": "markdown",
      "source": [
        "# Создание файла для сабмита"
      ],
      "metadata": {
        "id": "G7GWAcoF7duS"
      }
    },
    {
      "cell_type": "code",
      "source": [
        "# Функция для кодирования маски в формат Run-Length Encoding (RLE)\n",
        "\n",
        "# RLE - сжатое представление маски, где указываются длины подряд идущих пикселей объекта.\n",
        "# Принимает бинарное изображение (1 - объект, 0 - фон), возвращает строку с RLE.\n",
        "\n",
        "def rle_encode(img):\n",
        "    \"\"\" TBD\n",
        "\n",
        "    Args:\n",
        "        img (np.array):\n",
        "            - 1 indicating mask\n",
        "            - 0 indicating background\n",
        "\n",
        "    Returns:\n",
        "        run length as string formated\n",
        "    \"\"\"\n",
        "\n",
        "    pixels = img.flatten()\n",
        "    pixels = np.concatenate([[0], pixels, [0]])\n",
        "    runs = np.where(pixels[1:] != pixels[:-1])[0] + 1\n",
        "    runs[1::2] -= runs[::2]\n",
        "    return ' '.join(str(x) for x in runs)"
      ],
      "metadata": {
        "trusted": true,
        "id": "dCFinCVg7duS"
      },
      "outputs": [],
      "execution_count": null
    },
    {
      "cell_type": "code",
      "source": [
        "# Сохраняем готовый файл с предсказаниями в result.csv\n",
        "\n",
        "result = pd.read_csv(osp.join(rootpath, 'sample_submission.csv'))\n",
        "encoded_pixels = []\n",
        "for pred in tqdm(preds):\n",
        "    pred = cv2.resize(pred, dsize=img_size, interpolation=cv2.INTER_NEAREST)\n",
        "    for label_id in range(1, class_num+1):\n",
        "        rle = rle_encode(np.where(pred==label_id, 1, 0))\n",
        "        encoded_pixels += [rle]\n",
        "result['EncodedPixels'] = encoded_pixels\n",
        "result.to_csv('result.csv', index=False)"
      ],
      "metadata": {
        "trusted": true,
        "colab": {
          "base_uri": "https://localhost:8080/",
          "height": 49,
          "referenced_widgets": [
            "98c4eb84966145a7a573bd540befef51",
            "4df437c09d9d4c2e849ea80923a9de88",
            "0ee97c7e29964335aa706e8a4b04b186",
            "764dd37814244412b87db69b6f6f678e",
            "7ca7dcb4fe4e4550b529c85f0fdbe26a",
            "5bd64c6cb5444f63976070c45e018f87",
            "e6566742e46a48ef8a9fd8a9551eaad4",
            "8ecb206059a148c6b983215f30834473",
            "62eb39459e7a440d939ceeaa121fe59b",
            "56ee3930940e4d80a2b4c974ec906d1c",
            "6a929e688b7e46f384633fd6db097e4e"
          ]
        },
        "id": "VGBEh4jt7duT",
        "outputId": "f498c590-a551-4978-c66d-0c85e9344053"
      },
      "outputs": [
        {
          "output_type": "display_data",
          "data": {
            "text/plain": [
              "  0%|          | 0/1500 [00:00<?, ?it/s]"
            ],
            "application/vnd.jupyter.widget-view+json": {
              "version_major": 2,
              "version_minor": 0,
              "model_id": "98c4eb84966145a7a573bd540befef51"
            }
          },
          "metadata": {}
        }
      ],
      "execution_count": null
    },
    {
      "cell_type": "code",
      "source": [
        "import pandas as pd\n",
        "\n",
        "result = pd.read_csv('result.csv')\n",
        "result.head()"
      ],
      "metadata": {
        "colab": {
          "base_uri": "https://localhost:8080/",
          "height": 206
        },
        "id": "K5pJYFkMfCjw",
        "outputId": "3f2fc791-361d-4543-9900-f94796941b99"
      },
      "execution_count": null,
      "outputs": [
        {
          "output_type": "execute_result",
          "data": {
            "text/plain": [
              "    ImageId                                      EncodedPixels\n",
              "0  003500_1  17390 4 17634 4 18605 4 18620 4 18763 3 18815 ...\n",
              "1  003500_2  5829 4 6073 7 6144 7 6170 4 6294 15 6980 4 699...\n",
              "2  003500_3  7108 7 7291 4 7333 3 9028 7 9211 4 9253 3 3036...\n",
              "3  003500_4  13786 4 15350 4 15358 3 15706 4 17270 4 17278 ...\n",
              "4  003500_5  17281 4 19201 4 175246 4 177166 4 750736 4 752..."
            ],
            "text/html": [
              "\n",
              "  <div id=\"df-1ff6f201-4314-42e2-b36a-e5cee4138392\" class=\"colab-df-container\">\n",
              "    <div>\n",
              "<style scoped>\n",
              "    .dataframe tbody tr th:only-of-type {\n",
              "        vertical-align: middle;\n",
              "    }\n",
              "\n",
              "    .dataframe tbody tr th {\n",
              "        vertical-align: top;\n",
              "    }\n",
              "\n",
              "    .dataframe thead th {\n",
              "        text-align: right;\n",
              "    }\n",
              "</style>\n",
              "<table border=\"1\" class=\"dataframe\">\n",
              "  <thead>\n",
              "    <tr style=\"text-align: right;\">\n",
              "      <th></th>\n",
              "      <th>ImageId</th>\n",
              "      <th>EncodedPixels</th>\n",
              "    </tr>\n",
              "  </thead>\n",
              "  <tbody>\n",
              "    <tr>\n",
              "      <th>0</th>\n",
              "      <td>003500_1</td>\n",
              "      <td>17390 4 17634 4 18605 4 18620 4 18763 3 18815 ...</td>\n",
              "    </tr>\n",
              "    <tr>\n",
              "      <th>1</th>\n",
              "      <td>003500_2</td>\n",
              "      <td>5829 4 6073 7 6144 7 6170 4 6294 15 6980 4 699...</td>\n",
              "    </tr>\n",
              "    <tr>\n",
              "      <th>2</th>\n",
              "      <td>003500_3</td>\n",
              "      <td>7108 7 7291 4 7333 3 9028 7 9211 4 9253 3 3036...</td>\n",
              "    </tr>\n",
              "    <tr>\n",
              "      <th>3</th>\n",
              "      <td>003500_4</td>\n",
              "      <td>13786 4 15350 4 15358 3 15706 4 17270 4 17278 ...</td>\n",
              "    </tr>\n",
              "    <tr>\n",
              "      <th>4</th>\n",
              "      <td>003500_5</td>\n",
              "      <td>17281 4 19201 4 175246 4 177166 4 750736 4 752...</td>\n",
              "    </tr>\n",
              "  </tbody>\n",
              "</table>\n",
              "</div>\n",
              "    <div class=\"colab-df-buttons\">\n",
              "\n",
              "  <div class=\"colab-df-container\">\n",
              "    <button class=\"colab-df-convert\" onclick=\"convertToInteractive('df-1ff6f201-4314-42e2-b36a-e5cee4138392')\"\n",
              "            title=\"Convert this dataframe to an interactive table.\"\n",
              "            style=\"display:none;\">\n",
              "\n",
              "  <svg xmlns=\"http://www.w3.org/2000/svg\" height=\"24px\" viewBox=\"0 -960 960 960\">\n",
              "    <path d=\"M120-120v-720h720v720H120Zm60-500h600v-160H180v160Zm220 220h160v-160H400v160Zm0 220h160v-160H400v160ZM180-400h160v-160H180v160Zm440 0h160v-160H620v160ZM180-180h160v-160H180v160Zm440 0h160v-160H620v160Z\"/>\n",
              "  </svg>\n",
              "    </button>\n",
              "\n",
              "  <style>\n",
              "    .colab-df-container {\n",
              "      display:flex;\n",
              "      gap: 12px;\n",
              "    }\n",
              "\n",
              "    .colab-df-convert {\n",
              "      background-color: #E8F0FE;\n",
              "      border: none;\n",
              "      border-radius: 50%;\n",
              "      cursor: pointer;\n",
              "      display: none;\n",
              "      fill: #1967D2;\n",
              "      height: 32px;\n",
              "      padding: 0 0 0 0;\n",
              "      width: 32px;\n",
              "    }\n",
              "\n",
              "    .colab-df-convert:hover {\n",
              "      background-color: #E2EBFA;\n",
              "      box-shadow: 0px 1px 2px rgba(60, 64, 67, 0.3), 0px 1px 3px 1px rgba(60, 64, 67, 0.15);\n",
              "      fill: #174EA6;\n",
              "    }\n",
              "\n",
              "    .colab-df-buttons div {\n",
              "      margin-bottom: 4px;\n",
              "    }\n",
              "\n",
              "    [theme=dark] .colab-df-convert {\n",
              "      background-color: #3B4455;\n",
              "      fill: #D2E3FC;\n",
              "    }\n",
              "\n",
              "    [theme=dark] .colab-df-convert:hover {\n",
              "      background-color: #434B5C;\n",
              "      box-shadow: 0px 1px 3px 1px rgba(0, 0, 0, 0.15);\n",
              "      filter: drop-shadow(0px 1px 2px rgba(0, 0, 0, 0.3));\n",
              "      fill: #FFFFFF;\n",
              "    }\n",
              "  </style>\n",
              "\n",
              "    <script>\n",
              "      const buttonEl =\n",
              "        document.querySelector('#df-1ff6f201-4314-42e2-b36a-e5cee4138392 button.colab-df-convert');\n",
              "      buttonEl.style.display =\n",
              "        google.colab.kernel.accessAllowed ? 'block' : 'none';\n",
              "\n",
              "      async function convertToInteractive(key) {\n",
              "        const element = document.querySelector('#df-1ff6f201-4314-42e2-b36a-e5cee4138392');\n",
              "        const dataTable =\n",
              "          await google.colab.kernel.invokeFunction('convertToInteractive',\n",
              "                                                    [key], {});\n",
              "        if (!dataTable) return;\n",
              "\n",
              "        const docLinkHtml = 'Like what you see? Visit the ' +\n",
              "          '<a target=\"_blank\" href=https://colab.research.google.com/notebooks/data_table.ipynb>data table notebook</a>'\n",
              "          + ' to learn more about interactive tables.';\n",
              "        element.innerHTML = '';\n",
              "        dataTable['output_type'] = 'display_data';\n",
              "        await google.colab.output.renderOutput(dataTable, element);\n",
              "        const docLink = document.createElement('div');\n",
              "        docLink.innerHTML = docLinkHtml;\n",
              "        element.appendChild(docLink);\n",
              "      }\n",
              "    </script>\n",
              "  </div>\n",
              "\n",
              "\n",
              "    <div id=\"df-09f5840a-5fc1-4ed4-b49b-be0c8c0695f2\">\n",
              "      <button class=\"colab-df-quickchart\" onclick=\"quickchart('df-09f5840a-5fc1-4ed4-b49b-be0c8c0695f2')\"\n",
              "                title=\"Suggest charts\"\n",
              "                style=\"display:none;\">\n",
              "\n",
              "<svg xmlns=\"http://www.w3.org/2000/svg\" height=\"24px\"viewBox=\"0 0 24 24\"\n",
              "     width=\"24px\">\n",
              "    <g>\n",
              "        <path d=\"M19 3H5c-1.1 0-2 .9-2 2v14c0 1.1.9 2 2 2h14c1.1 0 2-.9 2-2V5c0-1.1-.9-2-2-2zM9 17H7v-7h2v7zm4 0h-2V7h2v10zm4 0h-2v-4h2v4z\"/>\n",
              "    </g>\n",
              "</svg>\n",
              "      </button>\n",
              "\n",
              "<style>\n",
              "  .colab-df-quickchart {\n",
              "      --bg-color: #E8F0FE;\n",
              "      --fill-color: #1967D2;\n",
              "      --hover-bg-color: #E2EBFA;\n",
              "      --hover-fill-color: #174EA6;\n",
              "      --disabled-fill-color: #AAA;\n",
              "      --disabled-bg-color: #DDD;\n",
              "  }\n",
              "\n",
              "  [theme=dark] .colab-df-quickchart {\n",
              "      --bg-color: #3B4455;\n",
              "      --fill-color: #D2E3FC;\n",
              "      --hover-bg-color: #434B5C;\n",
              "      --hover-fill-color: #FFFFFF;\n",
              "      --disabled-bg-color: #3B4455;\n",
              "      --disabled-fill-color: #666;\n",
              "  }\n",
              "\n",
              "  .colab-df-quickchart {\n",
              "    background-color: var(--bg-color);\n",
              "    border: none;\n",
              "    border-radius: 50%;\n",
              "    cursor: pointer;\n",
              "    display: none;\n",
              "    fill: var(--fill-color);\n",
              "    height: 32px;\n",
              "    padding: 0;\n",
              "    width: 32px;\n",
              "  }\n",
              "\n",
              "  .colab-df-quickchart:hover {\n",
              "    background-color: var(--hover-bg-color);\n",
              "    box-shadow: 0 1px 2px rgba(60, 64, 67, 0.3), 0 1px 3px 1px rgba(60, 64, 67, 0.15);\n",
              "    fill: var(--button-hover-fill-color);\n",
              "  }\n",
              "\n",
              "  .colab-df-quickchart-complete:disabled,\n",
              "  .colab-df-quickchart-complete:disabled:hover {\n",
              "    background-color: var(--disabled-bg-color);\n",
              "    fill: var(--disabled-fill-color);\n",
              "    box-shadow: none;\n",
              "  }\n",
              "\n",
              "  .colab-df-spinner {\n",
              "    border: 2px solid var(--fill-color);\n",
              "    border-color: transparent;\n",
              "    border-bottom-color: var(--fill-color);\n",
              "    animation:\n",
              "      spin 1s steps(1) infinite;\n",
              "  }\n",
              "\n",
              "  @keyframes spin {\n",
              "    0% {\n",
              "      border-color: transparent;\n",
              "      border-bottom-color: var(--fill-color);\n",
              "      border-left-color: var(--fill-color);\n",
              "    }\n",
              "    20% {\n",
              "      border-color: transparent;\n",
              "      border-left-color: var(--fill-color);\n",
              "      border-top-color: var(--fill-color);\n",
              "    }\n",
              "    30% {\n",
              "      border-color: transparent;\n",
              "      border-left-color: var(--fill-color);\n",
              "      border-top-color: var(--fill-color);\n",
              "      border-right-color: var(--fill-color);\n",
              "    }\n",
              "    40% {\n",
              "      border-color: transparent;\n",
              "      border-right-color: var(--fill-color);\n",
              "      border-top-color: var(--fill-color);\n",
              "    }\n",
              "    60% {\n",
              "      border-color: transparent;\n",
              "      border-right-color: var(--fill-color);\n",
              "    }\n",
              "    80% {\n",
              "      border-color: transparent;\n",
              "      border-right-color: var(--fill-color);\n",
              "      border-bottom-color: var(--fill-color);\n",
              "    }\n",
              "    90% {\n",
              "      border-color: transparent;\n",
              "      border-bottom-color: var(--fill-color);\n",
              "    }\n",
              "  }\n",
              "</style>\n",
              "\n",
              "      <script>\n",
              "        async function quickchart(key) {\n",
              "          const quickchartButtonEl =\n",
              "            document.querySelector('#' + key + ' button');\n",
              "          quickchartButtonEl.disabled = true;  // To prevent multiple clicks.\n",
              "          quickchartButtonEl.classList.add('colab-df-spinner');\n",
              "          try {\n",
              "            const charts = await google.colab.kernel.invokeFunction(\n",
              "                'suggestCharts', [key], {});\n",
              "          } catch (error) {\n",
              "            console.error('Error during call to suggestCharts:', error);\n",
              "          }\n",
              "          quickchartButtonEl.classList.remove('colab-df-spinner');\n",
              "          quickchartButtonEl.classList.add('colab-df-quickchart-complete');\n",
              "        }\n",
              "        (() => {\n",
              "          let quickchartButtonEl =\n",
              "            document.querySelector('#df-09f5840a-5fc1-4ed4-b49b-be0c8c0695f2 button');\n",
              "          quickchartButtonEl.style.display =\n",
              "            google.colab.kernel.accessAllowed ? 'block' : 'none';\n",
              "        })();\n",
              "      </script>\n",
              "    </div>\n",
              "    </div>\n",
              "  </div>\n"
            ],
            "application/vnd.google.colaboratory.intrinsic+json": {
              "type": "dataframe",
              "variable_name": "result",
              "summary": "{\n  \"name\": \"result\",\n  \"rows\": 18000,\n  \"fields\": [\n    {\n      \"column\": \"ImageId\",\n      \"properties\": {\n        \"dtype\": \"string\",\n        \"num_unique_values\": 18000,\n        \"samples\": [\n          \"003714_7\",\n          \"004124_9\",\n          \"004267_7\"\n        ],\n        \"semantic_type\": \"\",\n        \"description\": \"\"\n      }\n    },\n    {\n      \"column\": \"EncodedPixels\",\n      \"properties\": {\n        \"dtype\": \"string\",\n        \"num_unique_values\": 17977,\n        \"samples\": [\n          \"1550 4 3470 4 5390 4 14893 7 16813 7 18875 4 18946 27 20795 4 20866 27 21136 4 22359 4 22396 4 22621 8 22779 34 22820 4 22888 3 23056 4 24279 4 24316 4 24541 8 24699 34 24740 4 24808 3 25096 4 25250 4 25970 23 26004 4 26019 7 26199 4 26289 4 26360 8 26544 4 26619 11 26638 3 26656 4 26728 3 26814 4 27016 4 27170 4 27890 23 27924 4 27939 7 28119 4 28209 4 28280 8 28464 4 28539 11 28558 3 28576 4 28648 3 28734 4 28936 4 29911 4 29919 4 30125 8 30384 4 30463 3 30496 4 30568 3 30856 4 31831 4 31839 4 32045 8 32304 4 32383 3 32416 4 32488 3 32641 4 33751 4 34310 4 34561 4 35671 4 36230 4 37655 4 37749 4 38143 3 38150 4 39575 4 39669 4 40063 3 40070 4 41495 4 41589 4 41983 3 41990 4 43359 4 43674 4 43809 4 45279 4 45594 4 45729 4 47514 4 49434 4 49996 15 51238 3 51343 3 51489 4 51916 15 53158 3 53263 3 53409 4 53788 3 53799 4 53806 4 53814 7 53836 8 55183 3 55329 11 55348 3 55554 4 55708 3 55719 4 55726 4 55734 7 55756 8 57103 3 57249 11 57268 3 57474 4 57631 19 57654 19 57676 4 58775 4 58816 4 58824 4 59030 8 59375 4 59551 19 59574 19 59596 4 60695 4 60736 4 60744 4 60950 8 61295 4 61468 45 61663 3 62615 4 62656 4 62870 4 63016 4 63350 4 63358 3 63388 45 63583 3 64535 4 64576 4 64790 4 64936 4 65270 4 65278 3 65311 23 65349 15 65368 3 65379 4 65461 4 66496 4 66609 4 66624 4 66759 4 66845 4 66856 4 66973 3 67198 3 67231 23 67269 15 67288 3 67299 4 67381 4 68416 4 68529 4 68544 4 68679 4 68765 4 68776 4 68893 3 69118 3 69155 15 69193 11 69208 3 69219 4 70895 4 70929 4 71038 3 71075 15 71113 11 71128 3 71139 4 72815 4 72849 4 72958 3 72999 7 73036 8 73123 3 74281 4 74653 3 74758 3 74769 4 74919 7 74956 8 75043 3 76201 4 76573 3 76678 3 76689 4 76839 7 76876 8 76963 3 78121 4 78493 3 78598 3 78609 4 78740 4 78759 19 78980 4 80518 3 80529 4 80660 4 80679 19 80900 4 82438 3 82449 4 82591 15 82610 4 82633 3 83926 4 83956 4 84031 4 84256 8 84511 15 84530 4 84553 3 85846 4 85876 4 85951 4 86176 8 86431 12 86446 4 86454 4 86469 4 86581 4 86589 4 87665 4 87748 7 87778 7 88351 12 88366 4 88374 4 88389 4 88501 4 88509 4 89585 4 89668 7 89698 7 90260 4 90271 4 90395 4 90406 4 90418 7 90429 4 91505 4 91588 3 91625 8 91940 4 92038 7 92180 4 92191 4 92315 4 92326 4 92338 7 92349 4 93425 4 93508 3 93545 8 93860 4 93958 7 94104 15 94156 4 94164 7 94179 7 94194 4 94231 8 94243 11 94258 3 95345 4 95371 4 95881 4 96024 15 96076 4 96084 7 96099 7 96114 4 96151 8 96163 11 96178 3 97265 4 97291 4 97801 4 97951 4 97959 4 98008 3 98075 11 98090 4 99076 4 99174 4 99211 4 99620 4 99871 4 99879 4 99928 3 99995 11 100010 4 100996 4 101094 4 101131 4 101540 4 101904 19 102916 4 103460 4 103824 19 104836 4 105380 4 105631 4 105808 3 105823 3 105830 4 106595 4 106621 27 106756 4 106869 4 107176 4 107300 4 107551 4 107728 3 107743 3 107750 4 108515 4 108541 27 108676 4 108789 4 109096 4 109220 4 109471 4 109648 3 110428 3 110435 45 110484 4 110491 4 110596 4 110675 8 110911 4 111136 4 111391 4 111568 3 112348 3 112355 45 112404 4 112411 4 112516 4 112595 8 112831 4 113056 4 113311 4 113488 3 114268 3 114275 45 114324 4 114331 4 114436 4 114515 8 114751 4 114976 4 115231 4 115430 4 116195 4 116203 7 116214 26 116431 4 116671 4 116851 4 116998 3 117151 4 117350 4 118115 4 118123 7 118134 26 118351 4 118591 4 118771 4 118918 3 119263 3 119270 4 119281 4 120028 3 120035 4 120043 3 120050 15 120069 11 120084 4 120691 4 120823 3 120841 4 121183 3 121190 4 121201 4 121948 3 121955 4 121963 3 121970 15 121989 11 122004 4 122611 4 122743 3 122761 4 123121 4 124119 4 124614 4 125041 4 126039 4 126534 4 126928 3 127618 15 127831 4 127959 4 128285 4 128638 3 128848 3 129538 15 129751 4 129879 4 130205 4 130558 3 130816 4 131461 12 131476 4 131611 4 131671 4 131716 4 132211 4 132301 4 132736 4 133381 12 133396 4 133531 4 133591 4 133636 4 134131 4 134221 4 134656 4 134664 4 135309 4 135511 4 135556 4 135718 3 135766 4 135991 4 136033 3 136044 4 136051 4 136141 4 136318 3 136576 4 136584 4 137229 4 137431 4 137476 4 137638 3 137686 4 137911 4 137953 3 137964 4 137971 4 138061 4 138238 3 139149 4 139441 4 139854 4 139936 4 141069 4 141361 4 141774 4 141856 4 142910 8 143124 4 143191 4 143686 4 143825 4 144830 8 145044 4 145111 4 145606 4 145745 4 147031 4 147320 4 147586 4 147838 3 148951 4 149240 4 149506 4 149758 3 150871 4 151160 4 151426 4 151678 3 153598 3 155518 3 155536 4 156579 4 156631 4 156954 4 157081 4 157333 3 157456 4 158499 4 158551 4 158874 4 159001 4 159253 3 160471 4 160543 3 160670 4 160794 7 160914 11 161079 4 161165 4 162391 4 162463 3 162590 4 162714 7 162834 11 162999 4 163085 4 164060 4 164506 8 164758 3 164915 8 165980 4 166426 8 166678 3 166835 8 168309 4 168346 8 168594 4 168601 4 168856 4 170229 4 170266 8 170514 4 170521 4 170776 4 170900 4 171594 4 172171 8 172183 15 172201 4 172603 3 172674 4 172820 4 173514 4 174091 8 174103 15 174121 4 174523 3 174594 4 174736 8 175426 4 175831 4 176041 4 176296 4 176439 4 176514 4 176656 8 177346 4 177751 4 177961 4 178216 4 178359 4 178434 4 178576 8 179443 3 179465 4 179671 4 179698 3 179851 4 179881 4 180496 8 181363 3 181385 4 181591 4 181618 3 181771 4 181801 4 182420 4 182461 4 183189 4 183305 4 183448 15 183466 4 183474 7 183493 3 183500 4 183688 3 184194 4 184340 4 184381 4 185109 4 185225 4 185368 15 185386 4 185394 7 185413 3 185420 4 185608 3 186114 4 186260 4 186301 4 187029 4 187145 4 187288 15 187306 4 187314 7 187333 3 187340 4 187528 3 188034 4 188180 4 189211 12 189226 4 189234 7 189253 3 189260 4 190100 4 191131 12 191146 4 191154 7 191173 3 191180 4 192016 4 192106 4 193048 3 193059 4 193066 8 193078 7 193089 7 193100 4 193111 4 193138 3 193936 4 194026 4 194968 3 194979 4 194986 8 194998 7 195009 7 195020 4 195031 4 195058 3 195879 4 196546 4 196636 4 196888 15 196906 4 196929 7 196940 4 196951 4 197094 4 197521 4 197656 4 197799 4 198466 4 198556 4 198808 15 198826 4 198849 7 198860 4 198871 4 199014 4 199441 4 199576 4 200386 4 200484 4 200746 4 200754 7 200769 15 200900 4 200930 4 201343 3 201496 4 202306 4 202404 4 202666 4 202674 7 202689 15 202820 4 202850 4 203263 3 203416 4 204226 4 204234 7 204766 4 205336 4 206146 4 206154 7 206686 4 207256 4 207376 8 207391 4 207399 4 208074 4 208273 3 208794 4 209296 8 209311 4 209319 4 209994 4 210193 3 210714 4 211220 4 212829 4 213140 4 214749 4 215060 4 215071 4 215743 3 215754 4 216980 4 216991 4 217663 3 217674 4 218896 19 218923 3 219575 11 219594 4 220051 4 220269 4 220325 4 220816 19 220843 3 221495 11 221514 4 221971 4 222189 4 222245 4 222736 19 222763 3 223415 11 223434 4 223891 4 224109 4 224165 4 224641 4 224660 26 224690 8 225335 4 225343 3 225354 4 225489 4 225808 3 226085 4 226561 4 226580 26 226610 8 227255 4 227263 3 227274 4 227409 4 227728 3 228005 4 228481 4 228500 4 229183 3 229194 4 229201 4 229273 3 229291 4 229329 4 229415 4 230191 4 230401 4 230420 4 231103 3 231114 4 231121 4 231193 3 231211 4 231249 4 231335 4 232111 4 232321 4 232351 4 233019 11 233034 4 233041 4 233083 3 233113 3 233484 4 233990 4 234035 4 234241 4 234271 4 234939 11 234954 4 234961 4 235003 3 235033 3 235404 4 235910 4 235955 4 236863 7 236874 11 236953 7 237020 4 237830 4 238783 7 238794 11 238873 7 238940 4 239750 4 240001 4 240230 4 240714 15 241183 3 241336 12 241801 4 241921 4 242150 4 242634 15 243103 3 243256 12 243721 4 243856 4 244554 4 244621 4 245019 4 245776 4 246474 4 246541 4 246939 4 247681 4 247696 4 248394 4 248401 4 248454 4 248859 4 249091 4 249601 4 249616 4 250314 4 250321 4 250374 4 250779 4 251011 4 251521 4 251536 4 252238 3 252286 8 252500 4 253441 4 253456 4 254158 3 254206 8 254420 4 255376 4 256115 8 256126 8 256141 4 256288 3 256321 4 256835 4 256921 4 257071 4 257296 4 258035 8 258046 8 258061 4 258208 3 258241 4 258755 4 258841 4 258991 4 259966 19 260098 7 260109 4 260128 3 260675 4 261001 4 261886 19 262018 7 262029 4 262048 3 262595 4 262921 4 263806 19 263938 7 263949 4 263968 3 264515 4 264841 4 265726 19 265779 4 265858 3 266319 4 266420 4 266761 4 267646 19 267699 4 267778 3 268239 4 268340 4 268681 4 269491 4 269566 8 269581 4 269690 4 269698 3 269769 4 270046 4 271411 4 271486 8 271501 4 271610 4 271618 3 271689 4 271966 4 272810 4 272818 3 273331 4 273406 4 273530 4 273538 3 273736 4 273759 4 273770 4 273778 3 273823 3 274730 4 274738 3 275251 4 275326 4 275450 4 275458 3 275656 4 275679 4 275690 4 275698 3 275743 3 277138 3 277160 4 277168 7 277378 7 277389 4 277513 3 277531 8 277580 4 277663 3 278056 4 279058 3 279080 4 279088 7 279298 7 279309 4 279433 3 279451 8 279500 4 279583 3 279976 4 280978 3 280993 3 281000 11 281308 3 281319 4 281326 4 281338 7 281353 3 281371 8 281383 3 281420 8 281495 4 281784 4 281893 3 282898 3 282913 3 282920 11 283228 3 283239 4 283246 4 283258 7 283273 3 283291 8 283303 3 283340 8 283415 4 283704 4 283813 3 284840 4 284848 3 285148 15 285178 3 285264 4 285328 3 285343 7 285519 4 286760 4 286768 3 287068 15 287098 3 287184 4 287248 3 287263 7 287439 4 288669 7 288680 11 288988 3 289029 4 289179 7 289190 4 289228 3 289239 4 289348 3 289389 4 289396 4 290589 7 290600 11 290908 3 290949 4 291099 7 291110 4 291148 3 291159 4 291268 3 291309 4 291316 4 292479 4 292498 3 292513 15 292531 4 293000 4 293068 3 294399 4 294418 3 294433 15 294451 4 294920 4 294988 3 295843 3 296319 4 296338 3 296353 22 296379 4 296589 4 296900 4 297271 4 297583 3 297598 3 297763 3 298239 4 298258 3 298273 22 298299 4 298509 4 298820 4 299191 4 299503 3 299518 3 299683 3 300159 4 300178 3 300193 22 300219 4 300429 4 300740 4 301111 4 301423 3 301438 3 301535 4 301543 18 301565 4 302079 4 302098 3 302113 3 302120 15 302458 3 302491 4 302503 3 303358 3 303455 4 303463 18 303485 4 303999 4 304018 3 304033 3 304040 15 304378 3 304411 4 304423 3 305278 3 305300 4 305371 34 305428 3 305919 4 305953 3 305960 15 305979 4 306069 4 307138 3 307198 3 307220 4 307291 34 307348 3 307839 4 307873 3 307880 15 307899 4 307989 4 309058 3 309118 3 309140 4 309211 4 309219 45 309268 3 309759 4 309766 4 309793 3 309800 8 309811 4 309819 4 311060 4 311131 4 311139 45 311188 3 311679 4 311686 4 311713 3 311720 8 311731 4 311739 4 312976 12 313051 4 313059 15 313078 7 313093 3 313100 4 313108 3 313115 4 313629 7 313640 8 313651 4 313895 4 314473 3 314896 12 314971 4 314979 15 314998 7 315013 3 315020 4 315028 3 315035 4 315549 7 315560 8 315571 4 315815 4 316393 3 316816 8 316888 3 316899 4 316906 4 316921 4 316948 3 317431 4 317439 4 317473 3 317480 15 318736 8 318808 3 318819 4 318826 4 318841 4 318868 3 319351 4 319359 4 319393 3 319400 15 320728 3 320739 11 320761 4 320795 15 321328 7 322648 3 322659 11 322681 4 322715 15 323248 7 324500 4 324583 11 324635 4 324643 7 325164 11 326420 4 326503 11 326555 4 326563 7 327084 11 328333 7 328423 3 328430 4 328441 4 328475 4 329004 11 329289 4 329596 4 330253 7 330343 3 330350 4 330361 4 330395 4 330924 11 331209 4 331516 4 332173 3 332221 4 332315 4 332341 4 332851 4 332859 4 333328 3 334093 3 334141 4 334235 4 334261 4 334771 4 334779 4 335248 3 336013 3 336061 4 336155 4 336181 4 336691 4 336699 4 337168 3 337921 4 337933 11 338056 4 338064 15 338709 4 339841 4 339853 11 339976 4 339984 15 340629 4 341761 4 341773 7 341833 15 341904 15 342444 7 342459 4 342549 4 343681 4 343693 7 343753 15 343824 15 344364 7 344379 4 344469 4 345676 15 345729 11 345744 11 346445 4 346753 3 346985 4 347495 4 347596 15 347649 11 347664 11 348365 4 348673 3 348905 4 349415 4 349520 4 349573 22 350405 4 351024 4 351440 4 351493 22 352325 4 352944 4 353308 3 353360 4 353386 4 353413 22 353439 15 354091 4 354099 4 354114 4 354166 4 354241 12 354256 8 354286 4 355228 3 355280 4 355306 4 355333 22 355359 15 356011 4 356019 4 356034 4 356086 4 356161 12 356176 8 356206 4 357253 7 357264 7 357279 4 357286 4 357305 4 357395 4 357931 12 358085 15 358138 18 359173 7 359184 7 359199 4 359206 4 359225 4 359315 4 359851 12 360005 15 360058 18 360961 4 361085 4 361093 7 361104 11 361119 4 361130 4 361145 4 361186 4 361235 4 361704 4 361768 11 361918 18 361974 11 362881 4 363005 4 363013 7 363024 11 363039 4 363050 4 363065 4 363106 4 363155 4 363624 4 363688 11 363838 18 363894 11 364801 4 364925 4 364933 7 365026 4 365075 4 365090 4 365769 7 366721 4 366845 4 366853 7 366946 4 366995 4 367010 4 367689 7 368641 4 368765 4 368773 3 368938 3 369575 4 369586 4 369613 7 369935 4 369946 4 370561 4 370685 4 370693 3 370858 3 371495 4 371506 4 371533 7 371855 4 371866 4 372481 4 372605 4 372613 3 372778 3 373415 4 373426 4 373453 7 373775 4 373786 4 374401 4 374630 4 374698 7 375136 4 375211 12 375316 4 375414 11 375433 3 375523 3 376321 4 376550 4 376618 7 377056 4 377131 12 377236 4 377334 11 377353 3 377443 3 378241 4 378470 4 378523 3 378534 7 378916 4 378935 4 379029 4 379051 4 379205 4 379363 3 380161 4 380390 4 380443 3 380454 7 380836 4 380855 4 380949 4 380971 4 381125 4 381283 3 382081 4 382363 3 382745 4 382756 4 382771 8 383004 4 383203 3 383259 4 383525 4 384001 4 384283 3 384665 4 384676 4 384691 8 384924 4 385123 3 385179 4 385445 4 386214 4 386578 3 386656 4 386863 3 387598 3 387703 3 387736 4 388134 4 388498 3 388576 4 388783 3 389518 3 389623 3 389656 4 390418 3 390436 4 390703 11 390721 12 390781 4 390879 4 392338 3 392356 4 392623 11 392641 12 392701 4 392799 4 394258 3 394276 4 394550 4 394576 4 394633 3 395259 4 396178 3 396196 4 396470 4 396496 4 396553 3 397179 4 398098 3 398105 4 398116 4 398469 4 399016 4 399099 4 399133 7 400018 3 400025 4 400036 4 400389 4 400936 4 401019 4 401053 7 401293 3 401956 4 401964 4 402286 8 402309 4 402973 7 403213 3 403876 4 403884 4 404206 8 404229 4 404893 7 405133 3 405796 4 406063 3 406126 4 406816 4 407053 3 407716 4 407983 3 408046 4 408736 4 408973 3 409636 4 409903 3 409966 4 410656 4 411868 3 411886 8 412576 4 412633 3 413788 3 413806 8 414496 4 414553 3 415539 4 415689 4 417459 4 417609 4 419379 4 421299 4 423211 4 424126 4 424179 4 425131 4 426046 4 426099 4 426455 4 426913 3 428000 4 428375 4 428833 3 429920 4 430295 4 431825 4 431840 4 432215 4 433745 4 433760 4 437844 4 437855 15 437923 3 437975 4 438425 4 438436 4 438688 3 439228 3 439246 4 439764 4 439775 15 439843 3 439895 4 440345 4 440356 4 440608 3 441148 3 441166 4 441680 8 441699 7 441729 4 441815 4 442265 4 442528 3 443600 8 443619 7 443649 4 443735 4 444185 4 444448 3 445520 8 445539 7 445569 4 445655 4 446105 4 446368 3 447380 4 447444 4 447575 4 447721 4 448033 3 448329 4 448779 4 449300 4 449364 4 449495 4 449641 4 449953 3 450249 4 450699 4 451201 4 451299 11 451359 4 451389 4 451873 7 451989 4 452113 3 453121 4 453219 11 453279 4 453309 4 453793 7 453909 4 454033 3 455139 4 455191 12 455218 7 455551 4 455604 7 455615 4 455949 7 455960 4 456016 4 456065 4 457059 4 457111 12 457138 7 457471 4 457524 7 457535 4 457869 7 457880 4 457936 4 457985 4 458881 4 459016 4 459024 19 459058 7 459448 3 459455 4 459620 4 459969 4 460801 4 460936 4 460944 19 460978 7 461368 3 461375 4 461540 4 461889 4 462808 3 462853 7 462864 22 462894 7 463239 4 463295 4 463385 4 463726 4 463809 4 464416 4 464728 3 464773 7 464784 22 464814 7 465159 4 465215 4 465305 4 465646 4 465729 4 466336 4 466648 3 466693 7 466711 8 467071 4 467135 4 467169 4 467225 4 468253 7 468264 7 468568 3 468613 7 468631 8 468991 4 469055 4 469089 4 469145 4 470173 7 470184 7 470533 3 470544 15 470990 4 471065 4 471834 4 471849 4 471973 7 472081 4 472453 3 472464 15 472910 4 472985 4 473754 4 473769 4 473893 7 474001 4 474373 18 474395 4 474406 4 474418 3 474444 4 474905 4 475205 4 475809 7 476293 18 476315 4 476326 4 476338 3 476364 4 476825 4 477125 4 477729 7 478213 11 478246 8 478284 4 478880 4 478888 3 478925 4 478981 4 479008 3 479019 4 479045 4 479086 4 480133 11 480166 8 480204 4 480800 4 480808 3 480845 4 480901 4 480928 3 480939 4 480965 4 481006 4 482053 11 482086 8 482124 4 482720 4 482728 3 482765 4 482821 4 482848 3 482859 4 482885 4 482926 4 483980 8 484006 4 484449 4 484505 8 485203 3 485536 4 485900 8 485926 4 486369 4 486425 8 487123 3 487456 4 487843 7 487929 4 488000 8 488289 4 488304 4 488345 8 488364 4 488461 8 488491 4 489598 3 489763 7 489849 4 489920 8 490209 4 490224 4 490265 8 490284 4 490381 8 490411 4 491518 3 491615 8 491626 4 491649 4 491683 11 491761 4 491769 4 491840 8 492129 4 492136 4 492144 4 492185 8 492268 3 492286 12 492369 4 492609 4 492751 4 493175 4 493306 4 493430 11 493535 8 493546 4 493569 4 493603 11 493681 4 493689 4 493760 8 494049 4 494056 4 494064 4 494105 8 494188 3 494206 12 494289 4 494529 4 494671 4 495095 4 495226 4 495350 11 495376 4 495463 3 495508 3 495515 19 495605 8 495654 4 495680 4 495969 4 495976 4 496025 8 496134 4 496209 4 497015 4 497023 3 497296 4 497383 3 497428 3 497435 19 497525 8 497574 4 497600 4 497889 4 497896 4 497945 8 498054 4 498129 4 498935 4 498943 3 499216 4 499445 4 499490 15 499520 8 499824 4 499869 4 499974 4 500289 4 500368 3 500518 3 501136 4 501365 4 501410 15 501440 8 501744 4 501789 4 501894 4 502209 4 502288 3 502438 3 503203 7 503285 4 503334 4 503360 4 504009 4 504125 4 504688 3 505123 7 505205 4 505254 4 505280 4 505929 4 506045 4 506608 3 506904 4 507043 7 507125 4 507965 4 508048 3 508618 11 508786 4 508824 4 508963 7 509045 4 509885 4 509968 3 510538 11 510706 4 510733 3 510755 4 510823 3 510886 8 510965 4 511445 4 511505 8 511569 4 511685 4 511809 4 512371 4 512458 3 512653 3 512675 4 512743 3 512806 8 512885 4 513365 4 513425 8 513489 4 513605 4 513729 4 514291 4 514378 3 514674 4 514850 4 515229 4 515345 11 515386 4 515525 4 515649 4 516226 4 516298 3 516470 11 516594 4 516770 4 517149 4 517265 11 517306 4 517445 4 517569 4 518146 4 518218 3 518390 11 518566 4 518645 4 519185 4 520314 4 520486 4 520565 4 521105 4 522234 4 522406 4 522485 4 523025 4 524154 4 524323 7 524405 4 524975 4 525208 3 525793 3 526243 7 526325 4 526895 4 527128 3 527713 3 528088 3 528129 4 528245 4 528316 4 528815 4 529910 4 530008 3 530049 4 530165 4 530236 4 530735 4 531830 4 532085 4 532171 4 532516 4 532663 3 533364 4 533458 3 534005 4 534091 4 534436 4 534583 3 535284 4 535378 3 535696 4 535899 4 535974 4 536000 4 536011 4 536019 4 536356 4 536506 4 536611 4 537204 4 537616 4 537819 4 537894 4 537920 4 537931 4 537939 4 538276 4 538426 4 538531 4 539124 4 539653 3 539664 4 539773 3 539840 4 539851 4 539859 4 539919 4 539953 3 539960 8 540196 4 540451 4 541573 3 541584 4 541693 3 541760 4 541771 4 541779 4 541839 4 541873 3 541880 8 542116 4 542371 4 543485 4 543493 3 543504 4 543586 4 543594 4 543601 4 543613 3 544036 4 544171 4 544291 4 545405 4 545413 3 545424 4 545506 4 545514 4 545521 4 545533 3 545956 4 546091 4 546211 4 547325 4 547333 3 547344 4 547363 3 547415 8 547426 4 547441 4 547449 7 547498 3 548131 4 549245 4 549253 3 549264 4 549283 3 549335 8 549346 4 549361 4 549369 7 549418 3 550051 4 551165 4 551191 4 551203 3 551274 4 551293 3 551330 11 551731 4 551979 4 552950 4 553085 4 553111 4 553123 3 553194 4 553213 3 553250 11 553651 4 553899 4 554870 4 554964 4 554990 4 555001 8 555039 4 555136 4 555185 4 555811 4 555819 4 556798 3 556884 4 556910 4 556921 8 556959 4 557056 4 557105 4 557731 4 557739 4 558718 3 558804 4 558830 4 558841 8 558879 4 558976 4 559025 4 559651 4 559659 4 560638 3 560780 4 560941 8 561571 4 562464 4 562558 3 562700 4 562861 8 563491 4 564384 4 564478 3 564594 7 564609 11 564624 7 564714 4 564804 4 565400 4 566304 4 566311 4 566394 4 566514 7 566529 11 566544 7 566634 4 566724 4 567320 4 568224 4 568231 4 568314 4 568453 3 568546 4 568569 4 568644 4 570144 4 570234 4 570373 3 570466 4 570489 4 570564 4 572064 4 572154 4 572311 4 572326 4 572405 8 572416 4 572844 4 573410 4 573984 4 574074 4 574231 4 574246 4 574325 8 574336 4 574764 4 575330 4 575904 4 575994 4 577141 8 577190 4 577693 3 577914 7 579061 8 579110 4 579613 3 579834 7 580010 8 580033 3 581750 8 581930 8 581953 3 583670 8 583693 7 583850 8 583861 4 583955 4 583981 4 584000 4 584454 4 584469 4 584825 4 585590 4 585613 7 585770 8 585781 4 585875 4 585901 4 585920 4 586374 4 586389 4 586745 4 587510 4 587701 4 587795 4 588665 4 588676 4 588819 7 589621 4 589715 4 590585 4 590596 4 590739 7 591538 7 591631 4 591680 4 591804 4 592344 4 592659 7 593458 7 593551 4 593600 4 593724 4 594264 4 594579 7 595378 7 595471 4 595520 4 595644 4 596184 4 596499 7 597301 4 597309 4 597391 4 597433 7 597451 4 597564 4 599221 4 599229 4 599311 4 599353 7 599371 4 599484 4 601141 4 601231 4 601261 4 601404 4 601704 4 602664 4 603061 4 603151 4 603181 4 603324 4 603624 4 604584 4 604948 3 604974 11 605443 3 605544 4 605578 3 605589 4 605671 4 605686 4 606463 3 606868 3 606894 11 607363 3 607464 4 607498 3 607509 4 607591 4 607606 4 608383 3 608746 4 608788 3 608949 4 609125 4 609410 4 609418 3 609511 4 610370 4 610666 4 610708 3 610869 4 611045 4 611330 4 611338 3 611431 4 612290 4 616618 3 616636 4 616689 4 616711 4 616820 4 616970 4 617236 4 618538 3 618556 4 618609 4 618631 4 618740 4 618890 4 619156 4 620660 4 620803 3 620818 3 621868 3 622580 4 622723 3 622738 3 623788 3 624016 4 624106 12 624170 4 624500 4 624868 3 625910 4 625936 4 626026 12 626090 4 626420 4 626788 3 627830 4 627841 4 627946 8 628040 4 628239 4 628348 3 628696 4 629750 4 629761 4 629866 8 629960 4 630159 4 630268 3 630616 4 631670 4 631681 4 631786 8 631880 4 632079 4 632188 3 632536 4 633590 4 633864 4 633991 4 634021 4 634100 4 634250 4 634426 4 635784 4 635911 4 635941 4 636020 4 636170 4 636346 4 637546 4 637858 7 638068 3 638098 3 639118 3 639466 4 639778 7 639988 3 640018 3 641038 3 641420 4 641428 7 641566 4 641581 4 641671 8 641686 4 641698 3 641795 8 641911 4 641930 4 641956 8 643340 4 643348 7 643486 4 643501 4 643591 8 643606 4 643618 3 643715 8 643831 4 643850 4 643876 8 645136 4 645238 3 645268 3 645324 4 645440 4 645511 8 645538 3 645755 11 645916 4 645969 4 646006 4 646783 3 646790 8 647056 4 647158 3 647188 3 647244 4 647360 4 647431 8 647458 3 647675 11 647836 4 647889 4 647926 4 648703 3 648710 8 648973 7 649074 7 649108 3 649351 8 649366 4 649396 4 649486 4 649603 3 650623 7 650634 4 650893 7 650994 7 651028 3 651271 8 651286 4 651316 4 651406 4 651523 3 652543 7 652554 4 652816 4 652903 3 652929 15 652948 3 652989 7 653116 4 653124 4 653184 19 653225 4 653236 4 653323 3 653443 3 653450 4 653495 4 653686 4 654324 4 654530 4 654553 3 654736 4 654823 3 654849 15 654868 3 654909 7 655036 4 655044 4 655104 19 655145 4 655156 4 655243 3 655363 3 655370 4 655415 4 655606 4 656244 4 656450 4 656473 3 656656 4 656743 3 656750 8 656765 11 656836 4 657163 3 657290 4 657298 3 657316 4 657335 4 657526 4 658100 4 658393 7 658576 4 658663 3 658670 8 658685 11 658756 4 659083 3 659210 4 659218 3 659236 4 659255 4 659446 4 660020 4 660313 7 660496 4 660594 4 660601 15 660620 4 660680 8 660699 7 660766 4 661003 3 661010 4 661130 4 661138 3 661149 11 661164 4 661805 4 661888 3 662199 4 662416 4 662514 4 662521 15 662540 4 662600 8 662619 7 662686 4 662923 3 662930 4 663050 4 663058 3 663069 11 663084 4 663725 4 663808 3 664119 4 664336 4 664363 3 664419 4 664475 4 664771 4 664843 3 664850 8 664996 4 666256 4 666283 3 666339 4 666395 4 666691 4 666763 3 666770 8 666916 4 668176 4 668203 3 668259 4 668315 4 668611 4 668683 3 668690 8 668836 4 670171 4 670179 4 670194 4 670235 4 670393 3 670479 19 670539 4 670603 3 670610 4 671026 4 672091 4 672099 4 672114 4 672155 4 672313 3 672399 19 672459 4 672523 3 672530 4 672946 4 673929 4 674011 4 674019 4 674098 3 674109 4 674326 4 674334 4 674368 3 674379 4 674450 4 675849 4 675931 4 675939 4 676018 3 676029 4 676246 4 676254 4 676288 3 676299 4 676370 4 677761 4 677773 3 677851 4 677859 7 677934 7 678163 7 678185 4 678200 4 678211 4 678286 8 678298 3 678650 4 679681 4 679693 3 679771 4 679779 7 679854 7 680083 7 680105 4 680120 4 680131 4 680206 8 680218 3 680570 4 681613 3 681635 4 681901 8 681999 7 682010 4 682021 4 682036 8 682074 4 682138 3 682636 4 683304 4 683533 3 683555 4 683821 8 683919 7 683930 4 683941 4 683956 8 683994 4 684058 3 684556 4 685224 4 685828 7 685839 15 685861 4 685880 4 685921 4 687335 4 687748 7 687759 15 687781 4 687800 4 687841 4 689255 4 689345 4 689446 4 689683 7 689694 7 689761 4 690654 4 691265 4 691366 4 691603 7 691614 7 691681 4 692574 4 693223 11 693350 4 693365 4 693436 8 693459 22 693523 7 693534 7 693564 4 693579 7 693590 4 693601 4 693609 4 693901 4 694475 4 694494 4 694764 4 694809 4 695034 4 695143 11 695270 4 695285 4 695356 8 695379 22 695443 7 695454 7 695484 4 695499 7 695510 4 695521 4 695529 4 695821 4 696395 4 696414 4 696684 4 696729 4 696954 4 696961 4 696969 7 697205 4 697325 4 697374 4 697441 4 697449 4 698315 4 698334 4 698536 4 698604 4 698881 4 698889 7 699125 4 699245 4 699294 4 699361 4 699369 4 700235 4 700254 4 700456 4 700524 4 700816 4 700888 3 700933 3 701116 4 701124 4 701154 4 701218 7 701244 4 701251 8 701544 4 701581 4 701701 4 702736 4 702808 3 702853 3 703036 4 703044 4 703074 4 703138 7 703164 4 703171 8 703464 4 703501 4 703621 4 704656 4 704728 3 704773 3 704956 4 704964 4 704994 4 705058 7 705084 4 705091 8 705384 4 705421 4 705541 4 706693 3 706876 4 706951 4 706966 4 706981 4 707004 4 707341 4 707799 4 708613 3 708796 4 708871 4 708886 4 708901 4 708924 4 709261 4 709719 4 710626 8 710810 4 710874 15 710908 3 710915 4 711106 4 711639 4 712546 8 712730 4 712794 15 712828 3 712835 4 713026 4 713559 4 714639 7 714650 4 714658 7 714714 4 714725 4 714740 4 714800 4 715029 4 715104 4 715243 3 715606 4 715659 4 716143 3 716559 7 716570 4 716578 7 716634 4 716645 4 716660 4 716720 4 716949 4 717024 4 717163 3 717526 4 717579 4 718063 3 718295 4 718396 8 718479 15 718498 7 718554 4 718561 12 718580 4 718869 4 718944 4 719446 4 719724 4 719983 3 720215 4 720316 8 720399 15 720418 7 720474 4 720481 12 720500 4 720789 4 720864 4 721366 4 721644 4 721903 3 722251 4 722300 4 722341 4 722409 4 722836 4 723451 4 724171 4 724220 4 724261 4 724329 4 724756 4 725371 4 726181 4 726219 4 726226 4 726913 3 727655 4 727666 4 728101 4 728139 4 728146 4 728833 3 729575 4 729586 4 730059 4 731979 4 733441 4 733453 7 733618 7 733629 26 733685 8 733696 4 733936 4 735350 4 735361 4 735373 7 735538 7 735549 26 735605 8 735616 4 735856 4 737270 4 737293 3 737671 4 737690 8 737701 4 737761 4 737769 4 737964 4 739190 4 739213 3 739591 4 739610 8 739621 4 739681 4 739689 4 739884 4 741110 4 741133 3 741511 4 741530 8 741541 4 741601 4 741609 4 741804 4 743030 4 743405 4 743431 4 743469 4 743521 4 743990 4 744935 4 744946 4 745325 4 745351 4 745389 4 745441 4 745910 4 746855 4 746866 4 747271 4 747361 4 747830 4 748453 3 749191 4 749281 4 749750 4 750373 3 751096 4 751111 4 751636 4 752293 3 753016 4 753031 4 753556 4 754213 3 754951 8 755026 4 755150 4 756133 3 756264 4 756871 8 756946 4 757070 4 758053 3 758184 4 758413 3 758660 4 759864 4 760333 3 760580 4 761784 4 762579 4 762590 4 762658 3 763805 4 763813 3 764015 4 764499 4 764510 4 764578 3 765725 4 765733 3 765935 4 766494 4 766573 3 767645 4 767784 4 768414 4 768493 3 769565 4 769704 4 770034 4 770236 4 770251 4 770259 4 770266 4 770308 3 770319 11 771624 4 771954 4 772156 4 772171 4 772179 4 772186 4 772228 3 772239 11 773544 4 774035 11 774058 3 774241 12 774256 4 774268 3 775235 4 775955 11 775978 3 776161 12 776176 4 776188 3 777155 4 777601 4 777965 8 778014 4 778078 11 778096 4 779521 4 779885 8 779934 4 779998 11 780016 4 781441 4 781805 8 781854 4 781918 11 781936 4 783541 19 783684 11 783736 4 783751 4 783759 4 783766 8 783864 4 783905 4 785461 19 785604 11 785656 4 785671 4 785679 4 785686 8 785784 4 785825 4 787576 8 787588 7 787783 3 789496 8 789508 7 789703 3 791229 4 791416 8 791428 3 791446 4 791544 4 791623 3 791724 4 791803 3 792958 3 793149 4 793336 8 793348 3 793366 4 793464 4 793543 3 793644 4 793723 3 794878 3 795069 4 795204 7 795226 4 795286 4 795463 3 795556 4 796798 3 796989 4 797124 7 797146 4 797206 4 797383 3 797476 4 798718 3 798909 4 799066 4 799119 11 799134 4 800630 4 800829 4 800986 4 801039 11 801054 4 802550 4 802936 4 802955 4 802963 7 802974 4 803026 4 803068 3 803131 12 804856 4 804875 4 804883 7 804894 4 804946 4 804988 3 805051 12 806728 3 806735 4 806743 15 806761 4 806776 8 806803 7 806814 4 806866 8 806945 4 807901 4 808648 3 808655 4 808663 15 808681 4 808696 8 808723 7 808734 4 808786 8 808865 4 809821 4 810575 4 810586 4 810594 4 810706 4 810755 8 810796 4 810804 7 811741 4 812495 4 812506 4 812514 4 812626 4 812675 8 812716 4 812724 7 813661 4 814415 4 814423 7 814483 7 814554 4 814591 8 814648 3 816335 4 816343 7 816403 7 816474 4 816511 8 816568 3 818255 4 818263 7 818323 7 818394 4 818431 8 818488 3 820130 23 820243 3 820351 4 820614 4 822050 23 822163 3 822271 4 822534 4 823970 4 823978 15 824083 3 824128 3 824139 4 825890 4 825898 15 826003 3 826048 3 826059 4 827821 8 827923 3 827994 4 828005 4 828039 4 828140 4 829003 3 829741 8 829843 3 829914 4 829925 4 829959 4 830060 4 830923 3 831654 4 831661 4 831676 8 831763 3 831834 4 831845 4 831886 4 831980 4 832134 4 832816 4 832936 4 833071 4 833259 4 833574 4 833581 4 833596 8 833683 3 833754 4 833765 4 833806 4 833900 4 834054 4 834736 4 834856 4 834991 4 835179 4 835201 4 835216 4 835513 11 835603 3 835674 4 835685 4 835963 3 836776 4 836934 4 836941 8 837099 4 837121 4 837136 4 837433 11 837523 3 837594 4 837605 4 837883 3 838696 4 838854 4 838861 8 839019 4 839053 3 839353 3 839446 4 839525 4 839660 4 840774 4 840781 4 840973 3 841273 3 841366 4 841445 4 841580 4 842694 4 842701 4 842893 3 842900 4 843174 7 843451 4 843646 4 843661 4 843718 3 843823 3 843860 4 844610 4 844813 3 844820 4 845094 7 845371 4 845566 4 845581 4 845638 3 845743 3 845780 4 846530 4 846725 4 847010 8 847700 4 847888 3 847899 4 848645 4 848930 8 849620 4 849808 3 849819 4 850846 4 850966 4 851540 4 852766 4 852886 4 853460 4 854686 4 854806 4 855380 4 856490 4 856726 4 856914 4 857364 4 857780 4 858410 4 858646 4 858834 4 859284 4 859700 4 860195 4 860754 4 861223 3 862115 4 862674 4 863143 3 864013 3 864279 4 864406 4 864886 4 865933 3 866199 4 866326 4 866806 4 868119 4 868246 4 868498 3 869206 4 870039 4 870166 4 870418 3 871126 4 871813 3 871951 8 872608 3 873733 3 873871 8 874528 3 875780 4 875791 4 875803 3 876283 3 876294 4 877239 7 877700 4 877711 4 877723 3 878203 3 878214 4 879159 7 879376 4 879388 3 879620 4 879643 3 880123 3 880134 4 880183 3 881071 4 881079 7 881296 4 881308 3 881540 4 881563 3 882043 3 882054 4 882103 3 882991 4 882999 7 883224 7 883321 4 883790 4 883963 3 884705 4 885144 7 885241 4 885710 4 885883 3 886625 4 887053 3 887068 3 887446 4 887863 3 888504 4 888973 3 888988 3 889366 4 889783 3 890424 4 890893 3 890908 3 891286 4 891703 3 892344 4 892828 7 893623 3 894346 4 894358 3 894526 4 894748 7 895543 3 896266 4 896278 3 896446 4 896656 4 896668 7 897046 4 898100 4 898111 4 898363 3 898576 4 898588 7 898966 4 900020 4 900031 4 900283 3 900496 4 900508 3 900740 4 900886 4 901940 4 902199 7 902416 4 902428 3 902660 4 902806 4 903860 4 904119 7 904340 4 904348 3 904396 4 904726 4 905041 4 906035 4 906260 4 906268 3 906316 4 906646 4 906961 4 907955 4 908180 4 908188 3 908233 3 908566 4 909215 4 909875 4 910100 4 910108 3 910153 3 910486 4 911135 4 911795 4 912020 4 912028 3 912035 4 912076 4 912264 4 912406 4 912744 4 913126 4 913456 4 913715 4 913940 4 913948 3 913955 4 913996 4 914184 4 914326 4 914664 4 915046 4 915376 4 915635 4 915856 8 915868 11 915913 7 916246 4 916584 4 916865 4 916948 3 916966 4 917319 4 917514 4 917521 4 917555 4 917776 8 917788 11 917833 7 918166 4 918504 4 918785 4 918868 3 918886 4 919239 4 919434 4 919441 4 919475 4 919696 8 919708 3 919715 4 919738 7 919749 22 919929 4 920086 4 920424 4 920735 4 921361 4 921616 8 921628 3 921635 4 921658 7 921669 22 921849 4 922006 4 922344 4 922655 4 923281 4 923536 8 923548 3 923555 4 923574 45 923769 4 923926 4 924575 4 925201 4 925456 8 925468 3 925475 4 925494 45 925689 4 925846 4 926495 4 927121 4 927376 8 927388 3 927395 4 927414 45 927609 4 927766 4 928415 4 929041 4 929296 8 929356 4 929368 7 930294 4 930301 4 930406 4 930991 4 931044 4 931216 8 931276 4 931288 7 932214 4 932221 4 932326 4 932911 4 932964 4 933136 4 933155 4 933196 4 933864 4 934183 3 934246 4 934708 3 934921 4 935056 4 935075 4 935116 4 935784 4 936103 3 936166 4 936628 3 936841 4 937595 4 938023 3 938450 4 938510 4 938761 4 938769 4 939515 4 939943 3 940370 4 940430 4 940681 4 940689 4 940813 7 940876 23 940906 4 940914 4 941206 4 941435 4 941870 4 942609 4 942733 7 942796 23 942826 4 942834 4 943126 4 943355 4 943790 4 944529 4 944656 4 944735 4 944746 4 944754 4 945275 4 945384 4 945721 4 946003 7 946224 4 946449 4 946576 4 946655 4 946666 4 946674 4 947195 4 947304 4 947641 4 947923 7 948144 4 948369 4 948496 4 948583 15 950030 4 950053 7 950064 4 950416 4 950503 15 951950 4 951973 7 951984 4 952333 3 952434 4 953675 4 953683 3 953701 4 953810 4 953821 4 953870 4 953878 3 953893 7 954253 3 954354 4 955595 4 955603 3 955621 4 955730 4 955741 4 955790 4 955798 3 955813 7 956173 7 957174 7 957238 3 957718 3 957901 4 958093 7 959094 7 959158 3 959638 3 959821 4 961074 4 961329 4 961355 11 961558 3 962994 4 963249 4 963275 11 963478 3 964914 4 965169 4 965195 11 965398 3 967126 4 969046 4 969613 3 971150 4 971233 3 971533 3 973070 4 973153 3 973449 7 974510 4 974926 4 974986 8 975076 4 975084 4 975369 7 976430 4 976846 4 976906 8 976996 4 977004 4 977289 7 977300 8 977930 4 978196 4 978350 4 978744 4 979209 7 979220 8 979850 4 980116 4 980270 4 980664 4 981129 7 981140 11 981770 4 983049 7 983060 11 983690 4 984973 22 985093 3 985366 4 985610 4 985963 3 986619 4 986893 22 987013 3 987286 4 987530 4 987883 3 988539 4 988813 3 988831 4 989079 4 989206 4 989450 4 990061 4 990376 4 990733 3 990751 4 990999 4 991126 4 991370 4 991981 4 992296 4 992660 4 992938 3 993046 4 993290 4 993436 4 994580 4 994858 3 994966 4 995210 4 995356 4 996493 11 996646 4 998413 11 998566 4 1000333 11 1000486 4 1002249 15 1002406 4 1002530 4 1003029 4 1004169 15 1004326 4 1004450 4 1004949 4 1006093 15 1006869 4 1008013 15 1008789 4 1010019 4 1010053 3 1010086 4 1010203 3 1010938 3 1011939 4 1011973 3 1012006 4 1012123 3 1012858 3 1013773 3 1013803 3 1013859 4 1013866 4 1013885 4 1013926 4 1014016 12 1014043 3 1014958 3 1015670 4 1015693 3 1015723 3 1015779 4 1015786 4 1015805 4 1015846 4 1015936 12 1015963 3 1016878 3 1017590 4 1017613 3 1017706 4 1017766 4 1017856 4 1017864 4 1017875 4 1019510 4 1019533 3 1019626 4 1019686 4 1019776 4 1019784 4 1019795 4 1021430 4 1021449 7 1021576 4 1021704 4 1022600 4 1023369 7 1023496 4 1023624 4 1024520 4 1025293 3 1025555 8 1027213 3 1027475 8 1029384 4 1029395 4 1031304 4 1031315 4 1032973 3 1033224 4 1033235 4 1034893 3 1035144 4 1035155 4 1036809 7 1037056 4 1037064 4 1037075 4 1037986 4 1038328 3 1038646 4 1038729 7 1038976 4 1038984 4 1038995 4 1039906 4 1040248 3 1040566 4 1040649 7 1040896 4 1040904 4 1040915 4 1041826 4 1042168 3 1042486 4 1042569 7 1042906 4 1044080 4 1044470 4 1044489 7 1044826 4 1046000 4 1046390 4 1046409 7 1046630 4 1048310 4 1048329 7 1048550 4 1050230 4 1050249 7 1050260 4 1052150 4 1052169 7 1052180 4 1054070 4 1054089 7 1055990 4 1056009 7 1057910 4 1057929 7 1058053 3 1059849 7 1059973 3 1061769 7 1062961 4 1063666 4 1063689 7 1064881 4 1065586 4 1065613 3 1066899 4 1067049 4 1067533 3 1068819 4 1068969 4 1070874 4 1072794 4 1074298 7 1075093 3 1075100 4 1076218 7 1077013 3 1077020 4 1078138 7 1078933 3 1078940 4 1080223 3 1080275 4 1080545 4 1080661 4 1080845 4 1080853 3 1082143 3 1082195 4 1082465 4 1082581 4 1082765 4 1082773 3 1083110 4 1084115 4 1084228 3 1084501 8 1084513 3 1085030 4 1086035 4 1086148 3 1086421 8 1086433 3 1087910 4 1088068 3 1088169 4 1088334 4 1088345 4 1088555 4 1089830 4 1089988 3 1090089 4 1090254 4 1090265 4 1090475 4 1090573 3 1092196 4 1092335 4 1092343 15 1092395 4 1092493 3 1094116 4 1094255 4 1094263 15 1094315 4 1094413 3 1094454 4 1096111 4 1096123 7 1096333 3 1096374 4 1098031 4 1098043 7 1098253 3 1098511 8 1100026 4 1100173 3 1100431 8 1101946 4 1102093 3 1102134 4 1102156 4 1102194 4 1102288 3 1102310 4 1102351 8 1102415 4 1103799 4 1104013 3 1104054 4 1104076 4 1104114 4 1104208 3 1104230 4 1104271 8 1104335 4 1105719 4 1105933 7 1106019 4 1107478 3 1107639 4 1107853 7 1107939 4 1109398 3 1109559 4 1109818 3 1110103 3 1110455 4 1111475 4 1111483 7 1111738 3 1112023 3 1112375 4 1113395 4 1113403 7 1113658 3 1113943 3 1114295 4 1115315 4 1115323 7 1115863 3 1117243 7 1117254 11 1117351 8 1117783 3 1119163 7 1119174 11 1119271 8 1119361 4 1120156 4 1121281 4 1122076 4 1123213 3 1123415 4 1123490 4 1124521 4 1124626 4 1124724 4 1124735 4 1124799 4 1124941 4 1125016 4 1125110 4 1125133 3 1125335 4 1125410 4 1126441 4 1126546 4 1126644 4 1126655 4 1126719 4 1126861 4 1126936 4 1127030 4 1127053 3 1127180 4 1127199 4 1127251 15 1127311 12 1127326 8 1127371 4 1128361 4 1128466 4 1128628 7 1128973 3 1129100 4 1129119 4 1129171 15 1129231 12 1129246 8 1129291 4 1130281 4 1130386 4 1130548 7 1131035 4 1131099 7 1131170 4 1131238 3 1131264 4 1132453 3 1132955 4 1133019 7 1133090 4 1133158 3 1133184 4 1134373 3 1134721 4 1134729 4 1134736 4 1135006 4 1135066 4 1135273 3 1136274 4 1136641 4 1136649 4 1136656 4 1136926 4 1136986 4 1137193 3 1138194 4 1138899 4 1138906 4 1138936 4 1138974 4 1140114 4 1140361 4 1140819 4 1140826 4 1140856 4 1140894 4 1142034 4 1142281 4 1146616 4 1148131 8 1148536 4 1150051 8 1150456 4 1151971 8 1152013 3 1152196 4 1152658 3 1153933 3 1154116 4 1154578 3 1155853 3 1155991 4 1157353 3 1157679 4 1157773 3 1157911 4 1159273 3 1159599 4 1159831 4 1161751 4 1163671 4 1164189 4 1164204 4 1165029 4 1165591 4 1166109 4 1166124 4 1166949 4 1167373 3 1167511 4 1168085 4 1169293 3 1169431 4 1170005 4 1171213 3 1172671 4 1173133 3 1174591 4 1175053 3 1176354 4 1176425 4 1176973 3 1178274 4 1178345 4 1178881 4 1178893 3 1180220 4 1180239 4 1180265 4 1180801 4 1180813 3 1182140 4 1182159 4 1182185 4 1182721 4 1183453 3 1184416 4 1184518 3 1184641 4 1185373 3 1186336 4 1186438 3 1186561 4 1187293 3 1188256 4 1188358 3 1188481 4 1188534 4 1190169 4 1190176 4 1190375 4 1190383 7 1190401 4 1190454 4 1192089 4 1192096 4 1192295 4 1192303 7 1193353 3 1193788 7 1193919 4 1193926 4 1195273 3 1195708 7 1195839 4 1195846 4 1196173 3 1196214 4 1197628 3 1197721 4 1197759 4 1197766 4 1198055 4 1198093 3 1198134 4 1199548 3 1199641 4 1199679 4 1199686 4 1199975 4 1201561 4 1201689 4 1203481 4 1203609 4 1204513 3 1205401 4 1206433 3 1207321 4 1207734 4 1208848 3 1209125 4 1209358 3 1209571 4 1209654 4 1210768 3 1211045 4 1211278 3 1211491 4 1212309 4 1212616 4 1212658 3 1212965 8 1214229 4 1214536 4 1214578 3 1214885 8 1216033 3 1216805 4 1216921 4 1217015 4 1217026 4 1217034 4 1217953 3 1218725 4 1218841 4 1218935 4 1218946 4 1218954 4 1220323 3 1220341 4 1220529 4 1220701 4 1220761 4 1220855 4 1222243 3 1222261 4 1222449 4 1222621 4 1222681 4 1222775 4 1224163 3 1224181 4 1224369 4 1224541 4 1224601 4 1224695 4 1225741 4 1226371 4 1226416 4 1226443 3 1227661 4 1228291 4 1228336 4 1228363 3 1228816 4 1229165 11 1230283 3 1230290 4 1230736 4 1231085 11 1232203 3 1232210 4 1232656 4 1234130 4 1234138 3 1234295 4 1234531 4 1234576 4 1236050 4 1236058 3 1236215 4 1236451 4 1237276 4 1237284 4 1237306 4 1237816 4 1237966 8 1237978 7 1238135 4 1238371 8 1239196 4 1239204 4 1239226 4 1239736 4 1239886 8 1239898 7 1240055 4 1240291 8 1240640 4 1241656 4 1241791 8 1241818 7 1241975 4 1242009 4 1242560 4 1243576 4 1243711 8 1243738 7 1243895 4 1243929 4 1244454 4 1244461 4 1244469 22 1244495 4 1244521 4 1244990 4 1245594 4 1245650 4 1245815 4 1246374 4 1246381 4 1246389 22 1246415 4 1246441 4 1246910 4 1247514 4 1247570 4 1247735 4 1248804 4 1249336 4 1249434 4 1249670 4 1249689 4 1249854 4 1250724 4 1251256 4 1251354 4 1251590 4 1251609 4 1251774 4 1253176 4 1253323 3 1253338 3 1253510 4 1253521 4 1253686 4 1255096 4 1255243 3 1255258 3 1255430 4 1255441 4 1255606 4 1257016 4 1257343 15 1257361 4 1257523 7 1258936 4 1259263 15 1259281 4 1259443 7 1260856 4 1261183 15 1261201 4 1261363 7 1262270 4 1263106 8 1263331 4 1264190 4 1265026 8 1265251 4 1265941 4 1266684 4 1266691 4 1266943 11 1267861 4 1268604 4 1268611 4 1268863 11 1270550 4 1270569 4 1270783 3 1272470 4 1272489 4 1272703 3 1273719 4 1273768 3 1273824 4 1274866 4 1275639 4 1275688 3 1275744 4 1276786 4 1277664 4 1278226 8 1279584 4 1280146 8 1280656 4 1281946 4 1282085 4 1282145 4 1282288 3 1282576 4 1283866 4 1284005 4 1284065 4 1284208 3 1284496 4 1285250 4 1285786 4 1285854 7 1285925 4 1285959 4 1285985 4 1285996 4 1286004 4 1286128 3 1286416 4 1287170 4 1287706 4 1287774 7 1287845 4 1287879 4 1287905 4 1287916 4 1287924 4 1288048 3 1288333 11 1288378 3 1289825 4 1290121 4 1290215 4 1290253 11 1290298 3 1291745 4 1292041 4 1292135 4 1292218 3 1293384 4 1293684 4 1294138 3 1295304 4 1295604 4 1296054 11 1297363 3 1297974 11 1299283 3 1299894 11 1301203 3 1301814 4 1301821 8 1302144 4 1303734 4 1303741 8 1304064 4 1305661 8 1305673 15 1305913 3 1305920 4 1305984 4 1306820 11 1306981 4 1307428 3 1307454 4 1307581 8 1307593 15 1307833 3 1307840 4 1307904 4 1308740 11 1308901 4 1309348 3 1309374 4 1309501 12 1309516 19 1309539 4 1309726 4 1309734 4 1309753 3 1309760 4 1309824 4 1311421 12 1311436 19 1311459 4 1311646 4 1311654 4 1311673 3 1311680 4 1311744 4 1313296 4 1313334 11 1313356 4 1313364 4 1313379 4 1313574 11 1313593 3 1313600 4 1313705 4 1315216 4 1315254 11 1315276 4 1315284 4 1315299 4 1315494 11 1315513 3 1315520 4 1315625 4 1317136 4 1317174 4 1317189 4 1317204 4 1317219 4 1317388 3 1317399 4 1317545 4 1318460 4 1318535 4 1318546 8 1319056 4 1319094 4 1319109 4 1319124 4 1319139 4 1319308 3 1319319 4 1319465 4 1320380 4 1320455 4 1320466 8 1321235 8 1322386 4 1322499 4 1323155 8 1324306 4 1324419 4 1325683 3 1326706 4 1327603 3 1328626 4 1329523 3 1330303 3 1331443 3 1332223 3 1332500 4 1332950 4 1333363 3 1334165 4 1334308 3 1334420 4 1334870 4 1335283 3 1336085 4 1336228 3 1336340 4 1336790 4 1337203 3 1338005 4 1338148 3 1339123 3 1340053 3 1340124 4 1341043 3 1341973 3 1342044 4 1342404 4 1342809 4 1342944 4 1342963 3 1343818 7 1343900 4 1344324 4 1344729 4 1344864 4 1344883 3 1345738 7 1345820 4 1346236 4 1346244 4 1346784 4 1347114 4 1348156 4 1348164 4 1348704 4 1349034 4 1350076 4 1350084 4 1351348 3 1351363 7 1351599 4 1351996 4 1352004 4 1353268 3 1353283 7 1353519 4 1353916 4 1353991 4 1354644 4 1354925 4 1355188 3 1355203 7 1355289 4 1355836 4 1355911 4 1356564 4 1356845 4 1357108 3 1357123 7 1357209 4 1357831 4 1359046 4 1359751 4 1360966 4 1361379 4 1361559 4 1362541 4 1362665 4 1363299 4 1363479 4 1364461 4 1364585 4 1365200 4 1365208 15 1365226 4 1365545 4 1366018 3 1366025 4 1366299 4 1366505 4 1367015 4 1367120 4 1367128 15 1367146 4 1367465 4 1367938 3 1367945 4 1368219 4 1368425 4 1368935 4 1369359 4 1369771 4 1371279 4 1371691 4 1373199 4 1373611 4 1375003 3 1375111 4 1375310 4 1375516 12 1376923 3 1377031 4 1377230 4 1377436 12 1379349 4 1379368 3 1381269 4 1381288 3 1383196 4 1383208 3 1383264 4 1383800 4 1384033 3 1384216 4 1385116 4 1385128 3 1385184 4 1385720 4 1385953 3 1386136 4 1386545 4 1386628 3 1386639 4 1386823 3 1387029 4 1387036 4 1387104 7 1387396 4 1388465 4 1388548 3 1388559 4 1388743 3 1388949 4 1388956 4 1389024 7 1389316 4 1390468 3 1390663 3 1390948 3 1391229 7 1391664 4 1392388 3 1392583 3 1392868 3 1393149 7 1393584 4 1395504 4 1395815 4 1397424 4 1397735 4 1399134 4 1399655 4 1401054 4 1401575 4 1401984 4 1402456 4 1402835 4 1402933 3 1403270 4 1403904 4 1404376 4 1404755 4 1404853 3 1405190 4 1406304 4 1406765 4 1406885 4 1407103 3 1407110 4 1407121 4 1408224 4 1408685 4 1408805 4 1409023 3 1409030 4 1409041 4 1410144 4 1410605 4 1410725 4 1410943 3 1410950 4 1410961 4 1411216 4 1412064 4 1412330 4 1412499 4 1412675 4 1412863 3 1412881 4 1413136 4 1413984 4 1414250 4 1414419 4 1414595 4 1414783 3 1414801 4 1415056 4 1415904 4 1416421 4 1416433 3 1416511 4 1416976 4 1417824 4 1418341 4 1418353 3 1418431 4 1418896 4 1419253 3 1420250 26 1420816 4 1421173 3 1422170 26 1422721 4 1424079 4 1424086 8 1424098 7 1424109 7 1424593 3 1424641 4 1425999 4 1426006 8 1426018 7 1426029 7 1426513 3 1426906 4 1427908 3 1427926 8 1427938 7 1427953 3 1428826 4 1429828 3 1429846 8 1429858 7 1429873 3 1431624 4 1431748 3 1431759 4 1431778 3 1433544 4 1433668 3 1433679 4 1433698 3 1434613 3 1435381 8 1435974 4 1436026 4 1436113 3 1436120 4 1436533 3 1437301 8 1437894 4 1437946 4 1438033 3 1438040 4 1438434 7 1438813 3 1438820 4 1438828 3 1439259 4 1439814 4 1439960 4 1440354 7 1440733 3 1440740 4 1440748 3 1441179 4 1441734 4 1441880 4 1442244 7 1442259 4 1443275 4 1443395 4 1443654 4 1444164 7 1444179 4 1445195 4 1445315 4 1445574 4 1446084 7 1446099 4 1447115 4 1447235 4 1447494 4 1447693 3 1449031 4 1449369 4 1449485 4 1449613 3 1450951 4 1451289 4 1451405 4 1451578 7 1452076 4 1452995 4 1453284 4 1453318 3 1453325 4 1453498 7 1453996 4 1454915 4 1455204 4 1455238 3 1455245 4 1455916 4 1455924 4 1456816 4 1457120 8 1457131 4 1457158 3 1457165 8 1457176 4 1457836 4 1457844 4 1458736 4 1459040 8 1459051 4 1459078 3 1459085 8 1459096 4 1459554 4 1459569 4 1459745 4 1459756 4 1460956 4 1460964 4 1460990 4 1461001 12 1461016 4 1461474 4 1461489 4 1461665 4 1461676 4 1462876 4 1462884 4 1462910 4 1462921 12 1462936 4 1464219 7 1464268 3 1464796 4 1464811 4 1466139 7 1466188 3 1466716 4 1466731 4 1466893 3 1468115 4 1468726 4 1468813 3 1470035 4 1470646 4 1470721 4 1470733 3 1470751 4 1471914 4 1471921 4 1471955 4 1472401 12 1472476 4 1472641 4 1472653 3 1472671 4 1473834 4 1473841 4 1473875 4 1474321 12 1474396 4 1474573 3 1474591 4 1475739 4 1476241 4 1476339 4 1476493 3 1476511 4 1477659 4 1478161 4 1478259 4 1478431 4 1479643 3 1479661 4 1479778 3 1480089 4 1480096 4 1480168 3 1480175 8 1480246 4 1480351 4 1481563 3 1481581 4 1481698 3 1482009 4 1482016 4 1482088 3 1482095 8 1482166 4 1482271 4 1483483 3 1483501 4 1483618 3 1483929 4 1483936 4 1484008 3 1484015 8 1484086 4 1485339 4 1485406 4 1485729 4 1485819 11 1485920 8 1485935 4 1486036 4 1487259 4 1487326 4 1487649 4 1487739 11 1487840 8 1487855 4 1487956 4 1488699 4 1489066 4 1489074 4 1489325 4 1489569 7 1489659 11 1489734 4 1489756 8 1489820 4 1489846 4 1490619 4 1490986 4 1490994 4 1491245 4 1491489 7 1491579 11 1491654 4 1491676 8 1491740 4 1491766 4 1492906 4 1492914 4 1493090 4 1493098 3 1493383 3 1493390 4 1493401 15 1493491 4 1493499 7 1493563 3 1493596 15 1493735 4 1494826 4 1494834 4 1495010 4 1495018 3 1495303 3 1495310 4 1495321 15 1495411 4 1495419 7 1495483 3 1495516 15 1495655 4 1496746 4 1497223 3 1497245 8 1497339 4 1497403 3 1497410 4 1498666 4 1499143 3 1499165 8 1499259 4 1499323 3 1499330 4 1500076 4 1501063 3 1501081 4 1501089 4 1501280 4 1501996 4 1502983 3 1503001 4 1503009 4 1503200 4 1504434 4 1505019 4 1506354 4 1506939 4 1507220 4 1507231 4 1508266 15 1508304 4 1509140 4 1509151 4 1510186 15 1510224 4 1511060 4 1512631 4 1512980 4 1514551 4 1514893 11 1516400 4 1516599 4 1516813 11 1518320 4 1518519 4 1518733 11 1520240 4 1520439 4 1520653 7 1521414 4 1522156 8 1522359 4 1522366 4 1522573 7 1523334 4 1524076 8 1524279 4 1524286 4 1524493 3 1524721 4 1525554 7 1525569 4 1525576 4 1525974 4 1526188 3 1526199 4 1526206 4 1526413 3 1526641 4 1527474 7 1527489 4 1527496 4 1527894 4 1528108 3 1528119 4 1528126 4 1529390 4 1530031 12 1530046 4 1531310 4 1531951 12 1531966 4 1532424 4 1533253 3 1534344 4 1535173 3 1537546 4 1537861 4 1539466 4 1539781 4 1541383 3 1543303 3 1544859 4 1546779 4 1551376 4 1553296 4 1564813 3 1566084 4 1566733 3 1568004 4 1568653 3 1570014 4 1570374 4 1570573 3 1571934 4 1572294 4 1572481 4 1574401 4 1576333 7 1578253 7 1580176 4 1580555 4 1580563 7 1580885 4 1581444 4 1582096 4 1582475 4 1582483 7 1582805 4 1583364 4 1584016 4 1584684 4 1585936 4 1586604 4 1587856 4 1588524 4 1589776 4 1590444 4 1592364 4 1592371 4 1593069 7 1594284 4 1594291 4 1594989 7 1596204 4 1596211 4 1596909 7 1598124 4 1598131 4 1598143 3 1600044 4 1600051 4 1600063 3 1601960 8 1602200 4 1603880 8 1604120 4 1606141 4 1606854 4 1608061 4 1608774 4 1609981 4 1610754 4 1611901 4 1612674 4 1613439 4 1615359 4 1617661 4 1619581 4 1620958 3 1621119 4 1621501 4 1622398 3 1622878 3 1623039 4 1623421 4 1624318 3 1624959 4 1626238 3 1626879 4 1628158 3 1628821 4 1630074 4 1630741 4 1631994 4 1632661 4 1633914 4 1633936 8 1634885 4 1635856 8 1636805 4 1637776 4 1638391 4 1639696 4 1640311 4 1641616 4 1642359 4 1643536 4 1644279 4 1646068 3 1647988 3 1649296 4 1650264 4 1651216 4 1652184 4 1653136 4 1653856 4 1654108 3 1654119 4 1655056 4 1655776 4 1656028 3 1656039 4 1656976 4 1657636 4 1657678 3 1657689 4 1658641 4 1658896 4 1659556 4 1659598 3 1659609 4 1660561 4 1660816 4 1661514 7 1661536 4 1661679 7 1661694 4 1661784 4 1662470 4 1662736 4 1663434 7 1663456 4 1663599 7 1663614 4 1663704 4 1664390 4 1664656 4 1665264 4 1665526 4 1665620 8 1665631 4 1665669 4 1666543 3 1666576 4 1667184 4 1667446 4 1667540 8 1667551 4 1667589 4 1668463 3 1668496 4 1669104 4 1669366 4 1669460 8 1669471 4 1669509 4 1670383 3 1671024 4 1671103 3 1671110 11 1671286 4 1671421 4 1671429 4 1672059 4 1672944 4 1673023 3 1673030 11 1673206 4 1673341 4 1673349 4 1673979 4 1674864 4 1674909 4 1674916 4 1674954 7 1675261 4 1675899 4 1676784 4 1676829 4 1676836 4 1676874 7 1677181 4 1677819 4 1678096 4 1678704 4 1678749 4 1678783 3 1678798 3 1679098 7 1680016 4 1680624 4 1680669 4 1680703 3 1680718 3 1681018 7 1682563 3 1682589 4 1682596 4 1682623 3 1682638 3 1682934 19 1684483 3 1684509 4 1684516 4 1684543 3 1684558 3 1684854 19 1685776 4 1686384 4 1686395 11 1686459 7 1686470 4 1686778 7 1686789 4 1687464 4 1687663 3 1687696 4 1688304 4 1688315 11 1688379 7 1688390 4 1688698 7 1688709 4 1689384 4 1689583 3 1689616 4 1690224 4 1690235 11 1690273 3 1690303 3 1690321 4 1690614 4 1690621 4 1690629 4 1691536 4 1692144 4 1692155 11 1692193 3 1692223 3 1692241 4 1692534 4 1692541 4 1692549 4 1693456 4 1694064 4 1694086 4 1694109 4 1694143 3 1694161 4 1694173 3 1694461 4 1694469 4 1694506 4 1695151 4 1695376 4 1695984 4 1696006 4 1696029 4 1696063 3 1696081 4 1696093 3 1696381 4 1696389 4 1696426 4 1697071 4 1697296 4 1697926 4 1697945 4 1697990 4 1698001 4 1698009 7 1698031 4 1699216 4 1699846 4 1699865 4 1699910 4 1699921 4 1699929 7 1699951 4 1701136 4 1701766 4 1701781 8 1701853 3 1701871 4 1703056 4 1703686 4 1703701 8 1703773 3 1703791 4 1704976 4 1705606 4 1705621 8 1705693 3 1705711 4 1706893 7 1707523 7 1707534 15 1707586 8 1707613 3 1707631 4 1708813 7 1709443 7 1709454 15 1709506 8 1709533 3 1709551 4 1710736 4 1710744 4 1711363 7 1711374 7 1711385 4 1711426 12 1711441 8 1711453 3 1711460 4 1711468 7 1711490 4 1712656 4 1712664 4 1713283 7 1713294 7 1713305 4 1713346 12 1713361 8 1713373 3 1713380 4 1713388 7 1713410 4 1714576 4 1715203 7 1715218 7 1715285 15 1715308 3 1715499 4 1716496 4 1717123 7 1717138 7 1717205 15 1717228 3 1717419 4 1718416 4 1719035 15 1719061 12 1719084 4 1719148 3 1720295 4 1720336 4 1720955 15 1720981 12 1721004 4 1721068 3 1722215 4 1722256 4 1722744 4 1722875 4 1722883 3 1722901 19 1722924 4 1724176 4 1724664 4 1724795 4 1724803 3 1724821 19 1724844 4 1726715 4 1726741 15 1726786 4 1726794 4 1727011 4 1728635 4 1728661 15 1728706 4 1728714 4 1728931 4 1729959 7 1729981 4 1730585 4 1730851 4 1731879 7 1731901 4 1732505 4 1732771 4 1734504 4 1734691 4 1736424 4 1736611 4 1738336 4 1738344 4 1740256 4 1740264 4 1742176 4 1742184 4 1743376 4 1744029 4 1744096 4 1745296 4 1745949 4 1746016 4 1747756 4 1747936 4 1747966 4 1749106 4 1749676 4 1749856 4 1749886 4 1751026 4 1751596 4 1751806 4 1753516 4 1753726 4 1755616 4 1755639 4 1756786 4 1757536 4 1757559 4 1758706 4 1759453 18 1759475 8 1759490 4 1760626 4 1761373 18 1761395 8 1761410 4 1762546 4 1763026 4 1763176 4 1763293 7 1763304 4 1764455 4 1764946 4 1765096 4 1765213 7 1765224 4 1766375 4 1766589 4 1767024 4 1767110 4 1767118 7 1767133 7 1767155 4 1767170 8 1768295 4 1768509 4 1768944 4 1769030 4 1769038 7 1769053 7 1769075 4 1769090 8 1770215 4 1770429 4 1770736 4 1770744 4 1770864 4 1770950 4 1770958 3 1770973 3 1771006 12 1772349 4 1772656 4 1772664 4 1772784 4 1772870 4 1772878 3 1772893 3 1772926 12 1774093 7 1774584 4 1774696 4 1774704 4 1774858 7 1774880 4 1776013 7 1776504 4 1776616 4 1776624 4 1776778 7 1776800 4 1777933 7 1778424 4 1778536 4 1778544 4 1778698 7 1778720 4 1779853 3 1780036 4 1780618 7 1781773 3 1781956 4 1782538 7 1783693 3 1783876 4 1784293 3 1784386 34 1784458 7 1785579 4 1785594 4 1785613 3 1785796 4 1786213 3 1786306 34 1786378 7 1787499 4 1787514 4 1787533 7 1788241 8 1788298 11 1789419 4 1789434 4 1789453 7 1790161 8 1790218 11 1791339 4 1791354 4 1791373 7 1792093 7 1792141 8 1792201 4 1793274 4 1793293 7 1794013 7 1794061 8 1794121 4 1795194 4 1795216 4 1797114 4 1797136 4 1799034 4 1799053 7 1799709 4 1799739 11 1799758 11 1799784 4 1800973 7 1801629 4 1801659 11 1801678 11 1801704 4 1802893 7 1803279 4 1803511 4 1803549 4 1803564 4 1803571 4 1803586 15 1804783 3 1804790 4 1804813 7 1805199 4 1805431 4 1805469 4 1805484 4 1805491 4 1805506 15 1806703 3 1806710 4 1806736 4 1807299 4 1807314 4 1807348 7 1807411 4 1807460 4 1807468 3 1807479 4 1808630 4 1808656 4 1809219 4 1809234 4 1809268 7 1809331 4 1809380 4 1809388 3 1809399 4 1810550 4 1811135 4 1811143 3 1811158 3 1811165 4 1811173 3 1811188 3 1811319 4 1812466 8 1813055 4 1813063 3 1813078 3 1813085 4 1813093 3 1813108 3 1813239 4 1814386 8 1814416 4 1814975 4 1814983 3 1814998 3 1815024 7 1815436 4 1816295 4 1816310 4 1816336 4 1816895 4 1816903 3 1816918 3 1816944 7 1817356 4 1818215 4 1818230 4 1818256 4 1818815 4 1818823 3 1818838 3 1818864 7 1819276 4 1820135 4 1820150 4 1820176 4 1820735 4 1820743 3 1820776 4 1820784 4 1821193 11 1822096 4 1822655 4 1822663 3 1822696 4 1822704 4 1823113 11 1824016 4 1824425 8 1825906 4 1825936 4 1826345 8 1827826 4 1827856 4 1828261 19 1828655 4 1828783 3 1829739 7 1829776 4 1830181 19 1830575 4 1830703 3 1831659 7 1831696 4 1832101 12 1832480 4 1832495 4 1832544 4 1832559 4 1832578 3 1832585 4 1832619 7 1833616 4 1834021 12 1834400 4 1834415 4 1834464 4 1834479 4 1834498 3 1834505 4 1834539 7 1835536 4 1835851 4 1835941 4 1835949 4 1836174 7 1836331 4 1837419 7 1837456 4 1837771 4 1837861 4 1837869 4 1838094 7 1838251 4 1839339 7 1839376 4 1839781 4 1839789 7 1840014 7 1840025 15 1840175 4 1841259 4 1841296 4 1841701 4 1841709 7 1841934 7 1841945 15 1842095 4 1843179 4 1843216 4 1843621 4 1843629 4 1843636 4 1843876 4 1844011 4 1845136 4 1845541 4 1845549 4 1845556 4 1845796 4 1845931 4 1847056 4 1847461 4 1847709 4 1847716 4 1847896 4 1848976 4 1849381 4 1849629 4 1849636 4 1849816 4 1850896 4 1851193 7 1851301 4 1851309 4 1851316 4 1851538 15 1852775 8 1852816 4 1853113 7 1853221 4 1853229 4 1853236 4 1853458 15 1854695 8 1854736 4 1855033 7 1855141 4 1855149 4 1855156 4 1855378 15 1856615 8 1856653 7 1857298 7 1857309 4 1857451 4 1858573 7 1859218 7 1859229 4 1859371 4 1860493 7 1861066 4 1861141 4 1862413 7 1862986 4 1863061 4 1864333 7 1864715 4 1864981 4 1866253 7 1866635 4 1866901 4 1868173 7 1868735 15 1870093 7 1870655 15 1872013 7 1873933 7 1875849 11 1876138 3 1876415 8 1876614 4 1877735 4 1877754 4 1877769 11 1878058 3 1878335 8 1878534 4 1879655 4 1879674 4 1879693 7 1879798 15 1879978 3 1879993 7 1880045 4 1880056 4 1880255 4 1880454 4 1880735 4 1881575 4 1881594 4 1881613 7 1881718 15 1881898 3 1881913 7 1881965 4 1881976 4 1882175 4 1882374 4 1882655 4 1883495 4 1883514 4 1883533 7 1883638 7 1883716 4 1883818 3 1883825 4 1883840 4 1883881 8 1884088 11 1884103 3 1885453 7 1885558 7 1885636 4 1885738 3 1885745 4 1885760 4 1885801 8 1886008 11 1886023 3 1887380 4 1887478 3 1887665 4 1887924 15 1887943 3 1889270 8 1889300 4 1889398 3 1889585 4 1889844 15 1889863 3 1891190 8 1891220 4 1891318 3 1891505 4 1891764 15 1891783 3 1893110 8 1893133 3 1893418 3 1893680 19 1893703 3 1895053 3 1895338 3 1895600 19 1895623 3 1897258 3 1897524 4 1897543 3 1897573 3 1897805 4 1899178 3 1899444 4 1899463 3 1899493 3 1899725 4 1901098 3 1901413 3 1902714 4 1903018 3 1903333 3 1904634 4 1904938 3 1905328 3 1905751 4 1906858 3 1907248 3 1907671 4 1908778 3 1909160 4 1909591 4 1910390 4 1910698 3 1911080 4 1911511 4 1912310 4 1912618 3 1914230 4 1914538 3 1916150 4 1916878 3 1916983 3 1918070 4 1918798 3 1918903 3 1919990 4 1920841 4 1922761 4 1924674 4 1925750 4 1926594 4 1927670 4 1928514 4 1929590 4 1934071 4 1935991 4 1937293 3 1939194 4 1939213 3 1941114 4 1941133 3 1943015 11 1943030 4 1943053 3 1944935 11 1944950 4 1948813 3 1950733 3 1956493 7 1958413 7 1960336 4 1962256 4 1964176 4 1975678 3 1977598 3 1983346 4 1985266 4 1986200 4 1987175 4 1987186 4 1988120 4 1989095 4 1989106 4 1991015 4 1991030 4 1992935 4 1992950 4 1993693 7 1994855 4 1994870 4 1995613 7 1996775 4 1996790 4 1997529 11 1998691 8 1998710 4 1999449 11 2000611 8 2000630 4 2001369 11 2002531 8 2002550 4 2004470 4 2006390 4 2007136 4 2008310 4 2009056 4 2010230 4 2010564 7 2010976 4 2010984 7 2012484 7 2012896 4 2012904 7 2014824 11 2015990 8 2016744 11 2017910 8 2019834 4 2021754 4 2025613 3 2027533 3 2029453 3 2029696 4 2031350 4 2031358 3 2031373 3 2031616 4 2033270 4 2033278 3 2033536 4 2035198 3 2035456 4 2037118 3 2037376 4 2039038 3 2039053 3 2039296 4 2040958 3 2040973 3 2041216 4 2042878 3 2044798 3 2046718 3 2048638 3 2050558 3 2052478 3 2054398 3 2056318 3 2058238 3 2060150 11 2062070 11 2063990 4 2063998 3 2065910 4 2065918 3 2066229 4 2067819 4 2067830 4 2067838 3 2068149 4 2069739 4 2069750 4 2069758 3 2069776 8 2069788 198 2069990 8 2070016 4 2070043 52 2070103 3 2070110 176 2070298 3 2070305 551 2070864 34 2070916 87 2071014 4 2071025 4 2071051 45 2071104 45 2071183 7 2071194 19 2071231 4 2071243 11 2071258 198 2071460 8 2071479 4 2071486 8 2071498 7 2071546 12 2071565 19 2071629 52 2071696 8 2071708 198 2071910 8 2071936 4 2071963 52 2072023 3 2072030 176 2072218 3 2072225 551 2072784 34 2072836 87 2072934 4 2072945 4 2072971 45 2073024 45 2073103 7 2073114 19 2073151 4 2073163 11 2073178 198 2073380 8 2073399 4 2073406 8 2073418 7 2073466 12 2073485 19 2073549 52\",\n          \"519 4 1723 3 1768 7 2439 4 3643 3 3688 7 4359 4 5563 3 5608 7 5885 4 5896 4 6069 11 6095 4 6241 4 6271 4 6283 11 6421 8 6444 4 6451 4 6905 26 6935 4 6961 12 7528 3 7640 4 7805 4 7816 4 7989 11 8015 4 8161 4 8191 4 8203 11 8341 8 8364 4 8371 4 8825 26 8855 4 8881 12 9448 3 9560 4 9703 3 9736 8 10745 23 11353 3 11443 7 11465 8 11623 3 11656 8 12665 23 13273 3 13363 7 13385 8 13854 4 15200 4 15256 4 15305 4 15774 4 17120 4 17176 4 17225 4 17379 4 18005 4 18016 4 19299 4 19925 4 19936 4 21219 4 21564 4 23139 4 23484 4 25059 4 25389 26 25606 4 26844 4 26979 4 27309 26 27526 4 28764 4 28899 4 28906 4 28993 3 29146 4 29240 8 29536 4 29555 11 30039 4 30684 4 30819 4 30826 4 30913 3 31066 4 31160 8 31456 4 31475 11 31959 4 32604 4 32739 4 32851 4 33076 4 33084 4 33279 4 33286 4 33376 4 33391 19 33808 3 33845 8 33864 22 34659 4 34771 4 34996 4 35004 4 35199 4 35206 4 35296 4 35311 19 35728 3 35765 8 35784 22 36579 4 36691 4 36916 12 37126 4 37235 15 37434 4 37678 22 37704 19 37726 4 38499 4 38611 4 38836 12 39046 4 39155 15 39354 4 39598 22 39624 19 39646 4 40419 4 40531 4 40756 12 40966 4 41075 15 41274 4 41518 22 41544 19 41566 4 42335 4 42418 7 42451 4 42676 12 42875 4 42976 4 42984 45 43044 4 43149 26 43190 8 43445 11 43468 3 43479 11 43543 3 44056 8 44255 4 44338 7 44371 4 44596 12 44795 4 44896 4 44904 45 44964 4 45069 26 45110 8 45365 11 45388 3 45399 11 45463 3 45976 8 46175 8 46258 7 46550 4 46835 11 46850 4 46861 4 46873 15 46985 23 47285 4 47293 3 47300 4 47323 7 48095 8 48178 7 48470 4 48755 11 48770 4 48781 4 48793 15 48905 23 49205 4 49213 3 49220 4 49243 7 50019 4 50101 4 50113 3 50195 4 50555 4 50589 4 50675 11 50724 4 51125 4 51140 4 51939 4 52021 4 52033 3 52115 4 52475 4 52509 4 52595 11 52644 4 53045 4 53060 4 53855 8 53938 7 54035 8 54429 4 54515 8 54965 4 54980 4 55775 8 55858 7 55955 8 56349 4 56435 8 56885 4 56900 4 57695 8 57875 8 58078 11 58093 3 58104 4 58183 7 58194 4 58205 4 58224 4 58246 4 58269 4 58355 8 58775 8 58820 4 59300 4 59615 8 59795 8 59998 11 60013 3 60024 4 60103 7 60114 4 60125 4 60144 4 60166 4 60189 4 60275 8 60695 8 60740 4 61220 4 61535 8 61715 4 61891 8 61914 22 61944 4 61955 4 61963 7 61989 4 62011 19 62034 4 62045 11 62086 4 62094 7 62105 8 62195 4 62611 8 62656 4 63455 8 63635 4 63811 8 63834 22 63864 4 63875 4 63883 7 63909 4 63931 19 63954 4 63965 11 64006 4 64014 7 64025 8 64115 4 64531 8 64576 4 65375 8 65716 27 65746 94 65859 34 65896 4 65923 18 65945 8 66035 8 66084 4 66091 4 66448 11 67051 4 67104 4 67295 8 67636 27 67666 94 67779 34 67816 4 67843 18 67865 8 67955 8 68004 4 68011 4 68368 11 68971 4 69024 4 69204 7 69219 4 69331 4 69339 4 69515 11 69534 4 69541 4 69553 30 69586 27 69620 19 69643 22 69669 7 69695 26 69725 4 69733 7 69766 4 69875 4 69901 4 69913 22 69976 4 70250 8 70299 11 70336 12 70359 7 70880 8 70940 8 71124 7 71139 4 71251 4 71259 4 71435 11 71454 4 71461 4 71473 30 71506 27 71540 19 71563 22 71589 7 71615 26 71645 4 71653 7 71686 4 71795 4 71821 4 71833 22 71896 4 72170 8 72219 11 72256 12 72279 7 72800 8 72860 8 73048 3 73059 4 73179 4 73355 19 73381 4 73396 23 73423 33 73460 19 73483 26 73513 3 73528 33 73565 15 73588 3 73741 34 74086 4 74094 4 74195 19 74776 12 74968 3 74979 4 75099 4 75275 19 75301 4 75316 23 75343 33 75380 19 75403 26 75433 3 75448 33 75485 15 75508 3 75661 34 76006 4 76014 4 76115 19 76696 12 76888 3 76899 4 77019 4 77195 19 77221 4 77236 23 77263 33 77300 19 77323 26 77353 3 77368 33 77405 15 77428 3 77581 34 77926 4 77934 4 78035 19 78616 12 78808 3 78819 4 79115 23 79141 4 79149 11 79164 15 79183 33 79220 4 79231 4 79239 37 79280 56 79344 4 79498 37 79846 4 79955 19 80544 4 80728 3 80739 4 81035 23 81061 4 81069 11 81084 15 81103 33 81140 4 81151 4 81159 37 81200 56 81264 4 81418 37 81766 4 81875 19 82464 4 82659 4 82955 23 82993 30 83026 4 83034 22 83060 4 83068 7 83083 15 83113 3 83128 48 83180 8 83341 34 83799 15 84579 4 84875 23 84913 30 84946 4 84954 22 84980 4 84988 7 85003 15 85033 3 85048 48 85100 8 85261 34 85719 15 86488 3 86495 8 86799 4 86806 8 86844 4 86878 15 86911 4 86919 7 86964 52 87024 7 87073 3 87189 19 87211 4 88408 3 88415 8 88719 4 88726 8 88764 4 88798 15 88831 4 88839 7 88884 52 88944 7 88993 3 89109 19 89131 4 90339 4 90680 4 90759 4 90808 3 90815 38 90864 4 91040 8 91051 4 92259 4 92600 4 92679 4 92728 3 92735 38 92784 4 92960 8 92971 4 94168 3 94175 8 94659 30 94880 15 96088 3 96095 8 96579 30 96800 15 98008 3 98015 11 99928 3 99935 11 101855 11 101870 4 103775 11 103790 4 105684 7 105699 4 106809 4 106816 4 107604 7 107619 4 108729 4 108736 4 109524 4 109539 7 110229 4 110645 4 111444 4 111459 7 112149 4 112565 4 113364 4 113379 7 114069 4 114485 4 115284 4 115299 7 116398 11 117204 4 117219 7 118318 11 119124 4 119139 7 119814 4 119829 4 120238 11 121044 4 121059 7 121734 4 121749 4 122158 11 122964 4 122979 4 123665 8 124078 11 124884 4 124899 4 125585 8 125998 11 126819 7 126830 4 127509 4 127918 15 128739 7 128750 4 129429 4 129838 15 130659 4 131353 3 131713 15 131750 23 132579 4 133273 3 133633 15 133670 23 134499 4 135001 12 135193 3 135433 33 135549 64 136419 4 136921 12 137113 3 137353 33 137469 64 138339 4 138811 19 138834 22 139194 4 139201 4 139209 4 139224 26 139269 37 139385 68 140259 4 140731 19 140754 22 141114 4 141121 4 141129 4 141144 26 141189 37 141305 68 142655 34 142696 8 143038 15 143056 38 143098 56 143191 4 143199 4 143218 56 143281 12 144575 34 144616 8 144958 15 144976 38 145018 56 145111 4 145119 4 145138 56 145201 12 146038 3 146525 4 146536 4 146874 19 146896 34 146934 56 147039 4 147058 56 147121 12 147958 3 148445 4 148456 4 148794 19 148816 34 148854 56 148959 4 148978 56 149041 12 149878 3 150365 4 150376 4 150714 19 150736 34 150774 56 150879 4 150898 56 150961 12 152263 11 152281 15 152638 11 152660 30 152701 12 152720 34 152818 52 154183 11 154201 15 154558 11 154580 30 154621 12 154640 34 154738 52 156095 45 156144 4 156474 11 156489 4 156500 15 156519 4 156541 4 156568 15 156586 4 156665 53 158015 45 158064 4 158394 11 158409 4 158420 15 158439 4 158461 4 158488 15 158506 4 158585 53 159519 4 159890 4 159928 3 159935 49 160314 11 160344 7 160411 12 160426 8 160505 53 161439 4 161810 4 161848 3 161855 49 162234 11 162264 7 162331 12 162346 8 162425 53 163359 4 163726 4 163764 60 164353 37 165279 4 165646 4 165684 60 166273 37 167180 4 167199 4 167439 7 167533 3 167551 4 167566 15 167589 4 167596 23 167623 41 168196 30 169100 4 169119 4 169359 7 169453 3 169471 4 169486 15 169509 4 169516 23 169543 41 170116 30 171020 4 171039 4 171046 4 171271 19 171313 7 171369 11 171391 4 171403 18 171429 71 172044 19 172940 4 172959 4 172966 4 173191 19 173233 7 173289 11 173311 4 173323 18 173349 71 173964 19 174879 7 175108 11 175123 3 175153 26 175213 7 175228 33 175265 15 175288 33 175333 11 175888 15 176799 7 177028 11 177043 3 177073 26 177133 7 177148 33 177185 15 177208 33 177253 11 177808 15 178715 11 178948 11 178970 4 178978 7 178993 26 179045 11 179060 19 179083 7 179105 15 179143 18 179731 12 180635 11 180868 11 180890 4 180898 7 180913 26 180965 11 180980 19 181003 7 181025 15 181063 18 181651 12 182559 7 182574 4 182780 8 182810 4 182818 7 182833 30 182889 7 182900 8 182930 11 182945 11 182975 26 183579 4 184479 7 184494 4 184700 8 184730 4 184738 7 184753 30 184809 7 184820 8 184850 11 184865 11 184895 26 185499 4 186399 7 186414 4 186620 8 186650 4 186658 7 186673 30 186729 7 186740 8 186770 11 186785 11 186815 26 187419 4 188319 4 188596 4 188660 8 188709 4 189339 4 190239 4 190516 4 190580 8 190629 4 191259 4 192174 4 193183 3 194094 4 195103 3 196010 8 196636 12 196989 7 197019 4 197930 8 198556 12 198909 7 198939 4 200829 7 200840 4 202749 7 202760 4 204316 4 204628 3 204665 11 204680 8 204695 11 205340 4 206236 4 206548 3 206585 11 206600 8 206615 11 207260 4 208156 4 208505 11 208520 19 208543 3 209176 4 210076 4 210425 11 210440 19 210463 3 211096 4 212000 8 212248 7 212349 4 212371 4 213920 8 214168 7 214269 4 214291 4 215844 4 216091 4 216099 4 217764 4 218011 4 218019 4 219680 8 219699 4 219706 4 219920 23 220340 4 221600 8 221619 4 221626 4 221840 23 222260 4 223520 8 223539 4 223546 4 223760 23 224180 4 225444 4 225459 4 225466 4 225691 4 227364 4 227379 4 227386 4 227611 4 232674 4 233506 8 233596 8 234594 4 235426 8 235516 8 236720 4 236735 38 237234 4 237331 4 237339 19 237384 11 237436 4 238640 4 238655 38 239154 4 239251 4 239259 19 239304 11 239356 4 240571 42 241074 7 241130 19 241164 34 241224 4 241231 4 241816 4 242491 42 242994 7 243050 19 243084 34 243144 4 243151 4 243736 4 244408 30 244441 12 244914 4 244970 19 245000 11 245019 4 245064 4 245071 4 246328 30 246361 12 246834 4 246890 19 246920 11 246939 4 246984 4 246991 4 248251 42 248754 4 248791 4 248810 19 248833 18 248859 4 248911 4 248919 7 249463 3 250171 42 250674 4 250711 4 250730 19 250753 18 250779 4 250831 4 250839 7 251383 3 252084 52 252646 23 252673 7 252699 4 252751 23 253299 4 254004 52 254566 23 254593 7 254619 4 254671 23 255219 4 255916 72 256434 4 256453 3 256490 19 256513 3 256539 4 256588 30 257131 8 257836 72 258354 4 258373 3 258410 19 258433 3 258459 4 258508 30 259051 8 259704 4 259726 8 259749 79 260334 4 260424 45 260506 4 261624 4 261646 8 261669 79 262254 4 262344 45 262426 4 263544 4 263566 8 263589 79 264174 4 264264 45 264346 4 265389 4 265415 23 265441 60 265509 86 266094 4 266113 3 266188 41 266266 4 267309 4 267335 23 267361 60 267429 86 268014 4 268033 3 268108 41 268186 4 269199 4 269225 8 269255 15 269289 4 269300 23 269326 8 269349 71 269424 7 269953 3 269994 4 270046 15 270106 4 270136 4 271119 4 271145 8 271175 15 271209 4 271220 23 271246 8 271269 71 271344 7 271873 3 271914 4 271966 15 272026 4 272056 4 273039 7 273065 8 273084 4 273099 7 273125 11 273140 23 273189 79 273789 11 273886 4 273894 4 273916 4 273946 4 273976 4 274074 4 274959 7 274985 8 275004 4 275019 7 275045 11 275060 23 275109 79 275709 11 275806 4 275814 4 275836 4 275866 4 275896 4 275994 4 276894 4 276909 4 276924 7 276939 7 276969 7 276980 23 277014 4 277025 71 277100 4 277629 11 277666 4 277674 4 277726 15 277786 4 277816 4 277865 4 277914 4 278814 4 278829 4 278844 7 278859 7 278889 7 278900 23 278934 4 278945 71 279020 4 279549 11 279586 4 279594 4 279646 15 279706 4 279736 4 279785 4 279834 4 280666 8 280723 3 280730 8 280745 8 280764 7 280790 4 280809 7 280820 8 280835 4 280854 4 280869 71 280944 4 281379 11 281394 4 281469 11 281503 3 281514 4 281570 8 281596 4 281626 4 281656 4 281686 8 281701 12 281735 4 282129 4 282140 4 282586 8 282643 3 282650 8 282665 8 282684 7 282710 4 282729 7 282740 8 282755 4 282774 4 282789 71 282864 4 283299 11 283314 4 283389 11 283423 3 283434 4 283490 8 283516 4 283546 4 283576 4 283606 8 283621 12 283655 4 284049 4 284060 4 284506 8 284570 8 284604 4 284645 11 284660 19 284709 19 284735 11 284754 22 284780 4 285226 8 285309 11 285466 4 285496 8 286426 8 286490 8 286524 4 286565 11 286580 19 286629 19 286655 11 286674 22 286700 4 287146 8 287229 11 287386 4 287416 8 288414 4 288444 4 288489 7 288515 4 288579 4 288598 15 288646 4 289059 37 289149 7 289186 8 289336 8 289385 8 289426 4 289700 8 290334 4 290364 4 290409 7 290435 4 290499 4 290518 15 290566 4 290979 37 291069 7 291106 8 291256 8 291305 8 291346 4 291620 8 292254 4 292284 4 292329 7 292351 8 292419 4 292449 4 292906 30 292989 7 293026 8 293131 4 293176 19 293199 7 293221 4 293229 4 294174 4 294204 4 294249 7 294271 8 294339 4 294369 4 294826 30 294909 7 294946 8 295051 4 295096 19 295119 7 295141 4 295149 4 295681 4 296518 3 296750 8 296769 4 296829 7 296866 4 296971 4 297016 8 297028 7 297043 3 297601 4 298438 3 298670 8 298689 4 298749 7 298786 4 298891 4 298936 8 298948 7 298963 3 299521 4 300358 3 300590 8 300609 4 300669 7 300706 4 300811 4 300856 8 300868 7 300883 3 302510 19 302626 4 302788 7 304430 19 304546 4 304708 7 306350 19 308270 19 310209 4 312129 4 313134 7 314038 15 315054 7 315958 15 316918 3 316974 15 318838 3 318894 15 320814 4 322415 4 322524 4 322734 4 324335 4 324444 4 324654 4 326251 8 326574 4 328171 8 328584 4 328888 11 330091 8 330504 4 330808 11 332011 8 332424 4 332435 4 332728 30 333939 4 334006 4 334036 4 334344 4 334355 4 334648 30 335859 4 335926 4 335956 4 336264 4 336275 4 336568 30 337779 4 337846 4 337876 4 338184 4 338491 34 339114 4 339384 4 339695 8 340104 4 340411 34 341034 4 341304 4 341615 8 342024 4 342331 34 342553 3 342560 8 342954 7 343224 4 343531 12 343944 4 344251 34 344473 3 344480 8 344874 7 345144 4 345451 12 346168 41 346231 8 346393 15 346741 27 347165 4 347360 4 348088 41 348151 8 348313 15 348661 27 349085 4 349280 4 349524 4 349704 4 350008 37 350053 7 350064 11 350236 12 351444 4 351624 4 351928 37 351973 7 351984 11 352156 12 353364 4 353788 7 353799 15 353836 4 353848 48 353904 15 354080 8 354425 4 355284 4 355708 7 355719 15 355756 4 355768 48 355824 15 356000 8 356345 4 357204 4 357564 11 357586 4 357609 150 357920 8 358186 4 358835 4 359124 4 359484 11 359506 4 359529 150 359840 8 360106 4 360755 4 361010 4 361044 4 361224 4 361381 4 361393 3 361400 30 361445 150 361756 12 362026 4 362626 4 362634 4 362930 4 362964 4 363144 4 363301 4 363313 3 363320 30 363365 150 363676 12 363946 4 364546 4 364554 4 364884 4 365023 3 365064 4 365206 4 365221 4 365229 4 365240 30 365289 71 365368 7 365379 34 365416 4 365424 11 365600 8 365866 4 365949 4 366466 12 366804 4 366943 3 366984 4 367126 4 367141 4 367149 4 367160 30 367209 71 367288 7 367299 34 367336 4 367344 11 367520 8 367786 4 367869 4 368386 12 368724 4 368904 4 369050 8 369061 4 369069 4 369129 4 369140 23 369166 34 369219 34 369264 11 369436 15 369481 4 369789 4 370314 4 370363 3 370644 4 370824 4 370970 8 370981 4 370989 4 371049 4 371060 23 371086 34 371139 34 371184 11 371356 15 371401 4 371709 4 372234 4 372283 3 372564 4 372744 4 372890 8 372901 4 372909 4 372969 4 372980 23 373006 34 373059 34 373104 11 373276 15 373321 4 373629 4 374154 4 374203 3 374623 3 374911 4 374934 7 374945 11 374983 30 375196 15 375226 4 375549 4 375976 4 376074 4 376119 7 376543 3 376831 4 376854 7 376865 11 376903 30 377116 15 377146 4 377469 4 377896 4 377994 4 378039 7 378463 3 378774 4 378826 19 378849 4 378871 4 379033 52 379389 4 379820 4 379959 7 380383 3 380694 4 380746 19 380769 4 380791 4 380953 52 381309 4 381740 4 381879 7 382614 4 382629 4 382666 27 382708 3 382873 18 382899 11 383229 4 383529 4 383656 12 383788 18 384534 4 384549 4 384586 27 384628 3 384793 18 384819 11 385149 4 385449 4 385576 12 385708 18 386454 4 386480 4 386499 34 386551 4 386566 4 386713 18 386739 4 386746 4 387301 4 387335 4 387346 4 387361 12 387496 8 387568 7 387699 4 388374 4 388400 4 388419 34 388471 4 388486 4 388633 18 388659 4 388666 4 389221 4 389255 4 389266 4 389281 12 389416 8 389488 7 389619 4 390290 8 390316 8 390339 7 390350 4 390358 15 390406 4 390418 3 390553 18 390886 4 390924 4 390980 8 391149 4 391156 4 391179 4 391201 12 391314 4 391333 15 391411 4 392210 8 392236 8 392259 7 392270 4 392278 15 392326 4 392338 3 392473 18 392806 4 392844 4 392900 8 393069 4 393076 4 393099 4 393121 12 393234 4 393253 15 393331 4 393699 4 394201 8 394246 4 394258 3 394393 18 394749 4 394764 7 394820 19 394850 8 395023 3 395045 8 395176 4 395379 4 395619 4 396121 8 396166 4 396178 3 396313 18 396669 4 396684 7 396740 19 396770 8 396943 3 396965 8 397096 4 397299 4 397528 3 397535 8 397846 4 398041 12 398071 4 398086 4 398098 3 398240 11 398589 4 398649 4 398664 4 398690 4 398709 7 398863 7 398885 8 398953 3 399448 3 399455 8 399766 4 399961 12 399991 4 400006 4 400018 3 400160 11 400509 4 400569 4 400584 4 400610 4 400629 7 400783 7 400805 8 400873 3 401375 4 401941 4 402080 11 402489 7 402504 4 402526 8 402549 7 402706 4 402729 4 403295 4 403861 4 404000 11 404409 7 404424 4 404446 8 404469 7 404626 4 404649 4 405144 4 405163 3 405920 8 406254 4 406336 15 406370 4 406389 4 406588 3 407064 4 407083 3 407840 8 408174 4 408256 15 408290 4 408309 4 408508 3 408984 4 409003 3 409760 8 410094 4 410176 15 410210 4 410229 4 410428 3 410979 4 412014 4 412145 8 412239 4 412321 4 412329 4 412351 4 412899 4 413934 4 414065 8 414159 4 414241 4 414249 4 414271 4 415524 4 415846 4 415854 4 415989 4 416161 12 417444 4 417766 4 417774 4 417909 4 418081 12 419990 4 420005 8 420399 4 421910 4 421925 8 422319 4 422623 3 424239 4 424543 3 426159 4 428019 4 428079 4 429939 4 429999 4 430179 4 430670 4 431855 8 432099 4 432590 4 433775 8 434019 4 434506 12 435695 4 435939 4 436426 12 437615 4 437855 8 438069 4 438230 4 438301 12 438350 4 439408 7 439535 4 439775 8 439989 4 440150 4 440221 12 440270 4 441328 7 441455 4 441695 8 441729 4 441909 4 442126 4 442134 4 442141 12 442190 4 443248 11 443274 4 443615 8 443649 4 443829 4 444046 4 444054 4 444061 12 444110 4 445168 11 445194 4 445535 8 445569 4 445749 4 445966 4 445974 4 445981 12 446030 4 447088 11 447114 4 447459 4 447489 4 447669 4 447886 4 447894 19 447946 8 448486 12 448603 18 448768 3 449008 37 449379 4 449409 4 449589 4 449806 4 449814 19 449866 8 450406 12 450523 18 450688 3 450928 37 451299 4 451325 8 451509 4 451606 4 451700 8 451726 27 451771 34 451816 15 452326 4 452349 4 452443 7 452454 4 452604 4 452630 4 452859 19 453219 4 453245 8 453429 4 453526 4 453620 8 453646 27 453691 34 453736 15 454246 4 454269 4 454363 7 454374 4 454524 4 454550 4 454779 19 455139 4 455169 4 455446 4 455506 8 455518 3 455540 4 455551 4 455563 3 455574 19 455596 79 456283 7 456444 4 456470 8 457059 4 457089 4 457366 4 457426 8 457438 3 457460 4 457471 4 457483 3 457494 19 457516 79 458203 7 458364 4 458390 8 458968 3 458979 4 459286 4 459346 30 459380 15 459399 116 459549 4 459560 4 460291 15 460310 4 460888 3 460899 4 461206 4 461266 30 461300 15 461319 116 461469 4 461480 4 462211 15 462230 4 462808 3 462815 4 463126 4 463141 4 463186 23 463239 11 463254 26 463288 15 463306 27 463344 4 463351 4 463389 4 463400 4 464105 4 464116 4 464131 19 464728 3 464735 4 465046 4 465061 4 465106 23 465159 11 465174 26 465208 15 465226 27 465264 4 465271 4 465309 4 465320 4 466025 4 466036 4 466051 19 466648 3 466655 4 467030 4 467038 15 467079 30 467113 60 467184 11 467229 4 467814 4 467934 4 467941 4 467949 4 467983 7 468568 3 468575 4 468950 4 468958 15 468999 30 469033 60 469104 11 469149 4 469734 4 469854 4 469861 4 469869 4 469903 7 470488 3 470870 15 470889 4 470919 4 470926 23 470953 52 471031 4 471069 4 471643 3 471650 8 472063 3 472408 3 472790 15 472809 4 472839 4 472846 23 472873 52 472951 4 472989 4 473563 3 473570 8 473983 3 474324 15 474646 4 474669 4 474710 11 474763 3 474770 19 474793 3 474804 15 474898 3 475483 3 475490 8 476004 4 476244 15 476566 4 476589 4 476630 11 476683 3 476690 19 476713 3 476724 15 476818 3 477403 3 477410 8 477924 4 478164 4 478171 8 478550 4 478603 3 478633 3 478640 4 478648 15 478738 3 479750 8 479844 4 480084 4 480091 8 480470 4 480523 3 480553 3 480560 4 480568 15 480658 3 481670 8 481764 4 482004 4 482011 8 482390 4 482443 3 482473 3 482480 4 482488 15 482578 3 483590 8 483684 4 483931 8 484246 8 484393 11 484411 8 484498 3 484528 3 485510 4 485851 8 486166 8 486313 11 486331 8 486418 3 486448 3 487430 4 487704 4 488086 4 488236 8 488368 3 488971 4 488986 4 489350 4 489624 4 490006 4 490156 8 490288 3 490891 4 490906 4 491270 4 491926 4 491934 4 492121 4 492208 3 492811 4 492826 4 493183 3 493190 4 493846 4 493854 4 494041 4 494128 3 494731 4 494746 4 495103 3 495110 4 495766 4 495774 7 496029 4 496048 3 496610 4 496648 3 496666 4 496929 4 497030 4 497686 4 497694 7 497949 4 497968 3 498530 4 498568 3 498586 4 498849 4 498950 4 499869 4 499895 4 500765 15 500915 4 501789 4 501815 4 502685 15 502835 4 503199 4 503709 4 504594 4 504605 8 504616 4 505119 4 505629 4 506514 4 506525 8 506536 4 507039 4 508445 8 508456 4 508959 4 510365 8 510376 4 510875 8 511925 11 512289 4 512795 8 513845 11 514209 4 514715 8 516125 4 516635 8 518045 4 518555 8 518746 4 519643 3 519965 8 520475 8 520666 4 521563 3 521885 8 522395 8 522586 4 523483 3 523805 8 524315 8 524750 8 525725 15 526235 8 526670 8 527645 15 528151 19 528219 4 528346 4 528579 7 528590 15 528714 4 529550 8 529561 19 530071 19 530139 4 530266 4 530499 7 530510 15 530634 4 531470 8 531481 19 531991 19 532149 4 532186 8 532396 8 532408 45 532456 4 532543 3 532816 4 533405 4 533911 19 534069 4 534106 8 534316 8 534328 45 534376 4 534463 3 534736 4 535325 4 535820 4 535831 19 535989 4 536233 45 536281 4 536296 4 536383 3 537740 4 537751 19 537909 4 538153 45 538201 4 538216 4 538303 3 539671 8 539683 3 540035 8 540073 52 540136 4 540223 3 541591 8 541603 3 541955 8 541993 52 542056 4 542143 3 543448 3 543459 4 543515 4 543871 4 543879 4 543886 4 543916 4 543928 3 543958 7 543976 4 544070 4 545368 3 545379 4 545435 4 545791 4 545799 4 545806 4 545836 4 545848 3 545878 7 545896 4 545990 4 547299 4 547366 4 547726 8 547798 15 547816 4 547824 11 547910 4 548911 4 549219 4 549286 4 549646 8 549718 15 549736 4 549744 11 549830 4 550831 4 551139 4 551203 3 551566 8 551615 4 551638 22 551668 7 551750 4 552699 7 552710 8 552748 7 552766 4 553059 4 553123 3 553486 8 553535 4 553558 22 553588 7 553670 4 554619 7 554630 8 554668 7 554686 4 554979 4 555414 4 555478 22 555508 7 556531 34 556588 7 556603 7 556899 4 557334 4 557398 22 557428 7 558451 34 558508 7 558523 7 558819 4 559254 4 559318 22 559348 7 560371 34 560428 7 560443 7 560739 4 560803 3 561121 4 561170 8 561219 4 561238 22 561271 4 561320 4 561778 15 562288 41 562351 4 562363 7 562659 4 562723 3 563041 4 563090 8 563139 4 563158 22 563191 4 563240 4 563698 15 564208 41 564271 4 564283 7 564523 3 564575 8 565059 7 565078 26 565111 4 565168 3 565618 15 566131 15 566150 15 566191 15 566251 8 566443 3 566495 8 566979 7 566998 26 567031 4 567088 3 567538 15 568051 15 568070 15 568111 15 568171 8 568411 4 568471 4 568854 4 568918 11 568933 11 569000 4 569008 3 569023 3 569416 4 569465 4 570039 7 570080 11 570331 4 570391 4 570774 4 570838 11 570853 11 570920 4 570928 3 570943 3 571336 4 571385 4 571959 7 572000 11 572251 8 572326 4 572746 4 572758 11 572776 8 572840 4 572848 3 572863 7 574171 8 574246 4 574666 4 574678 11 574696 8 574760 4 574768 3 574783 7 576684 15 576706 4 578604 15 578626 4 580524 15 580546 4 582444 15 582466 4 583843 3 585763 3 587675 4 587683 3 588215 4 588241 4 588256 4 588271 4 588279 4 588740 4 589231 4 589595 4 589603 3 590135 4 590161 4 590176 4 590191 4 590199 4 590660 4 591151 4 591511 8 592119 4 593071 4 593431 8 594039 4 594991 4 595351 8 595959 4 596911 4 597271 12 597331 4 597879 11 598081 4 598306 4 598314 4 598790 4 599191 12 599251 4 599799 11 600001 4 600226 4 600234 4 600710 4 601111 12 601171 4 601719 7 601996 4 602146 4 602671 4 603031 12 603091 4 603639 7 603916 4 604066 4 604591 4 604951 12 605503 3 605836 4 605986 8 606106 4 606466 8 606511 4 606871 12 607423 3 607756 4 607906 8 608026 4 608386 8 608431 4 609676 4 609834 4 609946 4 610156 4 610295 4 610303 11 610333 3 610351 4 611596 4 611754 4 611866 4 612076 4 612215 4 612223 11 612253 3 612271 4 613153 3 613183 3 613273 7 613513 7 613625 4 613771 4 613786 4 613839 7 614049 4 614131 4 614143 7 615073 3 615103 3 615193 7 615433 7 615545 4 615691 4 615706 4 615759 7 615969 4 616051 4 616063 7 616749 4 616828 7 616891 4 617015 4 617023 3 617353 7 617611 4 617626 4 617679 7 617746 4 617833 7 617968 3 617983 7 618005 4 618669 4 618748 7 618811 4 618935 4 618943 3 619273 7 619531 4 619546 4 619599 7 619666 4 619753 7 619888 3 619903 7 619925 4 620371 4 620379 4 620656 4 620701 4 620716 4 620728 7 620743 37 620855 11 621193 7 621451 4 621519 4 621673 7 621808 3 621823 7 621841 4 622291 4 622299 4 622576 4 622621 4 622636 4 622648 7 622663 37 622775 11 623113 7 623371 4 623439 4 623593 7 623728 3 623743 7 623761 4 624200 4 624211 4 624219 7 624264 4 624504 4 624511 4 624541 4 624571 8 624586 19 624699 7 624714 4 625288 7 625306 4 625516 4 625663 7 625681 4 626120 4 626131 4 626139 7 626184 4 626424 4 626431 4 626461 4 626491 8 626506 19 626619 7 626634 4 627208 7 627226 4 627436 4 627583 7 627601 4 627924 4 628048 11 628104 4 628265 4 628344 4 628359 4 628381 4 628434 11 628543 11 629094 4 629128 7 629146 4 629356 4 629521 4 629844 4 629968 11 630024 4 630185 4 630264 4 630279 4 630301 4 630354 11 630463 11 631014 4 631048 7 631066 4 631276 4 631441 4 631764 4 631888 11 631944 4 632105 4 632184 4 632199 4 632221 4 632274 11 632383 11 632934 4 632968 7 632986 4 633196 4 633361 4 633643 3 633811 4 633864 4 634104 4 634115 8 634141 4 634198 3 634303 3 634310 4 634321 4 634550 4 634865 4 634873 3 635113 7 635266 4 635274 4 635281 4 635379 4 635563 3 635731 4 635784 4 636024 4 636035 8 636061 4 636118 3 636223 3 636230 4 636241 4 636470 4 636785 4 636793 3 637033 7 637186 4 637194 4 637201 4 637299 4 637531 4 637955 8 637981 4 638026 19 638150 4 638169 4 638390 8 638739 4 638953 7 639106 12 639121 4 639451 4 639875 8 639901 4 639946 19 640070 4 640089 4 640310 8 640659 4 640873 7 641026 12 641041 4 641791 12 641848 3 641881 8 642001 12 642534 4 642541 12 642620 4 642793 3 643711 12 643768 3 643801 8 643921 12 644454 4 644461 12 644540 4 644713 3 645343 3 645631 19 645654 4 645676 4 645684 4 645718 7 645849 4 646216 4 646366 15 646633 3 647263 3 647551 19 647574 4 647596 4 647604 4 647638 7 647769 4 648136 4 648286 15 648553 3 649179 7 649524 4 649685 8 650675 4 650683 3 651099 7 651444 4 651605 8 652595 4 652603 3 653011 4 653146 4 653158 3 653416 4 654043 3 654103 3 654309 4 654406 4 654650 4 654665 4 654931 4 655066 4 655078 3 655336 4 655963 3 656023 3 656229 4 656326 4 656570 4 656585 4 656851 4 656859 4 657365 4 657421 4 657890 4 657943 3 658771 4 658779 4 659285 4 659341 4 659810 4 659863 3 660691 4 660699 4 660909 4 661261 12 661783 3 661820 8 661948 7 662094 7 662206 4 662323 3 662330 11 662345 4 662353 3 662611 4 662619 4 662829 4 663181 12 663703 3 663740 8 663868 7 664014 7 664126 4 664243 3 664250 11 664265 4 664273 3 664531 4 664580 8 664745 8 665090 23 665563 11 665623 3 665660 23 665791 4 665855 4 665934 11 665971 4 665979 19 666028 11 666046 4 666054 4 666170 15 666193 3 666451 4 666500 8 666665 8 667010 23 667483 11 667543 3 667580 23 667711 4 667775 4 667854 11 667891 4 667899 19 667948 11 667966 4 667974 4 668090 15 668113 3 668371 4 668420 8 668585 8 668930 23 669403 11 669463 3 669500 23 669631 4 669695 4 669774 11 669811 4 669819 19 669868 11 669886 4 669894 4 670010 15 670033 3 670340 4 670389 4 670505 4 670850 26 671131 4 671233 3 671281 8 671319 15 671383 3 671420 23 671450 4 671548 11 671589 4 671649 4 671694 15 671724 4 671731 4 671743 15 671765 19 671791 19 671870 4 671878 7 671923 7 671938 3 671956 4 672260 4 672309 4 672425 4 672770 26 673051 4 673153 3 673201 8 673239 15 673303 3 673340 23 673370 4 673468 11 673509 4 673569 4 673614 15 673644 4 673651 4 673663 15 673685 19 673711 19 673790 4 673798 7 673843 7 673858 3 673876 4 674139 4 674349 4 674694 22 674938 3 675046 34 675121 12 675155 26 675223 3 675253 41 675298 7 675388 11 675429 7 675489 4 675534 15 675590 4 675605 8 675631 12 675710 4 675718 3 675789 4 675796 4 676059 4 676269 4 676614 22 676858 3 676966 34 677041 12 677075 26 677143 3 677173 41 677218 7 677308 11 677349 7 677409 4 677454 15 677510 4 677525 8 677551 12 677630 4 677638 3 677709 4 677716 4 677979 4 678065 4 678530 11 678886 38 678954 7 678965 4 678995 23 679093 48 679231 4 679374 11 679423 3 679430 8 679494 4 679603 3 679621 8 679636 4 679899 4 679985 4 680450 11 680806 38 680874 7 680885 4 680915 23 681013 48 681151 4 681294 11 681343 3 681350 8 681414 4 681523 3 681541 8 681556 4 681819 4 681864 4 682258 3 682370 11 682389 4 682726 8 682745 4 682843 15 682948 3 682959 4 682966 4 683071 4 683214 7 683386 8 683398 3 683465 4 683739 4 683784 4 684178 3 684290 11 684309 4 684646 8 684665 4 684763 15 684868 3 684879 4 684886 4 684991 4 685134 7 685306 8 685318 3 685385 4 685659 4 685704 4 685749 4 686214 4 686221 4 686229 4 686683 3 686690 8 686780 4 686799 4 686908 7 687174 4 687208 7 687226 19 687264 4 687305 4 687579 4 687624 4 687669 4 688134 4 688141 4 688149 4 688603 3 688610 8 688700 4 688719 4 688828 7 689094 4 689128 7 689146 19 689184 4 689225 4 689484 4 689585 8 689855 4 689863 11 690054 4 690061 12 690620 4 691014 4 691048 7 691066 4 691078 7 691096 12 691404 4 691505 8 691775 4 691783 11 691974 4 691981 12 692540 4 692934 4 692968 7 692986 4 692998 7 693016 12 693695 4 693706 12 693894 4 693901 12 694456 8 694479 4 694888 11 694906 4 694918 11 694936 15 695615 4 695626 12 695814 4 695821 12 696376 8 696399 4 696808 11 696826 4 696838 11 696856 15 697055 4 697171 4 697513 18 697535 23 697734 4 697741 12 698300 4 698476 4 698574 4 698728 7 698761 4 698784 4 698975 4 699091 4 699433 18 699455 23 699654 4 699661 12 700220 4 700396 4 700494 4 700648 7 700681 4 700704 4 700895 4 700966 4 701019 4 701034 4 701146 4 701341 8 701353 18 701375 23 701574 4 701589 4 702271 4 702414 4 702444 7 702466 8 702568 11 702586 8 702815 4 702886 4 702939 4 702954 4 703066 4 703261 8 703273 18 703295 23 703494 4 703509 4 704191 4 704334 4 704364 7 704386 8 704488 11 704506 8 704735 4 704806 4 704859 4 704874 4 704986 4 705181 8 705193 18 705215 23 705414 4 705429 4 706111 4 706254 4 706284 7 706306 8 706408 11 706426 8 706651 12 706779 7 706906 4 707101 4 707128 3 707143 15 707349 4 708174 4 708204 7 708215 4 708226 8 708245 4 708346 4 708571 12 708699 7 708826 4 709021 4 709048 3 709063 15 709269 4 710094 4 710124 7 710135 4 710146 8 710165 4 710266 4 710488 11 710746 4 710788 3 710949 11 710968 3 710979 22 711185 8 711418 3 711909 4 712014 4 712044 4 712055 4 712063 11 712171 8 712408 11 712666 4 712708 3 712869 11 712888 3 712899 22 713105 8 713338 3 713829 4 713934 4 713964 4 713975 4 713983 11 714091 8 714331 4 714436 4 714448 11 714628 3 714793 3 714826 12 715025 4 715258 3 715749 4 715884 4 715891 27 716011 4 716251 4 716356 4 716368 11 716548 3 716713 3 716746 12 716945 4 717178 3 717669 4 717804 4 717811 27 717931 4 718168 3 718276 4 718284 11 718666 4 719098 3 719218 7 719589 4 719701 4 719728 11 719743 15 720088 3 720196 4 720204 11 720586 4 721018 3 721138 7 721509 4 721621 4 721648 11 721663 15 721921 4 722124 11 722480 4 722938 3 723016 4 723061 4 723391 4 723541 4 723568 3 723583 11 723841 4 724044 11 724400 4 724858 3 724936 4 724981 4 725311 4 725461 4 725488 3 725503 11 725964 11 726343 3 726556 4 726778 3 726856 8 727063 7 727231 4 727411 4 727426 8 727884 11 728263 3 728476 4 728698 3 728776 8 728983 7 729151 4 729331 4 729346 8 729759 7 729804 11 730168 7 730183 3 730374 4 730389 4 730520 4 730618 3 730846 4 730899 11 731071 4 731266 4 731679 7 731724 11 732088 7 732103 3 732294 4 732309 4 732440 4 732538 3 732766 4 732819 11 732991 4 733186 4 733640 4 733648 11 733663 3 734008 7 734019 11 734214 4 734221 4 734229 4 734236 4 734356 12 734686 4 734739 7 734881 4 734911 4 734949 4 735560 4 735568 11 735583 3 735928 7 735939 11 736134 4 736141 4 736149 4 736156 4 736276 12 736606 4 736659 7 736801 4 736831 4 736869 4 737386 4 737480 4 737491 4 737848 7 737859 15 738050 8 738069 11 738196 12 738380 4 738526 4 738575 8 738684 4 738793 3 739306 4 739400 4 739411 4 739768 7 739779 15 739970 8 739989 11 740116 12 740300 4 740446 4 740495 8 740604 4 740713 3 741226 4 741320 4 741331 4 741688 7 741699 15 741890 8 741909 11 742036 12 742220 4 742366 4 742415 8 742524 4 742633 3 743240 4 743248 7 743608 15 743626 4 743810 8 743829 7 743844 4 743956 12 744001 4 744271 4 744286 8 744335 15 744444 7 744553 3 744658 3 745160 4 745168 7 745528 15 745546 4 745730 8 745749 7 745764 4 745876 12 745921 4 746191 4 746206 8 746255 15 746364 7 746473 3 746578 3 746986 4 747088 7 747448 7 747459 11 747669 7 747684 4 747796 19 747935 4 747991 4 748126 4 748175 15 748269 4 748284 7 748498 3 748906 4 749008 7 749368 7 749379 11 749589 7 749604 4 749716 19 749855 4 749911 4 750046 4 750095 15 750189 4 750204 7 750418 3 750931 4 750939 7 751066 4 751213 3 751295 4 751303 7 751494 4 751509 7 751640 11 751775 4 751831 4 751891 4 752015 15 752109 4 752120 4 752128 3 752338 3 752589 7 752851 4 752859 7 752986 4 753133 3 753215 4 753223 7 753414 4 753429 7 753560 11 753695 4 753751 4 753811 4 753935 15 754029 4 754040 4 754048 3 754258 3 754509 7 754914 7 755146 4 755349 7 755364 4 755480 11 755671 4 755731 4 755863 11 755945 8 755968 3 756388 3 756421 15 756834 7 757066 4 757269 7 757284 4 757400 11 757591 4 757651 4 757783 11 757865 8 757888 3 758308 3 758341 15 758499 7 758596 4 758630 4 758664 4 758986 4 759189 7 759200 4 759324 4 759669 4 759695 15 759808 3 759871 4 760419 7 760516 4 760550 4 760584 4 760906 4 761109 7 761120 4 761244 4 761589 4 761615 15 761728 3 761791 4 762339 7 762823 7 763029 4 763040 4 763535 4 763543 3 763633 7 763648 3 763655 4 764068 3 764259 7 764743 7 764949 4 764960 4 765455 4 765463 3 765553 7 765568 3 765575 4 765988 3 766168 7 766179 7 766190 4 766291 4 766340 8 766378 3 766869 4 767041 4 767056 4 767379 7 767473 18 767495 4 767780 11 767855 4 768088 7 768099 7 768110 4 768211 4 768260 8 768298 3 768789 4 768961 4 768976 4 769299 7 769393 18 769415 4 769700 11 769775 4 770015 8 770195 4 770218 3 770225 4 770240 4 770705 19 770881 4 770889 4 770896 8 771076 8 771219 7 771313 18 771391 4 771691 8 771935 8 772115 4 772138 3 772145 4 772160 4 772625 19 772801 4 772809 4 772816 8 772996 8 773139 7 773233 18 773311 4 773611 8 773855 11 774035 4 774065 8 774080 4 774110 4 774256 4 774519 4 774530 4 774549 7 774721 23 774774 4 774913 7 775059 4 775111 4 775123 11 775145 23 775231 4 775389 4 775775 11 775955 4 775985 8 776000 4 776030 4 776176 4 776439 4 776450 4 776469 7 776641 23 776694 4 776833 7 776979 4 777031 4 777043 11 777065 23 777151 4 777309 4 777699 4 777875 4 777905 8 777920 4 778096 4 778171 4 778389 4 778558 26 778614 7 778678 7 778689 4 778873 3 778899 7 778963 45 779015 4 779071 4 779229 7 779248 11 779619 4 779795 4 779825 8 779840 4 780016 4 780091 4 780309 4 780478 26 780534 7 780598 7 780609 4 780793 3 780819 7 780883 45 780935 4 780991 4 781149 7 781168 11 781539 4 781715 4 781745 8 781760 4 781936 4 782011 4 782229 4 782398 26 782454 7 782518 7 782529 4 782713 3 782739 7 782803 45 782855 4 782911 4 783069 7 783088 11 783519 4 783568 3 783665 8 784149 4 784160 8 784306 38 784374 4 784438 7 784449 4 784520 4 784558 3 784625 11 784640 4 784659 7 784708 3 784715 53 784771 12 784831 12 784993 7 785008 11 785439 4 785488 3 785585 8 786069 4 786080 8 786226 38 786294 4 786358 7 786369 4 786440 4 786478 3 786545 11 786560 4 786579 7 786628 3 786635 53 786691 12 786751 12 786913 7 786928 11 787505 8 787516 4 787989 4 788034 7 788086 4 788135 56 788214 4 788221 4 788289 4 788304 7 788315 4 788326 8 788353 3 788360 8 788371 8 788458 48 788548 26 788671 12 788833 11 788848 7 789425 8 789436 4 789909 4 789954 7 790006 4 790055 56 790134 4 790141 4 790209 4 790224 7 790235 4 790246 8 790273 3 790280 8 790291 8 790378 48 790468 26 790591 12 790753 11 790768 7 791259 7 791270 4 791315 8 791349 4 791386 4 791596 4 791829 7 791870 11 791885 19 791923 7 791968 63 792054 4 792061 4 792129 4 792136 8 792193 22 792226 4 792241 4 792298 33 792335 15 792388 22 792511 4 792676 19 792714 4 792755 4 793179 7 793190 4 793235 8 793269 4 793306 4 793516 4 793749 7 793790 11 793805 19 793843 7 793888 63 793974 4 793981 4 794049 4 794056 8 794113 22 794146 4 794161 4 794218 33 794255 15 794308 22 794431 4 794596 19 794634 4 794675 4 794990 4 795095 15 795151 15 795226 4 795335 4 795433 7 795654 4 795669 4 795699 4 795710 41 795755 15 795815 53 795890 8 795901 4 795958 3 795980 4 796033 15 796051 4 796066 4 796138 15 796156 8 796183 7 796228 3 796235 15 796614 7 796655 4 796910 4 797015 15 797071 15 797146 4 797255 4 797353 7 797574 4 797589 4 797619 4 797630 41 797675 15 797735 53 797810 8 797821 4 797878 3 797900 4 797953 15 797971 4 797986 4 798058 15 798076 8 798103 7 798148 3 798155 15 798534 7 798575 4 798830 4 798924 7 798935 19 798995 8 799036 4 799066 4 799179 4 799273 7 799291 8 799550 60 799659 49 799730 8 799741 4 799820 4 799873 15 799903 7 799981 19 800019 4 800026 4 800083 11 800124 4 800353 3 800495 8 800750 4 800844 7 800855 19 800915 8 800956 4 800986 4 801099 4 801193 7 801211 8 801470 60 801579 49 801650 8 801661 4 801740 4 801793 15 801823 7 801901 19 801939 4 801946 4 802003 11 802044 4 802273 3 802415 8 802775 15 802828 3 802835 11 802876 4 802906 4 803131 4 803143 3 803349 7 803390 41 803443 7 803510 34 803570 8 803581 4 803716 8 803821 4 803829 7 803859 4 804695 15 804748 3 804755 11 804796 4 804826 4 805051 4 805063 3 805269 7 805310 41 805363 7 805430 34 805490 8 805501 4 805636 8 805741 4 805749 7 805779 4 806623 3 806679 4 806716 4 806746 4 806945 4 806956 4 807095 4 807230 15 807256 12 807350 34 807388 3 807410 8 807620 4 807665 8 808014 4 808543 3 808599 4 808636 4 808666 4 808865 4 808876 4 809015 4 809150 15 809176 12 809270 34 809308 3 809330 8 809540 4 809585 8 809934 4 810466 4 810508 3 810556 4 810583 3 810594 4 810811 4 811070 15 811096 12 811194 37 811254 4 811291 4 811393 3 811423 3 811460 4 811614 4 811876 4 811963 3 812386 4 812428 3 812476 4 812503 3 812514 4 812731 4 812990 15 813016 12 813114 37 813174 4 813211 4 813313 3 813343 3 813380 4 813534 4 813796 4 813883 3 814396 8 814423 3 814794 4 814899 4 814910 15 814936 12 815038 30 815176 4 815300 4 815379 7 815694 7 815709 4 815716 4 815915 4 816316 8 816343 3 816714 4 816819 4 816830 15 816856 12 816958 30 817096 4 817220 4 817299 7 817614 7 817629 4 817636 4 817835 4 818236 8 818263 3 818634 4 818739 4 818750 15 818776 12 818878 30 819016 4 819140 4 819219 7 819534 7 819549 4 819556 4 819755 4 820063 3 820171 4 820561 4 820659 4 820674 4 820726 4 820798 3 820933 3 821139 7 821469 4 821581 4 821664 15 821983 3 822091 4 822481 4 822579 4 822594 4 822646 4 822718 3 822853 3 823059 7 823389 4 823501 4 823584 15 823880 4 823891 4 823903 3 823996 8 824229 4 824401 4 824439 4 824499 4 824514 4 824566 4 824750 4 824769 7 824975 11 825309 4 825421 4 825504 19 825541 4 825800 4 825811 4 825823 3 825916 8 826149 4 826321 4 826359 4 826419 4 826434 4 826486 4 826670 4 826689 7 826895 11 827229 4 827341 4 827424 19 827461 4 827728 7 827750 8 827926 4 828069 4 828136 8 828279 4 828305 4 828339 4 828609 11 828815 11 828883 3 828901 4 829333 26 829381 12 829648 7 829670 8 829846 4 829989 4 830056 8 830199 4 830225 4 830259 4 830529 11 830735 11 830803 3 830821 4 831253 26 831301 12 831560 4 831590 8 831766 4 831909 4 831976 8 832119 4 832171 4 832179 4 832445 15 832505 4 832655 15 832719 4 832726 8 832741 4 832749 7 833173 26 833233 3 833480 4 833510 8 833686 4 833829 4 833896 8 834039 4 834091 4 834099 4 834365 15 834425 4 834575 15 834639 4 834646 8 834661 4 834669 7 835093 26 835153 3 835430 4 835584 4 835749 4 835816 8 836011 4 836019 4 836289 11 836469 4 836499 11 836566 4 836600 19 836994 4 837001 8 837013 11 837035 4 837076 4 837350 4 837504 4 837669 4 837736 8 837931 4 837939 4 838209 11 838389 4 838419 11 838486 4 838520 19 838914 4 838921 8 838933 11 838955 4 838996 4 839236 4 839315 4 839371 4 839420 8 839851 12 840129 11 840144 7 840193 3 840301 12 840339 11 840433 3 840440 8 840455 4 840511 4 840654 4 840823 7 840834 15 840853 11 840875 4 841156 4 841235 4 841291 4 841340 8 841771 12 842049 11 842064 7 842113 3 842221 12 842259 11 842353 3 842360 8 842375 4 842431 4 842574 4 842743 7 842754 15 842773 11 842795 4 842926 8 842938 3 843155 8 843268 3 843504 4 843511 8 843538 3 843691 4 843699 4 843804 4 843969 19 844033 3 844141 4 844179 7 844194 4 844280 8 844351 4 844490 4 844520 4 844550 4 844663 3 844674 4 844693 11 844846 8 844858 3 845075 8 845188 3 845424 4 845431 8 845458 3 845611 4 845619 4 845724 4 845889 19 845953 3 846061 4 846099 7 846114 4 846200 8 846271 4 846410 4 846440 4 846470 4 846583 3 846594 4 846613 11 846988 18 847111 4 847171 4 847355 8 847378 7 847531 4 847539 4 847633 3 847640 8 847749 4 847809 15 847861 4 847981 4 848019 11 848034 4 848139 4 848188 7 848334 4 848356 8 848495 11 848536 8 848908 18 849031 4 849091 4 849275 8 849298 7 849451 4 849459 4 849553 3 849560 8 849669 4 849729 15 849781 4 849901 4 849939 11 849954 4 850059 4 850108 7 850254 4 850276 8 850415 11 850456 8 850828 18 850880 4 851139 4 851218 7 851371 4 851379 4 851480 4 851653 11 851701 4 851859 4 852376 4 852748 18 852800 4 853059 4 853138 7 853291 4 853299 4 853400 4 853573 11 853621 4 853779 4 854296 4 854668 18 854720 4 854979 4 855058 7 855211 4 855219 4 855320 4 855493 11 855541 4 855699 4 856216 4 856584 22 857131 4 857139 4 857416 4 857469 4 857619 4 857979 4 858005 4 858144 4 858504 22 859051 4 859059 4 859336 4 859389 4 859539 4 859899 4 859925 4 860064 4 860236 4 860248 7 860424 26 860476 4 860971 4 860979 4 861226 4 861845 4 861856 4 862156 4 862168 7 862344 26 862396 4 862891 4 862899 4 863146 4 863765 4 863776 4 864076 4 864084 11 864271 8 864283 7 864669 15 864811 12 864961 4 865063 7 865299 7 865614 4 865685 4 865696 8 865996 4 866004 11 866191 8 866203 7 866589 15 866731 12 866881 4 866983 7 867219 7 867534 4 867605 4 867616 8 867928 7 868108 15 868126 4 868134 7 868216 4 868509 15 868651 4 868659 4 869056 4 869101 12 869120 4 869135 4 869143 3 869184 4 869454 4 869525 8 869848 7 870028 15 870046 4 870054 7 870136 4 870429 15 870571 4 870579 4 870976 4 871021 12 871040 4 871055 4 871063 3 871104 4 871374 4 871445 8 871955 8 871966 4 872349 15 872514 4 872878 3 872900 4 872941 12 872960 4 872975 4 872983 3 873046 4 873515 4 873875 8 873886 4 874269 15 874434 4 874798 3 874820 4 874861 12 874880 4 874895 4 874903 3 874966 4 875435 4 875803 7 876061 4 876069 4 876193 11 876354 4 876609 4 876616 4 876706 4 876740 4 876785 4 876815 8 876890 4 876924 4 876991 4 877029 4 877141 4 877179 4 877344 4 877355 4 877723 7 877981 4 877989 4 878113 11 878274 4 878529 4 878536 4 878626 4 878660 4 878705 4 878735 8 878810 4 878844 4 878911 4 878949 4 879061 4 879099 4 879264 4 879275 4 879433 3 879538 3 879901 4 880033 11 880048 3 880055 8 880456 4 880546 8 880558 3 880576 4 880625 4 880655 4 880764 11 880831 4 880955 4 881015 8 881184 15 881353 3 881458 3 881821 4 881953 11 881968 3 881975 8 882376 4 882466 8 882478 3 882496 4 882545 4 882575 4 882684 11 882751 4 882875 4 882935 8 883104 15 883378 3 883404 4 883610 8 883741 4 883764 4 883880 4 883891 12 884293 3 884368 7 884386 15 884416 4 884465 4 884480 8 884491 15 884551 4 884600 11 885028 11 885298 3 885324 4 885530 8 885661 4 885684 4 885800 4 885811 12 886213 3 886288 7 886306 15 886336 4 886385 4 886400 8 886411 15 886471 4 886520 11 886948 11 887128 3 887244 4 887450 8 887600 8 887735 8 887746 4 887810 4 888208 7 888219 22 888301 8 888313 7 888391 4 888429 4 888440 8 888511 8 888868 11 889048 3 889164 4 889370 8 889520 8 889655 8 889666 4 889730 4 890128 7 890139 22 890221 8 890233 7 890311 4 890349 4 890360 8 890431 8 890788 11 890968 3 891084 4 891290 8 891440 8 891575 8 891586 4 891650 4 892048 7 892059 22 892141 8 892153 7 892231 4 892269 4 892280 8 892351 8 892708 11 892835 4 892891 4 892978 3 893004 7 893341 4 893364 4 893480 4 893506 4 893968 3 893979 4 893986 4 893994 7 894061 8 894076 4 894091 4 894099 4 894151 4 894174 7 894185 8 894196 12 894211 4 894395 4 894601 4 894628 11 894755 4 894811 4 894898 3 894924 7 895261 4 895284 4 895400 4 895426 4 895888 3 895899 4 895906 4 895914 7 895981 8 895996 4 896011 4 896019 4 896071 4 896094 7 896105 8 896116 12 896131 4 896315 4 896521 4 896548 11 896724 15 896780 8 896799 4 896818 3 896844 7 897834 7 897898 15 897916 4 897931 4 897939 7 897991 4 897999 4 898006 4 898014 19 898036 23 898119 11 898426 4 898438 7 898468 15 898644 15 898700 8 898719 4 898738 3 898764 7 899754 7 899818 15 899836 4 899851 4 899859 7 899911 4 899919 4 899926 4 899934 19 899956 23 900039 11 900346 4 900358 7 900388 15 900564 19 900620 8 900639 4 900654 7 900684 7 900725 8 901168 3 901239 11 901648 7 901674 7 901741 23 901771 15 901831 4 901839 4 901846 4 901861 19 901895 4 901959 7 902101 4 902266 4 902311 12 902484 19 902540 8 902559 4 902574 7 902604 7 902645 8 903088 3 903159 11 903568 7 903594 7 903661 23 903691 15 903751 4 903759 4 903766 4 903781 19 903815 4 903879 7 904021 4 904186 4 904231 12 904400 23 904460 8 904479 11 904494 7 904524 11 904569 4 905000 4 905075 26 905420 4 905491 4 905518 3 905566 4 905578 26 905615 11 905679 4 905698 15 905716 4 906106 8 906148 15 906320 23 906380 8 906399 11 906414 7 906444 11 906489 4 906920 4 906995 26 907340 4 907411 4 907438 3 907486 4 907498 26 907535 11 907599 4 907618 15 907636 4 908026 8 908068 15 908244 7 908255 8 908326 4 908338 7 908364 15 908664 4 908769 4 908863 3 908911 30 909331 4 909418 15 909455 15 909545 8 909988 15 910164 7 910175 8 910246 4 910258 7 910284 15 910584 4 910689 4 910783 3 910831 30 911251 4 911338 15 911375 15 911465 8 911908 15 912084 22 912174 11 912193 3 912211 8 912260 11 912605 15 912703 3 912740 4 912748 33 912811 4 912883 7 913164 7 913201 4 913261 12 913295 15 913775 4 913828 11 914004 22 914094 11 914113 3 914131 8 914180 11 914525 15 914623 3 914660 4 914668 33 914731 4 914803 7 915084 7 915121 4 915181 12 915215 15 915695 4 915748 11 915920 11 915935 11 916014 4 916021 4 916033 3 916096 19 916445 8 916588 3 916595 26 916711 4 916723 3 916779 4 916993 7 917101 8 917139 11 917615 4 917653 3 917660 15 917840 11 917855 11 917934 4 917941 4 917953 3 918016 19 918365 8 918508 3 918515 26 918631 4 918643 3 918699 4 918913 7 919021 8 919059 11 919535 4 919573 3 919580 15 919760 30 919888 3 919948 7 920064 4 920446 15 920551 4 920615 4 920656 4 920833 7 920878 3 920941 8 920979 11 920994 4 921309 4 921384 4 921504 11 921680 30 921808 3 921868 7 921984 4 922366 15 922471 4 922535 4 922576 4 922753 7 922798 3 922861 8 922899 11 922914 4 923229 4 923304 4 923424 11 923604 15 923623 7 923728 3 923788 3 923859 4 923866 4 923900 8 924039 4 924125 4 924219 4 924279 19 924504 4 924673 11 924699 4 924718 7 924781 8 924819 11 924856 4 925141 4 925149 15 925194 4 925344 11 925524 15 925543 7 925648 3 925708 3 925779 4 925786 4 925820 8 925959 4 926045 4 926139 4 926199 19 926424 4 926593 11 926619 4 926638 7 926701 8 926739 11 926776 4 927061 4 927069 15 927114 4 927264 11 927444 15 927463 7 927568 3 927628 3 927699 4 927706 4 927740 8 927879 4 927965 4 928059 4 928119 19 928344 4 928513 11 928539 4 928558 7 928621 8 928659 11 928696 4 928981 4 928989 15 929034 4 929184 11 929364 7 929386 4 929488 7 929626 19 929664 4 929870 8 929885 4 929983 3 930039 4 930054 4 930264 4 930433 15 930541 4 930579 7 930886 8 930901 23 930954 4 931284 7 931306 4 931408 7 931546 19 931584 4 931790 8 931805 4 931903 3 931959 4 931974 4 932184 4 932353 15 932461 4 932499 7 932806 8 932821 23 932874 4 933208 3 933226 4 933328 11 933470 11 933504 4 933635 4 933673 3 933710 8 933736 4 933830 8 933879 4 934276 8 934381 4 934419 7 934726 8 934738 26 935128 3 935146 4 935248 11 935390 11 935424 4 935555 4 935593 3 935630 8 935656 4 935750 8 935799 4 936196 8 936301 4 936339 7 936646 8 936658 26 936984 4 936991 4 937171 8 937291 15 937314 11 937344 4 937516 4 937550 19 937576 4 937663 3 937674 4 937805 4 938120 4 938221 4 938259 7 938563 7 938578 3 938589 15 938649 7 938904 4 938911 4 939091 8 939211 15 939234 11 939264 4 939436 4 939470 19 939496 4 939583 3 939594 4 939725 4 940040 4 940141 4 940179 7 940483 7 940498 3 940509 15 940569 7 940895 11 941004 4 941011 4 941131 15 941154 4 941161 4 941236 4 941356 4 941394 15 941503 3 941510 8 941566 4 941626 4 941724 4 941960 4 941971 4 942061 4 942076 4 942103 3 942208 3 942219 4 942268 7 942384 4 942391 4 942403 11 942418 22 942489 7 942500 4 942815 11 942924 4 942931 4 943051 15 943074 4 943081 4 943156 4 943276 4 943314 15 943423 3 943430 8 943486 4 943546 4 943644 4 943880 4 943891 4 943981 4 943996 4 944023 3 944128 3 944139 4 944188 7 944304 4 944311 4 944323 11 944338 22 944409 7 944420 4 944739 7 944848 3 944855 4 944979 4 945001 4 945073 18 945196 4 945204 4 945230 19 945256 4 945339 7 945350 8 945466 8 945496 4 945564 7 945800 4 945898 11 945913 7 945943 3 946104 11 946231 4 946239 15 946261 19 946329 7 946659 7 946768 3 946775 4 946899 4 946921 4 946993 18 947116 4 947124 4 947150 19 947176 4 947259 7 947270 8 947386 8 947416 4 947484 7 947720 4 947818 11 947833 7 947863 3 948024 11 948151 4 948159 15 948181 19 948249 7 948579 7 948684 4 948691 8 948868 3 948913 18 949029 4 949070 15 949096 4 949190 11 949209 4 949336 4 949404 4 949738 11 949756 4 949779 7 949948 11 949966 4 949989 4 950079 15 950105 8 950116 4 950169 7 950499 7 950604 4 950611 8 950788 3 950833 18 950949 4 950990 15 951016 4 951110 11 951129 4 951256 4 951324 4 951658 11 951676 4 951699 7 951868 11 951886 4 951909 4 951999 15 952025 8 952036 4 952089 7 952344 7 952464 4 952531 4 952543 3 952659 4 952670 4 952708 3 952749 4 952756 15 952839 4 952910 19 952944 7 953030 11 953049 4 953079 4 953176 4 953461 19 953578 11 953593 7 953619 4 953638 7 953671 4 953780 4 953788 7 953806 4 953919 30 953956 4 954001 19 954148 3 954264 7 954384 4 954451 4 954463 3 954579 4 954590 4 954628 3 954669 4 954676 15 954759 4 954830 19 954864 7 954950 11 954969 4 954999 4 955096 4 955381 19 955498 11 955513 7 955539 4 955558 7 955591 4 955700 4 955708 7 955726 4 955839 30 955876 4 955921 19 956068 3 956184 15 956300 8 956368 7 956383 3 956499 4 956510 4 956578 7 956596 19 956623 3 956750 4 956870 8 956889 4 956919 4 956986 8 957309 11 957358 3 957418 15 957436 4 957481 4 957511 4 957620 4 957628 7 957646 4 957669 4 957744 4 957759 19 957785 8 957796 4 957845 8 957939 4 957988 3 958003 3 958104 15 958220 8 958288 7 958303 3 958419 4 958430 4 958498 7 958516 19 958543 3 958670 4 958790 8 958809 4 958839 4 958906 8 959229 11 959278 3 959338 15 959356 4 959401 4 959431 4 959540 4 959548 7 959566 4 959589 4 959664 4 959679 19 959705 8 959716 4 959765 8 959859 4 959908 3 959923 3 960020 19 960106 8 960133 18 960223 3 960418 37 960459 7 960823 15 960991 4 961126 8 961149 11 961194 7 961258 15 961276 4 961321 4 961351 4 961363 3 961460 4 961468 11 961483 7 961509 4 961584 4 961599 11 961614 4 961621 8 961636 8 961648 3 961689 4 961779 7 961831 19 961940 19 962026 8 962053 18 962143 3 962338 37 962379 7 962743 15 962911 4 963046 8 963069 11 963114 7 963178 15 963196 4 963241 4 963271 4 963283 3 963380 4 963388 11 963403 7 963429 4 963504 4 963519 11 963534 4 963541 8 963556 8 963568 3 963609 4 963699 7 963751 19 963860 19 963946 8 963973 18 964063 3 964258 37 964299 7 964663 15 964831 4 964966 8 964989 11 965034 7 965098 15 965116 4 965161 4 965191 4 965203 3 965300 4 965308 11 965323 7 965349 4 965424 4 965439 11 965454 4 965461 8 965476 8 965488 3 965529 4 965619 7 965671 19 965780 19 965900 11 965983 7 966013 3 966020 8 966178 22 966211 4 966219 7 966350 8 966736 4 966913 7 966954 4 967018 7 967029 7 967081 4 967111 4 967228 11 967243 7 967344 4 967359 41 967404 4 967415 4 967445 11 967539 4 967588 11 967603 7 967700 19 967820 11 967903 7 967933 3 967940 8 968098 22 968131 4 968139 7 968270 8 968656 4 968833 7 968874 4 968938 7 968949 7 969001 4 969031 4 969148 11 969163 7 969264 4 969279 41 969324 4 969335 4 969365 11 969459 4 969508 11 969523 7 969620 19 969699 4 969744 4 969823 3 969853 3 969864 4 969946 8 970018 26 970051 4 970194 4 970325 4 970756 4 970794 7 970858 18 971068 7 971184 52 971244 4 971379 4 971428 3 971443 7 971540 19 971619 4 971664 4 971743 3 971773 3 971784 4 971866 8 971938 26 971971 4 972114 4 972245 4 972676 4 972714 7 972778 18 972988 7 973104 52 973164 4 973299 4 973348 3 973363 7 973464 11 973535 4 973543 3 973580 4 973610 4 973663 3 973696 8 973723 3 973786 4 973831 4 973843 3 973858 22 974165 8 974431 4 974634 7 974698 22 974908 7 975031 27 975159 4 975219 4 975268 3 975384 11 975455 4 975463 3 975500 4 975530 4 975583 3 975616 8 975643 3 975706 4 975751 4 975763 3 975778 22 976085 8 976351 4 976554 7 976618 22 976828 7 976951 27 977079 4 977139 4 977188 3 977375 8 977416 8 977458 3 977491 4 977499 7 977563 3 977574 4 977626 4 977671 12 977686 19 977713 7 977724 4 978005 4 978264 11 978474 4 978538 22 978654 4 978748 7 978879 15 979006 4 979018 3 979055 8 979295 8 979336 8 979378 3 979411 4 979419 7 979483 3 979494 4 979546 4 979591 12 979606 19 979633 7 979644 4 979925 4 980184 11 980394 4 980458 22 980574 4 980668 7 980799 15 980926 4 980938 3 980975 8 981208 18 981249 15 981290 4 981298 7 981331 4 981339 7 981414 4 981425 8 981466 4 981515 8 981553 11 982066 4 982314 4 982325 4 982378 26 982419 4 982475 4 982591 4 982809 4 982858 3 982876 4 982895 8 982948 3 983128 18 983169 15 983210 4 983218 7 983251 4 983259 7 983334 4 983345 8 983386 4 983435 8 983473 11 983986 4 984234 4 984245 4 984298 26 984339 4 984395 4 984511 4 984729 4 984778 3 984796 4 984815 8 984868 3 985048 22 985089 15 985130 15 985171 4 985179 7 985250 4 985269 4 985295 4 985400 8 985723 3 985760 4 985906 4 986154 4 986161 4 986218 22 986255 11 986311 8 986323 3 986334 4 986435 4 986619 4 986649 4 986683 7 986694 11 986716 4 986735 8 986788 3 986803 3 986968 22 987009 15 987050 15 987091 4 987099 7 987170 4 987189 4 987215 4 987320 8 987643 3 987680 4 987826 4 988074 4 988081 4 988138 22 988175 11 988231 8 988243 3 988254 4 988355 4 988539 4 988569 4 988603 7 988614 11 988636 4 988655 8 988708 3 988723 3 988888 22 988925 23 988970 15 988993 3 989011 12 989056 4 989109 4 989600 4 989716 12 990020 4 990065 4 990076 4 990091 15 990174 4 990481 4 990511 19 990534 7 990556 4 990575 8 990643 3 990808 22 990845 23 990890 15 990913 3 990931 12 990976 4 991029 4 991520 4 991636 12 991940 4 991985 4 991996 4 992011 15 992094 4 992401 4 992431 19 992454 7 992476 4 992495 8 992563 3 992728 3 992739 15 992765 23 992810 15 992851 4 992859 4 992896 4 992915 4 992930 4 993035 4 993395 11 993410 4 993860 4 993916 4 993935 4 993943 3 994321 4 994329 7 994351 19 994374 11 994393 7 994415 8 994501 4 994648 3 994659 15 994685 23 994730 15 994771 4 994779 4 994816 4 994835 4 994850 4 994955 4 995315 11 995330 4 995780 4 995836 4 995855 4 995863 3 996241 4 996249 7 996271 19 996294 11 996313 7 996335 8 996421 4 996568 3 996579 7 996605 26 996639 4 996650 4 996658 7 996691 4 996755 8 996770 4 996871 4 996935 8 997235 4 997250 4 997614 4 997700 4 997775 15 998135 45 998184 45 998233 7 998255 11 998270 4 998488 3 998499 7 998525 26 998559 4 998570 4 998578 7 998611 4 998675 8 998690 4 998791 4 998855 8 999155 4 999170 4 999534 4 999620 4 999695 15 1000055 45 1000104 45 1000153 7 1000175 11 1000190 4 1000408 3 1000419 7 1000445 26 1000479 4 1000490 4 1000498 7 1000531 4 1000595 8 1000610 4 1000711 4 1000775 8 1001075 4 1001090 4 1001454 4 1001540 4 1001615 15 1001975 45 1002024 45 1002073 7 1002095 11 1002110 4 1002328 3 1002335 8 1002373 3 1002380 11 1002395 8 1002410 4 1002515 4 1002523 3 1002530 4 1002586 4 1002628 3 1002635 11 1002654 4 1002699 4 1002710 4 1002995 4 1003006 8 1003051 4 1003513 3 1003535 4 1003543 3 1003794 7 1003869 4 1003888 120 1004011 15 1004120 4 1004248 3 1004255 8 1004293 3 1004300 11 1004315 8 1004330 4 1004435 4 1004443 3 1004450 4 1004506 4 1004548 3 1004555 11 1004574 4 1004619 4 1004630 4 1004915 4 1004926 8 1004971 4 1005433 3 1005455 4 1005463 3 1005714 7 1005789 4 1005808 120 1005931 15 1006040 4 1006175 8 1006216 12 1006235 8 1006246 8 1006258 7 1006475 8 1006486 8 1006513 3 1006528 3 1006850 4 1006891 4 1006929 4 1006940 4 1007379 7 1007630 30 1007709 4 1007724 86 1007814 11 1007833 30 1007870 8 1008095 8 1008136 12 1008155 8 1008166 8 1008178 7 1008395 8 1008406 8 1008433 3 1008448 3 1008770 4 1008811 4 1008849 4 1008860 4 1009299 7 1009550 30 1009629 4 1009644 86 1009734 11 1009753 30 1009790 8 1010015 8 1010056 15 1010075 4 1010083 11 1010098 3 1010315 8 1010326 4 1010334 4 1010394 4 1010731 4 1010758 15 1010776 8 1011181 4 1011211 15 1011470 26 1011530 4 1011545 8 1011560 86 1011650 19 1011673 30 1011706 12 1011935 8 1011976 15 1011995 4 1012003 11 1012018 3 1012235 8 1012246 4 1012254 4 1012314 4 1012651 4 1012678 15 1012696 8 1013101 4 1013131 15 1013390 26 1013450 4 1013465 8 1013480 86 1013570 19 1013593 30 1013626 12 1013859 4 1013900 8 1013923 18 1013979 4 1014163 7 1014189 4 1014241 4 1014571 4 1014598 3 1014605 11 1015021 8 1015055 11 1015134 4 1015310 23 1015344 4 1015366 8 1015378 26 1015408 3 1015415 90 1015513 48 1015584 7 1015595 4 1015779 4 1015820 8 1015843 18 1015899 4 1016083 7 1016109 4 1016161 4 1016491 4 1016518 3 1016525 11 1016941 8 1016975 11 1017054 4 1017230 23 1017264 4 1017286 8 1017298 26 1017328 3 1017335 90 1017433 48 1017504 7 1017515 4 1017740 8 1017774 7 1017815 4 1017894 4 1017984 4 1017991 15 1018014 4 1018074 11 1018411 4 1018423 3 1018438 26 1018468 3 1018554 4 1018561 4 1018861 8 1018876 4 1018895 15 1018955 4 1018974 4 1018985 4 1019161 8 1019180 8 1019203 7 1019218 22 1019263 15 1019281 34 1019319 4 1019326 8 1019356 45 1019405 8 1019424 4 1019660 8 1019694 7 1019735 4 1019814 4 1019904 4 1019911 15 1019934 4 1019994 11 1020331 4 1020343 3 1020358 26 1020388 3 1020474 4 1020481 4 1020781 8 1020796 4 1020815 15 1020875 4 1020894 4 1020905 4 1021081 8 1021100 8 1021123 7 1021138 22 1021183 15 1021201 34 1021239 4 1021246 8 1021276 45 1021325 8 1021344 4 1021610 8 1021730 4 1021828 3 1021854 4 1021921 4 1022251 4 1022281 23 1022308 3 1022394 15 1022709 4 1022739 4 1022746 4 1022821 4 1023043 7 1023065 15 1023110 4 1023125 11 1023140 8 1023204 37 1023245 8 1023260 8 1023530 8 1023650 4 1023748 3 1023774 4 1023841 4 1024171 4 1024201 23 1024228 3 1024314 15 1024629 4 1024659 4 1024666 4 1024741 4 1024963 7 1024985 15 1025030 4 1025045 11 1025060 8 1025124 37 1025165 8 1025180 8 1025450 8 1025570 4 1025675 11 1026091 4 1026129 15 1026155 11 1026234 19 1026549 11 1026661 4 1026883 26 1026913 15 1026950 4 1026965 8 1026980 11 1026995 8 1027006 4 1027051 57 1027370 8 1027490 4 1027595 11 1028011 4 1028049 15 1028075 11 1028154 19 1028469 11 1028581 4 1028803 26 1028833 15 1028870 4 1028885 8 1028900 11 1028915 8 1028926 4 1028971 57 1029283 3 1029290 8 1029410 8 1029459 4 1029523 3 1029826 8 1029969 7 1029980 4 1029999 7 1030074 19 1030318 3 1030378 22 1030723 11 1030753 11 1030771 4 1030805 8 1030816 8 1030835 4 1030843 7 1030891 45 1030940 8 1031203 3 1031210 8 1031330 8 1031379 4 1031443 3 1031746 8 1031889 7 1031900 4 1031919 7 1031994 19 1032238 3 1032298 22 1032643 11 1032673 11 1032691 4 1032725 8 1032736 8 1032755 4 1032763 7 1032811 45 1032860 8 1033104 4 1033130 11 1033254 7 1033299 4 1033408 3 1033438 3 1033666 4 1033809 4 1033914 19 1034233 3 1034563 11 1034578 3 1034585 4 1034611 8 1034649 11 1034675 4 1034683 7 1034724 56 1035024 4 1035050 11 1035174 7 1035219 4 1035328 3 1035358 3 1035586 4 1035729 4 1035834 19 1036153 3 1036483 11 1036498 3 1036505 4 1036531 8 1036569 11 1036595 4 1036603 7 1036644 56 1036944 4 1036974 11 1037056 4 1037094 4 1037139 7 1037278 3 1037285 8 1037649 4 1037758 15 1037784 4 1038061 4 1038073 3 1038403 3 1038410 56 1038489 22 1038515 4 1038523 7 1038571 8 1038586 30 1038620 4 1038628 7 1038864 4 1038894 11 1038976 4 1039014 4 1039059 7 1039198 3 1039205 8 1039569 4 1039678 15 1039704 4 1039981 4 1039993 3 1040323 3 1040330 56 1040409 22 1040435 4 1040443 7 1040491 8 1040506 30 1040540 4 1040548 7 1040784 4 1040814 11 1040896 4 1040934 4 1040979 7 1041118 3 1041125 8 1041489 4 1041598 15 1041624 4 1041901 4 1041913 3 1042243 3 1042250 56 1042329 22 1042355 4 1042363 7 1042411 8 1042426 30 1042460 4 1042468 7 1042726 19 1042850 11 1042899 7 1042918 3 1043041 8 1043139 7 1043150 4 1043484 4 1043514 19 1043544 4 1043900 4 1044039 7 1044148 26 1044241 19 1044275 15 1044331 12 1044346 30 1044380 19 1044646 19 1044770 11 1044819 7 1044838 3 1044961 8 1045059 7 1045070 4 1045404 4 1045434 19 1045464 4 1045820 4 1045959 7 1046068 26 1046161 19 1046195 15 1046251 12 1046266 30 1046300 19 1046570 15 1046619 4 1046690 8 1046743 3 1046758 3 1046990 4 1047346 4 1047354 19 1047740 4 1047879 7 1047890 4 1047976 4 1047988 26 1048033 3 1048089 45 1048190 8 1048205 8 1048490 15 1048539 4 1048610 8 1048663 3 1048678 3 1048910 4 1049266 4 1049274 19 1049660 4 1049799 7 1049810 4 1049896 4 1049908 26 1049953 3 1050009 45 1050110 8 1050125 8 1050380 4 1050410 15 1050459 4 1050523 11 1050736 4 1051186 4 1051194 19 1051719 7 1051738 3 1051801 4 1051809 11 1051839 4 1051951 19 1051974 7 1052030 8 1052300 4 1052330 15 1052379 4 1052443 11 1052656 4 1053106 4 1053114 19 1053639 7 1053658 3 1053721 4 1053729 11 1053759 4 1053871 19 1053894 7 1053950 8 1054213 18 1054246 4 1054254 15 1054295 8 1054366 8 1054426 4 1054629 4 1055034 19 1055371 4 1055559 4 1055578 3 1055649 15 1055716 4 1055728 3 1055799 22 1056133 18 1056166 4 1056174 15 1056215 8 1056286 8 1056346 4 1056549 4 1056954 19 1057291 4 1057479 4 1057498 3 1057569 15 1057636 4 1057648 3 1057719 22 1058053 18 1058086 4 1058094 19 1058135 8 1058315 4 1058371 4 1058439 4 1058469 4 1058870 23 1059211 4 1059418 3 1059425 4 1059493 7 1059654 4 1059973 18 1060006 4 1060014 19 1060055 8 1060235 4 1060291 4 1060359 4 1060389 4 1060790 23 1061131 4 1061338 3 1061345 4 1061413 7 1061574 4 1061893 18 1061934 19 1061975 8 1062151 4 1062298 3 1062309 4 1062459 4 1062703 30 1063018 3 1063141 4 1063258 11 1063273 11 1063501 4 1063516 4 1063524 4 1063813 18 1063854 19 1063895 8 1064071 4 1064218 3 1064229 4 1064379 4 1064623 30 1064938 3 1065061 4 1065178 11 1065193 11 1065421 4 1065436 4 1065444 4 1065733 18 1065770 19 1065811 15 1065931 4 1065988 7 1066126 4 1066138 3 1066149 7 1066160 8 1066543 33 1066801 4 1066858 3 1066906 4 1066981 4 1066989 4 1067098 11 1067113 3 1067244 4 1067653 18 1067690 19 1067731 15 1067851 4 1067908 7 1068046 4 1068058 3 1068069 7 1068080 8 1068463 33 1068721 4 1068778 3 1068826 4 1068901 4 1068909 4 1069018 11 1069033 3 1069164 4 1069573 18 1069603 26 1069655 15 1069786 4 1069828 3 1069978 3 1069996 12 1070109 4 1070240 4 1070360 4 1070368 48 1070420 4 1070581 4 1070630 8 1070641 4 1070821 4 1070934 15 1070953 11 1071061 4 1071084 4 1071493 18 1071523 26 1071575 15 1071706 4 1071748 3 1071898 3 1071916 12 1072029 4 1072160 4 1072280 4 1072288 48 1072340 4 1072501 4 1072550 8 1072561 4 1072741 4 1072854 15 1072873 11 1072981 4 1073004 4 1073413 18 1073443 30 1073488 3 1073495 8 1073506 4 1073626 4 1073814 7 1073840 11 1073945 8 1074069 30 1074200 4 1074208 3 1074215 41 1074260 4 1074470 8 1074481 4 1074538 3 1074556 4 1074631 4 1074766 4 1074774 30 1074901 15 1074920 4 1075333 18 1075363 30 1075408 3 1075415 8 1075426 4 1075546 4 1075734 7 1075760 11 1075865 8 1075989 30 1076120 4 1076128 3 1076135 41 1076180 4 1076390 8 1076401 4 1076458 3 1076476 4 1076551 4 1076686 4 1076694 30 1076821 15 1076840 4 1077253 18 1077283 30 1077328 3 1077335 8 1077346 4 1077466 4 1077654 7 1077680 11 1077785 8 1077909 30 1078040 4 1078048 3 1078055 41 1078100 4 1078310 8 1078321 4 1078378 3 1078396 4 1078471 4 1078606 4 1078614 30 1078741 15 1078760 4 1079135 4 1079176 15 1079206 23 1079244 7 1079255 19 1079574 7 1079600 4 1079608 3 1079694 4 1079709 4 1079806 4 1079814 4 1079821 38 1079863 3 1079870 8 1079900 4 1079953 11 1079994 19 1080016 8 1080234 4 1080241 4 1080298 3 1080305 4 1080316 4 1080391 4 1080523 30 1080556 8 1080661 15 1080680 4 1080714 4 1081055 4 1081096 15 1081126 23 1081164 7 1081175 19 1081494 7 1081520 4 1081528 3 1081614 4 1081629 4 1081726 4 1081734 4 1081741 38 1081783 3 1081790 8 1081820 4 1081873 11 1081914 19 1081936 8 1082154 4 1082161 4 1082218 3 1082225 4 1082236 4 1082311 4 1082443 30 1082476 8 1082581 15 1082600 4 1082634 4 1082968 3 1083013 3 1083020 11 1083046 23 1083084 7 1083095 4 1083106 8 1083133 3 1083151 4 1083410 11 1083425 4 1083440 4 1083451 4 1083474 4 1083519 4 1083534 4 1083549 4 1083646 4 1083654 45 1083703 3 1083710 19 1083740 4 1083793 11 1083823 3 1083834 19 1083856 8 1084081 8 1084138 3 1084145 15 1084183 3 1084231 4 1084363 37 1084505 4 1084513 11 1084554 7 1084888 3 1084933 3 1084940 11 1084966 23 1085004 7 1085015 4 1085026 8 1085053 3 1085071 4 1085330 11 1085345 4 1085360 4 1085371 4 1085394 4 1085439 4 1085454 4 1085469 4 1085566 4 1085574 45 1085623 3 1085630 19 1085660 4 1085713 11 1085743 3 1085754 19 1085776 8 1086001 8 1086058 3 1086065 15 1086103 3 1086151 4 1086283 37 1086425 4 1086433 11 1086474 7 1086804 19 1086853 18 1086886 19 1086924 15 1086943 11 1086973 3 1086991 4 1087213 3 1087224 4 1087246 30 1087280 4 1087291 4 1087299 4 1087498 41 1087558 7 1087633 33 1087681 12 1087696 8 1087708 3 1087921 4 1087989 7 1088071 12 1088203 22 1088233 7 1088285 4 1088356 4 1088386 12 1088450 4 1088461 4 1088724 19 1088773 18 1088806 19 1088844 15 1088863 11 1088893 3 1088911 4 1089133 3 1089144 4 1089166 30 1089200 4 1089211 4 1089219 4 1089418 41 1089478 7 1089553 33 1089601 12 1089616 8 1089628 3 1089841 4 1089909 7 1089991 12 1090123 22 1090153 7 1090205 4 1090276 4 1090306 12 1090370 4 1090381 4 1090640 34 1090681 8 1090693 15 1090726 19 1090764 26 1090813 7 1090831 4 1091053 3 1091068 3 1091090 26 1091131 4 1091191 12 1091473 11 1091488 7 1091536 8 1091746 4 1091758 3 1091829 7 1091859 4 1091915 11 1092046 4 1092076 4 1092226 15 1092350 4 1092560 34 1092601 8 1092613 15 1092646 19 1092684 26 1092733 7 1092751 4 1092973 3 1092988 3 1093010 26 1093051 4 1093111 12 1093393 11 1093408 7 1093456 8 1093666 4 1093678 3 1093749 7 1093779 4 1093835 11 1093966 4 1093996 4 1094146 15 1094270 4 1094480 23 1094510 4 1094521 4 1094540 8 1094570 15 1094604 4 1094611 19 1094653 7 1094844 4 1094893 3 1094930 15 1094953 11 1095031 4 1095099 4 1095380 4 1095560 11 1095586 27 1095658 3 1095665 8 1095695 4 1095755 11 1095804 4 1096066 19 1096400 23 1096430 4 1096441 4 1096460 8 1096490 15 1096524 4 1096531 19 1096573 7 1096764 4 1096813 3 1096850 15 1096873 11 1096951 4 1097019 4 1097300 4 1097480 11 1097506 27 1097578 3 1097585 8 1097615 4 1097675 11 1097724 4 1097986 19 1098286 4 1098320 23 1098350 4 1098361 4 1098380 8 1098410 11 1098451 23 1098586 4 1098684 4 1098721 8 1098800 4 1098871 4 1098939 4 1099220 4 1099400 4 1099415 4 1099423 11 1099438 11 1099498 3 1099509 15 1099531 8 1099595 8 1099640 11 1099723 3 1099910 15 1100206 4 1100240 23 1100270 4 1100281 4 1100300 8 1100330 11 1100371 23 1100506 4 1100604 4 1100641 8 1100720 4 1100791 4 1100859 4 1101140 4 1101320 4 1101335 4 1101343 11 1101358 11 1101418 3 1101429 15 1101451 8 1101515 8 1101560 11 1101643 3 1101830 15 1102126 8 1102160 23 1102190 4 1102201 4 1102220 11 1102243 3 1102250 4 1102291 23 1102359 4 1102426 4 1102561 12 1102674 4 1103240 4 1103248 3 1103255 4 1103263 7 1103356 4 1103375 4 1103439 4 1103484 4 1103563 7 1103754 11 1104046 8 1104080 23 1104110 4 1104121 4 1104140 11 1104163 3 1104170 4 1104211 23 1104279 4 1104346 4 1104481 12 1104594 4 1105160 4 1105168 3 1105175 4 1105183 7 1105276 4 1105295 4 1105359 4 1105404 4 1105483 7 1105674 11 1105966 4 1106000 8 1106060 8 1106131 4 1106139 4 1106146 8 1106161 8 1106266 4 1106401 4 1106409 4 1106975 4 1107088 7 1107099 19 1107121 4 1107196 4 1107279 4 1107320 8 1107403 7 1107534 4 1107594 15 1107886 4 1107920 8 1107980 8 1108051 4 1108059 4 1108066 8 1108081 8 1108186 4 1108321 4 1108329 4 1108895 4 1109008 7 1109019 19 1109041 4 1109116 4 1109199 4 1109240 8 1109323 7 1109454 4 1109514 15 1109806 4 1109836 12 1109900 8 1109971 4 1109979 4 1110001 4 1110106 4 1110118 3 1110935 4 1110943 15 1111014 4 1111164 4 1111246 4 1111434 4 1111441 4 1111509 4 1111726 4 1111756 12 1111820 8 1111891 4 1111899 4 1111921 4 1112026 4 1112038 3 1112855 4 1112863 15 1112934 4 1113084 4 1113166 4 1113354 4 1113361 4 1113429 4 1113646 4 1113676 12 1113740 8 1113811 4 1113819 4 1113841 4 1113946 4 1113958 3 1114775 4 1114783 15 1114854 4 1115004 4 1115086 4 1115274 4 1115281 4 1115349 4 1115566 4 1115600 4 1115615 4 1115660 8 1115731 4 1115878 3 1116279 11 1116556 4 1116575 4 1116706 15 1116894 4 1117003 11 1117201 4 1117265 8 1117486 4 1117520 4 1117535 4 1117580 8 1117651 4 1117798 3 1118199 11 1118476 4 1118495 4 1118626 15 1118814 4 1118923 11 1119121 4 1119185 8 1119403 7 1119440 4 1119455 4 1119500 4 1119571 8 1119583 3 1119706 4 1119714 7 1120126 4 1120224 4 1120329 4 1120374 7 1120396 4 1120415 4 1120546 4 1120606 12 1120663 3 1120719 19 1120843 7 1121109 4 1121323 7 1121360 4 1121375 4 1121420 4 1121491 8 1121503 3 1121626 4 1121634 7 1122046 4 1122144 4 1122249 4 1122294 7 1122316 4 1122335 4 1122466 4 1122526 12 1122583 3 1122639 19 1122763 7 1123029 4 1123231 4 1123243 7 1123254 4 1123336 8 1123411 4 1123546 8 1123558 3 1123899 4 1124214 4 1124221 4 1124229 4 1124248 3 1124371 4 1124383 7 1124394 4 1124446 8 1124559 19 1124668 7 1124679 11 1124810 4 1124949 4 1125151 4 1125163 7 1125174 4 1125256 8 1125331 4 1125466 8 1125478 3 1125819 4 1126134 4 1126141 4 1126149 4 1126168 3 1126291 4 1126303 7 1126314 4 1126366 8 1126479 19 1126588 7 1126599 11 1126730 4 1126869 4 1127083 7 1127176 12 1127214 4 1127289 4 1127386 4 1127394 7 1127641 4 1127739 7 1128054 4 1128061 8 1128084 7 1128095 4 1128283 3 1128290 4 1128399 7 1128410 4 1128759 4 1128789 4 1129003 7 1129096 12 1129134 4 1129209 4 1129306 4 1129314 7 1129561 4 1129659 7 1129974 4 1129981 8 1130004 7 1130015 4 1130203 3 1130210 4 1130319 7 1130330 4 1130679 4 1130709 4 1130911 23 1130968 3 1130979 4 1131005 4 1131013 15 1131054 4 1131106 8 1131223 22 1131579 4 1131635 4 1131643 3 1131901 4 1132130 4 1132239 7 1132254 7 1132269 4 1132280 4 1132599 4 1132831 23 1132888 3 1132899 4 1132925 4 1132933 15 1132974 4 1133026 8 1133143 22 1133499 4 1133555 4 1133563 3 1133821 4 1134050 4 1134159 7 1134174 7 1134189 4 1134200 4 1134519 4 1134748 22 1134804 7 1134815 8 1134845 4 1134853 15 1134894 4 1134946 8 1135063 26 1135224 4 1135419 4 1135475 4 1135741 4 1136075 11 1136090 15 1136109 4 1136184 11 1136435 8 1136446 4 1136484 4 1136668 22 1136724 7 1136735 8 1136765 4 1136773 15 1136814 4 1136866 8 1136983 26 1137144 4 1137339 4 1137395 4 1137661 4 1137995 11 1138010 15 1138029 4 1138104 11 1138355 8 1138366 4 1138404 4 1138588 7 1138606 4 1138644 4 1138681 27 1138734 4 1138783 7 1138816 4 1138903 18 1138925 4 1139450 26 1139563 3 1139570 4 1139814 7 1139930 11 1140275 8 1140425 4 1140508 7 1140526 4 1140564 4 1140601 27 1140654 4 1140703 7 1140736 4 1140823 18 1140845 4 1141370 26 1141483 3 1141490 4 1141734 7 1141850 11 1142195 8 1142345 4 1142431 4 1142484 7 1142495 8 1142518 18 1142540 8 1142578 3 1142615 19 1142641 4 1142664 4 1142746 23 1142960 4 1143290 26 1143403 11 1143650 19 1143759 4 1143774 4 1143793 3 1144104 15 1144261 8 1144351 4 1144404 7 1144415 8 1144438 18 1144460 8 1144498 3 1144535 19 1144561 4 1144584 4 1144666 23 1144880 4 1145210 26 1145323 11 1145570 19 1145679 4 1145694 4 1145713 3 1146024 15 1146181 8 1146264 11 1146316 27 1146350 4 1146358 18 1146380 8 1146451 4 1146459 22 1146485 15 1146549 4 1146586 4 1146594 7 1147021 4 1147130 26 1147243 7 1147475 11 1147494 4 1147501 8 1147914 4 1147944 11 1147959 4 1148105 4 1148184 11 1148236 27 1148270 4 1148278 18 1148300 8 1148371 4 1148379 22 1148405 15 1148469 4 1148506 4 1148514 7 1148941 4 1149050 26 1149163 7 1149395 11 1149414 4 1149421 8 1149834 4 1149864 11 1149879 4 1150025 4 1150104 11 1150156 27 1150190 4 1150198 18 1150220 8 1150291 4 1150299 22 1150325 15 1150389 4 1150426 4 1150434 7 1150861 4 1150970 26 1151083 7 1151315 11 1151334 4 1151341 8 1151754 4 1151784 11 1151799 4 1151945 4 1152024 19 1152050 4 1152058 3 1152065 4 1152073 30 1152110 11 1152129 4 1152140 11 1152185 4 1152193 3 1152211 49 1152309 4 1152358 3 1152781 4 1153003 3 1153235 4 1153374 4 1153434 4 1153445 8 1153468 7 1153704 11 1153719 4 1153865 8 1153944 19 1153970 4 1153978 3 1153985 4 1153993 30 1154030 11 1154049 4 1154060 11 1154105 4 1154113 3 1154131 49 1154229 4 1154278 3 1154701 4 1154923 3 1155155 4 1155294 4 1155354 4 1155365 8 1155388 7 1155624 11 1155639 4 1155785 8 1155860 23 1155890 4 1155913 48 1155980 11 1156014 4 1156021 15 1156051 49 1156149 4 1156198 3 1157075 8 1157101 4 1157180 4 1157214 4 1157285 19 1157308 7 1157443 7 1157469 4 1157514 4 1157559 4 1157709 4 1157780 23 1157810 4 1157833 48 1157900 11 1157934 4 1157941 15 1157971 49 1158069 4 1158118 3 1158995 8 1159021 4 1159100 4 1159134 4 1159205 19 1159228 7 1159363 7 1159389 4 1159434 4 1159479 4 1159629 4 1159704 4 1159719 4 1159764 4 1159775 8 1159790 11 1159820 19 1159861 12 1159891 53 1159989 4 1160034 7 1160908 3 1160915 23 1161133 3 1161283 11 1161309 4 1161350 8 1161395 8 1161624 4 1161639 4 1161684 4 1161695 8 1161710 11 1161740 19 1161781 12 1161811 53 1161909 4 1161954 7 1162828 3 1162835 23 1163053 3 1163203 11 1163229 4 1163270 8 1163315 8 1163634 7 1163645 8 1163664 11 1163690 4 1163698 7 1163709 4 1163735 15 1163754 19 1163776 12 1163870 11 1164305 4 1164755 23 1165126 12 1165194 4 1165554 7 1165565 8 1165584 11 1165610 4 1165618 7 1165629 4 1165655 15 1165674 19 1165696 12 1165790 11 1166225 4 1166675 23 1167046 12 1167114 4 1167504 11 1167523 30 1167579 41 1167706 12 1168603 3 1168618 3 1168666 4 1168966 12 1169034 4 1169173 11 1169195 4 1169424 11 1169443 30 1169499 41 1169626 12 1170523 3 1170538 3 1170586 4 1170886 12 1170954 4 1171093 11 1171115 4 1171340 15 1171359 22 1171423 22 1171449 4 1171546 12 1171981 4 1172443 3 1172450 4 1172506 4 1172529 4 1172604 4 1172615 4 1172810 8 1172904 7 1173020 4 1173035 4 1173260 15 1173279 22 1173343 22 1173369 4 1173466 12 1173901 4 1174363 3 1174370 4 1174426 4 1174449 4 1174524 4 1174535 4 1174730 8 1174824 7 1174940 4 1174955 4 1175199 19 1175263 11 1175278 11 1175386 12 1175821 8 1176286 4 1176324 4 1176343 7 1176444 4 1176466 4 1176474 4 1176654 4 1176744 7 1176759 4 1176789 4 1176838 7 1177119 19 1177183 11 1177198 11 1177306 12 1177741 8 1178206 4 1178244 4 1178263 7 1178364 4 1178386 4 1178394 4 1178574 4 1178664 7 1178679 4 1178709 4 1178758 7 1179013 3 1179020 4 1179043 11 1179103 11 1179118 7 1179230 4 1179455 4 1179564 7 1179575 4 1179586 4 1179598 3 1179669 4 1180164 4 1180183 7 1180284 4 1180306 4 1180314 7 1180498 3 1180565 4 1180591 4 1180599 4 1180678 11 1180933 3 1180940 4 1180963 11 1181023 11 1181038 7 1181150 4 1181375 4 1181484 7 1181495 4 1181506 4 1181518 3 1181589 4 1182084 4 1182103 7 1182204 4 1182226 4 1182234 7 1182418 3 1182485 4 1182511 4 1182519 4 1182598 11 1182838 7 1182849 4 1182856 4 1182868 3 1182883 15 1182946 15 1183066 4 1183078 3 1183295 19 1183340 4 1183404 41 1184023 3 1184154 4 1184334 7 1184431 12 1184518 11 1184758 7 1184769 4 1184776 4 1184788 3 1184803 15 1184866 15 1184986 4 1184998 3 1185215 19 1185260 4 1185324 41 1185943 3 1186074 4 1186254 7 1186351 12 1186438 11 1186678 7 1186689 4 1186696 4 1186708 3 1186723 15 1186786 15 1186906 4 1186918 3 1187135 19 1187180 4 1187244 41 1187863 3 1187994 4 1188174 7 1188271 12 1188358 11 1188504 4 1188594 7 1188609 11 1188628 3 1188650 4 1188706 15 1189055 30 1189100 4 1189149 4 1189160 30 1189194 11 1189456 4 1189891 4 1189906 4 1190079 4 1190086 15 1190191 4 1190218 3 1190278 3 1190285 4 1190334 4 1190424 4 1190514 7 1190529 11 1190548 3 1190570 4 1190626 15 1190975 30 1191020 4 1191069 4 1191080 30 1191114 11 1191376 4 1191811 4 1191826 4 1191999 4 1192006 15 1192111 4 1192138 3 1192198 3 1192205 4 1192254 4 1192344 4 1192400 4 1192449 11 1192546 15 1192573 3 1192884 4 1192895 30 1193000 26 1193034 11 1193225 4 1193296 4 1193626 4 1193919 26 1193949 4 1193960 4 1194005 11 1194031 8 1194069 4 1194118 3 1194178 3 1194264 4 1194320 4 1194369 11 1194466 15 1194493 3 1194804 4 1194815 30 1194920 26 1194954 11 1195145 4 1195216 4 1195546 4 1195839 26 1195869 4 1195880 4 1195925 11 1195951 8 1195989 4 1196038 3 1196098 3 1196296 4 1196386 8 1196398 3 1196405 8 1196735 4 1196844 19 1196866 4 1196878 3 1197058 15 1197466 8 1197755 26 1197826 4 1197849 11 1197871 27 1197905 8 1197958 3 1198216 4 1198306 8 1198318 3 1198325 8 1198655 4 1198764 19 1198786 4 1198798 3 1198978 15 1199386 8 1199675 26 1199746 4 1199769 11 1199791 27 1199825 8 1199878 3 1200106 4 1200238 3 1200245 8 1200695 8 1200706 4 1200766 4 1200894 4 1200909 4 1200924 4 1200954 4 1201010 4 1201426 4 1201558 3 1201565 4 1201599 22 1201719 37 1201790 11 1201805 4 1202026 4 1202158 3 1202165 8 1202615 8 1202626 4 1202686 4 1202814 4 1202829 4 1202844 4 1202874 4 1202930 4 1203346 4 1203478 3 1203485 4 1203519 22 1203639 37 1203710 11 1203725 4 1203913 3 1204606 15 1204730 8 1204745 8 1204764 4 1204794 4 1205405 8 1205559 7 1205570 11 1205585 4 1205623 26 1205833 3 1206526 15 1206650 8 1206665 8 1206684 4 1206714 4 1207325 8 1207479 7 1207490 11 1207505 4 1207543 26 1207764 4 1208446 15 1208570 8 1208585 4 1208690 4 1209470 15 1209684 4 1210366 15 1210490 8 1210505 4 1210610 4 1211390 15 1211604 4 1212286 19 1212406 8 1212530 4 1212823 3 1213190 4 1213310 15 1213524 4 1214206 19 1214326 8 1214450 4 1214743 3 1215110 4 1215230 15 1215470 4 1215586 4 1216126 30 1216250 4 1216370 4 1216576 23 1217011 12 1217030 4 1217150 15 1217390 4 1217506 4 1218046 30 1218170 4 1218290 4 1218496 23 1218931 12 1218950 4 1219070 15 1219246 4 1219295 4 1219430 8 1219966 8 1219978 33 1220210 4 1220416 4 1220424 15 1220983 3 1221166 4 1221215 4 1221350 8 1221886 8 1221898 33 1222130 4 1222336 4 1222344 15 1222903 3 1223086 4 1223135 4 1223270 8 1223806 8 1223818 33 1224050 4 1224256 4 1224264 15 1224823 3 1225040 11 1225070 4 1225186 15 1225741 19 1225914 7 1225974 4 1226176 4 1226184 15 1226630 4 1226694 15 1226731 4 1226754 4 1226761 4 1226960 11 1226990 4 1227106 15 1227661 19 1227834 7 1227894 4 1228096 4 1228104 15 1228550 4 1228614 15 1228651 4 1228674 4 1228681 4 1228824 4 1228876 15 1229026 19 1229566 38 1229671 4 1229694 4 1229754 7 1229814 4 1230016 4 1230024 7 1230279 4 1230534 15 1230568 11 1230594 4 1230744 4 1230796 15 1230946 19 1231486 38 1231591 4 1231614 4 1231674 7 1231734 4 1231936 4 1231944 7 1232199 4 1232454 15 1232488 11 1232514 4 1232660 8 1232851 4 1232863 7 1232874 11 1233406 53 1233511 4 1233594 4 1233654 4 1233736 4 1233766 4 1233868 3 1234115 11 1234374 19 1234404 15 1234423 3 1234430 8 1234441 4 1234580 8 1234771 4 1234783 7 1234794 11 1235326 53 1235431 4 1235514 4 1235574 4 1235656 4 1235686 4 1235788 3 1236035 11 1236294 19 1236324 15 1236343 3 1236350 8 1236361 4 1236496 12 1236511 4 1236628 11 1236691 4 1236721 4 1237246 4 1237254 37 1237295 4 1237374 4 1237430 8 1237558 3 1237576 4 1237704 7 1237715 4 1237948 3 1237955 11 1238218 33 1238255 8 1238270 8 1238281 4 1238416 12 1238431 4 1238548 11 1238611 4 1238641 4 1239166 4 1239174 37 1239215 4 1239294 4 1239350 8 1239478 3 1239496 4 1239624 7 1239635 4 1239868 3 1239875 11 1240138 33 1240175 8 1240190 8 1240201 4 1240333 15 1240359 7 1240471 8 1240531 4 1241086 4 1241094 19 1241124 4 1241210 8 1241398 3 1241409 11 1241540 23 1242009 11 1242054 30 1242088 3 1242253 15 1242279 7 1242391 8 1242451 4 1243006 4 1243014 19 1243044 4 1243130 8 1243318 3 1243329 11 1243460 23 1243929 11 1243974 30 1244008 3 1244161 4 1244173 3 1244308 11 1244926 4 1244964 4 1244983 3 1245050 4 1245253 7 1245309 4 1245373 3 1245380 26 1245853 33 1245890 4 1245898 22 1245935 11 1245954 7 1246081 4 1246093 3 1246228 11 1246846 4 1246884 4 1246903 3 1246970 4 1247173 7 1247229 4 1247293 3 1247300 26 1247773 33 1247810 4 1247818 22 1247855 11 1247874 7 1248088 7 1248140 4 1248148 11 1248170 4 1248286 4 1248721 4 1248804 4 1249051 4 1249096 4 1249216 34 1249708 18 1249738 7 1249768 18 1249790 11 1249861 4 1250008 7 1250060 4 1250068 11 1250090 4 1250206 4 1250641 4 1250724 4 1250971 4 1251016 4 1251136 34 1251628 18 1251658 7 1251688 18 1251710 11 1251781 4 1251841 4 1251928 3 1251935 4 1251943 3 1251954 4 1251980 4 1251988 7 1252014 7 1252123 3 1252531 4 1252558 11 1252903 7 1252944 4 1253056 4 1253064 19 1253551 15 1253615 4 1253713 3 1253761 4 1253848 3 1253855 4 1253863 3 1253874 4 1253900 4 1253908 7 1253934 7 1254043 3 1254451 4 1254478 11 1254823 7 1254864 4 1254976 4 1254984 19 1255471 15 1255535 4 1255633 3 1255764 15 1255813 3 1255820 4 1255828 3 1255858 3 1256379 11 1256398 11 1256431 4 1256488 3 1256634 4 1256896 4 1256908 3 1256915 4 1257684 15 1257733 3 1257740 4 1257748 3 1257778 3 1258299 11 1258318 11 1258351 4 1258408 3 1258554 4 1258816 4 1258828 3 1258835 4 1259604 15 1259653 3 1259660 4 1259668 3 1259698 3 1260219 11 1260238 11 1260271 4 1260328 3 1260474 4 1260736 4 1260748 3 1260755 4 1261528 3 1261550 8 1262131 19 1262195 19 1262218 7 1262255 8 1262394 4 1262641 4 1262656 4 1263448 3 1263470 8 1264051 19 1264115 19 1264138 7 1264175 8 1264314 4 1264561 4 1264576 4 1265368 3 1265390 8 1265409 7 1265420 11 1265563 3 1265975 8 1265986 4 1266039 15 1266058 11 1266091 12 1266234 4 1266425 4 1266481 4 1266493 3 1266500 8 1267288 3 1267310 8 1267329 7 1267340 11 1267483 3 1267895 8 1267906 4 1267959 15 1267978 11 1268011 12 1268154 4 1268345 4 1268401 4 1268413 3 1268420 8 1269230 8 1269249 22 1269740 11 1269755 4 1269774 4 1269811 12 1269826 4 1269886 8 1269905 4 1269931 15 1269950 8 1270051 8 1270081 4 1270261 8 1270321 4 1270329 22 1270355 4 1270839 4 1271150 8 1271169 22 1271660 11 1271675 4 1271694 4 1271731 12 1271746 4 1271806 8 1271825 4 1271851 15 1271870 8 1271971 8 1272001 4 1272181 8 1272241 4 1272249 22 1272275 4 1272759 4 1273070 8 1273081 4 1273089 19 1273580 11 1273595 4 1273651 8 1273666 4 1273723 11 1273771 15 1273790 4 1273824 4 1273884 19 1273906 12 1273921 4 1274161 4 1274169 30 1274656 8 1274675 8 1274990 8 1275001 4 1275009 19 1275500 11 1275515 4 1275571 8 1275586 4 1275643 11 1275691 15 1275710 4 1275744 4 1275804 19 1275826 12 1275841 4 1276081 4 1276089 30 1276576 8 1276595 8 1276929 19 1277420 8 1277454 4 1277488 7 1277566 8 1277615 4 1277630 4 1277664 7 1277675 4 1277716 30 1277750 8 1277761 4 1277945 4 1278005 23 1278474 7 1278496 8 1278849 19 1279340 8 1279374 4 1279408 7 1279486 8 1279535 4 1279550 4 1279584 7 1279595 4 1279636 30 1279670 8 1279681 4 1279865 4 1279925 23 1280394 7 1280416 8 1280731 8 1280743 3 1280769 19 1281294 7 1281313 7 1281324 11 1281406 57 1281470 4 1281496 4 1281504 19 1281541 8 1281553 52 1281609 4 1281834 34 1281871 4 1282306 15 1282336 8 1282651 8 1282663 3 1282689 19 1283214 7 1283233 7 1283244 11 1283326 57 1283390 4 1283416 4 1283424 19 1283461 8 1283473 52 1283529 4 1283754 34 1283791 4 1284226 15 1284256 8 1284571 15 1284605 15 1284624 4 1285153 22 1285246 57 1285310 4 1285321 4 1285344 19 1285374 15 1285393 63 1285460 4 1285674 7 1285685 19 1286146 38 1286491 15 1286525 15 1286544 4 1287073 22 1287166 57 1287230 4 1287241 4 1287264 19 1287294 15 1287313 63 1287380 4 1287594 7 1287605 19 1288066 38 1288408 22 1288434 26 1288464 4 1288471 4 1288880 8 1289000 19 1289026 4 1289090 8 1289101 15 1289131 12 1289150 4 1289195 4 1289218 3 1289244 19 1289270 23 1289300 4 1289330 4 1289521 23 1289986 27 1290016 4 1290024 4 1290328 22 1290354 26 1290384 4 1290391 4 1290800 8 1290920 19 1290946 4 1291010 8 1291021 15 1291051 12 1291070 4 1291115 4 1291138 3 1291164 19 1291190 23 1291220 4 1291250 4 1291441 23 1291906 27 1291936 4 1291944 4 1292248 22 1292281 15 1292716 12 1292848 11 1293170 4 1293178 3 1293361 4 1293376 8 1293826 23 1294168 22 1294201 15 1294636 12 1294768 11 1295090 4 1295098 3 1295281 4 1295296 8 1295746 23 1296088 22 1296118 22 1296155 4 1296931 4 1296969 4 1296999 4 1297010 4 1297018 3 1297209 19 1297231 4 1297666 27 1298008 22 1298038 22 1298075 4 1298851 4 1298889 4 1298919 4 1298930 4 1298938 3 1299129 19 1299151 4 1299586 27 1299928 22 1299958 22 1299995 4 1300771 4 1300809 4 1300839 4 1300850 4 1300858 3 1301049 19 1301071 4 1301506 27 1301821 4 1301848 22 1301915 4 1302676 4 1302684 4 1302691 4 1302729 4 1302736 8 1302770 4 1302778 7 1302976 19 1303430 23 1303741 4 1303768 22 1303835 4 1304596 4 1304604 4 1304611 4 1304649 4 1304656 8 1304690 4 1304698 7 1304896 19 1305350 23 1305658 7 1305676 8 1305688 18 1306524 11 1306569 4 1306580 8 1306610 4 1306816 23 1307270 26 1307578 7 1307596 8 1307608 18 1308444 11 1308489 4 1308500 8 1308530 4 1308736 23 1309190 26 1309498 11 1309531 15 1309584 4 1310435 4 1310450 4 1310660 19 1311095 8 1311106 8 1311118 3 1311125 8 1311418 11 1311451 15 1311504 4 1312355 4 1312370 4 1312580 19 1313015 8 1313026 8 1313038 3 1313045 8 1313281 4 1313338 22 1313368 18 1313424 4 1314196 19 1314238 3 1314275 4 1314286 8 1314939 4 1314950 4 1315201 4 1315258 22 1315288 18 1315344 4 1316116 19 1316158 3 1316195 4 1316206 8 1316859 4 1316870 4 1317178 26 1317208 18 1317234 4 1317245 4 1317774 4 1317808 3 1317815 11 1318036 23 1318078 3 1319098 26 1319128 18 1319154 4 1319165 4 1319694 4 1319728 3 1319735 11 1319956 23 1319998 3 1321018 3 1321036 4 1321048 22 1321074 15 1321614 7 1321625 4 1321884 11 1322248 3 1322600 4 1322938 3 1322956 4 1322968 22 1322994 15 1323534 7 1323545 4 1323804 11 1324168 3 1324520 4 1324858 3 1324865 4 1324876 4 1324884 34 1325034 30 1325450 4 1325461 4 1325611 12 1325761 4 1325814 4 1326080 15 1326778 3 1326785 4 1326796 4 1326804 34 1326954 30 1327370 4 1327381 4 1327531 12 1327681 4 1327734 4 1328000 15 1328698 3 1328705 4 1328716 42 1328863 3 1328874 30 1329118 3 1329140 4 1329301 4 1329335 4 1329451 12 1329924 7 1329935 4 1330408 3 1330618 3 1330625 4 1330636 42 1330783 3 1330794 30 1331038 3 1331060 4 1331221 4 1331255 4 1331371 12 1331844 7 1331855 4 1332328 3 1332481 4 1332538 3 1332545 19 1332579 4 1332710 30 1332916 4 1332958 3 1332965 8 1333130 4 1333145 8 1333164 7 1333291 12 1333760 19 1334371 4 1334401 4 1334458 3 1334465 19 1334499 4 1334630 30 1334836 4 1334878 3 1334885 8 1335050 4 1335065 8 1335084 7 1335211 12 1335680 19 1336291 4 1336321 4 1336378 3 1336385 19 1336419 4 1336550 30 1336756 4 1336798 3 1336805 8 1336970 4 1336985 8 1337004 7 1337131 12 1337600 19 1338211 4 1338298 26 1338485 15 1338725 4 1338890 4 1338928 3 1339044 15 1339078 7 1339093 26 1339528 7 1340218 26 1340405 15 1340645 4 1340810 4 1340848 3 1340964 15 1340998 7 1341013 26 1341448 7 1342138 11 1342156 15 1342321 23 1342884 11 1342914 56 1342974 4 1343038 3 1343915 4 1343923 3 1344058 11 1344076 15 1344241 23 1344804 11 1344834 56 1344894 4 1344958 3 1345835 4 1345843 3 1345974 11 1346173 11 1346551 4 1346559 4 1346724 15 1346754 75 1346833 15 1346878 3 1347013 7 1347755 15 1347894 11 1348093 11 1348471 4 1348479 4 1348644 15 1348674 75 1348753 15 1348798 3 1348933 7 1349675 15 1349821 4 1350564 15 1350590 56 1350650 38 1350703 7 1350714 11 1350789 4 1350853 7 1351595 15 1351741 4 1352484 15 1352510 56 1352570 38 1352623 7 1352634 11 1352709 4 1352773 7 1353515 15 1354220 4 1354239 4 1354438 7 1354453 26 1354494 34 1354535 15 1354558 7 1354629 4 1354693 11 1355443 7 1356140 4 1356159 4 1356358 7 1356373 26 1356414 34 1356455 15 1356478 7 1356549 4 1356613 11 1357363 7 1358060 4 1358079 4 1358296 12 1358364 4 1358375 15 1358401 4 1358476 4 1358533 15 1359980 4 1359999 4 1360216 12 1360284 4 1360295 15 1360321 4 1360396 4 1360453 15 1361900 4 1361926 4 1362226 19 1362376 12 1362894 4 1363820 4 1363846 4 1364146 19 1364296 12 1364814 4 1365215 4 1365740 4 1366066 4 1366078 7 1366734 4 1367135 4 1367660 4 1367986 4 1367998 7 1368654 4 1369044 19 1369078 3 1370964 19 1370998 3 1372884 19 1372918 3 1374793 37 1374838 3 1375704 4 1375711 4 1376713 37 1376758 3 1377624 4 1377631 4 1378629 41 1378685 19 1378715 4 1378723 3 1379251 4 1379263 3 1379551 4 1379581 4 1379698 11 1379713 3 1380418 3 1380549 41 1380605 19 1380635 4 1380643 3 1381171 4 1381183 3 1381471 4 1381501 4 1381618 11 1381633 3 1382338 3 1382461 4 1382469 41 1382514 7 1382525 30 1382566 8 1382690 8 1383091 15 1383519 4 1383530 4 1383538 11 1384258 3 1384381 4 1384389 41 1384434 7 1384445 30 1384486 8 1384610 8 1385011 15 1385439 4 1385450 4 1385458 11 1386178 3 1386286 4 1386298 7 1386309 19 1386331 64 1386526 12 1386826 4 1386834 4 1386928 18 1387179 4 1387374 4 1388206 4 1388218 7 1388229 19 1388251 64 1388446 12 1388746 4 1388754 4 1388848 18 1389099 4 1389294 4 1390126 12 1390141 4 1390149 7 1390160 8 1390175 56 1390351 4 1390366 4 1390655 8 1390666 4 1390674 4 1390681 4 1390768 15 1391019 11 1391105 8 1391214 4 1391248 3 1392046 12 1392061 4 1392069 7 1392080 8 1392095 56 1392271 4 1392286 4 1392575 8 1392586 4 1392594 4 1392601 4 1392688 15 1392939 11 1393025 8 1393134 4 1393168 3 1393963 93 1394184 11 1394495 8 1394521 4 1394608 11 1394945 11 1395084 7 1395095 19 1395406 4 1395883 93 1396104 11 1396415 8 1396441 4 1396528 11 1396865 11 1397004 7 1397015 19 1397326 4 1397803 97 1398024 11 1398039 4 1398361 4 1398369 4 1398444 11 1398924 4 1398931 12 1398946 15 1399246 4 1399254 7 1399539 15 1399723 97 1399944 11 1399959 4 1400281 4 1400289 4 1400364 11 1400844 4 1400851 12 1400866 15 1401166 4 1401174 7 1401459 15 1401624 4 1401646 83 1401733 7 1401860 19 1401883 7 1401995 11 1402179 4 1402276 4 1402288 7 1402621 4 1402633 3 1402764 37 1403086 4 1403098 7 1403364 34 1403544 4 1403566 83 1403653 7 1403780 19 1403803 7 1403915 11 1404099 4 1404196 4 1404208 7 1404541 4 1404553 3 1404684 37 1405006 4 1405018 7 1405284 34 1405464 4 1405483 78 1405576 4 1405693 3 1405708 7 1405719 4 1405726 4 1405831 15 1406019 4 1406049 4 1406116 15 1406443 3 1406450 4 1406499 4 1406604 22 1406634 4 1406919 37 1406960 4 1407193 52 1407384 4 1407403 78 1407496 4 1407613 3 1407628 7 1407639 4 1407646 4 1407751 15 1407939 4 1407969 4 1408036 15 1408363 3 1408370 4 1408419 4 1408524 22 1408554 4 1408839 37 1408880 4 1409113 52 1409304 4 1409323 78 1409416 4 1409533 3 1409548 7 1409559 4 1409566 4 1409671 15 1409859 4 1409889 4 1409956 15 1410283 3 1410290 4 1410339 4 1410444 22 1410474 4 1410759 37 1410800 4 1411033 52 1411239 11 1411254 67 1411336 8 1411471 4 1411599 11 1411779 11 1411809 7 1411876 8 1412203 3 1412210 8 1412364 4 1412371 8 1412383 15 1412679 7 1412705 4 1412713 3 1412949 52 1413159 11 1413174 67 1413256 8 1413391 4 1413519 11 1413699 11 1413729 7 1413796 8 1414123 3 1414130 8 1414284 4 1414291 8 1414303 15 1414599 7 1414625 4 1414633 3 1414869 52 1415064 7 1415079 64 1415146 4 1415154 7 1415443 7 1415619 11 1416043 3 1416050 8 1416061 4 1416084 7 1416204 4 1416211 12 1416571 4 1416781 4 1416793 45 1416841 4 1416984 7 1416999 64 1417066 4 1417074 7 1417363 7 1417539 11 1417963 3 1417970 8 1417981 4 1418004 7 1418124 4 1418131 12 1418491 4 1418701 4 1418713 45 1418761 4 1418904 4 1418911 15 1418930 19 1418975 4 1418986 4 1419144 7 1419286 4 1419459 11 1419883 3 1419894 4 1419901 4 1419924 4 1419935 4 1420040 8 1420051 4 1420059 4 1420359 4 1420633 45 1420824 4 1420831 15 1420850 19 1420895 4 1420906 4 1421064 7 1421206 4 1421379 11 1421803 3 1421814 4 1421821 4 1421844 4 1421855 4 1421960 8 1421971 4 1421979 4 1422279 4 1422553 45 1422744 19 1422770 19 1422815 4 1422826 4 1423295 15 1423314 4 1423486 4 1423494 4 1423674 4 1423723 3 1423730 15 1423764 15 1423880 23 1424004 4 1424473 3 1424480 38 1424664 19 1424690 19 1424735 4 1424746 4 1425215 15 1425234 4 1425406 4 1425414 4 1425594 4 1425643 3 1425650 15 1425684 15 1425800 23 1425924 4 1426393 3 1426400 38 1426576 19 1426599 4 1426614 15 1427135 15 1427154 4 1427570 15 1427604 15 1427739 4 1427844 7 1428301 4 1428320 11 1428335 23 1428369 4 1428496 19 1428519 4 1428534 15 1429055 15 1429074 4 1429490 15 1429524 15 1429659 4 1429764 7 1430221 4 1430240 11 1430255 23 1430289 4 1430416 12 1430769 4 1430971 12 1430986 4 1430994 7 1431061 4 1431155 4 1431410 15 1431448 7 1431556 8 1431579 4 1431691 4 1431714 4 1431721 4 1431969 7 1432044 4 1432051 8 1432070 4 1432141 4 1432160 4 1432175 8 1432186 8 1432216 12 1432336 12 1432689 4 1432891 12 1432906 4 1432914 7 1432981 4 1433075 4 1433330 15 1433368 7 1433476 8 1433499 4 1433611 4 1433634 4 1433641 4 1433889 7 1433964 4 1433971 8 1433990 4 1434061 4 1434080 4 1434095 8 1434106 8 1434136 12 1434406 19 1434815 8 1434826 4 1434995 4 1435205 4 1435250 4 1435396 4 1435404 4 1435415 8 1435434 11 1435456 4 1435535 4 1435554 4 1435565 4 1435839 4 1435884 4 1435891 8 1435914 4 1436000 4 1436026 4 1436060 11 1436326 19 1436735 8 1436746 4 1436915 4 1437125 4 1437170 4 1437316 4 1437324 4 1437335 8 1437354 11 1437376 4 1437455 4 1437474 4 1437485 4 1437759 4 1437804 4 1437811 8 1437834 4 1437920 4 1437946 4 1437980 11 1438235 19 1438813 3 1438824 19 1439045 4 1439236 8 1439274 19 1439296 4 1439379 7 1439390 8 1439656 4 1439679 4 1439686 4 1439724 4 1439731 12 1439758 3 1439866 12 1439900 11 1439915 4 1440155 19 1440733 3 1440744 19 1440965 4 1441156 8 1441194 19 1441216 4 1441299 7 1441310 8 1441576 4 1441599 4 1441606 4 1441644 4 1441651 12 1441678 3 1441786 12 1441820 11 1441835 4 1442049 7 1442060 11 1442075 23 1442263 18 1442548 3 1442671 12 1443076 12 1443114 19 1443136 4 1443223 3 1443230 4 1443526 4 1443564 4 1443571 8 1443590 15 1443706 4 1443744 15 1443969 7 1443980 11 1443995 23 1444183 18 1444468 3 1444591 12 1444996 12 1445034 19 1445056 4 1445143 3 1445150 4 1445446 4 1445484 4 1445491 8 1445510 15 1445626 4 1445664 15 1445889 7 1445900 11 1445915 23 1446103 18 1446388 3 1446511 12 1446916 12 1446954 19 1446976 4 1447063 3 1447070 4 1447366 4 1447404 4 1447411 8 1447430 15 1447546 4 1447584 15 1447801 60 1448011 27 1448308 3 1448424 15 1448829 30 1448863 3 1448870 30 1449061 4 1449234 4 1449279 11 1449331 4 1449343 3 1449358 7 1449384 4 1449395 4 1449504 19 1449721 60 1449931 27 1450228 3 1450344 15 1450749 30 1450783 3 1450790 30 1450981 4 1451154 4 1451199 11 1451251 4 1451263 3 1451278 7 1451304 4 1451315 4 1451424 19 1451641 49 1452159 4 1452264 4 1452523 3 1452571 4 1452673 78 1452778 3 1452898 26 1453081 15 1453115 11 1453344 19 1453561 49 1454079 4 1454184 4 1454443 3 1454491 4 1454593 78 1454698 3 1454818 26 1455001 15 1455035 11 1455264 19 1455508 15 1455673 7 1455688 3 1455838 3 1455954 4 1455976 4 1455999 4 1456093 11 1456516 72 1456614 7 1456738 30 1456921 23 1456948 18 1457191 15 1457210 4 1457428 15 1457593 7 1457608 3 1457758 3 1457874 4 1457896 4 1457919 4 1458013 11 1458436 72 1458534 7 1458658 30 1458841 23 1458868 18 1459111 15 1459130 4 1459336 15 1459355 4 1459513 7 1459839 4 1459933 11 1460210 4 1460356 75 1460454 7 1460563 3 1460570 34 1460694 7 1460765 26 1460799 7 1461035 8 1461054 7 1461256 15 1461275 4 1461433 7 1461759 4 1461853 11 1462130 4 1462276 75 1462374 7 1462483 3 1462490 34 1462614 7 1462685 26 1462719 7 1462955 8 1462974 7 1463124 7 1463135 15 1463176 8 1463188 3 1463289 4 1463345 4 1463364 4 1463649 4 1463735 4 1463769 15 1464043 3 1464050 4 1464196 72 1464294 7 1464399 41 1464526 4 1464534 7 1464549 19 1464616 30 1464871 12 1464894 7 1465044 7 1465055 15 1465096 8 1465108 3 1465209 4 1465265 4 1465284 4 1465569 4 1465655 4 1465689 15 1465963 3 1465970 4 1466116 72 1466214 7 1466319 41 1466446 4 1466454 7 1466469 19 1466536 30 1466791 12 1466814 7 1466956 34 1466994 4 1467001 8 1467020 4 1467028 3 1467489 4 1467575 8 1467616 8 1467883 3 1467890 8 1468040 64 1468239 15 1468258 18 1468378 33 1468460 8 1468715 8 1468738 11 1468876 34 1468914 4 1468921 8 1468940 4 1468948 3 1469409 4 1469495 8 1469536 8 1469803 3 1469810 8 1469960 64 1470159 15 1470178 18 1470298 33 1470380 8 1470635 8 1470658 11 1470781 4 1470789 7 1470800 11 1470823 15 1470841 4 1470856 4 1471329 4 1471355 8 1471415 4 1471456 12 1471723 18 1471884 49 1471936 4 1471993 11 1472079 45 1472128 7 1472218 41 1472315 4 1472578 7 1472701 4 1472709 7 1472720 11 1472743 15 1472761 4 1472776 4 1473249 4 1473275 8 1473335 4 1473376 12 1473643 18 1473804 49 1473856 4 1473913 11 1473999 45 1474048 7 1474138 41 1474235 4 1474498 7 1474614 37 1474655 23 1474681 4 1474696 4 1475184 4 1475240 4 1475296 4 1475563 18 1475675 4 1475724 4 1475731 42 1475776 4 1475784 7 1475934 45 1476061 42 1476110 4 1476264 15 1476418 7 1476534 37 1476575 23 1476601 4 1476616 4 1477104 4 1477160 4 1477216 4 1477483 18 1477595 4 1477644 4 1477651 42 1477696 4 1477704 7 1477854 45 1477981 42 1478030 4 1478184 15 1478338 7 1478424 4 1478446 45 1479403 18 1479508 3 1479571 49 1479751 15 1479770 26 1479800 23 1479886 4 1479898 48 1479950 4 1479961 4 1480044 15 1480104 7 1480115 4 1480164 4 1480171 4 1480344 4 1480366 45 1481323 18 1481428 3 1481491 49 1481671 15 1481690 26 1481720 23 1481806 4 1481818 48 1481870 4 1481881 4 1481964 15 1482024 7 1482035 4 1482084 4 1482091 4 1482264 4 1482286 45 1483243 18 1483348 3 1483411 49 1483591 15 1483610 26 1483640 23 1483726 4 1483738 48 1483790 4 1483801 4 1483884 15 1483944 7 1483955 4 1484004 4 1484011 4 1484184 4 1484206 4 1484214 22 1484240 8 1484255 4 1485163 18 1485343 33 1485515 4 1485538 15 1485571 8 1485646 4 1485661 34 1485703 3 1485718 7 1485800 11 1485815 4 1485931 4 1485939 4 1486104 4 1486126 4 1486134 22 1486160 8 1486175 4 1487083 18 1487263 33 1487435 4 1487458 15 1487491 8 1487566 4 1487581 34 1487623 3 1487638 7 1487720 11 1487735 4 1487851 4 1487859 4 1488024 4 1488046 4 1488054 22 1488080 4 1488099 4 1488429 4 1488999 7 1489010 15 1489183 37 1489363 3 1489378 3 1489411 8 1489486 4 1489501 34 1489558 7 1489569 4 1489640 19 1489708 3 1489771 4 1489779 4 1489944 4 1489966 4 1489974 22 1490000 4 1490019 4 1490349 4 1490919 7 1490930 15 1491103 37 1491283 3 1491298 3 1491331 8 1491406 4 1491421 34 1491478 7 1491489 4 1491560 19 1491628 3 1491691 4 1491699 4 1491864 4 1491886 4 1491898 3 1491909 15 1491935 15 1491954 4 1492269 4 1492850 26 1493023 37 1493251 4 1493263 3 1493326 4 1493341 27 1493409 4 1493420 4 1493431 4 1493484 11 1493611 4 1493784 4 1493806 4 1493818 3 1493829 15 1493855 15 1493874 4 1494189 4 1494770 26 1494943 37 1495171 4 1495183 3 1495246 4 1495261 27 1495329 4 1495340 4 1495351 4 1495404 11 1495531 4 1495704 4 1495760 4 1495779 11 1495794 4 1496109 11 1496675 4 1496683 3 1496690 41 1496735 4 1496866 34 1497166 4 1497185 26 1497215 23 1497241 23 1497268 11 1497328 3 1497448 7 1497526 4 1497534 7 1497624 4 1497680 4 1497699 11 1497714 4 1498029 11 1498595 4 1498603 3 1498610 41 1498655 4 1498786 34 1499086 4 1499105 26 1499135 23 1499161 23 1499188 11 1499248 3 1499368 7 1499446 4 1499454 7 1499600 4 1499608 3 1499615 15 1499634 4 1499956 4 1500103 3 1500114 7 1500200 4 1500519 7 1500530 4 1500564 15 1500643 3 1500706 34 1500901 12 1500943 7 1500954 11 1501006 4 1501036 12 1501059 37 1501111 4 1501168 11 1501288 3 1501333 3 1501520 4 1501528 3 1501535 15 1501554 4 1501876 4 1502023 3 1502034 7 1502120 4 1502439 7 1502450 4 1502484 15 1502563 3 1502626 34 1502821 12 1502863 7 1502874 11 1502926 4 1502956 12 1502979 37 1503031 4 1503088 11 1503208 3 1503253 3 1503459 19 1503778 3 1503789 4 1503939 11 1503954 4 1504003 3 1504010 4 1504138 3 1504370 4 1504400 23 1504546 45 1504741 12 1504783 22 1504846 4 1504854 4 1504906 12 1504921 15 1505008 3 1505015 4 1505128 11 1505379 19 1505698 3 1505709 4 1505859 11 1505874 4 1505923 3 1505930 4 1506058 3 1506290 4 1506320 23 1506466 45 1506661 12 1506703 22 1506766 4 1506774 4 1506826 12 1506841 15 1506928 3 1506935 4 1507048 11 1507265 4 1507273 3 1507280 4 1507288 3 1507299 26 1507333 15 1507794 4 1507843 11 1508011 4 1508199 4 1508244 7 1508255 11 1508390 41 1508435 8 1508589 7 1508623 3 1508634 11 1508649 4 1508769 4 1508780 8 1508844 15 1509024 7 1509035 4 1509185 4 1509193 3 1509200 4 1509208 3 1509219 26 1509253 15 1509714 4 1509763 11 1509931 4 1510119 4 1510164 7 1510175 11 1510310 41 1510355 8 1510509 7 1510543 3 1510554 11 1510569 4 1510689 4 1510700 8 1510764 15 1510944 7 1510955 4 1511128 3 1511139 26 1511176 15 1511465 4 1511476 4 1511615 4 1511626 4 1511634 4 1511683 11 1511776 4 1511848 7 1512039 4 1512230 30 1512264 7 1512275 8 1512335 23 1512429 7 1512448 7 1512478 7 1512489 4 1512609 4 1512616 27 1512684 19 1512808 3 1512815 4 1512864 15 1512883 3 1512890 8 1513048 3 1513059 26 1513096 15 1513385 4 1513396 4 1513535 4 1513546 4 1513554 4 1513603 11 1513696 4 1513768 7 1513959 4 1514150 30 1514184 7 1514195 8 1514255 23 1514349 7 1514368 7 1514398 7 1514409 4 1514529 4 1514536 27 1514604 19 1514728 3 1514735 4 1514784 15 1514803 3 1514810 8 1514968 3 1514983 15 1515305 4 1515455 4 1515474 11 1515526 8 1515564 4 1515616 4 1516081 4 1516093 7 1516104 22 1516171 27 1516201 4 1516276 23 1516456 38 1516524 19 1516655 4 1516708 18 1516730 8 1516888 3 1516903 15 1517225 4 1517375 4 1517394 11 1517446 8 1517484 4 1517536 4 1518001 4 1518013 7 1518024 22 1518091 27 1518121 4 1518196 23 1518376 38 1518444 19 1518575 4 1518628 18 1518650 8 1518808 3 1518823 15 1519145 4 1519295 4 1519314 11 1519366 8 1519404 4 1519456 4 1519921 4 1519933 7 1519944 22 1520011 27 1520041 4 1520116 23 1520296 38 1520364 19 1520495 4 1520548 18 1520570 8 1520731 27 1520784 4 1521136 4 1521211 4 1521230 8 1521241 4 1521324 4 1521331 4 1521703 11 1521841 4 1521849 7 1521860 8 1521871 15 1521890 8 1521935 30 1522040 15 1522089 4 1522216 42 1522265 4 1522280 26 1522415 4 1522460 38 1522651 27 1522704 4 1523056 4 1523131 4 1523150 8 1523161 4 1523244 4 1523251 4 1523623 11 1523761 4 1523769 7 1523780 8 1523791 15 1523810 8 1523855 30 1523960 15 1524009 4 1524136 42 1524185 4 1524200 26 1524335 4 1524380 38 1524579 11 1524969 4 1524976 4 1525063 7 1525074 4 1525164 11 1525246 4 1525539 19 1525681 4 1525689 4 1525711 12 1525730 8 1525779 26 1525884 11 1526064 34 1526105 4 1526124 30 1526304 37 1526499 11 1526889 4 1526896 4 1526983 7 1526994 4 1527084 11 1527166 4 1527459 19 1527601 4 1527609 4 1527631 12 1527650 8 1527699 26 1527804 11 1527984 34 1528025 4 1528044 30 1528224 37 1528801 4 1528809 11 1528880 11 1528899 11 1528914 4 1528996 12 1529011 4 1529368 7 1529379 19 1529551 12 1529570 11 1529623 22 1529649 4 1529731 4 1529836 4 1529844 7 1529904 45 1529953 3 1529960 4 1529971 23 1530170 15 1530721 4 1530729 11 1530800 11 1530819 11 1530834 4 1530916 12 1530931 4 1531288 7 1531299 19 1531471 12 1531490 11 1531543 22 1531569 4 1531651 4 1531756 4 1531764 7 1531824 45 1531873 3 1531880 4 1531891 23 1532090 15 1532255 15 1532304 4 1532570 4 1532653 3 1532716 4 1532746 4 1532825 4 1532833 3 1532851 8 1532926 8 1533196 38 1533399 7 1533410 4 1533418 3 1533425 4 1533463 15 1533481 4 1533519 4 1533571 4 1533583 3 1533744 4 1533763 7 1533774 7 1533793 3 1533811 15 1534175 15 1534224 4 1534490 4 1534573 3 1534636 4 1534666 4 1534745 4 1534753 3 1534771 8 1534846 8 1535116 38 1535319 7 1535330 4 1535338 3 1535345 4 1535383 15 1535401 4 1535439 4 1535491 4 1535503 3 1535664 4 1535683 7 1535694 7 1535713 3 1535731 15 1536091 19 1536114 4 1536121 4 1536421 4 1536481 4 1536489 7 1536553 15 1536586 4 1536669 7 1536680 4 1537018 3 1537025 45 1537239 4 1537246 15 1537355 8 1537430 4 1537651 15 1538011 19 1538034 4 1538041 4 1538341 4 1538401 4 1538409 7 1538473 15 1538506 4 1538589 7 1538600 4 1538938 3 1538945 45 1539159 4 1539166 15 1539275 8 1539350 4 1539571 15 1539931 12 1539946 12 1540149 4 1540175 4 1540183 3 1540250 4 1540261 4 1540321 12 1540393 7 1540471 4 1540479 7 1540509 4 1540516 12 1540764 4 1540858 3 1540865 41 1541098 7 1541195 11 1541476 4 1541491 15 1541851 12 1541866 12 1542069 4 1542095 4 1542103 3 1542170 4 1542181 4 1542241 12 1542313 7 1542391 4 1542399 7 1542429 4 1542436 12 1542684 4 1542778 3 1542785 41 1543018 7 1543115 11 1543396 4 1543411 15 1543779 4 1543989 7 1544158 11 1544233 3 1544311 15 1544345 4 1544353 3 1544709 11 1544728 15 1544923 3 1544938 22 1544968 7 1544983 3 1545035 8 1545421 4 1545699 4 1545909 7 1546078 11 1546153 3 1546231 15 1546265 4 1546273 3 1546629 11 1546648 15 1546843 3 1546858 22 1546888 7 1546903 3 1546955 8 1547341 4 1548151 19 1548189 7 1548545 8 1548568 15 1548755 8 1548785 15 1548804 11 1548819 7 1550071 19 1550109 7 1550465 8 1550488 15 1550675 8 1550705 15 1550724 11 1550739 7 1551913 7 1551991 4 1551999 11 1552014 4 1552025 11 1552096 4 1552115 8 1552389 11 1552404 15 1552595 26 1552625 15 1552644 19 1553026 4 1553101 4 1553146 4 1553833 7 1553911 4 1553919 11 1553934 4 1553945 11 1554016 4 1554035 8 1554309 11 1554324 15 1554515 26 1554545 15 1554564 19 1554946 4 1555021 4 1555066 4 1555659 4 1555678 3 1555753 7 1555828 3 1555843 3 1555850 30 1555933 18 1555955 15 1556199 7 1556229 26 1556435 30 1556473 3 1556484 4 1556491 4 1556499 7 1556683 11 1556859 4 1556866 4 1556990 4 1557579 4 1557598 3 1557673 7 1557748 3 1557763 3 1557770 30 1557853 18 1557875 15 1558119 7 1558149 26 1558355 30 1558393 3 1558404 4 1558411 4 1558419 7 1558603 11 1558779 4 1558786 4 1558910 4 1559499 4 1559518 3 1559593 7 1559668 3 1559683 3 1559690 30 1559773 18 1559795 15 1560039 7 1560069 26 1560275 30 1560313 3 1560324 4 1560331 4 1560339 7 1560523 11 1560699 4 1560706 4 1560830 4 1561411 12 1561430 4 1561513 7 1561603 7 1561614 4 1561621 23 1561689 41 1561760 11 1561959 7 1561985 30 1562248 3 1562259 7 1562450 4 1562473 3 1562615 23 1562649 4 1562739 4 1562746 12 1563331 12 1563350 4 1563433 7 1563523 7 1563534 4 1563541 23 1563609 41 1563680 11 1563879 7 1563905 30 1564168 3 1564179 7 1564370 4 1564393 3 1564535 23 1564569 4 1564659 4 1564666 12 1565244 4 1565263 3 1565356 4 1565424 7 1565443 7 1565454 30 1565521 49 1565604 7 1565679 4 1565799 7 1565810 4 1565829 19 1566088 3 1566099 7 1566290 11 1566305 11 1566339 4 1566346 4 1566436 4 1566444 4 1566474 4 1566549 4 1567164 4 1567183 3 1567276 4 1567344 7 1567363 7 1567374 30 1567441 49 1567524 7 1567599 4 1567719 7 1567730 4 1567749 19 1568008 3 1568019 7 1568210 11 1568225 11 1568259 4 1568266 4 1568356 4 1568364 4 1568394 4 1568469 4 1569264 15 1569286 4 1569294 34 1569358 33 1569395 15 1569444 4 1569639 7 1569650 4 1569669 11 1569928 3 1569939 15 1570134 60 1570276 12 1570291 4 1570299 7 1570314 4 1570321 4 1570389 4 1570400 4 1571184 15 1571206 4 1571214 34 1571278 33 1571315 15 1571364 4 1571559 7 1571570 4 1571589 11 1571848 3 1571859 15 1572054 60 1572196 12 1572211 4 1572219 7 1572234 4 1572241 4 1572309 4 1572320 4 1573104 19 1573126 4 1573134 34 1573194 37 1573235 8 1573246 4 1573280 8 1573359 4 1573479 7 1573490 4 1573509 7 1573775 34 1573824 4 1573876 4 1573978 18 1574011 4 1574026 12 1574053 3 1574124 11 1574139 4 1574161 4 1574229 4 1575024 19 1575046 4 1575054 34 1575114 37 1575155 8 1575166 4 1575200 8 1575279 4 1575399 7 1575410 4 1575429 7 1575695 34 1575744 4 1575796 4 1575898 18 1575931 4 1575946 12 1575973 3 1576044 11 1576059 4 1576081 4 1576149 4 1576944 4 1576951 143 1577199 4 1577206 4 1577236 4 1577319 4 1577353 3 1577608 3 1577615 41 1577664 4 1577686 4 1577716 4 1577803 3 1577818 15 1577840 4 1577848 3 1577859 19 1577881 23 1577949 4 1577960 15 1578069 4 1578864 4 1578871 143 1579119 4 1579126 4 1579156 4 1579239 4 1579273 3 1579528 3 1579535 41 1579584 4 1579606 4 1579636 4 1579723 3 1579738 15 1579760 4 1579768 3 1579779 19 1579801 23 1579869 4 1579880 15 1579989 4 1580701 4 1580784 127 1580919 4 1580926 8 1581031 38 1581073 7 1581088 3 1581151 12 1581170 4 1581189 7 1581200 4 1581448 52 1581504 4 1581526 15 1581556 4 1581658 15 1581721 27 1581789 11 1581811 4 1582621 4 1582704 127 1582839 4 1582846 8 1582951 38 1582993 7 1583008 3 1583071 12 1583090 4 1583109 7 1583120 4 1583368 52 1583424 4 1583446 15 1583476 4 1583578 15 1583641 27 1583709 11 1583731 4 1584541 4 1584613 3 1584624 4 1584631 124 1584766 8 1584778 3 1584800 8 1584871 38 1584913 7 1584924 7 1584984 4 1584999 4 1585033 3 1585288 3 1585295 4 1585303 37 1585344 7 1585366 4 1585374 4 1585396 4 1585494 37 1585546 4 1585554 4 1585561 30 1585625 19 1585651 4 1586461 4 1586533 3 1586544 4 1586551 124 1586686 8 1586698 3 1586720 8 1586791 38 1586833 7 1586844 7 1586904 4 1586919 4 1586953 3 1587208 3 1587215 4 1587223 37 1587264 7 1587286 4 1587294 4 1587316 4 1587414 37 1587466 4 1587474 4 1587481 30 1587545 19 1587571 4 1588445 11 1588464 19 1588490 15 1588513 67 1588588 15 1588711 12 1588730 11 1588753 7 1588764 11 1588824 19 1589143 37 1589184 7 1589206 4 1589214 7 1589229 4 1589236 15 1589255 4 1589341 15 1589368 3 1589401 4 1589409 22 1589465 4 1589473 7 1589488 7 1590365 11 1590384 19 1590410 15 1590433 67 1590508 15 1590631 12 1590650 11 1590673 7 1590684 11 1590744 19 1591063 37 1591104 7 1591126 4 1591134 7 1591149 4 1591156 15 1591175 4 1591261 15 1591288 3 1591321 4 1591329 22 1591385 4 1591393 7 1591408 7 1592289 7 1592304 26 1592334 11 1592360 60 1592428 18 1592551 4 1592559 4 1592570 8 1592596 4 1592604 4 1592611 15 1592664 19 1592979 56 1593054 45 1593181 12 1593196 4 1593208 3 1593241 4 1593249 15 1593305 8 1594209 7 1594224 26 1594254 11 1594280 60 1594348 18 1594471 4 1594479 4 1594490 8 1594516 4 1594524 4 1594531 15 1594584 19 1594899 56 1594974 45 1595101 12 1595116 4 1595128 3 1595161 4 1595169 15 1595225 8 1596129 7 1596144 26 1596174 11 1596200 60 1596268 18 1596391 4 1596399 4 1596410 8 1596436 4 1596444 4 1596451 15 1596504 19 1596819 56 1596894 45 1597021 12 1597036 4 1597048 3 1597081 4 1597089 15 1597145 8 1598049 34 1598086 4 1598094 4 1598120 11 1598135 19 1598165 38 1598206 4 1598311 4 1598319 4 1598356 4 1598364 26 1598428 11 1598739 52 1598814 26 1598848 30 1598945 8 1599069 4 1599969 34 1600006 4 1600014 4 1600040 11 1600055 19 1600085 38 1600126 4 1600231 4 1600239 4 1600276 4 1600284 26 1600348 11 1600659 52 1600734 26 1600768 30 1600865 8 1600989 4 1601889 19 1601911 27 1601960 26 1602005 4 1602016 34 1602155 8 1602204 22 1602271 4 1602579 11 1602594 30 1602654 64 1602789 26 1602909 4 1603809 19 1603831 27 1603880 26 1603925 4 1603936 34 1604075 8 1604124 22 1604191 4 1604499 11 1604514 30 1604574 64 1604709 26 1604829 4 1605733 22 1605759 22 1605804 15 1605856 30 1605995 11 1606055 4 1606063 3 1606419 19 1606441 23 1606483 3 1606490 75 1606640 4 1606749 7 1607653 22 1607679 22 1607724 15 1607776 30 1607915 11 1607975 4 1607983 3 1608339 19 1608361 23 1608403 3 1608410 75 1608560 4 1608669 7 1609576 42 1609708 15 1609835 8 1610259 15 1610285 11 1610323 86 1610484 4 1610589 4 1610596 8 1611496 42 1611628 15 1611755 8 1612179 15 1612205 11 1612243 86 1612404 4 1612509 4 1612516 8 1613420 38 1613551 12 1613604 7 1613615 4 1613675 11 1614091 23 1614144 112 1614328 3 1614436 8 1615340 38 1615471 12 1615524 7 1615535 4 1615595 11 1616011 23 1616064 112 1616248 3 1616356 8 1617253 3 1617260 38 1617391 12 1617436 15 1617455 11 1617511 12 1617924 30 1618003 3 1618010 90 1618171 8 1619173 3 1619180 38 1619311 12 1619356 15 1619375 11 1619431 12 1619844 30 1619923 3 1619930 90 1620091 8 1621100 41 1621216 4 1621224 22 1621273 33 1621344 19 1621764 26 1621861 23 1621899 45 1622011 4 1623020 41 1623136 4 1623144 22 1623193 33 1623264 19 1623684 26 1623781 23 1623819 45 1623931 4 1624925 60 1625000 8 1625015 4 1625056 34 1625109 45 1625184 22 1625233 11 1625319 4 1625604 34 1625713 7 1625746 42 1625799 4 1625859 4 1626845 60 1626920 8 1626935 4 1626976 34 1627029 45 1627104 22 1627153 11 1627239 4 1627524 34 1627633 7 1627666 42 1627719 4 1627779 4 1628758 3 1628791 42 1628836 15 1628855 4 1628896 38 1628949 37 1629024 30 1629073 18 1629099 11 1629151 4 1629159 4 1629448 30 1629594 4 1629605 23 1629646 4 1629661 8 1629714 7 1630678 3 1630711 42 1630756 15 1630775 4 1630816 38 1630869 37 1630944 30 1630993 18 1631019 11 1631071 4 1631079 4 1631368 30 1631514 4 1631525 23 1631566 4 1631581 8 1631634 7 1632598 3 1632631 42 1632676 15 1632695 4 1632736 38 1632789 37 1632864 30 1632913 18 1632939 11 1632991 4 1632999 4 1633288 30 1633434 4 1633445 23 1633486 4 1633501 8 1633554 7 1634296 8 1634529 90 1634638 48 1634705 41 1634784 30 1634821 8 1634833 18 1634855 23 1634911 12 1635208 30 1635346 12 1635365 23 1635474 4 1636216 8 1636449 90 1636558 48 1636625 41 1636704 30 1636741 8 1636753 18 1636775 23 1636831 12 1637128 30 1637266 12 1637285 23 1637394 4 1638129 4 1638136 4 1638144 7 1638376 12 1638391 27 1638421 45 1638470 15 1638493 33 1638541 45 1638624 30 1638658 63 1638729 4 1638748 7 1638759 4 1639044 34 1639160 4 1639186 15 1639209 26 1640049 4 1640056 4 1640064 7 1640296 12 1640311 27 1640341 45 1640390 15 1640413 33 1640461 45 1640544 30 1640578 63 1640649 4 1640668 7 1640679 4 1640964 34 1641080 4 1641106 15 1641129 26 1641961 30 1642224 4 1642265 8 1642276 87 1642378 48 1642464 30 1642498 78 1642588 7 1642599 4 1642640 4 1642884 34 1643019 60 1643881 30 1644144 4 1644185 8 1644196 87 1644298 48 1644384 30 1644418 78 1644508 7 1644519 4 1644560 4 1644804 34 1644939 60 1645801 8 1645816 4 1645828 3 1646056 4 1646071 4 1646120 19 1646150 4 1646158 45 1646221 45 1646304 109 1646428 7 1646439 4 1646728 30 1646840 4 1646859 71 1646949 4 1646956 4 1647721 8 1647736 4 1647748 3 1647976 4 1647991 4 1648040 19 1648070 4 1648078 45 1648141 45 1648224 109 1648348 7 1648359 4 1648648 30 1648760 4 1648779 71 1648869 4 1648876 4 1649634 4 1649656 4 1649893 7 1649904 22 1649960 19 1649990 49 1650058 41 1650103 3 1650148 93 1650245 4 1650571 27 1650695 75 1650796 12 1651554 4 1651576 4 1651813 7 1651824 22 1651880 19 1651910 49 1651978 41 1652023 3 1652068 93 1652165 4 1652491 27 1652615 75 1652716 12 1653474 4 1653736 4 1653751 19 1653800 19 1653830 4 1653838 37 1653909 30 1653943 3 1653988 30 1654021 4 1654036 38 1654426 12 1654539 34 1654580 8 1654591 4 1654599 15 1654636 15 1655394 4 1655656 4 1655671 19 1655720 19 1655750 4 1655758 37 1655829 30 1655863 3 1655908 30 1655941 4 1655956 38 1656346 12 1656459 34 1656500 8 1656511 4 1656519 15 1656556 15 1657576 4 1657584 30 1657640 19 1657678 26 1657749 30 1657831 4 1657873 7 1657884 22 1658259 11 1658383 18 1658435 26 1658476 15 1659496 4 1659504 30 1659560 19 1659598 26 1659669 30 1659751 4 1659793 7 1659804 22 1660179 11 1660303 18 1660355 26 1660396 15 1661401 4 1661416 38 1661476 23 1661525 19 1661593 26 1661675 4 1661724 26 1662215 23 1662279 4 1662286 8 1662316 19 1663321 4 1663336 38 1663396 23 1663445 19 1663513 26 1663595 4 1663644 26 1664135 23 1664199 4 1664206 8 1664236 19 1664990 4 1664998 3 1665241 4 1665249 45 1665316 23 1665361 4 1665369 11 1665433 18 1665455 4 1665568 3 1665575 11 1666055 19 1666115 8 1666126 12 1666156 12 1666171 4 1666910 4 1666918 3 1667161 4 1667169 45 1667236 23 1667281 4 1667289 11 1667353 18 1667375 4 1667488 3 1667495 11 1667975 19 1668035 8 1668046 12 1668076 12 1668091 4 1668830 4 1668838 3 1669081 4 1669089 45 1669156 23 1669201 4 1669209 11 1669273 18 1669295 4 1669408 3 1669415 11 1669895 19 1669955 8 1669966 12 1669996 12 1670011 4 1670746 8 1670994 4 1671001 34 1671043 3 1671088 3 1671125 15 1671189 22 1671215 4 1671335 4 1671343 3 1671744 4 1671819 15 1671864 4 1671875 8 1671886 4 1671894 4 1672666 8 1672914 4 1672921 34 1672963 3 1673008 3 1673045 15 1673109 22 1673135 4 1673255 4 1673263 3 1673664 4 1673739 15 1673784 4 1673795 8 1673806 4 1673814 4 1674830 4 1674841 4 1674849 26 1674965 15 1675033 18 1675055 4 1675591 4 1675659 19 1676750 4 1676761 4 1676769 26 1676885 15 1676953 18 1676975 4 1677511 4 1677579 19 1678400 8 1678805 15 1678876 4 1678884 15 1679424 4 1679431 12 1679514 4 1679566 4 1680320 8 1680725 15 1680796 4 1680804 15 1681344 4 1681351 12 1681434 4 1681486 4 1682244 7 1682656 4 1682709 22 1682735 4 1683264 4 1683271 19 1683354 4 1683406 4 1683414 4 1684164 7 1684576 4 1684629 22 1684655 4 1685184 4 1685191 19 1685274 4 1685326 4 1685334 4 1686076 4 1686339 4 1686361 4 1686384 11 1686493 11 1686549 22 1686883 7 1686894 7 1687104 4 1687111 19 1687254 7 1687284 4 1687291 8 1687996 4 1688259 4 1688281 4 1688304 11 1688413 11 1688469 22 1688803 7 1688814 7 1689024 4 1689031 19 1689174 7 1689204 4 1689211 8 1689913 11 1690190 8 1690201 4 1690224 4 1690329 15 1690389 22 1690715 26 1690959 11 1691019 4 1691026 12 1691064 4 1691086 4 1691124 4 1691131 12 1691833 11 1692110 8 1692121 4 1692144 4 1692249 15 1692309 22 1692635 26 1692879 11 1692939 4 1692946 12 1692984 4 1693006 4 1693044 4 1693051 12 1693760 4 1694019 26 1694064 4 1694169 19 1694233 18 1694293 3 1694368 3 1694559 26 1694806 4 1694848 30 1694926 4 1694934 7 1694945 11 1694971 4 1694979 19 1695680 4 1695939 26 1695984 4 1696089 19 1696153 18 1696213 3 1696288 3 1696479 26 1696726 4 1696768 30 1696846 4 1696854 7 1696865 11 1696891 4 1696899 19 1697585 4 1697593 7 1697863 22 1698009 19 1698073 15 1698129 19 1698399 26 1698594 4 1698669 49 1698766 4 1698774 26 1698811 27 1698954 4 1698961 4 1698969 4 1699505 4 1699513 7 1699783 22 1699929 19 1699993 15 1700049 19 1700319 26 1700514 4 1700589 49 1700686 4 1700694 26 1700731 27 1700874 4 1700881 4 1700889 4 1701695 30 1701856 8 1701913 15 1701965 19 1702108 3 1702254 7 1702434 4 1702479 4 1702501 60 1702569 4 1702595 15 1702614 30 1702659 22 1703615 30 1703776 8 1703833 15 1703885 19 1704028 3 1704174 7 1704354 4 1704399 4 1704421 60 1704489 4 1704515 15 1704534 30 1704579 22 1705535 30 1705696 8 1705753 15 1705805 19 1705948 3 1706094 7 1706274 4 1706319 4 1706341 60 1706409 4 1706435 15 1706454 30 1706499 22 1707455 4 1707463 22 1707616 8 1707676 15 1707721 23 1707868 3 1708265 68 1708359 37 1708434 4 1708441 4 1709375 4 1709383 22 1709536 8 1709596 15 1709641 23 1709788 3 1710185 68 1710279 37 1710354 4 1710361 4 1711303 30 1711456 8 1711520 11 1711535 4 1711561 23 1711708 7 1711719 4 1712105 26 1712135 26 1712165 8 1712218 18 1712270 4 1713223 30 1713376 8 1713440 11 1713455 4 1713481 23 1713628 7 1713639 4 1714025 26 1714055 26 1714085 8 1714138 18 1714190 4 1715143 22 1715296 4 1715304 7 1715315 8 1715368 3 1715398 26 1715480 15 1715559 4 1715945 26 1715979 45 1716065 4 1716073 3 1716088 7 1717063 22 1717216 4 1717224 7 1717235 8 1717288 3 1717318 26 1717400 15 1717479 4 1717865 26 1717899 45 1717985 4 1717993 3 1718008 7 1718990 15 1719249 7 1719260 8 1719313 22 1719785 8 1719796 12 1719823 7 1719845 19 1719928 11 1720910 15 1721169 7 1721180 8 1721233 22 1721705 8 1721716 12 1721743 7 1721765 19 1721848 11 1722834 4 1722841 4 1723089 7 1723100 8 1723153 22 1723629 4 1723666 4 1723685 4 1723696 4 1723771 4 1724754 4 1724761 4 1725009 7 1725020 8 1725073 22 1725549 4 1725586 4 1725605 4 1725616 4 1725691 4 1726940 8 1726993 15 1727469 4 1727525 15 1727611 4 1728860 8 1728913 15 1729389 4 1729445 15 1729531 4 1729929 4 1731309 4 1731365 4 1731451 4 1731489 4 1731849 4 1733229 4 1733285 4 1733371 4 1733409 4 1735205 4 1735291 4 1735329 7 1735486 4 1737125 4 1737211 4 1737249 7 1737406 4 1738093 11 1738989 4 1739045 4 1739053 3 1739146 8 1739158 3 1739176 4 1739184 4 1739326 4 1739360 4 1740013 11 1740909 4 1740965 4 1740973 3 1741066 8 1741078 3 1741096 4 1741104 4 1741246 4 1741280 4 1741933 11 1742829 4 1742885 4 1742893 3 1742986 8 1742998 3 1743016 4 1743024 4 1743166 4 1743200 4 1743853 11 1744741 12 1744805 11 1744891 4 1744899 4 1744906 15 1744933 7 1744944 4 1745086 8 1745105 11 1745773 11 1746661 12 1746725 11 1746811 4 1746819 4 1746826 15 1746853 7 1746864 4 1747006 8 1747025 11 1747696 4 1748578 15 1748645 11 1748731 30 1748773 3 1748926 8 1748945 23 1749616 4 1750498 15 1750565 11 1750651 30 1750693 3 1750846 8 1750865 23 1752421 12 1752440 4 1752478 18 1752579 15 1752598 3 1752613 7 1752624 4 1752755 8 1752774 7 1752793 3 1754341 12 1754360 4 1754398 18 1754499 15 1754518 3 1754533 7 1754544 4 1754675 8 1754694 7 1754713 3 1756265 23 1756291 4 1756314 11 1756385 8 1756396 4 1756453 15 1756479 7 1756591 8 1756618 3 1756633 3 1756640 8 1758185 23 1758211 4 1758234 11 1758305 8 1758316 4 1758373 15 1758399 7 1758511 8 1758538 3 1758553 3 1758560 8 1760105 30 1760139 4 1760154 7 1760225 15 1760296 12 1760323 7 1760439 4 1760480 4 1762025 30 1762059 4 1762074 7 1762145 15 1762216 12 1762243 7 1762359 4 1762400 4 1763116 4 1763953 22 1764076 4 1764140 4 1764163 7 1764211 4 1764271 4 1764279 4 1764301 4 1765036 4 1765873 22 1765996 4 1766060 4 1766083 7 1766131 4 1766191 4 1766199 4 1766221 4 1766949 11 1767800 8 1767811 4 1767976 12 1768003 7 1768014 7 1768869 11 1769720 8 1769731 4 1769896 12 1769923 7 1769934 7 1770789 11 1770804 4 1771040 4 1771048 3 1771813 15 1771835 4 1771843 18 1772709 11 1772724 4 1772960 4 1772968 3 1773733 15 1773755 4 1773763 18 1774314 7 1774629 19 1774704 4 1775581 4 1775656 12 1775683 15 1775709 4 1775799 4 1776234 7 1776549 19 1776624 4 1777501 4 1777576 12 1777603 15 1777629 4 1777719 4 1778154 7 1778469 19 1778544 4 1779421 4 1779496 12 1779523 15 1779549 4 1779639 4 1780063 3 1780070 11 1780340 4 1780378 3 1780393 7 1780464 4 1780839 4 1781413 18 1781446 12 1781983 3 1781990 11 1782260 4 1782298 3 1782313 7 1782384 4 1782759 4 1783333 18 1783366 12 1784165 8 1784180 4 1784188 3 1784218 3 1784233 7 1784304 4 1784311 4 1784675 19 1785155 8 1785256 4 1785264 4 1785286 19 1785309 4 1786085 8 1786100 4 1786108 3 1786138 3 1786153 7 1786224 4 1786231 4 1786595 19 1787075 8 1787176 4 1787184 4 1787206 19 1787229 4 1788005 26 1788058 3 1788076 4 1788144 4 1788151 4 1788283 3 1788508 30 1788995 8 1789018 7 1789096 12 1789111 4 1789126 19 1789149 4 1789925 26 1789978 3 1789996 4 1790064 4 1790071 4 1790203 3 1790428 30 1790915 8 1790938 7 1791016 12 1791031 4 1791046 19 1791069 4 1791849 7 1791860 11 1792119 7 1792348 33 1792824 4 1792940 45 1792989 4 1793124 4 1793769 7 1793780 11 1794039 7 1794268 33 1794744 4 1794860 45 1794909 4 1795044 4 1795689 22 1796195 23 1796649 4 1796780 53 1796964 4 1796983 7 1797609 22 1798115 23 1798569 4 1798700 53 1798884 4 1798903 7 1799503 3 1799514 4 1799525 19 1800628 45 1800811 8 1800823 3 1801423 3 1801434 4 1801445 19 1802548 45 1802731 8 1802743 3 1803343 3 1803354 4 1803365 11 1804483 3 1804490 23 1804539 4 1804546 4 1804644 4 1804651 4 1805263 3 1805274 4 1805285 11 1806403 3 1806410 23 1806459 4 1806466 4 1806564 4 1806571 4 1808334 26 1808371 15 1808390 4 1810254 26 1810291 15 1810310 4 1812016 8 1812174 60 1812260 8 1813936 8 1814094 60 1814180 8 1814870 8 1815864 4 1816014 67 1816093 18 1816790 8 1817784 4 1817934 67 1818013 18 1818710 8 1819704 4 1819854 67 1819933 18 1820630 8 1820701 4 1821703 11 1821774 101 1822550 8 1822621 4 1823623 11 1823694 101 1824463 3 1824470 11 1824541 4 1825468 3 1825539 22 1825606 4 1825614 101 1825779 4 1825805 4 1825858 11 1826383 3 1826390 11 1826461 4 1827388 3 1827459 22 1827526 4 1827534 101 1827699 4 1827725 4 1827778 11 1828310 11 1828325 4 1829375 23 1829409 7 1829443 3 1829458 105 1829634 4 1829649 4 1829698 7 1830230 11 1830245 4 1831295 23 1831329 7 1831363 3 1831378 105 1831554 4 1831569 4 1831618 7 1832150 19 1833219 37 1833283 7 1833301 102 1833466 4 1833478 7 1833489 4 1833538 11 1834070 19 1835139 37 1835203 7 1835221 102 1835386 4 1835398 7 1835409 4 1835458 11 1835994 19 1837059 45 1837111 8 1837123 3 1837141 30 1837175 68 1837318 11 1837381 15 1837914 19 1838979 45 1839031 8 1839043 3 1839061 30 1839095 68 1839238 11 1839301 15 1839834 19 1840899 41 1840948 18 1840981 30 1841015 75 1841154 15 1841188 3 1841229 7 1841754 19 1842819 41 1842868 18 1842901 30 1842935 75 1843074 15 1843108 3 1843149 7 1843681 15 1844270 4 1844746 12 1844765 49 1844821 30 1844859 75 1844941 4 1845001 4 1845601 15 1846190 4 1846666 12 1846685 49 1846741 30 1846779 75 1846861 4 1846921 4 1847128 7 1847525 4 1848609 37 1848669 11 1848688 101 1848838 7 1849048 7 1849445 4 1850529 37 1850589 11 1850608 101 1850758 7 1850964 15 1850983 3 1852453 33 1852539 86 1852644 4 1852700 8 1852884 15 1852903 3 1854373 33 1854459 86 1854564 4 1854620 8 1854804 15 1854823 3 1856293 33 1856379 86 1856484 4 1856540 8 1856724 22 1858224 15 1858243 3 1858299 37 1858340 45 1858400 4 1858408 3 1858460 4 1858468 3 1858479 4 1858644 22 1860144 15 1860163 3 1860219 37 1860260 45 1860320 4 1860328 3 1860380 4 1860388 3 1860399 4 1862068 7 1862150 11 1862169 7 1862180 53 1862236 8 1862248 7 1863988 7 1864070 11 1864089 7 1864100 53 1864156 8 1864168 7 1864756 4 1864828 3 1866028 67 1866676 4 1866748 3 1867948 67 1868645 8 1868668 7 1869793 3 1869834 4 1869871 8 1869883 52 1870565 8 1870588 7 1871713 3 1871754 4 1871791 8 1871803 52 1872485 8 1872508 7 1873711 8 1873723 15 1873741 34 1874405 8 1874428 7 1875631 8 1875643 15 1875661 34 1876321 12 1876348 7 1877529 4 1877536 4 1877544 75 1877626 4 1877634 4 1878241 12 1878268 7 1879449 4 1879456 4 1879464 75 1879546 4 1879554 4 1880161 15 1880188 7 1881271 4 1881403 56 1881466 12 1881481 4 1882081 15 1882108 7 1883191 4 1883323 56 1883386 12 1883401 4 1883934 7 1883945 4 1884005 15 1884028 11 1885235 30 1885269 30 1885321 4 1885381 8 1885854 7 1885865 4 1885925 15 1885948 11 1887155 30 1887189 30 1887241 4 1887301 8 1887740 11 1887845 15 1887868 15 1889075 4 1889083 22 1889109 34 1889161 4 1889221 15 1889660 11 1889765 15 1889788 15 1890995 4 1891003 22 1891029 34 1891081 4 1891141 15 1891580 11 1891685 15 1891708 15 1892915 4 1892923 22 1892949 34 1893001 4 1893061 15 1893504 7 1893605 19 1893628 15 1894700 4 1894708 3 1894805 4 1894816 23 1894850 15 1894869 37 1894918 7 1894981 12 1894996 4 1895424 7 1895525 19 1895548 15 1896620 4 1896628 3 1896725 4 1896736 23 1896770 15 1896789 37 1896838 7 1896901 12 1896916 4 1897348 3 1897449 15 1897471 12 1898540 4 1898548 3 1898694 4 1898701 4 1898713 18 1898739 15 1898758 11 1898821 4 1898833 7 1899268 3 1899369 15 1899391 12 1900460 4 1900468 3 1900614 4 1900621 4 1900633 18 1900659 15 1900678 11 1900741 4 1900753 7 1901173 3 1901188 3 1901255 8 1901293 3 1901300 4 1901308 15 1902373 18 1902496 27 1902530 15 1902553 37 1902598 11 1902635 8 1903093 3 1903108 3 1903175 8 1903213 3 1903220 4 1903228 15 1904293 18 1904416 27 1904450 15 1904473 37 1904518 11 1904555 8 1905080 23 1905106 4 1905151 12 1905249 4 1906205 11 1906220 8 1906344 4 1906396 34 1906434 26 1906475 8 1906516 4 1907000 23 1907026 4 1907071 12 1907169 4 1908125 11 1908140 8 1908264 4 1908316 34 1908354 26 1908395 8 1908436 4 1908856 19 1908920 23 1908946 8 1908991 12 1910045 11 1910199 4 1910240 64 1910315 4 1910356 4 1910776 19 1910840 23 1910866 8 1910911 12 1911965 11 1912119 4 1912160 64 1912235 4 1912276 4 1912730 4 1912764 19 1912831 12 1912846 4 1914084 4 1914103 7 1914114 30 1914155 4 1914650 4 1914684 19 1914751 12 1914766 4 1916004 4 1916023 7 1916034 30 1916075 4 1916394 4 1916533 3 1916555 4 1916611 8 1916675 8 1917943 41 1918314 4 1918453 3 1918475 4 1918531 8 1918595 8 1919863 41 1920388 3 1921783 7 1921794 34 1922308 3 1923703 7 1923714 34 1924093 3 1925623 48 1925709 11 1926013 3 1927543 48 1927629 11 1927933 3 1929463 48 1929549 11 1931394 37 1931461 19 1933314 37 1933381 19 1933674 4 1934398 3 1935241 4 1935249 4 1935256 12 1935313 7 1935594 4 1936318 3 1937161 4 1937169 4 1937176 12 1937233 7 1937510 8 1939096 8 1939108 3 1939149 11 1939430 8 1941016 8 1941028 3 1941069 11 1941208 3 1941350 4 1941365 8 1942936 8 1942948 3 1942993 7 1943128 3 1943270 4 1943285 8 1944856 8 1944868 3 1944913 7 1945048 3 1946776 8 1946788 3 1946968 3 1948696 8 1948708 3 1948839 4 1950616 15 1950759 4 1952536 15 1954464 7 1956384 7 1962129 4 1964049 4 1965969 4 1967889 7 1967949 7 1969809 7 1969869 7 1971710 4 1971725 11 1971789 11 1973630 4 1973645 11 1973709 11 1975546 8 1975569 4 1975633 7 1977466 8 1977489 4 1977553 7 1979386 4 1979473 3 1981306 4 1981393 3 1983313 3 1985233 3 1987153 3 1989073 3 1990993 3 1992913 3 1994821 19 1996741 19 1998661 15 2000581 15 2002501 15 2004421 15 2006341 15 2008265 8 2010185 8 2069761 4 2071681 4\",\n          \"6451 4 7321 4 8371 4 9241 4 13828 3 15358 3 15748 3 17278 3 17668 3 19119 4 19588 3 21039 4 22794 4 24714 4 49929 4 51849 4 55666 4 57586 4 67179 4 69099 4 124715 4 126635 4 132466 4 134386 4 142085 4 144005 4 207361 4 207403 3 207429 4 209281 4 209323 3 209349 4 211243 3 213163 3 268805 4 270725 4 272645 4 274565 4 293746 4 295666 4 349449 4 351369 4 405129 4 407049 4 408969 4 410889 4 411238 3 412798 3 412809 4 413158 3 414718 3 478093 3 480013 3 481933 3 514565 4 516485 4 518405 4 520325 4 522245 4 532546 4 534466 4 624013 3 625933 3 637449 4 639369 4 649250 4 651170 4 654616 4 654624 4 656536 4 656544 4 658456 4 660376 4 662285 4 662296 4 664205 4 664216 4 666125 4 668045 4 669965 4 671885 4 671930 4 671953 3 673805 4 673850 4 673873 3 679606 4 681526 4 723736 4 725656 4 727576 4 729496 4 755296 4 757216 4 762969 7 764889 7 766809 7 768729 7 775085 4 775381 4 777005 4 777301 4 784033 3 784051 8 785953 3 785971 8 789110 4 791030 4 807406 8 807916 4 809326 8 809836 4 811756 4 813676 4 814351 4 814569 4 815064 4 815593 3 816271 4 816489 4 816984 4 817513 3 818191 4 818409 4 818904 4 819433 3 820111 4 821128 3 822031 4 823048 3 831826 4 833746 4 835468 3 837388 3 839308 3 841228 3 847621 4 849541 4 851461 4 853381 4 855301 4 857210 4 857259 4 859130 4 859179 4 887589 4 889509 4 891429 4 893724 4 895644 4 898370 4 900290 4 904914 4 904921 4 905278 3 906039 4 906834 4 906841 4 907198 3 907959 4 908266 4 909849 4 910186 4 911769 4 912601 4 914521 4 920345 4 922265 4 924181 4 926101 4 928021 4 933755 4 935675 4 945309 4 947229 4 949145 4 951065 4 960605 4 960988 3 962525 4 962908 3 964445 4 964828 3 977409 4 978751 4 979329 4 980671 4 993043 3 993174 7 994963 3 995094 7 996879 4 998799 4 1000719 4 1002628 15 1004548 15 1006704 4 1008624 4 1010540 8 1012460 8 1014136 4 1016056 4 1022124 4 1024044 4 1025514 4 1027434 4 1042835 4 1044755 4 1054483 3 1056403 3 1070113 3 1072033 3 1073953 3 1075873 3 1077793 3 1079349 4 1081269 4 1083009 11 1083166 4 1084929 11 1085086 4 1090681 4 1091225 11 1091281 4 1092601 4 1093145 11 1093201 4 1099006 4 1100926 4 1102310 4 1102846 4 1104230 4 1104766 4 1106150 4 1108070 4 1110028 3 1111948 3 1113868 3 1123430 4 1123865 4 1123981 4 1125350 4 1125785 4 1125901 4 1131095 4 1133015 4 1138696 4 1138865 4 1138876 8 1140616 4 1140785 4 1140796 8 1142473 3 1142484 4 1142536 4 1142701 8 1142776 8 1142791 4 1144393 3 1144404 4 1144456 4 1144621 8 1144696 8 1144711 4 1146474 4 1146976 4 1148394 4 1148896 4 1150314 4 1150816 4 1152118 3 1152800 4 1154038 3 1154720 4 1159951 4 1161871 4 1163788 7 1165708 7 1167451 4 1167470 4 1167628 7 1169371 4 1169390 4 1169548 7 1171471 4 1171490 4 1171738 3 1172000 4 1173391 4 1173410 4 1173658 3 1173920 4 1175319 4 1175390 4 1175413 3 1175578 3 1177239 4 1177310 4 1177333 3 1177498 3 1179166 4 1179241 4 1179346 4 1179418 3 1181086 4 1181161 4 1181266 4 1181338 3 1183006 4 1183258 3 1183396 4 1184926 4 1185178 3 1185316 4 1186846 4 1187098 3 1187236 4 1188748 3 1188755 4 1188778 7 1188819 4 1189145 4 1189156 4 1190668 3 1190675 4 1190698 7 1190739 4 1191065 4 1191076 4 1192576 4 1192588 3 1192621 4 1192648 3 1192678 3 1192854 4 1194496 4 1194508 3 1194541 4 1194568 3 1194598 3 1194774 4 1196371 4 1196458 7 1196484 4 1196518 3 1196825 4 1196878 3 1198291 4 1198378 7 1198404 4 1198438 3 1198745 4 1198798 3 1200324 4 1200534 4 1202244 4 1202454 4 1204018 3 1204108 3 1204164 4 1204374 4 1205938 3 1206028 3 1206084 4 1206294 4 1207899 4 1207978 3 1209819 4 1209898 3 1211758 3 1213678 3 1215594 4 1217098 3 1217514 4 1219018 3 1219486 4 1221406 4 1223326 4 1228936 4 1229296 4 1229353 3 1229533 3 1230856 4 1231216 4 1231273 3 1231453 3 1232776 4 1233358 3 1234696 4 1235278 3 1236613 7 1237175 8 1237190 4 1237198 3 1238533 7 1239095 8 1239110 4 1239118 3 1245140 4 1247060 4 1248283 3 1248706 8 1250203 3 1250626 8 1252306 4 1252314 4 1252363 3 1252546 4 1254226 4 1254234 4 1254283 3 1254466 4 1256146 4 1256199 4 1258066 4 1258119 4 1259986 4 1260039 4 1269301 8 1269346 4 1271221 8 1271266 4 1273408 3 1273524 7 1275328 3 1275444 7 1281043 3 1282963 3 1284725 4 1286645 4 1288554 4 1288565 4 1288764 4 1290474 4 1290485 4 1290684 4 1292401 4 1294321 4 1301994 4 1303914 4 1306291 4 1308211 4 1318921 8 1320841 8 1322124 4 1324044 4 1325574 7 1325634 11 1327494 7 1327554 11 1329474 4 1331394 4 1334218 11 1336138 11 1338058 11 1342775 4 1342783 7 1342963 3 1344695 4 1344703 7 1344883 3 1346611 8 1348531 8 1354396 4 1356316 4 1358236 4 1360156 4 1362481 4 1362496 4 1364401 4 1364416 4 1365481 4 1365811 19 1365905 11 1367401 4 1367731 19 1367825 11 1369655 8 1371575 8 1373495 8 1375055 4 1375408 11 1375490 15 1376975 4 1377328 11 1377410 15 1379330 4 1379615 4 1381250 4 1381535 4 1382728 3 1383271 4 1383283 3 1383388 11 1384648 3 1385191 4 1385203 3 1385308 11 1398680 8 1400600 8 1402216 8 1402790 4 1404136 8 1404710 4 1411816 8 1411985 4 1412101 4 1412109 7 1412120 4 1412169 11 1413736 8 1413905 4 1414021 4 1414029 7 1414040 4 1414089 11 1415656 4 1415938 11 1417576 4 1417858 11 1419590 8 1419774 4 1421510 8 1421694 4 1423494 11 1423614 11 1425414 11 1425534 11 1427334 4 1427458 3 1427829 4 1429254 4 1429378 3 1429749 4 1431170 4 1431298 3 1431436 4 1433090 4 1433218 3 1433356 4 1434931 4 1435138 3 1435156 4 1436851 4 1437058 3 1437076 4 1438730 4 1438978 3 1439034 4 1439053 3 1440650 4 1440898 3 1440954 4 1440973 3 1442675 4 1442818 3 1442956 4 1442964 7 1444595 4 1444738 3 1444876 4 1444884 7 1446515 4 1446658 3 1446796 4 1446804 7 1456490 8 1458410 8 1460034 4 1461954 4 1463671 8 1463769 4 1464159 4 1465591 8 1465689 4 1466079 4 1467778 3 1467830 60 1467935 4 1468614 4 1469698 3 1469750 60 1469855 4 1470534 4 1471674 4 1473594 4 1475146 8 1477066 8 1479013 7 1479110 4 1479230 11 1479346 4 1480933 7 1481030 4 1481150 11 1481266 4 1482853 7 1482950 4 1483070 11 1483186 4 1484791 4 1484990 4 1486711 4 1486910 4 1488601 8 1489051 8 1490521 8 1490971 8 1492786 4 1492891 4 1493296 4 1494706 4 1494811 4 1495216 4 1496263 11 1496296 8 1496713 3 1498183 11 1498216 8 1498633 3 1500106 4 1500129 4 1500136 4 1500444 4 1500680 4 1502026 4 1502049 4 1502056 4 1502364 4 1502600 4 1503943 3 1504498 3 1504520 4 1504569 4 1504775 4 1504786 4 1504794 4 1505034 4 1505045 4 1505863 3 1506418 3 1506440 4 1506489 4 1506695 4 1506706 4 1506714 4 1506954 4 1506965 4 1508615 4 1508874 4 1509084 4 1510535 4 1510794 4 1511004 4 1511596 4 1511709 4 1511716 4 1511870 4 1512455 4 1512714 4 1512924 4 1513516 4 1513629 4 1513636 4 1513790 4 1514375 4 1514634 4 1514844 4 1515436 4 1515541 12 1515654 4 1516205 4 1516269 4 1516554 4 1516648 3 1516659 4 1516670 4 1517356 4 1517461 12 1517574 4 1518125 4 1518189 4 1518474 4 1518568 3 1518579 4 1518590 4 1519276 4 1519381 12 1519494 4 1520045 4 1520109 4 1520394 4 1520488 3 1520499 4 1520510 4 1521301 4 1521808 3 1522003 3 1522310 11 1522355 4 1522513 3 1523221 4 1523728 3 1523923 3 1524230 11 1524275 4 1524433 3 1524991 4 1526154 4 1526248 3 1526911 4 1528074 4 1528168 3 1529536 4 1529743 3 1529986 4 1529994 7 1531456 4 1531663 3 1531906 4 1531914 7 1533826 4 1533834 4 1533883 3 1533890 8 1533905 4 1535746 4 1535754 4 1535803 3 1535810 8 1535825 4 1540471 4 1541506 4 1542391 4 1543426 4 1544304 4 1544435 4 1545346 4 1546224 4 1546355 4 1547266 4 1548271 4 1549186 4 1549280 4 1550191 4 1551106 4 1551200 4 1553026 4 1553116 8 1554946 4 1555036 8 1555786 4 1556889 4 1557706 4 1558809 4 1559626 4 1560729 4 1561865 4 1562641 8 1562765 4 1563785 4 1564561 8 1564685 4 1566466 4 1566478 11 1568386 4 1568398 11 1574154 4 1574180 4 1576074 4 1576100 4 1577656 12 1577686 4 1578016 8 1579576 12 1579606 4 1579936 8 1581849 4 1581856 4 1583769 4 1583776 4 1585580 4 1585678 3 1585696 4 1587500 4 1587598 3 1587616 4 1589420 4 1591340 4 1593260 4 1595180 4 1597100 4 1599133 3 1601053 3 1621888 3 1621925 4 1623808 3 1623845 4 1643345 4 1645265 4 1650635 4 1652555 4 1658671 12 1660591 12 1662508 7 1664428 7 1666205 4 1668125 4 1670045 4 1683410 4 1685330 4 1686185 4 1687250 4 1688105 4 1689170 4 1691161 4 1693081 4 1694990 4 1695084 4 1695133 3 1696910 4 1697004 4 1697053 3 1698770 4 1698920 8 1700690 4 1700840 8 1702760 8 1704680 8 1706600 8 1716073 3 1716125 4 1717993 3 1718045 4 1723816 4 1725736 4 1731493 3 1733413 3 1748731 8 1748788 3 1750651 8 1750708 3 1764163 3 1766083 3 1771685 4 1773605 4 1789096 4 1791016 4 1792933 7 1794853 7 1796769 15 1798689 15 1913986 4 1915906 4\"\n        ],\n        \"semantic_type\": \"\",\n        \"description\": \"\"\n      }\n    }\n  ]\n}"
            }
          },
          "metadata": {},
          "execution_count": 29
        }
      ]
    },
    {
      "cell_type": "code",
      "source": [
        "import shutil\n",
        "shutil.copy('/content/drive/MyDrive/best_model_f1_weighted.pth', '/content/best_model_f1_weighted.pth')\n",
        "\n",
        "from google.colab import files\n",
        "files.download('/content/best_model_f1_weighted.pth')"
      ],
      "metadata": {
        "colab": {
          "base_uri": "https://localhost:8080/",
          "height": 17
        },
        "id": "oTccpjTAfi5g",
        "outputId": "876af4d7-3d2c-4fd6-abde-ea2fe114b325"
      },
      "execution_count": null,
      "outputs": [
        {
          "output_type": "display_data",
          "data": {
            "text/plain": [
              "<IPython.core.display.Javascript object>"
            ],
            "application/javascript": [
              "\n",
              "    async function download(id, filename, size) {\n",
              "      if (!google.colab.kernel.accessAllowed) {\n",
              "        return;\n",
              "      }\n",
              "      const div = document.createElement('div');\n",
              "      const label = document.createElement('label');\n",
              "      label.textContent = `Downloading \"${filename}\": `;\n",
              "      div.appendChild(label);\n",
              "      const progress = document.createElement('progress');\n",
              "      progress.max = size;\n",
              "      div.appendChild(progress);\n",
              "      document.body.appendChild(div);\n",
              "\n",
              "      const buffers = [];\n",
              "      let downloaded = 0;\n",
              "\n",
              "      const channel = await google.colab.kernel.comms.open(id);\n",
              "      // Send a message to notify the kernel that we're ready.\n",
              "      channel.send({})\n",
              "\n",
              "      for await (const message of channel.messages) {\n",
              "        // Send a message to notify the kernel that we're ready.\n",
              "        channel.send({})\n",
              "        if (message.buffers) {\n",
              "          for (const buffer of message.buffers) {\n",
              "            buffers.push(buffer);\n",
              "            downloaded += buffer.byteLength;\n",
              "            progress.value = downloaded;\n",
              "          }\n",
              "        }\n",
              "      }\n",
              "      const blob = new Blob(buffers, {type: 'application/binary'});\n",
              "      const a = document.createElement('a');\n",
              "      a.href = window.URL.createObjectURL(blob);\n",
              "      a.download = filename;\n",
              "      div.appendChild(a);\n",
              "      a.click();\n",
              "      div.remove();\n",
              "    }\n",
              "  "
            ]
          },
          "metadata": {}
        },
        {
          "output_type": "display_data",
          "data": {
            "text/plain": [
              "<IPython.core.display.Javascript object>"
            ],
            "application/javascript": [
              "download(\"download_8dcf7bd1-4334-4464-a9d5-cf34f8b16b53\", \"best_model_f1_weighted.pth\", 97926412)"
            ]
          },
          "metadata": {}
        }
      ]
    },
    {
      "cell_type": "code",
      "source": [
        "from google.colab import files\n",
        "files.download('/content/result.csv')"
      ],
      "metadata": {
        "id": "IHVgCx9CgCbx",
        "outputId": "d8002074-de65-4a25-f6aa-fe76657c1383",
        "colab": {
          "base_uri": "https://localhost:8080/",
          "height": 17
        }
      },
      "execution_count": null,
      "outputs": [
        {
          "output_type": "display_data",
          "data": {
            "text/plain": [
              "<IPython.core.display.Javascript object>"
            ],
            "application/javascript": [
              "\n",
              "    async function download(id, filename, size) {\n",
              "      if (!google.colab.kernel.accessAllowed) {\n",
              "        return;\n",
              "      }\n",
              "      const div = document.createElement('div');\n",
              "      const label = document.createElement('label');\n",
              "      label.textContent = `Downloading \"${filename}\": `;\n",
              "      div.appendChild(label);\n",
              "      const progress = document.createElement('progress');\n",
              "      progress.max = size;\n",
              "      div.appendChild(progress);\n",
              "      document.body.appendChild(div);\n",
              "\n",
              "      const buffers = [];\n",
              "      let downloaded = 0;\n",
              "\n",
              "      const channel = await google.colab.kernel.comms.open(id);\n",
              "      // Send a message to notify the kernel that we're ready.\n",
              "      channel.send({})\n",
              "\n",
              "      for await (const message of channel.messages) {\n",
              "        // Send a message to notify the kernel that we're ready.\n",
              "        channel.send({})\n",
              "        if (message.buffers) {\n",
              "          for (const buffer of message.buffers) {\n",
              "            buffers.push(buffer);\n",
              "            downloaded += buffer.byteLength;\n",
              "            progress.value = downloaded;\n",
              "          }\n",
              "        }\n",
              "      }\n",
              "      const blob = new Blob(buffers, {type: 'application/binary'});\n",
              "      const a = document.createElement('a');\n",
              "      a.href = window.URL.createObjectURL(blob);\n",
              "      a.download = filename;\n",
              "      div.appendChild(a);\n",
              "      a.click();\n",
              "      div.remove();\n",
              "    }\n",
              "  "
            ]
          },
          "metadata": {}
        },
        {
          "output_type": "display_data",
          "data": {
            "text/plain": [
              "<IPython.core.display.Javascript object>"
            ],
            "application/javascript": [
              "download(\"download_668e8b01-833f-440c-8e7d-d0ed60f5c634\", \"result.csv\", 1448871903)"
            ]
          },
          "metadata": {}
        }
      ]
    }
  ]
}